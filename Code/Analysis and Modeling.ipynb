{
 "cells": [
  {
   "cell_type": "markdown",
   "metadata": {},
   "source": [
    "# News and Gun Violence:  Bias in the Writing?"
   ]
  },
  {
   "cell_type": "markdown",
   "metadata": {},
   "source": [
    "### Executive Summary"
   ]
  },
  {
   "cell_type": "markdown",
   "metadata": {},
   "source": [
    "The problem statement I entered this project looking for an answer to was, is there racial bias in the words used by newspapers, in this case, the New York Times, when covering mass shootings in relation to the ethnicity of the shooter. If so, does the content predict racial bias.\n",
    "\n",
    "#### The Data\n",
    "The data was initially gathered from two main sources the Stanford University Mass Shooting Database and the New York Times. I chose the Stanford database because they are among the leading data collectors when it comes to mass shootings in the US. In fact, they are the ones who created the current definition of what constitutes a mass shooting. That is if four or more people are wounded or killed. Their database consists of every incident between 1966 and March 2016. However, due to the format of the New York Times files, I was unable to get articles from the 1960s and thus only used articles from 1970 to March 2016. The New York Times was selected because it is one of a few papers who cover national news that has readily available archived articles. The data chosen from the New York Times was every article and article title related to each incident from the day of the incident and the six days following. This period was selected because it is the typical length of one news cycle.\n",
    "\n",
    "The final data features that would be used for the model would be the Incident Name and Shooter Race features from the Stanford Database and each articles content and its title. After reviewing the ethnicities in the database, I discovered that Latin Americans were largely classified as \"other\" and as such I researched each individual to confirm their ethnicity and changed it in the data frame. The races included were (in order of Number of Shooters) White, Asian, African American, Latin American, and Native American or Alaska Native.\n",
    "\n",
    "\n",
    "#### Preparing the Data\n",
    "To prepare the data for Natural Language processing, certain steps had to occur to assure smooth processing and least amount of unnecessary words. This was done by using a function that removed non-letters, made every letter lower case, and removed the standard English dictionary words as well as my custom list of stopwords which included the location of the shooting, the shooters name, month, and the name of the incident. In addition, in using, Tokenizer, Lemmatizer, and Stemming I was able to cut down on the repeating of words that are basically the same as run, runs, running, and ran.\n",
    "\n",
    "The other major challenge here with the data was to manage the unbalanced classes before doing a train-test split or countvectorizing. The numbers of occurrences were massively imbalanced because as expected their ethnicities were not evenly spread. The spread, in percent, is as follows:\n",
    "    \n",
    "    White = 70.33%\n",
    "    Asian = 14.79%\n",
    "    African American = 11.38%\n",
    "    Latin American = 2.14%\n",
    "    Native American or Alaska Native = 1.36%\n",
    "\n",
    "These numbers are actually quite interesting when you compare them to the demographic make up of the entire US populationm, which is as follows:\n",
    "    \n",
    "    White = 72.4%\n",
    "    Asian = 4.8%\n",
    "    African American = 12.6%\n",
    "    Latin American = 16.3%\n",
    "    Naive American or Alaska Native = 0.9%\n",
    "\n",
    "In addition, using the SKLearn Logistic Regression model I found that a large portion of words had no impact(positive or negative) on my variables and as such decided to remove them from my model and expediting the processing of the rest of my data.\n",
    "\n",
    "### Model Selection\n",
    "To adjust for the unbalanced classes I chose to use Random Forest Classifier as it creates multiple decision trees with Bootstrapped Aggregation to better handle the unbalanced nature of the information. In the future I hope to gather more information from more news sources to help balance the data, but as this data is sadly dependent on more mass shootings happening I do hope that the only data I can get more of is articles of past events and not of those that hopefully will be as sparse as possible in the future..\n",
    "\n",
    "Multiple RandomForest Models were created. The first is to see what the most important features are in relation to the Shooter Race Column in general. Then the following models were generated comparing the same words from the first model to see how they interacted with each race and see if there was a clear indication of different words being used and if they are particularly geared towards a specific race.\n",
    "\n",
    "### Statistical Analysis, Recommendations, and Next Steps\n",
    "The General Random Forest generated a cross-validation score of .71. The modelling was much more precise with Latin Americans(98.1%), Native American or Alaska Native(98.8%), and Asian(98.8%).As well as 89.1% for African Americans and a surprisingly low number of 72.6% for White.\n",
    "\n",
    "While the model appears to be precise in predicting certain races it is lacking in other areas and needs to be adjusted to counteract oversampling. Once the feature importance’s are printed out it is clear that there are no certain words that appear in an article by the New York Times that would specifically indicate the individual race of the shooter despite some that are quite compelling. While this does allow me to reject my hypothesis (good news for the New York Times) moving forward I would like to look at more national newspapers and see how they differ by location, region, political leaning. I would also like to see how the local papers covered events to see if their focuses are primarily on the crime, the shooter, and event that occurred or upon helping the families affected by the horrible events."
   ]
  },
  {
   "cell_type": "markdown",
   "metadata": {},
   "source": [
    "##### Loading Packages"
   ]
  },
  {
   "cell_type": "code",
   "execution_count": 7,
   "metadata": {
    "collapsed": true,
    "scrolled": true
   },
   "outputs": [],
   "source": [
    "#Importing Neccesary Packages\n",
    "import pandas as pd\n",
    "import matplotlib as plt\n",
    "import seaborn as sns\n",
    "import re\n",
    "import nltk\n",
    "from nltk.corpus import stopwords\n",
    "import random\n",
    "import string\n",
    "import re\n",
    "import nltk\n",
    "from nltk import word_tokenize\n",
    "from nltk.corpus import stopwords\n",
    "from nltk.stem.porter import PorterStemmer\n",
    "from tqdm import tqdm\n",
    "tqdm.pandas(desc='progress-bar')\n",
    "from sklearn.ensemble import RandomForestClassifier\n",
    "from nltk.stem import WordNetLemmatizer\n",
    "from sklearn.feature_extraction.text import CountVectorizer\n",
    "import numpy as np\n",
    "import itertools\n",
    "from itertools import chain\n",
    "from sklearn.model_selection import train_test_split\n",
    "from sklearn.metrics import accuracy_score, precision_score, recall_score, confusion_matrix, classification_report\n",
    "import newspaper\n",
    "from newspaper import Article\n",
    "from sklearn.cross_validation import cross_val_score, StratifiedKFold\n",
    "%matplotlib inline"
   ]
  },
  {
   "cell_type": "markdown",
   "metadata": {},
   "source": [
    "### Investigating Stanford Mass Shooting Database"
   ]
  },
  {
   "cell_type": "code",
   "execution_count": 9,
   "metadata": {},
   "outputs": [
    {
     "data": {
      "text/html": [
       "<div>\n",
       "<style>\n",
       "    .dataframe thead tr:only-child th {\n",
       "        text-align: right;\n",
       "    }\n",
       "\n",
       "    .dataframe thead th {\n",
       "        text-align: left;\n",
       "    }\n",
       "\n",
       "    .dataframe tbody tr th {\n",
       "        vertical-align: top;\n",
       "    }\n",
       "</style>\n",
       "<table border=\"1\" class=\"dataframe\">\n",
       "  <thead>\n",
       "    <tr style=\"text-align: right;\">\n",
       "      <th></th>\n",
       "      <th>CaseID</th>\n",
       "      <th>Title</th>\n",
       "      <th>Location</th>\n",
       "      <th>City</th>\n",
       "      <th>State</th>\n",
       "      <th>Latitude</th>\n",
       "      <th>Longitude</th>\n",
       "      <th>Number of Victim Fatalities</th>\n",
       "      <th>Total Number of Fatalities</th>\n",
       "      <th>Number of Victims Injured</th>\n",
       "      <th>...</th>\n",
       "      <th>History of Mental Illness - General</th>\n",
       "      <th>Data Source 1</th>\n",
       "      <th>Data Source 2</th>\n",
       "      <th>Data Source 3</th>\n",
       "      <th>Data Source 4</th>\n",
       "      <th>Data Source 5</th>\n",
       "      <th>Data Source 6</th>\n",
       "      <th>Data Source 7</th>\n",
       "      <th>Military Experience</th>\n",
       "      <th>Class</th>\n",
       "    </tr>\n",
       "  </thead>\n",
       "  <tbody>\n",
       "    <tr>\n",
       "      <th>0</th>\n",
       "      <td>1</td>\n",
       "      <td>University of Texas at Austin</td>\n",
       "      <td>Austin, Texas</td>\n",
       "      <td>Austin</td>\n",
       "      <td>Texas</td>\n",
       "      <td>30.198887</td>\n",
       "      <td>-97.844159</td>\n",
       "      <td>16</td>\n",
       "      <td>17</td>\n",
       "      <td>32</td>\n",
       "      <td>...</td>\n",
       "      <td>Yes</td>\n",
       "      <td>http://en.wikipedia.org/wiki/Charles_Whitman</td>\n",
       "      <td>Lexington Examiner (KY) - September 23, 2012</td>\n",
       "      <td>http://news.google.com/newspapers?id=lkk0AAAAI...</td>\n",
       "      <td>http://news.google.com/newspapers?id=PPUjAAAAI...</td>\n",
       "      <td>http://books.google.com/books?id=ClYEAAAAMBAJ&amp;...</td>\n",
       "      <td>NaN</td>\n",
       "      <td>NaN</td>\n",
       "      <td>Yes</td>\n",
       "      <td>SPK</td>\n",
       "    </tr>\n",
       "    <tr>\n",
       "      <th>1</th>\n",
       "      <td>2</td>\n",
       "      <td>Rose-Mar College of Beauty</td>\n",
       "      <td>Mesa, Arizona</td>\n",
       "      <td>Mesa</td>\n",
       "      <td>Arizona</td>\n",
       "      <td>33.422687</td>\n",
       "      <td>-111.816320</td>\n",
       "      <td>5</td>\n",
       "      <td>5</td>\n",
       "      <td>1</td>\n",
       "      <td>...</td>\n",
       "      <td>Yes</td>\n",
       "      <td>\"Slaughter In The College Of Beauty.\" Time 88....</td>\n",
       "      <td>Section: Lexington True Crime Examiner</td>\n",
       "      <td>http://www.nydailynews.com/news/crime/beauty-s...</td>\n",
       "      <td>http://books.google.com/books?id=Cre7qsswRiwC&amp;...</td>\n",
       "      <td>NaN</td>\n",
       "      <td>NaN</td>\n",
       "      <td>NaN</td>\n",
       "      <td>Unknown</td>\n",
       "      <td>MS</td>\n",
       "    </tr>\n",
       "    <tr>\n",
       "      <th>2</th>\n",
       "      <td>3</td>\n",
       "      <td>New Orleans Police Shootings</td>\n",
       "      <td>New Orleans, Louisiana</td>\n",
       "      <td>New Orleans</td>\n",
       "      <td>Louisiana</td>\n",
       "      <td>30.068724</td>\n",
       "      <td>-89.931474</td>\n",
       "      <td>9</td>\n",
       "      <td>10</td>\n",
       "      <td>13</td>\n",
       "      <td>...</td>\n",
       "      <td>Yes</td>\n",
       "      <td>http://news.google.com/newspapers?nid=1144&amp;dat...</td>\n",
       "      <td>http://theadvocate.com/home/4828836-125/rampag...</td>\n",
       "      <td>http://www.trutv.com/library/crime/notorious_m...</td>\n",
       "      <td>http://books.google.com/books?id=TfEDmROcZwEC&amp;...</td>\n",
       "      <td>NaN</td>\n",
       "      <td>NaN</td>\n",
       "      <td>NaN</td>\n",
       "      <td>Unknown</td>\n",
       "      <td>SPK</td>\n",
       "    </tr>\n",
       "    <tr>\n",
       "      <th>3</th>\n",
       "      <td>4</td>\n",
       "      <td>Clara Barton Elementary School</td>\n",
       "      <td>Chicago, Illinois</td>\n",
       "      <td>Chicago</td>\n",
       "      <td>Illinois</td>\n",
       "      <td>41.839280</td>\n",
       "      <td>-87.688181</td>\n",
       "      <td>1</td>\n",
       "      <td>1</td>\n",
       "      <td>3</td>\n",
       "      <td>...</td>\n",
       "      <td>Yes</td>\n",
       "      <td>http://news.google.com/newspapers?nid=1338&amp;dat...</td>\n",
       "      <td>http://news.google.com/newspapers?nid=1144&amp;dat...</td>\n",
       "      <td>http://www.leagle.com/xmlResult.aspx?page=1&amp;xm...</td>\n",
       "      <td>NaN</td>\n",
       "      <td>NaN</td>\n",
       "      <td>NaN</td>\n",
       "      <td>NaN</td>\n",
       "      <td>Unknown</td>\n",
       "      <td>MS</td>\n",
       "    </tr>\n",
       "    <tr>\n",
       "      <th>4</th>\n",
       "      <td>5</td>\n",
       "      <td>Olean High School</td>\n",
       "      <td>Olean, New York</td>\n",
       "      <td>Olean</td>\n",
       "      <td>New York</td>\n",
       "      <td>42.081854</td>\n",
       "      <td>-78.432139</td>\n",
       "      <td>3</td>\n",
       "      <td>3</td>\n",
       "      <td>7</td>\n",
       "      <td>...</td>\n",
       "      <td>No</td>\n",
       "      <td>http://buffalo.ynn.com/content/top_stories/622...</td>\n",
       "      <td>School Shootings: a History Part One of a seri...</td>\n",
       "      <td>http://www.newswithviews.com/Erica/Carle10.htm</td>\n",
       "      <td>http://books.google.com/books?id=ZuKoSskEWyIC&amp;...</td>\n",
       "      <td>\"Olean High School Shooting\". Larrie Benton Za...</td>\n",
       "      <td>NaN</td>\n",
       "      <td>NaN</td>\n",
       "      <td>Unknown</td>\n",
       "      <td>MS</td>\n",
       "    </tr>\n",
       "  </tbody>\n",
       "</table>\n",
       "<p>5 rows × 48 columns</p>\n",
       "</div>"
      ],
      "text/plain": [
       "   CaseID                           Title                Location  \\\n",
       "0       1   University of Texas at Austin           Austin, Texas   \n",
       "1       2      Rose-Mar College of Beauty           Mesa, Arizona   \n",
       "2       3    New Orleans Police Shootings  New Orleans, Louisiana   \n",
       "3       4  Clara Barton Elementary School       Chicago, Illinois   \n",
       "4       5               Olean High School         Olean, New York   \n",
       "\n",
       "          City      State   Latitude   Longitude  Number of Victim Fatalities  \\\n",
       "0       Austin      Texas  30.198887  -97.844159                           16   \n",
       "1         Mesa    Arizona  33.422687 -111.816320                            5   \n",
       "2  New Orleans  Louisiana  30.068724  -89.931474                            9   \n",
       "3      Chicago   Illinois  41.839280  -87.688181                            1   \n",
       "4        Olean   New York  42.081854  -78.432139                            3   \n",
       "\n",
       "   Total Number of Fatalities  Number of Victims Injured  ...   \\\n",
       "0                          17                         32  ...    \n",
       "1                           5                          1  ...    \n",
       "2                          10                         13  ...    \n",
       "3                           1                          3  ...    \n",
       "4                           3                          7  ...    \n",
       "\n",
       "   History of Mental Illness - General  \\\n",
       "0                                  Yes   \n",
       "1                                  Yes   \n",
       "2                                  Yes   \n",
       "3                                  Yes   \n",
       "4                                   No   \n",
       "\n",
       "                                       Data Source 1  \\\n",
       "0       http://en.wikipedia.org/wiki/Charles_Whitman   \n",
       "1  \"Slaughter In The College Of Beauty.\" Time 88....   \n",
       "2  http://news.google.com/newspapers?nid=1144&dat...   \n",
       "3  http://news.google.com/newspapers?nid=1338&dat...   \n",
       "4  http://buffalo.ynn.com/content/top_stories/622...   \n",
       "\n",
       "                                       Data Source 2  \\\n",
       "0       Lexington Examiner (KY) - September 23, 2012   \n",
       "1             Section: Lexington True Crime Examiner   \n",
       "2  http://theadvocate.com/home/4828836-125/rampag...   \n",
       "3  http://news.google.com/newspapers?nid=1144&dat...   \n",
       "4  School Shootings: a History Part One of a seri...   \n",
       "\n",
       "                                       Data Source 3  \\\n",
       "0  http://news.google.com/newspapers?id=lkk0AAAAI...   \n",
       "1  http://www.nydailynews.com/news/crime/beauty-s...   \n",
       "2  http://www.trutv.com/library/crime/notorious_m...   \n",
       "3  http://www.leagle.com/xmlResult.aspx?page=1&xm...   \n",
       "4     http://www.newswithviews.com/Erica/Carle10.htm   \n",
       "\n",
       "                                       Data Source 4  \\\n",
       "0  http://news.google.com/newspapers?id=PPUjAAAAI...   \n",
       "1  http://books.google.com/books?id=Cre7qsswRiwC&...   \n",
       "2  http://books.google.com/books?id=TfEDmROcZwEC&...   \n",
       "3                                                NaN   \n",
       "4  http://books.google.com/books?id=ZuKoSskEWyIC&...   \n",
       "\n",
       "                                       Data Source 5 Data Source 6  \\\n",
       "0  http://books.google.com/books?id=ClYEAAAAMBAJ&...           NaN   \n",
       "1                                                NaN           NaN   \n",
       "2                                                NaN           NaN   \n",
       "3                                                NaN           NaN   \n",
       "4  \"Olean High School Shooting\". Larrie Benton Za...           NaN   \n",
       "\n",
       "  Data Source 7 Military Experience Class  \n",
       "0           NaN                 Yes   SPK  \n",
       "1           NaN             Unknown    MS  \n",
       "2           NaN             Unknown   SPK  \n",
       "3           NaN             Unknown    MS  \n",
       "4           NaN             Unknown    MS  \n",
       "\n",
       "[5 rows x 48 columns]"
      ]
     },
     "execution_count": 9,
     "metadata": {},
     "output_type": "execute_result"
    }
   ],
   "source": [
    "#Importing Stanford Shooting Database\n",
    "data= pd.read_excel('../Assets/MSA/Stanford_MSA_Database_for_release_06142016.xlsx')\n",
    "data.head()"
   ]
  },
  {
   "cell_type": "code",
   "execution_count": 10,
   "metadata": {
    "collapsed": true
   },
   "outputs": [],
   "source": [
    "#Dropping Columns I believed were uneccesary for this analysis though for other anaylsis I may return to it\n",
    "data.drop(data.loc[:, 'Data Source 1':'Data Source 7'],axis=1, inplace=True)\n",
    "data.drop(['CaseID','Number of Victim Fatalities','Shooter Age(s)','Number of Automatic Guns'\n",
    "          ,'Number of Semi-Automatic Guns',\"Shooter's Cause of Death\",\n",
    "           'Relationship to Incident Location'],axis=1,inplace=True)\n",
    "data.drop(['City','State','Description','Class','History of Mental Illness - Detailed','Targeted Victim/s - Detailed'],axis=1, inplace=True)\n",
    "data.drop(['Possible Motive - Detailed','Type of Gun - Detailed','Date - Detailed',\n",
    "          'Number of Shotguns','Number of Rifles','Number of Handguns',\n",
    "           'Total Number of Guns'],axis=1,inplace=True)\n"
   ]
  },
  {
   "cell_type": "code",
   "execution_count": 11,
   "metadata": {
    "collapsed": true
   },
   "outputs": [],
   "source": [
    "#Replacing Shooter Race Name with More Clear distinctions\n",
    "data['Shooter Race'].replace('White American or European American','White', inplace=True)\n",
    "data['Shooter Race'].replace('Black American or African American','African American', inplace=True)\n",
    "data['Shooter Race'].replace('Some other race','Other', inplace=True)\n",
    "data['Shooter Race'].replace('Asian American','Asian', inplace=True)\n",
    "data['Shooter Race'].replace('White American or European American/Some other Race','White', inplace=True)\n",
    "data['Shooter Race'].replace('Black American or African American/Unknown','African American', inplace=True)\n",
    "data['Shooter Race'].replace('Asian American/Some other race','Asian', inplace=True)"
   ]
  },
  {
   "cell_type": "markdown",
   "metadata": {},
   "source": [
    "### Webscraping of New York Times\n",
    "This is only a sample of the scrapper to scrape articles from the 1970s. This is simply the process for one incident that was repeated for each inciden there was an article. In each decades scrapper the incidents were concatenated into one dataframe at the end.Five copies of this scraper ran for each decade collecting a total of 1,053 Articles from just over 400 incidents"
   ]
  },
  {
   "cell_type": "code",
   "execution_count": null,
   "metadata": {
    "collapsed": true
   },
   "outputs": [],
   "source": [
    "#Selecting Article URL\n",
    "url1='http://www.nytimes.com/1975/01/01/archives/snipers-classmate-says-guns-were-whole-life-a-classmate-of-upstate.html'\n",
    "url2='http://www.nytimes.com/1974/12/31/archives/3-killed-and-9-wounded-by-an-upstate-sniper-18-3-killed-and-9.html'\n",
    "#Initialize List of URLS\n",
    "urls=[url1,url2]\n",
    "#Set up DataFrame of \n",
    "Nyt_Olean =pd.DataFrame()\n",
    "#Iterate Through url list\n",
    "for i in urls: \n",
    "    #select article function to iterate through articles and tell the Article package it is in English\n",
    "    a=Article(i, language='en')\n",
    "    #Download entire URL information\n",
    "    a.download()\n",
    "    #Parse and clean URL\n",
    "    a.parse()\n",
    "    #Selecting Article Title and Article Text and appending to dataframe\n",
    "    Nyt_Olean= Nyt_Olean.append([[a.title, a.text]], ignore_index=True)\n",
    "#Naming columns\n",
    "Nyt_Olean.columns=['Title','Article']\n",
    "#Generating Column With Incident Name\n",
    "Nyt_Olean['Incident Name'] = 'Olean High School'\n",
    "#Recording Race of Shooter in Column\n",
    "Nyt_Olean['Shooter Race']='White'\n",
    "Nyt_Olean"
   ]
  },
  {
   "cell_type": "code",
   "execution_count": null,
   "metadata": {
    "collapsed": true
   },
   "outputs": [],
   "source": [
    "#Concatenating all 1970s Articles\n",
    "NYT_1970s=pd.concat([Nyt_NolaPD, Nyt_ClaraBarton, Nyt_Olean, Nyt_LACLC, Nyt_CSF, Nyt_GCE, Nyt_UofSC, Nyt_StAs]).reset_index()\n",
    "NYT_1970s.drop(['index'],axis=1, inplace=True)\n",
    "NYT_1970s"
   ]
  },
  {
   "cell_type": "code",
   "execution_count": null,
   "metadata": {
    "collapsed": true
   },
   "outputs": [],
   "source": [
    "#Saving to CSV\n",
    "NYT_1970s.to_csv('NYT 1970s Shootings-2.csv',index=False, encoding='utf-8')"
   ]
  },
  {
   "cell_type": "markdown",
   "metadata": {},
   "source": [
    "## Exploratory Data Analysis and Database Cleaning"
   ]
  },
  {
   "cell_type": "code",
   "execution_count": 12,
   "metadata": {
    "collapsed": true
   },
   "outputs": [],
   "source": [
    "#Import data\n",
    "NYT1970s=pd.read_csv('../Assets/NYT 1970s Shootings-2.csv')\n",
    "NYT1980s=pd.read_csv('../Assets/NYT 1980s Shootings-3.csv')\n",
    "NYT1990s=pd.read_csv('../Assets/NYT 1990s Shootings-3.csv')\n",
    "NYT2000s=pd.read_csv('../Assets/NYT 2000s Shootings-2.csv')\n",
    "NYT2010s=pd.read_csv('../Assets/NYT 2010s-4 Shootings.csv')\n",
    "shootingdb= pd.read_excel('../Assets/MSA/Stanford_MSA_Database_for_release_06142016.xlsx')"
   ]
  },
  {
   "cell_type": "code",
   "execution_count": 13,
   "metadata": {
    "collapsed": true
   },
   "outputs": [],
   "source": [
    "#Reorganize imported data as it may have been jumbled in the upload process\n",
    "NYT1970s=NYT1970s[['Incident Name','Title','Article','Shooter Race']]\n",
    "NYT1980s=NYT1980s[['Incident Name','Title','Article','Shooter Race']]\n",
    "NYT1990s=NYT1990s[['Incident Name','Title','Article','Shooter Race']]\n",
    "NYT2000s=NYT2000s[['Incident Name','Title','Article','Shooter Race']]\n",
    "NYT2010s=NYT2010s[['Incident Name','Title','Article','Shooter Race']]"
   ]
  },
  {
   "cell_type": "code",
   "execution_count": 14,
   "metadata": {},
   "outputs": [
    {
     "data": {
      "text/html": [
       "<div>\n",
       "<style>\n",
       "    .dataframe thead tr:only-child th {\n",
       "        text-align: right;\n",
       "    }\n",
       "\n",
       "    .dataframe thead th {\n",
       "        text-align: left;\n",
       "    }\n",
       "\n",
       "    .dataframe tbody tr th {\n",
       "        vertical-align: top;\n",
       "    }\n",
       "</style>\n",
       "<table border=\"1\" class=\"dataframe\">\n",
       "  <thead>\n",
       "    <tr style=\"text-align: right;\">\n",
       "      <th></th>\n",
       "      <th>Incident Name</th>\n",
       "      <th>Title</th>\n",
       "      <th>Article</th>\n",
       "      <th>Shooter Race</th>\n",
       "    </tr>\n",
       "  </thead>\n",
       "  <tbody>\n",
       "    <tr>\n",
       "      <th>0</th>\n",
       "      <td>NOLA PD</td>\n",
       "      <td>NaN</td>\n",
       "      <td>NaN</td>\n",
       "      <td>NaN</td>\n",
       "    </tr>\n",
       "    <tr>\n",
       "      <th>1</th>\n",
       "      <td>Clara Barton Elementary</td>\n",
       "      <td>NaN</td>\n",
       "      <td>NaN</td>\n",
       "      <td>NaN</td>\n",
       "    </tr>\n",
       "    <tr>\n",
       "      <th>2</th>\n",
       "      <td>Olean High School</td>\n",
       "      <td>Sniper's Classmate Says Guns Were ‘Whole Life’</td>\n",
       "      <td>The attack at the school has stunned this comm...</td>\n",
       "      <td>White</td>\n",
       "    </tr>\n",
       "    <tr>\n",
       "      <th>3</th>\n",
       "      <td>Olean High School</td>\n",
       "      <td>3 Killed and 9 Wounded By an Upstate Sniper, 18</td>\n",
       "      <td>The youth was charged with three counts of mur...</td>\n",
       "      <td>White</td>\n",
       "    </tr>\n",
       "    <tr>\n",
       "      <th>4</th>\n",
       "      <td>LA Computer Learning Center</td>\n",
       "      <td>NaN</td>\n",
       "      <td>NaN</td>\n",
       "      <td>NaN</td>\n",
       "    </tr>\n",
       "    <tr>\n",
       "      <th>5</th>\n",
       "      <td>Cal State Fullerton</td>\n",
       "      <td>NaN</td>\n",
       "      <td>NaN</td>\n",
       "      <td>NaN</td>\n",
       "    </tr>\n",
       "    <tr>\n",
       "      <th>6</th>\n",
       "      <td>Grover Cleveland Elementary School</td>\n",
       "      <td>San Diego Girl Slays 2 With Rifle And Wounds 9...</td>\n",
       "      <td>Special weapons and tactics officers from the ...</td>\n",
       "      <td>White</td>\n",
       "    </tr>\n",
       "    <tr>\n",
       "      <th>7</th>\n",
       "      <td>Grover Cleveland Elementary School</td>\n",
       "      <td>Tomboy and Gun Enthusiast</td>\n",
       "      <td>SAN DIEGO, Jan. 29 (AP) — Brenda Spencer's cla...</td>\n",
       "      <td>White</td>\n",
       "    </tr>\n",
       "    <tr>\n",
       "      <th>8</th>\n",
       "      <td>Grover Cleveland Elementary School</td>\n",
       "      <td>Coast Sniper Vowed She Would ‘Do Something Big’</td>\n",
       "      <td>SAN DIEGO, Jan. 30 — Wally Spencer's eyes were...</td>\n",
       "      <td>White</td>\n",
       "    </tr>\n",
       "    <tr>\n",
       "      <th>9</th>\n",
       "      <td>Univeristy of South Carolina</td>\n",
       "      <td>The New York Times</td>\n",
       "      <td>Radioactive Tritium Seizure Brings Bankruptcy ...</td>\n",
       "      <td>African American</td>\n",
       "    </tr>\n",
       "    <tr>\n",
       "      <th>10</th>\n",
       "      <td>St.Aloysius Church</td>\n",
       "      <td>Father Blames LSD for Shooting Outburst by Son</td>\n",
       "      <td>E. Glenn Harmon, the young man's father, said ...</td>\n",
       "      <td>White</td>\n",
       "    </tr>\n",
       "    <tr>\n",
       "      <th>11</th>\n",
       "      <td>Valley High School</td>\n",
       "      <td>Cheerleader, 16, Is Found Slain</td>\n",
       "      <td>WALLKILL, N.Y.— The body of a 16-year-old high...</td>\n",
       "      <td>White</td>\n",
       "    </tr>\n",
       "    <tr>\n",
       "      <th>12</th>\n",
       "      <td>Valley High School</td>\n",
       "      <td>STUDENT A SUSPECT IN TEACHER SLAYING</td>\n",
       "      <td>LAS VEGAS, Nev., March 19— A 55-year-old teach...</td>\n",
       "      <td>White</td>\n",
       "    </tr>\n",
       "    <tr>\n",
       "      <th>13</th>\n",
       "      <td>Miami Welding Shop</td>\n",
       "      <td>GUNMAN IN MIAMI KILLS 8 IN RAMPAGE</td>\n",
       "      <td>MIAMI, Aug. 20— A man described by neighbors a...</td>\n",
       "      <td>White</td>\n",
       "    </tr>\n",
       "    <tr>\n",
       "      <th>14</th>\n",
       "      <td>Miami Welding Shop</td>\n",
       "      <td>Police Say Killer of 8 Had Just Purchased Gun</td>\n",
       "      <td>MIAMI, Aug. 21— Carl R. Brown, the 51-year-old...</td>\n",
       "      <td>White</td>\n",
       "    </tr>\n",
       "    <tr>\n",
       "      <th>15</th>\n",
       "      <td>Miami Welding Shop</td>\n",
       "      <td>NO CHARGES PLANNED AGAINST MIAMI MAN WHO SHOT ...</td>\n",
       "      <td>MIAMI, Aug. 23— Prosecutors said today they wo...</td>\n",
       "      <td>White</td>\n",
       "    </tr>\n",
       "    <tr>\n",
       "      <th>16</th>\n",
       "      <td>Wah Mee Gambling Club</td>\n",
       "      <td>MONDAY, FEBRUARY 21, 1983</td>\n",
       "      <td>International Hindu tribesmen killed 600 peopl...</td>\n",
       "      <td>Asian</td>\n",
       "    </tr>\n",
       "    <tr>\n",
       "      <th>17</th>\n",
       "      <td>Wah Mee Gambling Club</td>\n",
       "      <td>CLUB WHERE 13 WERE SLAIN IS LIKE MANY IN COAST...</td>\n",
       "      <td>SEATTLE, Feb. 20— The Wah Mee gambling club, w...</td>\n",
       "      <td>Asian</td>\n",
       "    </tr>\n",
       "    <tr>\n",
       "      <th>18</th>\n",
       "      <td>Wah Mee Gambling Club</td>\n",
       "      <td>13 SLAIN AT CLUB IN SEATTLE'S CHINATOWN</td>\n",
       "      <td>SEATTLE, Feb. 19— Twelve men and a woman were ...</td>\n",
       "      <td>Asian</td>\n",
       "    </tr>\n",
       "    <tr>\n",
       "      <th>19</th>\n",
       "      <td>Johnston, SC Post Office</td>\n",
       "      <td>NaN</td>\n",
       "      <td>NaN</td>\n",
       "      <td>NaN</td>\n",
       "    </tr>\n",
       "    <tr>\n",
       "      <th>20</th>\n",
       "      <td>Johnston, SC Post Office</td>\n",
       "      <td>NaN</td>\n",
       "      <td>NaN</td>\n",
       "      <td>NaN</td>\n",
       "    </tr>\n",
       "    <tr>\n",
       "      <th>21</th>\n",
       "      <td>Johnston, SC Post Office</td>\n",
       "      <td>NaN</td>\n",
       "      <td>NaN</td>\n",
       "      <td>NaN</td>\n",
       "    </tr>\n",
       "    <tr>\n",
       "      <th>22</th>\n",
       "      <td>49th Street Elementary</td>\n",
       "      <td>GIRL KILLED, 11 SHOT AT SCHOOL ON COAST</td>\n",
       "      <td>LOS ANGELES, Feb. 24— A sniper fired repeatedl...</td>\n",
       "      <td>African American</td>\n",
       "    </tr>\n",
       "    <tr>\n",
       "      <th>23</th>\n",
       "      <td>49th Street Elementary</td>\n",
       "      <td>CULT AND DRUGS SEEN AS CLUES</td>\n",
       "      <td>LOS ANGELES, Feb. 25— Police officials said to...</td>\n",
       "      <td>African American</td>\n",
       "    </tr>\n",
       "    <tr>\n",
       "      <th>24</th>\n",
       "      <td>Iannis Club in Dallas</td>\n",
       "      <td>6 DIE IN DALLAS CLUB AS ENRAGED MAN FIRES WILDLY</td>\n",
       "      <td>DALLAS, June 29— An unemployed waiter who was ...</td>\n",
       "      <td>White</td>\n",
       "    </tr>\n",
       "    <tr>\n",
       "      <th>25</th>\n",
       "      <td>Iannis Club in Dallas</td>\n",
       "      <td>Guilty Verdict In Dallas Club Shootings</td>\n",
       "      <td>DALLAS, Nov. 15— Abdelk rim Belachheb was foun...</td>\n",
       "      <td>White</td>\n",
       "    </tr>\n",
       "    <tr>\n",
       "      <th>26</th>\n",
       "      <td>San Ysidro McDonalds</td>\n",
       "      <td>GUNMAN IN MIAMI KILLS 8 IN RAMPAGE</td>\n",
       "      <td>MIAMI, Aug. 20— A man described by neighbors a...</td>\n",
       "      <td>White</td>\n",
       "    </tr>\n",
       "    <tr>\n",
       "      <th>27</th>\n",
       "      <td>San Ysidro McDonalds</td>\n",
       "      <td>SAN DIEGO TO REVIEW ITS SWAT TEAM PROCEDURES</td>\n",
       "      <td>SAN DIEGO, July 20— Police authorization to sh...</td>\n",
       "      <td>White</td>\n",
       "    </tr>\n",
       "    <tr>\n",
       "      <th>28</th>\n",
       "      <td>San Ysidro McDonalds</td>\n",
       "      <td>DAY OF KILLING IN CALIFORNIA</td>\n",
       "      <td>One afternoon last week, in the California bor...</td>\n",
       "      <td>White</td>\n",
       "    </tr>\n",
       "    <tr>\n",
       "      <th>29</th>\n",
       "      <td>San Ysidro McDonalds</td>\n",
       "      <td>COAST MAN KILLS 20 IN RAMPAGE AT A RESTAURANT</td>\n",
       "      <td>Editor's Note Appended\\n\\nSAN YSIDRO, Calif., ...</td>\n",
       "      <td>White</td>\n",
       "    </tr>\n",
       "    <tr>\n",
       "      <th>...</th>\n",
       "      <td>...</td>\n",
       "      <td>...</td>\n",
       "      <td>...</td>\n",
       "      <td>...</td>\n",
       "    </tr>\n",
       "    <tr>\n",
       "      <th>1164</th>\n",
       "      <td>Missouri Highway shooting</td>\n",
       "      <td>NaN</td>\n",
       "      <td>NaN</td>\n",
       "      <td>NaN</td>\n",
       "    </tr>\n",
       "    <tr>\n",
       "      <th>1165</th>\n",
       "      <td>Houston Drive-by</td>\n",
       "      <td>NaN</td>\n",
       "      <td>NaN</td>\n",
       "      <td>NaN</td>\n",
       "    </tr>\n",
       "    <tr>\n",
       "      <th>1166</th>\n",
       "      <td>Arizona Family Murder</td>\n",
       "      <td>NaN</td>\n",
       "      <td>NaN</td>\n",
       "      <td>NaN</td>\n",
       "    </tr>\n",
       "    <tr>\n",
       "      <th>1167</th>\n",
       "      <td>Detroit Strip Club Shootout</td>\n",
       "      <td>NaN</td>\n",
       "      <td>NaN</td>\n",
       "      <td>NaN</td>\n",
       "    </tr>\n",
       "    <tr>\n",
       "      <th>1168</th>\n",
       "      <td>Riverside restaurant shooting</td>\n",
       "      <td>NaN</td>\n",
       "      <td>NaN</td>\n",
       "      <td>NaN</td>\n",
       "    </tr>\n",
       "    <tr>\n",
       "      <th>1169</th>\n",
       "      <td>Wichita Nightclub shooting</td>\n",
       "      <td>NaN</td>\n",
       "      <td>NaN</td>\n",
       "      <td>NaN</td>\n",
       "    </tr>\n",
       "    <tr>\n",
       "      <th>1170</th>\n",
       "      <td>Chelsea, MA empty apartment party shooting</td>\n",
       "      <td>NaN</td>\n",
       "      <td>NaN</td>\n",
       "      <td>NaN</td>\n",
       "    </tr>\n",
       "    <tr>\n",
       "      <th>1171</th>\n",
       "      <td>Roswell, GA Hookah shootout</td>\n",
       "      <td>NaN</td>\n",
       "      <td>NaN</td>\n",
       "      <td>NaN</td>\n",
       "    </tr>\n",
       "    <tr>\n",
       "      <th>1172</th>\n",
       "      <td>Lafayette, LA drive by</td>\n",
       "      <td>NaN</td>\n",
       "      <td>NaN</td>\n",
       "      <td>NaN</td>\n",
       "    </tr>\n",
       "    <tr>\n",
       "      <th>1173</th>\n",
       "      <td>Trenton, NJ sidewalk shooting</td>\n",
       "      <td>NaN</td>\n",
       "      <td>NaN</td>\n",
       "      <td>NaN</td>\n",
       "    </tr>\n",
       "    <tr>\n",
       "      <th>1174</th>\n",
       "      <td>Detroit Drive-by</td>\n",
       "      <td>NaN</td>\n",
       "      <td>NaN</td>\n",
       "      <td>NaN</td>\n",
       "    </tr>\n",
       "    <tr>\n",
       "      <th>1175</th>\n",
       "      <td>Elberton, Georgia murder-suicide</td>\n",
       "      <td>NaN</td>\n",
       "      <td>NaN</td>\n",
       "      <td>NaN</td>\n",
       "    </tr>\n",
       "    <tr>\n",
       "      <th>1176</th>\n",
       "      <td>Florida Family celebration ends in shooting</td>\n",
       "      <td>NaN</td>\n",
       "      <td>NaN</td>\n",
       "      <td>NaN</td>\n",
       "    </tr>\n",
       "    <tr>\n",
       "      <th>1177</th>\n",
       "      <td>Ferguson, MO Drive by</td>\n",
       "      <td>NaN</td>\n",
       "      <td>NaN</td>\n",
       "      <td>NaN</td>\n",
       "    </tr>\n",
       "    <tr>\n",
       "      <th>1178</th>\n",
       "      <td>Forestville, Maryland Drive-by</td>\n",
       "      <td>NaN</td>\n",
       "      <td>NaN</td>\n",
       "      <td>NaN</td>\n",
       "    </tr>\n",
       "    <tr>\n",
       "      <th>1179</th>\n",
       "      <td>Halifax County, VA</td>\n",
       "      <td>NaN</td>\n",
       "      <td>NaN</td>\n",
       "      <td>NaN</td>\n",
       "    </tr>\n",
       "    <tr>\n",
       "      <th>1180</th>\n",
       "      <td>Tire-Slashing revenge escalation</td>\n",
       "      <td>NaN</td>\n",
       "      <td>NaN</td>\n",
       "      <td>NaN</td>\n",
       "    </tr>\n",
       "    <tr>\n",
       "      <th>1181</th>\n",
       "      <td>Alabama highway random shooting</td>\n",
       "      <td>NaN</td>\n",
       "      <td>NaN</td>\n",
       "      <td>NaN</td>\n",
       "    </tr>\n",
       "    <tr>\n",
       "      <th>1182</th>\n",
       "      <td>Texas family murder-suicide</td>\n",
       "      <td>NaN</td>\n",
       "      <td>NaN</td>\n",
       "      <td>NaN</td>\n",
       "    </tr>\n",
       "    <tr>\n",
       "      <th>1183</th>\n",
       "      <td>Chicago Rap video Shootout</td>\n",
       "      <td>NaN</td>\n",
       "      <td>NaN</td>\n",
       "      <td>NaN</td>\n",
       "    </tr>\n",
       "    <tr>\n",
       "      <th>1184</th>\n",
       "      <td>Long Beach Street murder</td>\n",
       "      <td>NaN</td>\n",
       "      <td>NaN</td>\n",
       "      <td>NaN</td>\n",
       "    </tr>\n",
       "    <tr>\n",
       "      <th>1185</th>\n",
       "      <td>Atlanta Nightclub shooting</td>\n",
       "      <td>NaN</td>\n",
       "      <td>NaN</td>\n",
       "      <td>NaN</td>\n",
       "    </tr>\n",
       "    <tr>\n",
       "      <th>1186</th>\n",
       "      <td>Wetumpka Drive-by</td>\n",
       "      <td>NaN</td>\n",
       "      <td>NaN</td>\n",
       "      <td>NaN</td>\n",
       "    </tr>\n",
       "    <tr>\n",
       "      <th>1187</th>\n",
       "      <td>Spring Break Party shooting</td>\n",
       "      <td>NaN</td>\n",
       "      <td>NaN</td>\n",
       "      <td>NaN</td>\n",
       "    </tr>\n",
       "    <tr>\n",
       "      <th>1188</th>\n",
       "      <td>Louisville, KY Family Murder-Suicide</td>\n",
       "      <td>NaN</td>\n",
       "      <td>NaN</td>\n",
       "      <td>NaN</td>\n",
       "    </tr>\n",
       "    <tr>\n",
       "      <th>1189</th>\n",
       "      <td>Greenhill, AL Family murder-suicide</td>\n",
       "      <td>NaN</td>\n",
       "      <td>NaN</td>\n",
       "      <td>NaN</td>\n",
       "    </tr>\n",
       "    <tr>\n",
       "      <th>1190</th>\n",
       "      <td>Albuquerque, NM Family restaurant shooting</td>\n",
       "      <td>NaN</td>\n",
       "      <td>NaN</td>\n",
       "      <td>NaN</td>\n",
       "    </tr>\n",
       "    <tr>\n",
       "      <th>1191</th>\n",
       "      <td>Chicago Birthday Party Bus Shooting</td>\n",
       "      <td>NaN</td>\n",
       "      <td>NaN</td>\n",
       "      <td>NaN</td>\n",
       "    </tr>\n",
       "    <tr>\n",
       "      <th>1192</th>\n",
       "      <td>Albuquerque, NM House party shooting</td>\n",
       "      <td>NaN</td>\n",
       "      <td>NaN</td>\n",
       "      <td>NaN</td>\n",
       "    </tr>\n",
       "    <tr>\n",
       "      <th>1193</th>\n",
       "      <td>Memphis, TN gas station shooting</td>\n",
       "      <td>NaN</td>\n",
       "      <td>NaN</td>\n",
       "      <td>NaN</td>\n",
       "    </tr>\n",
       "  </tbody>\n",
       "</table>\n",
       "<p>1194 rows × 4 columns</p>\n",
       "</div>"
      ],
      "text/plain": [
       "                                    Incident Name  \\\n",
       "0                                         NOLA PD   \n",
       "1                         Clara Barton Elementary   \n",
       "2                               Olean High School   \n",
       "3                               Olean High School   \n",
       "4                     LA Computer Learning Center   \n",
       "5                             Cal State Fullerton   \n",
       "6              Grover Cleveland Elementary School   \n",
       "7              Grover Cleveland Elementary School   \n",
       "8              Grover Cleveland Elementary School   \n",
       "9                    Univeristy of South Carolina   \n",
       "10                             St.Aloysius Church   \n",
       "11                             Valley High School   \n",
       "12                             Valley High School   \n",
       "13                             Miami Welding Shop   \n",
       "14                             Miami Welding Shop   \n",
       "15                             Miami Welding Shop   \n",
       "16                          Wah Mee Gambling Club   \n",
       "17                          Wah Mee Gambling Club   \n",
       "18                          Wah Mee Gambling Club   \n",
       "19                       Johnston, SC Post Office   \n",
       "20                       Johnston, SC Post Office   \n",
       "21                       Johnston, SC Post Office   \n",
       "22                         49th Street Elementary   \n",
       "23                         49th Street Elementary   \n",
       "24                          Iannis Club in Dallas   \n",
       "25                          Iannis Club in Dallas   \n",
       "26                           San Ysidro McDonalds   \n",
       "27                           San Ysidro McDonalds   \n",
       "28                           San Ysidro McDonalds   \n",
       "29                           San Ysidro McDonalds   \n",
       "...                                           ...   \n",
       "1164                    Missouri Highway shooting   \n",
       "1165                             Houston Drive-by   \n",
       "1166                        Arizona Family Murder   \n",
       "1167                  Detroit Strip Club Shootout   \n",
       "1168                Riverside restaurant shooting   \n",
       "1169                   Wichita Nightclub shooting   \n",
       "1170   Chelsea, MA empty apartment party shooting   \n",
       "1171                  Roswell, GA Hookah shootout   \n",
       "1172                       Lafayette, LA drive by   \n",
       "1173                Trenton, NJ sidewalk shooting   \n",
       "1174                             Detroit Drive-by   \n",
       "1175             Elberton, Georgia murder-suicide   \n",
       "1176  Florida Family celebration ends in shooting   \n",
       "1177                        Ferguson, MO Drive by   \n",
       "1178               Forestville, Maryland Drive-by   \n",
       "1179                           Halifax County, VA   \n",
       "1180             Tire-Slashing revenge escalation   \n",
       "1181              Alabama highway random shooting   \n",
       "1182                  Texas family murder-suicide   \n",
       "1183                   Chicago Rap video Shootout   \n",
       "1184                     Long Beach Street murder   \n",
       "1185                   Atlanta Nightclub shooting   \n",
       "1186                            Wetumpka Drive-by   \n",
       "1187                  Spring Break Party shooting   \n",
       "1188         Louisville, KY Family Murder-Suicide   \n",
       "1189          Greenhill, AL Family murder-suicide   \n",
       "1190   Albuquerque, NM Family restaurant shooting   \n",
       "1191          Chicago Birthday Party Bus Shooting   \n",
       "1192         Albuquerque, NM House party shooting   \n",
       "1193             Memphis, TN gas station shooting   \n",
       "\n",
       "                                                  Title  \\\n",
       "0                                                   NaN   \n",
       "1                                                   NaN   \n",
       "2        Sniper's Classmate Says Guns Were ‘Whole Life’   \n",
       "3       3 Killed and 9 Wounded By an Upstate Sniper, 18   \n",
       "4                                                   NaN   \n",
       "5                                                   NaN   \n",
       "6     San Diego Girl Slays 2 With Rifle And Wounds 9...   \n",
       "7                             Tomboy and Gun Enthusiast   \n",
       "8       Coast Sniper Vowed She Would ‘Do Something Big’   \n",
       "9                                    The New York Times   \n",
       "10       Father Blames LSD for Shooting Outburst by Son   \n",
       "11                      Cheerleader, 16, Is Found Slain   \n",
       "12                 STUDENT A SUSPECT IN TEACHER SLAYING   \n",
       "13                   GUNMAN IN MIAMI KILLS 8 IN RAMPAGE   \n",
       "14        Police Say Killer of 8 Had Just Purchased Gun   \n",
       "15    NO CHARGES PLANNED AGAINST MIAMI MAN WHO SHOT ...   \n",
       "16                            MONDAY, FEBRUARY 21, 1983   \n",
       "17    CLUB WHERE 13 WERE SLAIN IS LIKE MANY IN COAST...   \n",
       "18              13 SLAIN AT CLUB IN SEATTLE'S CHINATOWN   \n",
       "19                                                  NaN   \n",
       "20                                                  NaN   \n",
       "21                                                  NaN   \n",
       "22              GIRL KILLED, 11 SHOT AT SCHOOL ON COAST   \n",
       "23                         CULT AND DRUGS SEEN AS CLUES   \n",
       "24     6 DIE IN DALLAS CLUB AS ENRAGED MAN FIRES WILDLY   \n",
       "25              Guilty Verdict In Dallas Club Shootings   \n",
       "26                   GUNMAN IN MIAMI KILLS 8 IN RAMPAGE   \n",
       "27         SAN DIEGO TO REVIEW ITS SWAT TEAM PROCEDURES   \n",
       "28                         DAY OF KILLING IN CALIFORNIA   \n",
       "29        COAST MAN KILLS 20 IN RAMPAGE AT A RESTAURANT   \n",
       "...                                                 ...   \n",
       "1164                                                NaN   \n",
       "1165                                                NaN   \n",
       "1166                                                NaN   \n",
       "1167                                                NaN   \n",
       "1168                                                NaN   \n",
       "1169                                                NaN   \n",
       "1170                                                NaN   \n",
       "1171                                                NaN   \n",
       "1172                                                NaN   \n",
       "1173                                                NaN   \n",
       "1174                                                NaN   \n",
       "1175                                                NaN   \n",
       "1176                                                NaN   \n",
       "1177                                                NaN   \n",
       "1178                                                NaN   \n",
       "1179                                                NaN   \n",
       "1180                                                NaN   \n",
       "1181                                                NaN   \n",
       "1182                                                NaN   \n",
       "1183                                                NaN   \n",
       "1184                                                NaN   \n",
       "1185                                                NaN   \n",
       "1186                                                NaN   \n",
       "1187                                                NaN   \n",
       "1188                                                NaN   \n",
       "1189                                                NaN   \n",
       "1190                                                NaN   \n",
       "1191                                                NaN   \n",
       "1192                                                NaN   \n",
       "1193                                                NaN   \n",
       "\n",
       "                                                Article      Shooter Race  \n",
       "0                                                   NaN               NaN  \n",
       "1                                                   NaN               NaN  \n",
       "2     The attack at the school has stunned this comm...             White  \n",
       "3     The youth was charged with three counts of mur...             White  \n",
       "4                                                   NaN               NaN  \n",
       "5                                                   NaN               NaN  \n",
       "6     Special weapons and tactics officers from the ...             White  \n",
       "7     SAN DIEGO, Jan. 29 (AP) — Brenda Spencer's cla...             White  \n",
       "8     SAN DIEGO, Jan. 30 — Wally Spencer's eyes were...             White  \n",
       "9     Radioactive Tritium Seizure Brings Bankruptcy ...  African American  \n",
       "10    E. Glenn Harmon, the young man's father, said ...             White  \n",
       "11    WALLKILL, N.Y.— The body of a 16-year-old high...             White  \n",
       "12    LAS VEGAS, Nev., March 19— A 55-year-old teach...             White  \n",
       "13    MIAMI, Aug. 20— A man described by neighbors a...             White  \n",
       "14    MIAMI, Aug. 21— Carl R. Brown, the 51-year-old...             White  \n",
       "15    MIAMI, Aug. 23— Prosecutors said today they wo...             White  \n",
       "16    International Hindu tribesmen killed 600 peopl...             Asian  \n",
       "17    SEATTLE, Feb. 20— The Wah Mee gambling club, w...             Asian  \n",
       "18    SEATTLE, Feb. 19— Twelve men and a woman were ...             Asian  \n",
       "19                                                  NaN               NaN  \n",
       "20                                                  NaN               NaN  \n",
       "21                                                  NaN               NaN  \n",
       "22    LOS ANGELES, Feb. 24— A sniper fired repeatedl...  African American  \n",
       "23    LOS ANGELES, Feb. 25— Police officials said to...  African American  \n",
       "24    DALLAS, June 29— An unemployed waiter who was ...             White  \n",
       "25    DALLAS, Nov. 15— Abdelk rim Belachheb was foun...             White  \n",
       "26    MIAMI, Aug. 20— A man described by neighbors a...             White  \n",
       "27    SAN DIEGO, July 20— Police authorization to sh...             White  \n",
       "28    One afternoon last week, in the California bor...             White  \n",
       "29    Editor's Note Appended\\n\\nSAN YSIDRO, Calif., ...             White  \n",
       "...                                                 ...               ...  \n",
       "1164                                                NaN               NaN  \n",
       "1165                                                NaN               NaN  \n",
       "1166                                                NaN               NaN  \n",
       "1167                                                NaN               NaN  \n",
       "1168                                                NaN               NaN  \n",
       "1169                                                NaN               NaN  \n",
       "1170                                                NaN               NaN  \n",
       "1171                                                NaN               NaN  \n",
       "1172                                                NaN               NaN  \n",
       "1173                                                NaN               NaN  \n",
       "1174                                                NaN               NaN  \n",
       "1175                                                NaN               NaN  \n",
       "1176                                                NaN               NaN  \n",
       "1177                                                NaN               NaN  \n",
       "1178                                                NaN               NaN  \n",
       "1179                                                NaN               NaN  \n",
       "1180                                                NaN               NaN  \n",
       "1181                                                NaN               NaN  \n",
       "1182                                                NaN               NaN  \n",
       "1183                                                NaN               NaN  \n",
       "1184                                                NaN               NaN  \n",
       "1185                                                NaN               NaN  \n",
       "1186                                                NaN               NaN  \n",
       "1187                                                NaN               NaN  \n",
       "1188                                                NaN               NaN  \n",
       "1189                                                NaN               NaN  \n",
       "1190                                                NaN               NaN  \n",
       "1191                                                NaN               NaN  \n",
       "1192                                                NaN               NaN  \n",
       "1193                                                NaN               NaN  \n",
       "\n",
       "[1194 rows x 4 columns]"
      ]
     },
     "execution_count": 14,
     "metadata": {},
     "output_type": "execute_result"
    }
   ],
   "source": [
    "#Join all DataFrames together\n",
    "NYT = pd.concat([NYT1970s,NYT1980s, NYT1990s, NYT2000s,NYT2010s])\n",
    "NYT.reset_index(drop=True)"
   ]
  },
  {
   "cell_type": "code",
   "execution_count": 15,
   "metadata": {
    "collapsed": true
   },
   "outputs": [],
   "source": [
    "#Exploratory Data Analysis Function Generated by Ritika Bhasker.\n",
    "def eda(dataframe):\n",
    "    print \"Missing Values \\n \\n\", dataframe.isnull().sum(),\"\\n\" #find missing values\n",
    "    print \"Duplicate Rows \\n\", dataframe.duplicated().sum(),\"\\n\" #find duplicated values\n",
    "    print \"Dataframe Types \\n \\n\", dataframe.dtypes,\"\\n\" #datatypes of each column\n",
    "    print \"Dataframe Shape \\n\", dataframe.shape,\"\\n\" #number of rows and columns\n",
    "    print \"Dataframe Describe \\n \\n\", dataframe.describe(include='all'),\"\\n\" #Describe all columns\n",
    "    for feature in dataframe: # Prints unique values for each column \n",
    "        print feature\n",
    "        print dataframe[feature].nunique()"
   ]
  },
  {
   "cell_type": "code",
   "execution_count": 16,
   "metadata": {
    "scrolled": true
   },
   "outputs": [
    {
     "name": "stdout",
     "output_type": "stream",
     "text": [
      "Missing Values \n",
      " \n",
      "Incident Name      0\n",
      "Title            133\n",
      "Article          133\n",
      "Shooter Race     133\n",
      "dtype: int64 \n",
      "\n",
      "Duplicate Rows \n",
      "11 \n",
      "\n",
      "Dataframe Types \n",
      " \n",
      "Incident Name    object\n",
      "Title            object\n",
      "Article          object\n",
      "Shooter Race     object\n",
      "dtype: object \n",
      "\n",
      "Dataframe Shape \n",
      "(1194, 4) \n",
      "\n",
      "Dataframe Describe \n",
      " \n",
      "                            Incident Name               Title  \\\n",
      "count                                1194                1061   \n",
      "unique                                291                1021   \n",
      "top     Tucscon, Arizona - Gabby Giffords  The New York Times   \n",
      "freq                                   83                   7   \n",
      "\n",
      "                                                  Article Shooter Race  \n",
      "count                                                1061         1061  \n",
      "unique                                               1032            8  \n",
      "top     The Lede is a blog that remixes national and i...        White  \n",
      "freq                                                    9          730   \n",
      "\n",
      "Incident Name\n",
      "291\n",
      "Title\n",
      "1021\n",
      "Article\n",
      "1032\n",
      "Shooter Race\n",
      "8\n"
     ]
    }
   ],
   "source": [
    "eda(NYT)"
   ]
  },
  {
   "cell_type": "code",
   "execution_count": 17,
   "metadata": {
    "collapsed": true
   },
   "outputs": [],
   "source": [
    "#Dropping duplicates and null values\n",
    "NYT.dropna(inplace=True)\n",
    "NYT.drop_duplicates(inplace=True)"
   ]
  },
  {
   "cell_type": "code",
   "execution_count": 18,
   "metadata": {
    "scrolled": true
   },
   "outputs": [
    {
     "name": "stdout",
     "output_type": "stream",
     "text": [
      "Missing Values \n",
      " \n",
      "Incident Name    0\n",
      "Title            0\n",
      "Article          0\n",
      "Shooter Race     0\n",
      "dtype: int64 \n",
      "\n",
      "Duplicate Rows \n",
      "0 \n",
      "\n",
      "Dataframe Types \n",
      " \n",
      "Incident Name    object\n",
      "Title            object\n",
      "Article          object\n",
      "Shooter Race     object\n",
      "dtype: object \n",
      "\n",
      "Dataframe Shape \n",
      "(1053, 4) \n",
      "\n",
      "Dataframe Describe \n",
      " \n",
      "                            Incident Name               Title  \\\n",
      "count                                1053                1053   \n",
      "unique                                161                1021   \n",
      "top     Tucscon, Arizona - Gabby Giffords  The New York Times   \n",
      "freq                                   83                   7   \n",
      "\n",
      "                                                  Article Shooter Race  \n",
      "count                                                1053         1053  \n",
      "unique                                               1032            8  \n",
      "top     The Lede is a blog that remixes national and i...        White  \n",
      "freq                                                    9          723   \n",
      "\n",
      "Incident Name\n",
      "161\n",
      "Title\n",
      "1021\n",
      "Article\n",
      "1032\n",
      "Shooter Race\n",
      "8\n"
     ]
    }
   ],
   "source": [
    "#confirming that process by rerunnin eda function\n",
    "eda(NYT)"
   ]
  },
  {
   "cell_type": "code",
   "execution_count": 19,
   "metadata": {
    "collapsed": true
   },
   "outputs": [],
   "source": [
    "#dropping rows containing Races classified as Two or more races, Other, and Unknown as\n",
    "#they do provide us with any information towards our end goal of word orientation towards a specific\n",
    "#ethnicity\n",
    "NYT=NYT[~NYT['Shooter Race'].str.contains('Two or more races|Other|Unknown')]"
   ]
  },
  {
   "cell_type": "code",
   "execution_count": 20,
   "metadata": {
    "collapsed": true
   },
   "outputs": [],
   "source": [
    "#Replace N.R.A. with NRA in data frame to avoid it being split up when CountVectorizing\n",
    "NYT.replace(\"N.R.A\",\"NRA\",inplace=True)"
   ]
  },
  {
   "cell_type": "markdown",
   "metadata": {},
   "source": [
    "### Generating Stop Words"
   ]
  },
  {
   "cell_type": "code",
   "execution_count": 21,
   "metadata": {
    "collapsed": true
   },
   "outputs": [],
   "source": [
    "names=shootingdb['Shooter Name'].tolist()\n",
    "incidents=NYT['Incident Name'].tolist()\n",
    "location=shootingdb['Location'].tolist()\n",
    "city=shootingdb['City'].tolist()\n",
    "state=shootingdb['State'].tolist()\n",
    "title=shootingdb['Title'].tolist()\n",
    "month =['jan','feb', 'mar', 'apr','june','july','aug', 'sep','oct','nov','dec',\n",
    "       'january','february','march','april','august','september','october','november','december']\n",
    "day=['monday','tuesday','wednesday','thurdsday','friday','saturday','sunday']\n",
    "words =['said', 'door', 'korean','english','chinese','door','whether','farook','seung','norris','hui','got'\n",
    "       ,'asian','whose','without','get']\n",
    "dbstops= [names + incidents + location + city + state + title + month + words +day]"
   ]
  },
  {
   "cell_type": "code",
   "execution_count": 22,
   "metadata": {
    "collapsed": true
   },
   "outputs": [],
   "source": [
    "#make list all one list\n",
    "dbstop=list(itertools.chain(*dbstops))\n",
    "#split on blank space\n",
    "dbstop = [i.split(\" \") for i in dbstop]\n",
    "#Flatten List\n",
    "dbstop = [item for sublist in dbstop for item in sublist]\n",
    "#Make all letters Lowercase\n",
    "dbstop = [i.lower() for i in dbstop]\n",
    "#combine English dictionary stopwords with custom list\n",
    "stop=stopwords.words('english')\n",
    "stop += dbstop"
   ]
  },
  {
   "cell_type": "markdown",
   "metadata": {},
   "source": [
    "### Cleaning Dataframe"
   ]
  },
  {
   "cell_type": "code",
   "execution_count": 23,
   "metadata": {
    "collapsed": true
   },
   "outputs": [],
   "source": [
    "#Function Created by General Assembly in Natural Language Processing Lab\n",
    "def remove(NYT):\n",
    "    # Remove non-letters        \n",
    "    letters_only = re.sub(\"[^a-zA-Z]\", \" \", NYT) \n",
    "    # Convert to lower case, split into individual words\n",
    "    words = letters_only.lower().split()                                              \n",
    "    #Remove stop words\n",
    "    meaningful_words = [i for i in words if not i in stop]   \n",
    "    # Join the words back into one string separated by space, \n",
    "    # and return the result.\n",
    "    return( \" \".join( meaningful_words ))"
   ]
  },
  {
   "cell_type": "code",
   "execution_count": 24,
   "metadata": {
    "collapsed": true
   },
   "outputs": [],
   "source": [
    "#Apply Remove Function\n",
    "NYT['Title']=NYT['Title'].apply(remove)"
   ]
  },
  {
   "cell_type": "code",
   "execution_count": 25,
   "metadata": {
    "collapsed": true
   },
   "outputs": [],
   "source": [
    "NYT['Article']=NYT['Article'].apply(remove)"
   ]
  },
  {
   "cell_type": "code",
   "execution_count": 26,
   "metadata": {
    "collapsed": true
   },
   "outputs": [],
   "source": [
    "NYT.reset_index(drop=True, inplace=True)"
   ]
  },
  {
   "cell_type": "code",
   "execution_count": 27,
   "metadata": {
    "collapsed": true
   },
   "outputs": [],
   "source": [
    "#Evann G Smiths Tokenizing and Lemmatizing Function  (https://github.com/evanngsmith/GA)\n",
    "lemma = WordNetLemmatizer()\n",
    "re_punct = re.compile('[' + ''.join(string.punctuation) + ']')\n",
    "\n",
    "def preprocess(text):\n",
    "    try:\n",
    "        tokens = word_tokenize(text)\n",
    "        tokens = [t for t in tokens if len(t) > 2]\n",
    "        tokens = [lemma.lemmatize(t) for t in tokens]\n",
    "        if len(tokens) == 0:\n",
    "            return None\n",
    "        else:\n",
    "            return ' '.join(tokens)\n",
    "    except:\n",
    "        return None"
   ]
  },
  {
   "cell_type": "code",
   "execution_count": 28,
   "metadata": {},
   "outputs": [
    {
     "name": "stderr",
     "output_type": "stream",
     "text": [
      "progress-bar: 100%|██████████| 1028/1028 [00:01<00:00, 877.49it/s]\n"
     ]
    }
   ],
   "source": [
    "#apply function to dataframe\n",
    "NYT['Title']=NYT['Title'].progress_map(preprocess)"
   ]
  },
  {
   "cell_type": "code",
   "execution_count": 29,
   "metadata": {},
   "outputs": [
    {
     "name": "stderr",
     "output_type": "stream",
     "text": [
      "progress-bar: 100%|██████████| 1028/1028 [00:03<00:00, 279.78it/s]\n"
     ]
    }
   ],
   "source": [
    "NYT['Article']=NYT['Article'].progress_map(preprocess)"
   ]
  },
  {
   "cell_type": "code",
   "execution_count": 30,
   "metadata": {},
   "outputs": [
    {
     "data": {
      "text/html": [
       "<div>\n",
       "<style>\n",
       "    .dataframe thead tr:only-child th {\n",
       "        text-align: right;\n",
       "    }\n",
       "\n",
       "    .dataframe thead th {\n",
       "        text-align: left;\n",
       "    }\n",
       "\n",
       "    .dataframe tbody tr th {\n",
       "        vertical-align: top;\n",
       "    }\n",
       "</style>\n",
       "<table border=\"1\" class=\"dataframe\">\n",
       "  <thead>\n",
       "    <tr style=\"text-align: right;\">\n",
       "      <th></th>\n",
       "      <th>Incident Name</th>\n",
       "      <th>Title</th>\n",
       "      <th>Article</th>\n",
       "      <th>Shooter Race</th>\n",
       "    </tr>\n",
       "  </thead>\n",
       "  <tbody>\n",
       "    <tr>\n",
       "      <th>0</th>\n",
       "      <td>Olean High School</td>\n",
       "      <td>sniper classmate say gun whole</td>\n",
       "      <td>attack stunned entire year six armed robbery o...</td>\n",
       "      <td>White</td>\n",
       "    </tr>\n",
       "    <tr>\n",
       "      <th>1</th>\n",
       "      <td>Olean High School</td>\n",
       "      <td>killed wounded upstate sniper</td>\n",
       "      <td>charged three count last night scheduled arrai...</td>\n",
       "      <td>White</td>\n",
       "    </tr>\n",
       "    <tr>\n",
       "      <th>2</th>\n",
       "      <td>Grover Cleveland Elementary School</td>\n",
       "      <td>girl slays rifle wound ground</td>\n",
       "      <td>special weapon tactic officer surrounded girl ...</td>\n",
       "      <td>White</td>\n",
       "    </tr>\n",
       "    <tr>\n",
       "      <th>3</th>\n",
       "      <td>Grover Cleveland Elementary School</td>\n",
       "      <td>tomboy gun enthusiast</td>\n",
       "      <td>classmate described today tomboy gun enthusias...</td>\n",
       "      <td>White</td>\n",
       "    </tr>\n",
       "    <tr>\n",
       "      <th>4</th>\n",
       "      <td>Grover Cleveland Elementary School</td>\n",
       "      <td>coast sniper vowed would something big</td>\n",
       "      <td>wally eye morning looked driveway child arrivi...</td>\n",
       "      <td>White</td>\n",
       "    </tr>\n",
       "  </tbody>\n",
       "</table>\n",
       "</div>"
      ],
      "text/plain": [
       "                        Incident Name                                   Title  \\\n",
       "0                   Olean High School          sniper classmate say gun whole   \n",
       "1                   Olean High School           killed wounded upstate sniper   \n",
       "2  Grover Cleveland Elementary School           girl slays rifle wound ground   \n",
       "3  Grover Cleveland Elementary School                   tomboy gun enthusiast   \n",
       "4  Grover Cleveland Elementary School  coast sniper vowed would something big   \n",
       "\n",
       "                                             Article Shooter Race  \n",
       "0  attack stunned entire year six armed robbery o...        White  \n",
       "1  charged three count last night scheduled arrai...        White  \n",
       "2  special weapon tactic officer surrounded girl ...        White  \n",
       "3  classmate described today tomboy gun enthusias...        White  \n",
       "4  wally eye morning looked driveway child arrivi...        White  "
      ]
     },
     "execution_count": 30,
     "metadata": {},
     "output_type": "execute_result"
    }
   ],
   "source": [
    "NYT.head()"
   ]
  },
  {
   "cell_type": "markdown",
   "metadata": {},
   "source": [
    "##### Base Accuracy"
   ]
  },
  {
   "cell_type": "code",
   "execution_count": 32,
   "metadata": {},
   "outputs": [
    {
     "data": {
      "text/plain": [
       "White                               723\n",
       "Asian                               152\n",
       "African American                    117\n",
       "Latin American                       22\n",
       "Native American or Alaska Native     14\n",
       "Name: Shooter Race, dtype: int64"
      ]
     },
     "execution_count": 32,
     "metadata": {},
     "output_type": "execute_result"
    }
   ],
   "source": [
    "#view distribution of races across dataframe\n",
    "NYT['Shooter Race'].value_counts()"
   ]
  },
  {
   "cell_type": "markdown",
   "metadata": {},
   "source": [
    "#### White = 68.66%\n",
    "#### Asian = 14.43%\n",
    "#### African American = 14.43%\n",
    "#### Latin American = 2.09%\n",
    "#### Native American or Alaska Native = 1.33%"
   ]
  },
  {
   "cell_type": "markdown",
   "metadata": {},
   "source": [
    "### CountVectorizer"
   ]
  },
  {
   "cell_type": "code",
   "execution_count": 33,
   "metadata": {},
   "outputs": [
    {
     "name": "stdout",
     "output_type": "stream",
     "text": [
      "CountVectorizer(analyzer='word', binary=False, decode_error=u'strict',\n",
      "        dtype=<type 'numpy.int64'>, encoding=u'utf-8', input=u'content',\n",
      "        lowercase=True, max_df=1.0, max_features=1500, min_df=1,\n",
      "        ngram_range=(1, 1), preprocessor=None,\n",
      "        stop_words=['i', 'me', 'my', 'myself', 'we', 'our', 'ours', 'ourselves', 'you', 'your', 'yours', 'yourself', 'yourselves', 'he', 'him', 'his', 'himself', 'she', 'her', 'hers', 'herself', 'it', 'its', 'itself', 'they', 'them', 'their', 'theirs', 'themselves', 'what', 'which', 'who', 'whom', 'this', '...e', 'without', 'get', 'monday', 'tuesday', 'wednesday', 'thurdsday', 'friday', 'saturday', 'sunday'],\n",
      "        strip_accents=None, token_pattern=u'(?u)\\\\b\\\\w\\\\w+\\\\b',\n",
      "        tokenizer=None, vocabulary=None)\n"
     ]
    }
   ],
   "source": [
    "#Initialize vectorizer function\n",
    "vectorizer = CountVectorizer(analyzer = \"word\", \n",
    "                             tokenizer = None,    \n",
    "                             preprocessor = None,\n",
    "                             stop_words=stop,\n",
    "                             max_features=1500,\n",
    "                             min_df=1) \n",
    "\n",
    "#fit vectorization to Articles and conver to array\n",
    "data_features = vectorizer.fit_transform(NYT['Article'])\n",
    "data_features = data_features.toarray()\n",
    "print vectorizer"
   ]
  },
  {
   "cell_type": "code",
   "execution_count": 34,
   "metadata": {},
   "outputs": [
    {
     "name": "stdout",
     "output_type": "stream",
     "text": [
      "(1028, 1500)\n",
      "[[0 0 1 ..., 0 4 1]\n",
      " [0 0 0 ..., 0 3 0]\n",
      " [0 0 0 ..., 0 0 0]\n",
      " ..., \n",
      " [0 0 0 ..., 0 0 0]\n",
      " [0 0 0 ..., 0 1 1]\n",
      " [0 0 0 ..., 1 1 0]]\n"
     ]
    }
   ],
   "source": [
    "#view array and its shape\n",
    "print data_features.shape\n",
    "print data_features"
   ]
  },
  {
   "cell_type": "code",
   "execution_count": 35,
   "metadata": {},
   "outputs": [
    {
     "name": "stdout",
     "output_type": "stream",
     "text": [
      "[u'abc', u'ability', u'able', u'academic', u'access', u'according', u'account', u'accused', u'acknowledged', u'across', u'act', u'acted', u'action', u'active', u'activity', u'actually', u'added', u'adding', u'addition', u'additional', u'address', u'administration', u'administrator', u'adult', u'advertisement', u'adviser', u'advocate', u'affair', u'affect', u'afghanistan', u'african', u'aftermath', u'afternoon', u'age', u'agency', u'agent', u'ago', u'agree', u'agreed', u'ahead', u'aid', u'aide', u'alarm', u'alcohol', u'alert', u'alive', u'allow', u'allowed', u'almost', u'alone', u'along', u'already', u'also', u'although', u'always', u'ambulance', u'amendment', u'america', u'american', u'ammunition', u'among', u'anger', u'angry', u'announced', u'another', u'answer', u'anti', u'anybody', u'anyone', u'anything', u'apparent', u'apparently', u'appear', u'appearance', u'appeared', u'appears', u'approach', u'area', u'argument', u'arm', u'armed', u'around', u'arrest', u'arrested', u'arrived', u'art', u'article', u'ask', u'asked', u'asking', u'assailant', u'assault', u'assistant', u'associate', u'associated', u'association', u'attack', u'attacked', u'attacker', u'attempt', u'attempted', u'attend', u'attended', u'attending', u'attention', u'attorney', u'audience', u'author', u'authority', u'automatic', u'available', u'avenue', u'avoid', u'aware', u'away', u'baby', u'back', u'background', u'bad', u'bag', u'ban', u'band', u'bank', u'barbara', u'based', u'battle', u'bear', u'became', u'become', u'becoming', u'began', u'begin', u'begun', u'behavior', u'behind', u'belief', u'believe', u'believed', u'benchmark', u'best', u'better', u'beyond', u'bible', u'big', u'bill', u'bit', u'black', u'blame', u'block', u'blog', u'blood', u'bloomberg', u'blue', u'board', u'body', u'boehner', u'bomb', u'bombing', u'book', u'born', u'bought', u'box', u'boy', u'brain', u'breaking', u'brief', u'bring', u'broadcast', u'broke', u'broken', u'brother', u'brought', u'budget', u'bullet', u'bureau', u'business', u'buy', u'buying', u'caliber', u'calif', u'call', u'called', u'calling', u'calm', u'came', u'camera', u'campaign', u'canceled', u'candidate', u'capacity', u'capital', u'card', u'care', u'career', u'carnage', u'carried', u'carrier', u'carry', u'carrying', u'caught', u'cause', u'cbs', u'cellphone', u'census', u'century', u'cerberus', u'certain', u'certainly', u'chain', u'chair', u'chairman', u'challenge', u'chance', u'change', u'changed', u'charge', u'charged', u'check', u'chest', u'chief', u'child', u'chose', u'christian', u'christina', u'christmas', u'citizen', u'civil', u'civilian', u'claim', u'class', u'classmate', u'classroom', u'clear', u'clearly', u'clerk', u'clicking', u'clip', u'close', u'closed', u'clue', u'cnn', u'col', u'colleague', u'colo', u'colonel', u'com', u'combat', u'come', u'coming', u'command', u'commander', u'comment', u'commission', u'commit', u'committed', u'committee', u'common', u'complained', u'complaint', u'complex', u'concealed', u'concern', u'concerned', u'condition', u'condolence', u'conduct', u'conducted', u'confederate', u'conference', u'confirmed', u'congregation', u'congress', u'congressional', u'conn', u'connection', u'conservative', u'consider', u'considered', u'construction', u'contact', u'continue', u'continued', u'control', u'conversation', u'convicted', u'corner', u'cost', u'could', u'counseling', u'counselor', u'count', u'country', u'couple', u'course', u'court', u'cousin', u'cover', u'coverage', u'covered', u'crazy', u'create', u'created', u'crime', u'criminal', u'critical', u'criticism', u'cross', u'crowd', u'crowded', u'cry', u'culture', u'current', u'custody', u'customer', u'cut', u'daily', u'damage', u'dan', u'danger', u'dangerous', u'dark', u'data', u'daughter', u'day', u'dead', u'deadly', u'deal', u'dealer', u'dealing', u'death', u'debate', u'decade', u'decided', u'decision', u'declared', u'declined', u'deep', u'deeply', u'defense', u'degree', u'demand', u'democrat', u'democratic', u'denied', u'depression', u'deputy', u'describe', u'described', u'describing', u'desk', u'despite', u'detail', u'determine', u'determined', u'development', u'device', u'die', u'died', u'difference', u'different', u'difficult', u'directed', u'directly', u'director', u'discus', u'discussion', u'dismissal', u'dismissed', u'disorder', u'dispute', u'disturbed', u'division', u'divorce', u'doctor', u'document', u'dog', u'domestic', u'donald', u'done', u'dormitory', u'dozen', u'draw', u'drawn', u'dressed', u'drew', u'driven', u'driving', u'dropped', u'drove', u'drug', u'duty', u'earlier', u'early', u'easily', u'east', u'easy', u'edge', u'editor', u'education', u'effect', u'effort', u'eight', u'either', u'elected', u'election', u'else', u'elsewhere', u'email', u'emerged', u'emergency', u'emotion', u'emotional', u'employee', u'end', u'ended', u'enemy', u'enforcement', u'engineering', u'england', u'enough', u'enter', u'entered', u'entire', u'entrance', u'episode', u'error', u'escape', u'especially', u'evacuated', u'even', u'evening', u'eventually', u'ever', u'every', u'everybody', u'everyone', u'everything', u'evidence', u'evil', u'example', u'executive', u'expect', u'expected', u'experience', u'expert', u'explain', u'explanation', u'explosive', u'express', u'expressed', u'extremely', u'extremist', u'eye', u'face', u'facebook', u'facility', u'fact', u'factor', u'faculty', u'failed', u'fair', u'faith', u'fall', u'familiar', u'fan', u'far', u'fast', u'fatally', u'father', u'fear', u'feel', u'feeling', u'fell', u'fellow', u'felt', u'female', u'field', u'fighting', u'figure', u'file', u'filed', u'filled', u'film', u'final', u'finally', u'financial', u'find', u'finding', u'fire', u'firearm', u'fired', u'firing', u'first', u'fit', u'five', u'flag', u'fled', u'floor', u'flower', u'focus', u'focused', u'follow', u'followed', u'following', u'food', u'foot', u'forced', u'foreign', u'form', u'former', u'forward', u'found', u'four', u'free', u'freedom', u'frequently', u'freshman', u'friend', u'front', u'full', u'fully', u'fund', u'funeral', u'future', u'gabrielle', u'gathered', u'gathering', u'gave', u'gen', u'general', u'getting', u'girl', u'girlfriend', u'give', u'given', u'giving', u'glass', u'glock', u'go', u'going', u'gone', u'good', u'gov', u'government', u'governor', u'grade', u'graduate', u'graduated', u'grandfather', u'grandmother', u'greater', u'grew', u'grief', u'grievance', u'ground', u'growing', u'grown', u'guard', u'guilty', u'gun', u'gunfire', u'gunshot', u'hair', u'haley', u'half', u'hallway', u'hand', u'handgun', u'handle', u'happen', u'happened', u'happening', u'happens', u'hard', u'harder', u'harm', u'hate', u'hatred', u'head', u'hear', u'heard', u'hearing', u'heart', u'heavily', u'heavy', u'held', u'help', u'helped', u'helping', u'hero', u'hiding', u'higher', u'history', u'hit', u'hold', u'holding', u'holiday', u'homeland', u'homicide', u'honor', u'hope', u'hoped', u'horrible', u'horrific', u'horror', u'hospitalized', u'host', u'hostage', u'hour', u'however', u'http', u'human', u'hundred', u'hunting', u'hurt', u'husband', u'idea', u'identified', u'identify', u'identity', u'ill', u'illegal', u'illness', u'image', u'imagine', u'immediate', u'immediately', u'immigrant', u'impact', u'important', u'incident', u'include', u'included', u'includes', u'including', u'increase', u'increased', u'increasingly', u'indeed', u'independent', u'india', u'indian', u'indicated', u'indication', u'individual', u'influence', u'information', u'initial', u'initially', u'injured', u'injury', u'innocent', u'inside', u'instance', u'instead', u'institute', u'institution', u'intelligence', u'intended', u'interest', u'internet', u'interviewed', u'invalid', u'investigating', u'investigation', u'investigator', u'involving', u'iraq', u'islam', u'islamic', u'issue', u'issued', u'jack', u'jail', u'jeff', u'jim', u'job', u'joe', u'join', u'joined', u'journal', u'journalist', u'judge', u'justice', u'juvenile', u'keep', u'keeping', u'kelly', u'kept', u'kid', u'kill', u'killed', u'killer', u'kind', u'knew', u'knife', u'knight', u'know', u'known', u'lack', u'lane', u'language', u'large', u'largely', u'larger', u'largest', u'last', u'late', u'later', u'latest', u'lawmaker', u'lawyer', u'le', u'lead', u'leader', u'leading', u'learn', u'learned', u'least', u'leave', u'leaving', u'led', u'left', u'leg', u'legal', u'legally', u'legislation', u'legislature', u'lesson', u'let', u'letter', u'level', u'liberal', u'library', u'license', u'lieutenant', u'light', u'like', u'liked', u'likely', u'limit', u'line', u'link', u'list', u'listed', u'lived', u'lobby', u'local', u'location', u'lock', u'lockdown', u'locked', u'loner', u'longer', u'longtime', u'look', u'looked', u'looking', u'loss', u'lost', u'love', u'loved', u'low', u'lunch', u'machine', u'made', u'magazine', u'mail', u'main', u'maj', u'major', u'majority', u'make', u'making', u'male', u'man', u'management', u'manager', u'manifesto', u'many', u'marine', u'market', u'marriage', u'married', u'mary', u'mass', u'massacre', u'material', u'matter', u'maybe', u'mayor', u'mccarthy', u'mean', u'meaning', u'meant', u'meanwhile', u'measure', u'medical', u'medium', u'meet', u'member', u'memorial', u'memory', u'men', u'mental', u'mentally', u'mentioned', u'message', u'met', u'metal', u'midnight', u'might', u'mike', u'mile', u'military', u'millimeter', u'million', u'mind', u'minister', u'minority', u'minute', u'miss', u'model', u'moment', u'money', u'month', u'morning', u'mosque', u'mostly', u'motif', u'motivated', u'motive', u'mourner', u'mourning', u'move', u'moved', u'movement', u'moving', u'mr', u'much', u'multiple', u'munley', u'murderer', u'music', u'muslim', u'must', u'name', u'named', u'nation', u'national', u'native', u'nature', u'nazi', u'nbc', u'nearby', u'nearly', u'need', u'needed', u'neighbor', u'neighborhood', u'neither', u'network', u'never', u'news', u'newsletter', u'newspaper', u'next', u'nice', u'night', u'nine', u'nobody', u'none', u'norfolk', u'normal', u'note', u'noted', u'nothing', u'noticed', u'number', u'obama', u'obtained', u'obviously', u'occasional', u'occurred', u'offer', u'offered', u'offering', u'officer', u'official', u'often', u'old', u'older', u'online', u'onto', u'open', u'opened', u'opening', u'operation', u'opinion', u'opponent', u'opportunity', u'option', u'order', u'ordered', u'organization', u'outside', u'owned', u'owner', u'ownership', u'paid', u'pain', u'pakistan', u'palin', u'paper', u'parent', u'parenthood', u'paris', u'part', u'particular', u'particularly', u'pas', u'passed', u'passenger', u'past', u'pastor', u'patient', u'patrol', u'pattern', u'pay', u'peace', u'penalty', u'people', u'percent', u'perhaps', u'period', u'permit', u'person', u'personal', u'personnel', u'phone', u'photo', u'photograph', u'physical', u'pick', u'picked', u'pickup', u'picture', u'piece', u'pima', u'pinckney', u'pistol', u'place', u'placed', u'plan', u'planned', u'planning', u'plant', u'play', u'played', u'player', u'playing', u'please', u'pointed', u'policy', u'political', u'politician', u'politics', u'poll', u'pop', u'popular', u'population', u'position', u'possession', u'possibility', u'possible', u'postal', u'posted', u'posting', u'potential', u'power', u'practice', u'pray', u'prayer', u'prepared', u'preparing', u'presence', u'present', u'president', u'presidential', u'press', u'pressure', u'pretty', u'prevent', u'prevented', u'previous', u'principal', u'prison', u'private', u'probably', u'problem', u'procedure', u'process', u'product', u'professional', u'professor', u'profile', u'program', u'project', u'prompted', u'property', u'proposal', u'prosecutor', u'protect', u'protection', u'protest', u'proud', u'provide', u'provided', u'psychiatric', u'psychiatrist', u'psychological', u'psychologist', u'public', u'published', u'pull', u'pulled', u'purchase', u'purchased', u'purpose', u'push', u'pushed', u'put', u'question', u'quickly', u'quiet', u'quite', u'quoted', u'race', u'racial', u'racism', u'racist', u'radio', u'rage', u'raise', u'raised', u'rampage', u'ran', u'range', u'rarely', u'rate', u'rather', u'reach', u'reached', u'reaction', u'read', u'reader', u'reading', u'ready', u'real', u'reality', u'really', u'reason', u'recalled', u'receive', u'received', u'recent', u'recently', u'record', u'recovered', u'recruiting', u'referring', u'refugee', u'refused', u'region', u'registered', u'regular', u'regulation', u'related', u'relation', u'relationship', u'relative', u'release', u'released', u'religion', u'religious', u'remain', u'remained', u'remains', u'remark', u'remember', u'remembered', u'removed', u'report', u'reported', u'reporter', u'reporting', u'representative', u'represents', u'republican', u'request', u'require', u'rescue', u'research', u'reservation', u'resident', u'resource', u'respect', u'respond', u'responded', u'responding', u'response', u'responsibility', u'responsible', u'rest', u'restriction', u'result', u'retired', u'return', u'returned', u'returning', u'rev', u'review', u'revolver', u'rhetoric', u'rifle', u'right', u'rise', u'risk', u'robot', u'rodger', u'role', u'roll', u'romney', u'roommate', u'round', u'routine', u'rule', u'run', u'running', u'rural', u'rush', u'rushed', u'sad', u'safe', u'safety', u'sale', u'sander', u'sarah', u'sat', u'saudi', u'saved', u'saw', u'say', u'saying', u'scene', u'scheduled', u'science', u'screaming', u'search', u'searched', u'searching', u'seat', u'secretary', u'section', u'security', u'see', u'seeing', u'seek', u'seeking', u'seem', u'seemed', u'seems', u'seen', u'select', u'self', u'sell', u'semiautomatic', u'senate', u'senator', u'send', u'sending', u'senior', u'sense', u'senseless', u'sent', u'separate', u'sept', u'sergeant', u'series', u'serious', u'seriously', u'serve', u'served', u'service', u'session', u'set', u'setting', u'seven', u'several', u'sgt', u'share', u'shared', u'shell', u'sheriff', u'shift', u'shirt', u'shock', u'shocked', u'shoot', u'shortly', u'shot', u'shotgun', u'shoulder', u'showed', u'showing', u'shut', u'side', u'sign', u'signed', u'silence', u'similar', u'simple', u'simply', u'since', u'singh', u'single', u'sister', u'site', u'sitting', u'situation', u'six', u'slain', u'small', u'social', u'society', u'soldier', u'solution', u'somebody', u'someone', u'something', u'sometimes', u'son', u'soon', u'sophomore', u'sort', u'sought', u'soul', u'sound', u'source', u'space', u'speak', u'speaker', u'speaking', u'special', u'specialist', u'specific', u'speech', u'spent', u'spoke', u'spoken', u'spokesman', u'spokeswoman', u'sport', u'spread', u'stable', u'staff', u'stage', u'stand', u'standing', u'star', u'start', u'started', u'statement', u'stay', u'stayed', u'step', u'steve', u'still', u'stood', u'stop', u'stopped', u'store', u'story', u'stress', u'stricter', u'strong', u'struck', u'struggle', u'struggled', u'struggling', u'student', u'study', u'stunned', u'style', u'subject', u'subscribe', u'subscribing', u'suburb', u'suburban', u'suffered', u'suggest', u'suggested', u'summer', u'superintendent', u'support', u'supporter', u'supposed', u'supremacist', u'sure', u'surgery', u'surrounded', u'survived', u'survivor', u'suspect', u'suspected', u'swat', u'symbol', u'sympathy', u'system', u'table', u'take', u'taken', u'taking', u'talk', u'talked', u'talking', u'tape', u'target', u'task', u'taught', u'tea', u'teacher', u'teaching', u'team', u'tear', u'teenager', u'telephone', u'television', u'tell', u'telling', u'term', u'terrible', u'terror', u'terrorism', u'terrorist', u'test', u'tex', u'text', u'thai', u'thank', u'thing', u'think', u'thinking', u'third', u'though', u'thousand', u'threat', u'threatened', u'threatening', u'three', u'throughout', u'thursday', u'tie', u'time', u'today', u'together', u'told', u'toll', u'tom', u'tonight', u'took', u'top', u'topic', u'total', u'tough', u'toward', u'track', u'tragedy', u'tragic', u'trained', u'trauma', u'traumatic', u'travel', u'treated', u'treatment', u'tree', u'trial', u'tried', u'trip', u'trouble', u'troubled', u'truck', u'true', u'trump', u'try', u'trying', u'turn', u'turned', u'turning', u'twice', u'twitter', u'type', u'typical', u'unable', u'uncle', u'unclear', u'understand', u'understands', u'uniform', u'unit', u'united', u'unusual', u'update', u'upon', u'upset', u'urban', u'urged', u'use', u'used', u'using', u'usual', u'usually', u'various', u'vehicle', u'verify', u'version', u'veteran', u'vice', u'victim', u'view', u'vigil', u'violence', u'violent', u'visit', u'visited', u'voice', u'vote', u'voter', u'waiting', u'wake', u'walk', u'walked', u'walking', u'wall', u'want', u'wanted', u'war', u'ward', u'warner', u'warning', u'watch', u'watched', u'watching', u'weapon', u'wearing', u'web', u'website', u'week', u'weekend', u'well', u'went', u'whatever', u'white', u'whole', u'wife', u'window', u'wing', u'wish', u'within', u'witness', u'woman', u'word', u'wore', u'work', u'worked', u'worker', u'working', u'workplace', u'world', u'worried', u'worry', u'worst', u'would', u'wound', u'wounded', u'wounding', u'write', u'writer', u'writes', u'writing', u'written', u'wrong', u'wrote', u'year', u'yellow', u'yes', u'yesterday', u'yet', u'young', u'younger']\n"
     ]
    }
   ],
   "source": [
    "#get names of vectorized words\n",
    "vocab=vectorizer.get_feature_names()\n",
    "print vocab"
   ]
  },
  {
   "cell_type": "code",
   "execution_count": 36,
   "metadata": {},
   "outputs": [
    {
     "data": {
      "text/html": [
       "<div>\n",
       "<style>\n",
       "    .dataframe thead tr:only-child th {\n",
       "        text-align: right;\n",
       "    }\n",
       "\n",
       "    .dataframe thead th {\n",
       "        text-align: left;\n",
       "    }\n",
       "\n",
       "    .dataframe tbody tr th {\n",
       "        vertical-align: top;\n",
       "    }\n",
       "</style>\n",
       "<table border=\"1\" class=\"dataframe\">\n",
       "  <thead>\n",
       "    <tr style=\"text-align: right;\">\n",
       "      <th></th>\n",
       "      <th>abc</th>\n",
       "      <th>ability</th>\n",
       "      <th>able</th>\n",
       "      <th>academic</th>\n",
       "      <th>access</th>\n",
       "      <th>according</th>\n",
       "      <th>account</th>\n",
       "      <th>accused</th>\n",
       "      <th>acknowledged</th>\n",
       "      <th>across</th>\n",
       "      <th>...</th>\n",
       "      <th>written</th>\n",
       "      <th>wrong</th>\n",
       "      <th>wrote</th>\n",
       "      <th>year</th>\n",
       "      <th>yellow</th>\n",
       "      <th>yes</th>\n",
       "      <th>yesterday</th>\n",
       "      <th>yet</th>\n",
       "      <th>young</th>\n",
       "      <th>younger</th>\n",
       "    </tr>\n",
       "  </thead>\n",
       "  <tbody>\n",
       "    <tr>\n",
       "      <th>0</th>\n",
       "      <td>0</td>\n",
       "      <td>0</td>\n",
       "      <td>1</td>\n",
       "      <td>0</td>\n",
       "      <td>0</td>\n",
       "      <td>0</td>\n",
       "      <td>0</td>\n",
       "      <td>0</td>\n",
       "      <td>0</td>\n",
       "      <td>0</td>\n",
       "      <td>...</td>\n",
       "      <td>1</td>\n",
       "      <td>0</td>\n",
       "      <td>0</td>\n",
       "      <td>7</td>\n",
       "      <td>0</td>\n",
       "      <td>0</td>\n",
       "      <td>1</td>\n",
       "      <td>0</td>\n",
       "      <td>4</td>\n",
       "      <td>1</td>\n",
       "    </tr>\n",
       "    <tr>\n",
       "      <th>1</th>\n",
       "      <td>0</td>\n",
       "      <td>0</td>\n",
       "      <td>0</td>\n",
       "      <td>1</td>\n",
       "      <td>1</td>\n",
       "      <td>2</td>\n",
       "      <td>1</td>\n",
       "      <td>0</td>\n",
       "      <td>0</td>\n",
       "      <td>0</td>\n",
       "      <td>...</td>\n",
       "      <td>0</td>\n",
       "      <td>0</td>\n",
       "      <td>0</td>\n",
       "      <td>4</td>\n",
       "      <td>0</td>\n",
       "      <td>0</td>\n",
       "      <td>0</td>\n",
       "      <td>0</td>\n",
       "      <td>3</td>\n",
       "      <td>0</td>\n",
       "    </tr>\n",
       "    <tr>\n",
       "      <th>2</th>\n",
       "      <td>0</td>\n",
       "      <td>0</td>\n",
       "      <td>0</td>\n",
       "      <td>0</td>\n",
       "      <td>0</td>\n",
       "      <td>0</td>\n",
       "      <td>0</td>\n",
       "      <td>0</td>\n",
       "      <td>0</td>\n",
       "      <td>0</td>\n",
       "      <td>...</td>\n",
       "      <td>0</td>\n",
       "      <td>0</td>\n",
       "      <td>0</td>\n",
       "      <td>0</td>\n",
       "      <td>0</td>\n",
       "      <td>0</td>\n",
       "      <td>0</td>\n",
       "      <td>0</td>\n",
       "      <td>0</td>\n",
       "      <td>0</td>\n",
       "    </tr>\n",
       "    <tr>\n",
       "      <th>3</th>\n",
       "      <td>0</td>\n",
       "      <td>0</td>\n",
       "      <td>0</td>\n",
       "      <td>0</td>\n",
       "      <td>0</td>\n",
       "      <td>1</td>\n",
       "      <td>0</td>\n",
       "      <td>0</td>\n",
       "      <td>0</td>\n",
       "      <td>0</td>\n",
       "      <td>...</td>\n",
       "      <td>0</td>\n",
       "      <td>0</td>\n",
       "      <td>0</td>\n",
       "      <td>0</td>\n",
       "      <td>0</td>\n",
       "      <td>0</td>\n",
       "      <td>0</td>\n",
       "      <td>0</td>\n",
       "      <td>0</td>\n",
       "      <td>0</td>\n",
       "    </tr>\n",
       "    <tr>\n",
       "      <th>4</th>\n",
       "      <td>0</td>\n",
       "      <td>0</td>\n",
       "      <td>0</td>\n",
       "      <td>0</td>\n",
       "      <td>0</td>\n",
       "      <td>0</td>\n",
       "      <td>0</td>\n",
       "      <td>0</td>\n",
       "      <td>0</td>\n",
       "      <td>1</td>\n",
       "      <td>...</td>\n",
       "      <td>0</td>\n",
       "      <td>0</td>\n",
       "      <td>0</td>\n",
       "      <td>2</td>\n",
       "      <td>0</td>\n",
       "      <td>0</td>\n",
       "      <td>1</td>\n",
       "      <td>0</td>\n",
       "      <td>0</td>\n",
       "      <td>0</td>\n",
       "    </tr>\n",
       "  </tbody>\n",
       "</table>\n",
       "<p>5 rows × 1500 columns</p>\n",
       "</div>"
      ],
      "text/plain": [
       "   abc  ability  able  academic  access  according  account  accused  \\\n",
       "0    0        0     1         0       0          0        0        0   \n",
       "1    0        0     0         1       1          2        1        0   \n",
       "2    0        0     0         0       0          0        0        0   \n",
       "3    0        0     0         0       0          1        0        0   \n",
       "4    0        0     0         0       0          0        0        0   \n",
       "\n",
       "   acknowledged  across   ...     written  wrong  wrote  year  yellow  yes  \\\n",
       "0             0       0   ...           1      0      0     7       0    0   \n",
       "1             0       0   ...           0      0      0     4       0    0   \n",
       "2             0       0   ...           0      0      0     0       0    0   \n",
       "3             0       0   ...           0      0      0     0       0    0   \n",
       "4             0       1   ...           0      0      0     2       0    0   \n",
       "\n",
       "   yesterday  yet  young  younger  \n",
       "0          1    0      4        1  \n",
       "1          0    0      3        0  \n",
       "2          0    0      0        0  \n",
       "3          0    0      0        0  \n",
       "4          1    0      0        0  \n",
       "\n",
       "[5 rows x 1500 columns]"
      ]
     },
     "execution_count": 36,
     "metadata": {},
     "output_type": "execute_result"
    }
   ],
   "source": [
    "#create dataframe\n",
    "vocab2=pd.DataFrame(data_features, columns=vocab)\n",
    "vocab2.head()"
   ]
  },
  {
   "cell_type": "code",
   "execution_count": 37,
   "metadata": {},
   "outputs": [
    {
     "data": {
      "text/html": [
       "<div>\n",
       "<style>\n",
       "    .dataframe thead tr:only-child th {\n",
       "        text-align: right;\n",
       "    }\n",
       "\n",
       "    .dataframe thead th {\n",
       "        text-align: left;\n",
       "    }\n",
       "\n",
       "    .dataframe tbody tr th {\n",
       "        vertical-align: top;\n",
       "    }\n",
       "</style>\n",
       "<table border=\"1\" class=\"dataframe\">\n",
       "  <thead>\n",
       "    <tr style=\"text-align: right;\">\n",
       "      <th></th>\n",
       "      <th>Incident Name</th>\n",
       "      <th>Title</th>\n",
       "      <th>Article</th>\n",
       "      <th>Shooter Race</th>\n",
       "      <th>abc</th>\n",
       "      <th>ability</th>\n",
       "      <th>able</th>\n",
       "      <th>academic</th>\n",
       "      <th>access</th>\n",
       "      <th>according</th>\n",
       "      <th>...</th>\n",
       "      <th>written</th>\n",
       "      <th>wrong</th>\n",
       "      <th>wrote</th>\n",
       "      <th>year</th>\n",
       "      <th>yellow</th>\n",
       "      <th>yes</th>\n",
       "      <th>yesterday</th>\n",
       "      <th>yet</th>\n",
       "      <th>young</th>\n",
       "      <th>younger</th>\n",
       "    </tr>\n",
       "  </thead>\n",
       "  <tbody>\n",
       "    <tr>\n",
       "      <th>0</th>\n",
       "      <td>Olean High School</td>\n",
       "      <td>sniper classmate say gun whole</td>\n",
       "      <td>attack stunned entire year six armed robbery o...</td>\n",
       "      <td>White</td>\n",
       "      <td>0</td>\n",
       "      <td>0</td>\n",
       "      <td>1</td>\n",
       "      <td>0</td>\n",
       "      <td>0</td>\n",
       "      <td>0</td>\n",
       "      <td>...</td>\n",
       "      <td>1</td>\n",
       "      <td>0</td>\n",
       "      <td>0</td>\n",
       "      <td>7</td>\n",
       "      <td>0</td>\n",
       "      <td>0</td>\n",
       "      <td>1</td>\n",
       "      <td>0</td>\n",
       "      <td>4</td>\n",
       "      <td>1</td>\n",
       "    </tr>\n",
       "    <tr>\n",
       "      <th>1</th>\n",
       "      <td>Olean High School</td>\n",
       "      <td>killed wounded upstate sniper</td>\n",
       "      <td>charged three count last night scheduled arrai...</td>\n",
       "      <td>White</td>\n",
       "      <td>0</td>\n",
       "      <td>0</td>\n",
       "      <td>0</td>\n",
       "      <td>1</td>\n",
       "      <td>1</td>\n",
       "      <td>2</td>\n",
       "      <td>...</td>\n",
       "      <td>0</td>\n",
       "      <td>0</td>\n",
       "      <td>0</td>\n",
       "      <td>4</td>\n",
       "      <td>0</td>\n",
       "      <td>0</td>\n",
       "      <td>0</td>\n",
       "      <td>0</td>\n",
       "      <td>3</td>\n",
       "      <td>0</td>\n",
       "    </tr>\n",
       "    <tr>\n",
       "      <th>2</th>\n",
       "      <td>Grover Cleveland Elementary School</td>\n",
       "      <td>girl slays rifle wound ground</td>\n",
       "      <td>special weapon tactic officer surrounded girl ...</td>\n",
       "      <td>White</td>\n",
       "      <td>0</td>\n",
       "      <td>0</td>\n",
       "      <td>0</td>\n",
       "      <td>0</td>\n",
       "      <td>0</td>\n",
       "      <td>0</td>\n",
       "      <td>...</td>\n",
       "      <td>0</td>\n",
       "      <td>0</td>\n",
       "      <td>0</td>\n",
       "      <td>0</td>\n",
       "      <td>0</td>\n",
       "      <td>0</td>\n",
       "      <td>0</td>\n",
       "      <td>0</td>\n",
       "      <td>0</td>\n",
       "      <td>0</td>\n",
       "    </tr>\n",
       "    <tr>\n",
       "      <th>3</th>\n",
       "      <td>Grover Cleveland Elementary School</td>\n",
       "      <td>tomboy gun enthusiast</td>\n",
       "      <td>classmate described today tomboy gun enthusias...</td>\n",
       "      <td>White</td>\n",
       "      <td>0</td>\n",
       "      <td>0</td>\n",
       "      <td>0</td>\n",
       "      <td>0</td>\n",
       "      <td>0</td>\n",
       "      <td>1</td>\n",
       "      <td>...</td>\n",
       "      <td>0</td>\n",
       "      <td>0</td>\n",
       "      <td>0</td>\n",
       "      <td>0</td>\n",
       "      <td>0</td>\n",
       "      <td>0</td>\n",
       "      <td>0</td>\n",
       "      <td>0</td>\n",
       "      <td>0</td>\n",
       "      <td>0</td>\n",
       "    </tr>\n",
       "    <tr>\n",
       "      <th>4</th>\n",
       "      <td>Grover Cleveland Elementary School</td>\n",
       "      <td>coast sniper vowed would something big</td>\n",
       "      <td>wally eye morning looked driveway child arrivi...</td>\n",
       "      <td>White</td>\n",
       "      <td>0</td>\n",
       "      <td>0</td>\n",
       "      <td>0</td>\n",
       "      <td>0</td>\n",
       "      <td>0</td>\n",
       "      <td>0</td>\n",
       "      <td>...</td>\n",
       "      <td>0</td>\n",
       "      <td>0</td>\n",
       "      <td>0</td>\n",
       "      <td>2</td>\n",
       "      <td>0</td>\n",
       "      <td>0</td>\n",
       "      <td>1</td>\n",
       "      <td>0</td>\n",
       "      <td>0</td>\n",
       "      <td>0</td>\n",
       "    </tr>\n",
       "  </tbody>\n",
       "</table>\n",
       "<p>5 rows × 1504 columns</p>\n",
       "</div>"
      ],
      "text/plain": [
       "                        Incident Name                                   Title  \\\n",
       "0                   Olean High School          sniper classmate say gun whole   \n",
       "1                   Olean High School           killed wounded upstate sniper   \n",
       "2  Grover Cleveland Elementary School           girl slays rifle wound ground   \n",
       "3  Grover Cleveland Elementary School                   tomboy gun enthusiast   \n",
       "4  Grover Cleveland Elementary School  coast sniper vowed would something big   \n",
       "\n",
       "                                             Article Shooter Race  abc  \\\n",
       "0  attack stunned entire year six armed robbery o...        White    0   \n",
       "1  charged three count last night scheduled arrai...        White    0   \n",
       "2  special weapon tactic officer surrounded girl ...        White    0   \n",
       "3  classmate described today tomboy gun enthusias...        White    0   \n",
       "4  wally eye morning looked driveway child arrivi...        White    0   \n",
       "\n",
       "   ability  able  academic  access  according   ...     written  wrong  wrote  \\\n",
       "0        0     1         0       0          0   ...           1      0      0   \n",
       "1        0     0         1       1          2   ...           0      0      0   \n",
       "2        0     0         0       0          0   ...           0      0      0   \n",
       "3        0     0         0       0          1   ...           0      0      0   \n",
       "4        0     0         0       0          0   ...           0      0      0   \n",
       "\n",
       "   year  yellow  yes  yesterday  yet  young  younger  \n",
       "0     7       0    0          1    0      4        1  \n",
       "1     4       0    0          0    0      3        0  \n",
       "2     0       0    0          0    0      0        0  \n",
       "3     0       0    0          0    0      0        0  \n",
       "4     2       0    0          1    0      0        0  \n",
       "\n",
       "[5 rows x 1504 columns]"
      ]
     },
     "execution_count": 37,
     "metadata": {},
     "output_type": "execute_result"
    }
   ],
   "source": [
    "#merge original dataframe with vectorized one\n",
    "largedf=NYT.merge(vocab2, left_index=True  ,right_index=True, how='inner')\n",
    "#renaming \"fit\" feature as sometimes .fit() for models and the feature are confused.\n",
    "largedf = largedf.rename(columns = {'fit': 'fit_feature'})\n",
    "largedf.head()"
   ]
  },
  {
   "cell_type": "code",
   "execution_count": 38,
   "metadata": {
    "collapsed": true
   },
   "outputs": [],
   "source": [
    "#Genearting T/F columns according to each race\n",
    "largedf['White'] = largedf['Shooter Race'] == \"White\"\n",
    "largedf['Asian'] = largedf['Shooter Race'] == \"Asian\"\n",
    "largedf['Latin American'] = largedf['Shooter Race'] == \"Latin American\"\n",
    "largedf['African American'] = largedf['Shooter Race'] == \"African American\"\n",
    "largedf['Native American or Alaska Native'] = largedf['Shooter Race'] == \"Native American or Alaska Native\""
   ]
  },
  {
   "cell_type": "code",
   "execution_count": 39,
   "metadata": {
    "collapsed": true
   },
   "outputs": [],
   "source": [
    "#Convert to Integers(1 if True, 0 if False)\n",
    "largedf['White'] =largedf['White'].astype(int)\n",
    "largedf['African American'] =largedf['African American'].astype(int)\n",
    "largedf['Asian']=largedf['Asian'].astype(int)\n",
    "largedf['Latin American']=largedf['Latin American'].astype(int)\n",
    "largedf['Native American or Alaska Native']=largedf['Native American or Alaska Native'].astype(int)"
   ]
  },
  {
   "cell_type": "markdown",
   "metadata": {},
   "source": [
    "### Using SKlearn Logisitic Regression to Find Words with Zero Influence(Coefficents of Zero)"
   ]
  },
  {
   "cell_type": "code",
   "execution_count": null,
   "metadata": {
    "collapsed": true
   },
   "outputs": [],
   "source": [
    "from sklearn import linear_model\n",
    "from sklearn.linear_model import LogisticRegression"
   ]
  },
  {
   "cell_type": "code",
   "execution_count": null,
   "metadata": {
    "collapsed": true
   },
   "outputs": [],
   "source": [
    "X = largedf.loc[:,'abc':'year'] #Article Words \n",
    "y = largedf['Shooter Race'] # \n",
    "#train/test split\n",
    "X_train, X_test, y_train, y_test = train_test_split(X, y, train_size = 0.3)\n",
    "print X_train.shape, y_train.shape\n",
    "print X_test.shape, y_test.shape"
   ]
  },
  {
   "cell_type": "code",
   "execution_count": null,
   "metadata": {
    "collapsed": true
   },
   "outputs": [],
   "source": [
    "#Running and fitting model\n",
    "lm=linear_model.LogisticRegression(fit_intercept=True, penalty='l1')\n",
    "lm.fit(X_train,y_train)\n",
    "lm.score(X_test,y_test)\n",
    "evaluate_model(lm)"
   ]
  },
  {
   "cell_type": "code",
   "execution_count": null,
   "metadata": {
    "collapsed": true
   },
   "outputs": [],
   "source": [
    "#zipping words from X_train to correlating coefficients\n",
    "zipped1 = zip(X_train.columns, lm.coef_[0])\n",
    "zipped2 = zip(X_train.columns, lm.coef_[1])\n",
    "zipped3 = zip(X_train.columns, lm.coef_[2])\n",
    "zipped4 = zip(X_train.columns, lm.coef_[3])\n",
    "zipped5 = zip(X_train.columns, lm.coef_[4])\n",
    "zipped6 = zip(X_train.columns, lm.coef_[5])"
   ]
  },
  {
   "cell_type": "code",
   "execution_count": null,
   "metadata": {
    "collapsed": true
   },
   "outputs": [],
   "source": [
    "#Finding out classes(i.e. races of each coef)\n",
    "lm.classes_"
   ]
  },
  {
   "cell_type": "code",
   "execution_count": null,
   "metadata": {
    "collapsed": true
   },
   "outputs": [],
   "source": [
    "#renaming columns to know which is which\n",
    "zip1=pd.DataFrame(zipped1, columns=['African American Word', 'African American Coefficient'])\n",
    "zip2=pd.DataFrame(zipped2,columns=['Asian Word', 'Asian Coefficient'])\n",
    "zip3=pd.DataFrame(zipped3,columns=['Latin Word', 'Latin Coefficient'])\n",
    "zip4=pd.DataFrame(zipped4,columns=['Native American or Alaska Native Word', 'Native American or Alaska Native Coefficient'])\n",
    "zip5=pd.DataFrame(zipped5,columns=['Two or More Word', 'Two or More Coefficient'])\n",
    "zip6=pd.DataFrame(zipped6,columns=['White-Word', 'White-Coefficient'])\n"
   ]
  },
  {
   "cell_type": "code",
   "execution_count": null,
   "metadata": {
    "collapsed": true
   },
   "outputs": [],
   "source": [
    "#Merging all Dfs into one\n",
    "zip12=zip1.merge(zip2, left_index=True  ,right_index=True, how='inner')\n",
    "zip123=zip12.merge(zip3,left_index=True  ,right_index=True, how='inner')\n",
    "zip1234=zip123.merge(zip4,left_index=True  ,right_index=True, how='inner')\n",
    "zip12345=zip1234.merge(zip5,left_index=True  ,right_index=True, how='inner')\n",
    "WordCoefP=zip12345.merge(zip6,left_index=True  ,right_index=True, how='inner')\n",
    "WordCoefP"
   ]
  },
  {
   "cell_type": "code",
   "execution_count": null,
   "metadata": {
    "collapsed": true
   },
   "outputs": [],
   "source": [
    "#Zero Coefficient Columns and Renaming word for merge below\n",
    "AAzeros=zip1[zip1['African American Coefficient']==0]\n",
    "Lzeros=zip3[zip3['Latin Coefficient']==0]\n",
    "NAANzeros=zip4[zip4['Native American or Alaska Native Coefficient']==0]\n",
    "NAANzeros=NAANzeros.rename(columns={'Native American or Alaska Native Word':'Word'})\n",
    "Ozero=zip5[zip5['Other Coefficient']==0]\n",
    "Ozero=Ozero.rename(columns={'Other Word':'Word'})\n",
    "TMzero=zip6[zip6['Two or More Coefficient']==0]\n",
    "TMzero=TMzero.rename(columns={'Two or More Word':'Word'})\n",
    "WZero=zip7[zip7['White-Coefficient']==0]\n",
    "WZero=WZero.rename(columns={'White-Word':'Word'})"
   ]
  },
  {
   "cell_type": "code",
   "execution_count": null,
   "metadata": {
    "collapsed": true
   },
   "outputs": [],
   "source": [
    "#merging dataframes on Words\n",
    "AAzeros=AAzeros.rename(columns={'African American Word':'Word'})\n",
    "Lzeros=Lzeros.rename(columns={'Latin Word':'Word'})\n",
    "AAA=AAzeros.merge(Lzeros, left_on='Word'  ,right_on='Word', how='inner')\n",
    "ALN=AAA.merge(NAANzeros, left_on='Word'  ,right_on='Word', how='inner')\n",
    "ALNO=ALN.merge(Ozero, left_on='Word'  ,right_on='Word', how='inner')\n",
    "ALNOT=ALNO.merge(TMzero, left_on='Word'  ,right_on='Word', how='inner')\n",
    "ALNOTW=ALNOT.merge(WZero, left_on='Word'  ,right_on='Word', how='inner')\n",
    "ALNOTW"
   ]
  },
  {
   "cell_type": "code",
   "execution_count": null,
   "metadata": {
    "collapsed": true
   },
   "outputs": [],
   "source": [
    "NoImpactWords=ALNOTW['Word'].tolist()"
   ]
  },
  {
   "cell_type": "code",
   "execution_count": null,
   "metadata": {
    "collapsed": true
   },
   "outputs": [],
   "source": [
    "#dropping word that have a zero coefficent effect on race\n",
    "largedf=largedf.drop(NoImpactWords,axis=1)"
   ]
  },
  {
   "cell_type": "markdown",
   "metadata": {},
   "source": [
    "### Model - Random Forest"
   ]
  },
  {
   "cell_type": "markdown",
   "metadata": {},
   "source": [
    "##### Words vs Race Column"
   ]
  },
  {
   "cell_type": "code",
   "execution_count": 42,
   "metadata": {},
   "outputs": [
    {
     "name": "stdout",
     "output_type": "stream",
     "text": [
      "(308, 1500) (308,)\n",
      "(720, 1500) (720,)\n"
     ]
    }
   ],
   "source": [
    "#train/test split\n",
    "X = largedf.loc[:,'abc':'younger'] \n",
    "y = largedf['Shooter Race']  \n",
    "X_train, X_test, y_train, y_test = train_test_split(X, y, train_size = 0.3)\n",
    "print X_train.shape, y_train.shape\n",
    "print X_test.shape, y_test.shape"
   ]
  },
  {
   "cell_type": "code",
   "execution_count": 43,
   "metadata": {
    "collapsed": true
   },
   "outputs": [],
   "source": [
    "#Evaluate Model Function from General Assembly Lab\n",
    "#fits model, generates accuracy score, confusion matrix, and classification report\n",
    "from sklearn.metrics import accuracy_score, precision_score, recall_score, confusion_matrix, classification_report\n",
    "def evaluate_model(model):\n",
    "    model.fit(X_train, y_train)\n",
    "    y_pred = model.predict(X_test)\n",
    "    \n",
    "    a = accuracy_score(y_test, y_pred)\n",
    "    \n",
    "    cm = confusion_matrix(y_test, y_pred)\n",
    "    cr = classification_report(y_test, y_pred)\n",
    "    \n",
    "    print cm\n",
    "    print cr\n",
    "    return a"
   ]
  },
  {
   "cell_type": "code",
   "execution_count": 44,
   "metadata": {},
   "outputs": [
    {
     "name": "stdout",
     "output_type": "stream",
     "text": [
      "[[  0   0   0   0  84]\n",
      " [  0   6   0   0 100]\n",
      " [  0   0   0   0  12]\n",
      " [  0   0   0   0  10]\n",
      " [  0   0   0   0 508]]\n",
      "                                  precision    recall  f1-score   support\n",
      "\n",
      "                African American       0.00      0.00      0.00        84\n",
      "                           Asian       1.00      0.06      0.11       106\n",
      "                  Latin American       0.00      0.00      0.00        12\n",
      "Native American or Alaska Native       0.00      0.00      0.00        10\n",
      "                           White       0.71      1.00      0.83       508\n",
      "\n",
      "                     avg / total       0.65      0.71      0.60       720\n",
      "\n"
     ]
    },
    {
     "name": "stderr",
     "output_type": "stream",
     "text": [
      "/Users/ThomasPLapinger/anaconda/lib/python2.7/site-packages/sklearn/metrics/classification.py:1113: UndefinedMetricWarning: Precision and F-score are ill-defined and being set to 0.0 in labels with no predicted samples.\n",
      "  'precision', 'predicted', average, warn_for)\n"
     ]
    },
    {
     "data": {
      "text/plain": [
       "0.71388888888888891"
      ]
     },
     "execution_count": 44,
     "metadata": {},
     "output_type": "execute_result"
    }
   ],
   "source": [
    "#generate and fit random forest classifier model\n",
    "rf = RandomForestClassifier(min_samples_split=2, n_estimators=100, criterion='gini', \n",
    "                            max_depth=10, class_weight=None,random_state=86)\n",
    "evaluate_model(rf)"
   ]
  },
  {
   "cell_type": "code",
   "execution_count": 61,
   "metadata": {
    "scrolled": true
   },
   "outputs": [
    {
     "name": "stderr",
     "output_type": "stream",
     "text": [
      "/Users/ThomasPLapinger/anaconda/lib/python2.7/site-packages/sklearn/cross_validation.py:44: DeprecationWarning: This module was deprecated in version 0.18 in favor of the model_selection module into which all the refactored classes and functions are moved. Also note that the interface of the new CV iterators are different from that of this module. This module will be removed in 0.20.\n",
      "  \"This module will be removed in 0.20.\", DeprecationWarning)\n",
      "/Users/ThomasPLapinger/anaconda/lib/python2.7/site-packages/sklearn/grid_search.py:43: DeprecationWarning: This module was deprecated in version 0.18 in favor of the model_selection module into which all the refactored classes and functions are moved. This module will be removed in 0.20.\n",
      "  DeprecationWarning)\n"
     ]
    },
    {
     "ename": "KeyboardInterrupt",
     "evalue": "",
     "output_type": "error",
     "traceback": [
      "\u001b[0;31m---------------------------------------------------------------------------\u001b[0m",
      "\u001b[0;31mKeyboardInterrupt\u001b[0m                         Traceback (most recent call last)",
      "\u001b[0;32m<ipython-input-61-2c802a532842>\u001b[0m in \u001b[0;36m<module>\u001b[0;34m()\u001b[0m\n\u001b[1;32m      8\u001b[0m \u001b[0;34m\u001b[0m\u001b[0m\n\u001b[1;32m      9\u001b[0m \u001b[0mgsrf\u001b[0m \u001b[0;34m=\u001b[0m \u001b[0mGridSearchCV\u001b[0m\u001b[0;34m(\u001b[0m\u001b[0mrf\u001b[0m\u001b[0;34m,\u001b[0m \u001b[0mparams\u001b[0m\u001b[0;34m,\u001b[0m \u001b[0mn_jobs\u001b[0m\u001b[0;34m=\u001b[0m\u001b[0;34m-\u001b[0m\u001b[0;36m1\u001b[0m\u001b[0;34m,\u001b[0m \u001b[0mcv\u001b[0m\u001b[0;34m=\u001b[0m\u001b[0;36m10\u001b[0m\u001b[0;34m)\u001b[0m\u001b[0;34m\u001b[0m\u001b[0m\n\u001b[0;32m---> 10\u001b[0;31m \u001b[0mgsrf\u001b[0m\u001b[0;34m.\u001b[0m\u001b[0mfit\u001b[0m\u001b[0;34m(\u001b[0m\u001b[0mX\u001b[0m\u001b[0;34m,\u001b[0m \u001b[0my\u001b[0m\u001b[0;34m)\u001b[0m\u001b[0;34m\u001b[0m\u001b[0m\n\u001b[0m\u001b[1;32m     11\u001b[0m \u001b[0;32mprint\u001b[0m \u001b[0mgsrf\u001b[0m\u001b[0;34m.\u001b[0m\u001b[0mbest_params_\u001b[0m\u001b[0;34m\u001b[0m\u001b[0m\n\u001b[1;32m     12\u001b[0m \u001b[0;32mprint\u001b[0m \u001b[0mgsrf\u001b[0m\u001b[0;34m.\u001b[0m\u001b[0mbest_score_\u001b[0m\u001b[0;34m\u001b[0m\u001b[0m\n",
      "\u001b[0;32m/Users/ThomasPLapinger/anaconda/lib/python2.7/site-packages/sklearn/grid_search.pyc\u001b[0m in \u001b[0;36mfit\u001b[0;34m(self, X, y)\u001b[0m\n\u001b[1;32m    827\u001b[0m \u001b[0;34m\u001b[0m\u001b[0m\n\u001b[1;32m    828\u001b[0m         \"\"\"\n\u001b[0;32m--> 829\u001b[0;31m         \u001b[0;32mreturn\u001b[0m \u001b[0mself\u001b[0m\u001b[0;34m.\u001b[0m\u001b[0m_fit\u001b[0m\u001b[0;34m(\u001b[0m\u001b[0mX\u001b[0m\u001b[0;34m,\u001b[0m \u001b[0my\u001b[0m\u001b[0;34m,\u001b[0m \u001b[0mParameterGrid\u001b[0m\u001b[0;34m(\u001b[0m\u001b[0mself\u001b[0m\u001b[0;34m.\u001b[0m\u001b[0mparam_grid\u001b[0m\u001b[0;34m)\u001b[0m\u001b[0;34m)\u001b[0m\u001b[0;34m\u001b[0m\u001b[0m\n\u001b[0m\u001b[1;32m    830\u001b[0m \u001b[0;34m\u001b[0m\u001b[0m\n\u001b[1;32m    831\u001b[0m \u001b[0;34m\u001b[0m\u001b[0m\n",
      "\u001b[0;32m/Users/ThomasPLapinger/anaconda/lib/python2.7/site-packages/sklearn/grid_search.pyc\u001b[0m in \u001b[0;36m_fit\u001b[0;34m(self, X, y, parameter_iterable)\u001b[0m\n\u001b[1;32m    571\u001b[0m                                     \u001b[0mself\u001b[0m\u001b[0;34m.\u001b[0m\u001b[0mfit_params\u001b[0m\u001b[0;34m,\u001b[0m \u001b[0mreturn_parameters\u001b[0m\u001b[0;34m=\u001b[0m\u001b[0mTrue\u001b[0m\u001b[0;34m,\u001b[0m\u001b[0;34m\u001b[0m\u001b[0m\n\u001b[1;32m    572\u001b[0m                                     error_score=self.error_score)\n\u001b[0;32m--> 573\u001b[0;31m                 \u001b[0;32mfor\u001b[0m \u001b[0mparameters\u001b[0m \u001b[0;32min\u001b[0m \u001b[0mparameter_iterable\u001b[0m\u001b[0;34m\u001b[0m\u001b[0m\n\u001b[0m\u001b[1;32m    574\u001b[0m                 for train, test in cv)\n\u001b[1;32m    575\u001b[0m \u001b[0;34m\u001b[0m\u001b[0m\n",
      "\u001b[0;32m/Users/ThomasPLapinger/anaconda/lib/python2.7/site-packages/sklearn/externals/joblib/parallel.pyc\u001b[0m in \u001b[0;36m__call__\u001b[0;34m(self, iterable)\u001b[0m\n\u001b[1;32m    766\u001b[0m                 \u001b[0;31m# consumption.\u001b[0m\u001b[0;34m\u001b[0m\u001b[0;34m\u001b[0m\u001b[0m\n\u001b[1;32m    767\u001b[0m                 \u001b[0mself\u001b[0m\u001b[0;34m.\u001b[0m\u001b[0m_iterating\u001b[0m \u001b[0;34m=\u001b[0m \u001b[0mFalse\u001b[0m\u001b[0;34m\u001b[0m\u001b[0m\n\u001b[0;32m--> 768\u001b[0;31m             \u001b[0mself\u001b[0m\u001b[0;34m.\u001b[0m\u001b[0mretrieve\u001b[0m\u001b[0;34m(\u001b[0m\u001b[0;34m)\u001b[0m\u001b[0;34m\u001b[0m\u001b[0m\n\u001b[0m\u001b[1;32m    769\u001b[0m             \u001b[0;31m# Make sure that we get a last message telling us we are done\u001b[0m\u001b[0;34m\u001b[0m\u001b[0;34m\u001b[0m\u001b[0m\n\u001b[1;32m    770\u001b[0m             \u001b[0melapsed_time\u001b[0m \u001b[0;34m=\u001b[0m \u001b[0mtime\u001b[0m\u001b[0;34m.\u001b[0m\u001b[0mtime\u001b[0m\u001b[0;34m(\u001b[0m\u001b[0;34m)\u001b[0m \u001b[0;34m-\u001b[0m \u001b[0mself\u001b[0m\u001b[0;34m.\u001b[0m\u001b[0m_start_time\u001b[0m\u001b[0;34m\u001b[0m\u001b[0m\n",
      "\u001b[0;32m/Users/ThomasPLapinger/anaconda/lib/python2.7/site-packages/sklearn/externals/joblib/parallel.pyc\u001b[0m in \u001b[0;36mretrieve\u001b[0;34m(self)\u001b[0m\n\u001b[1;32m    717\u001b[0m                     \u001b[0mensure_ready\u001b[0m \u001b[0;34m=\u001b[0m \u001b[0mself\u001b[0m\u001b[0;34m.\u001b[0m\u001b[0m_managed_backend\u001b[0m\u001b[0;34m\u001b[0m\u001b[0m\n\u001b[1;32m    718\u001b[0m                     \u001b[0mbackend\u001b[0m\u001b[0;34m.\u001b[0m\u001b[0mabort_everything\u001b[0m\u001b[0;34m(\u001b[0m\u001b[0mensure_ready\u001b[0m\u001b[0;34m=\u001b[0m\u001b[0mensure_ready\u001b[0m\u001b[0;34m)\u001b[0m\u001b[0;34m\u001b[0m\u001b[0m\n\u001b[0;32m--> 719\u001b[0;31m                 \u001b[0;32mraise\u001b[0m \u001b[0mexception\u001b[0m\u001b[0;34m\u001b[0m\u001b[0m\n\u001b[0m\u001b[1;32m    720\u001b[0m \u001b[0;34m\u001b[0m\u001b[0m\n\u001b[1;32m    721\u001b[0m     \u001b[0;32mdef\u001b[0m \u001b[0m__call__\u001b[0m\u001b[0;34m(\u001b[0m\u001b[0mself\u001b[0m\u001b[0;34m,\u001b[0m \u001b[0miterable\u001b[0m\u001b[0;34m)\u001b[0m\u001b[0;34m:\u001b[0m\u001b[0;34m\u001b[0m\u001b[0m\n",
      "\u001b[0;31mKeyboardInterrupt\u001b[0m: "
     ]
    }
   ],
   "source": [
    "#gridsearch Cross-Validate the parameters of the random forest model\n",
    "from sklearn.grid_search import GridSearchCV\n",
    "\n",
    "params = {'n_estimators':[1, 10, 100, 1000],\n",
    "          'criterion': ['gini', 'entropy'],\n",
    "          'max_depth': [1, 3, 5,7,10],\n",
    "          'min_samples_split': [2,5],\n",
    "          'class_weight':[None, 'balanced']}\n",
    "\n",
    "gsrf = GridSearchCV(rf, params, n_jobs=-1, cv=10)\n",
    "gsrf.fit(X, y)\n",
    "print gsrf.best_params_\n",
    "print gsrf.best_score_\n",
    "\n",
    "print gsrf.best_estimator_,\n",
    "evaluate_model(gsrf.best_estimator_)"
   ]
  },
  {
   "cell_type": "code",
   "execution_count": 45,
   "metadata": {},
   "outputs": [
    {
     "data": {
      "text/html": [
       "<div>\n",
       "<style>\n",
       "    .dataframe thead tr:only-child th {\n",
       "        text-align: right;\n",
       "    }\n",
       "\n",
       "    .dataframe thead th {\n",
       "        text-align: left;\n",
       "    }\n",
       "\n",
       "    .dataframe tbody tr th {\n",
       "        vertical-align: top;\n",
       "    }\n",
       "</style>\n",
       "<table border=\"1\" class=\"dataframe\">\n",
       "  <thead>\n",
       "    <tr style=\"text-align: right;\">\n",
       "      <th></th>\n",
       "      <th>Word Importance</th>\n",
       "    </tr>\n",
       "  </thead>\n",
       "  <tbody>\n",
       "    <tr>\n",
       "      <th>nbc</th>\n",
       "      <td>0.009344</td>\n",
       "    </tr>\n",
       "    <tr>\n",
       "      <th>sergeant</th>\n",
       "      <td>0.008198</td>\n",
       "    </tr>\n",
       "    <tr>\n",
       "      <th>graduate</th>\n",
       "      <td>0.008096</td>\n",
       "    </tr>\n",
       "    <tr>\n",
       "      <th>person</th>\n",
       "      <td>0.007768</td>\n",
       "    </tr>\n",
       "    <tr>\n",
       "      <th>store</th>\n",
       "      <td>0.007082</td>\n",
       "    </tr>\n",
       "    <tr>\n",
       "      <th>danger</th>\n",
       "      <td>0.006071</td>\n",
       "    </tr>\n",
       "    <tr>\n",
       "      <th>immigrant</th>\n",
       "      <td>0.005891</td>\n",
       "    </tr>\n",
       "    <tr>\n",
       "      <th>attack</th>\n",
       "      <td>0.005883</td>\n",
       "    </tr>\n",
       "    <tr>\n",
       "      <th>engineering</th>\n",
       "      <td>0.005592</td>\n",
       "    </tr>\n",
       "    <tr>\n",
       "      <th>another</th>\n",
       "      <td>0.005324</td>\n",
       "    </tr>\n",
       "  </tbody>\n",
       "</table>\n",
       "</div>"
      ],
      "text/plain": [
       "             Word Importance\n",
       "nbc                 0.009344\n",
       "sergeant            0.008198\n",
       "graduate            0.008096\n",
       "person              0.007768\n",
       "store               0.007082\n",
       "danger              0.006071\n",
       "immigrant           0.005891\n",
       "attack              0.005883\n",
       "engineering         0.005592\n",
       "another             0.005324"
      ]
     },
     "execution_count": 45,
     "metadata": {},
     "output_type": "execute_result"
    }
   ],
   "source": [
    "#Generate Dataframe of Most important features(in our case words) relating to Y column\n",
    "importance = pd.DataFrame(zip(rf.feature_importances_,),\n",
    "                           index=X.columns,\n",
    "                           columns=['Word Importance']).sort_values('Word Importance',\n",
    "                                                                   ascending=False)\n",
    "importance.head(10)"
   ]
  },
  {
   "cell_type": "code",
   "execution_count": 46,
   "metadata": {},
   "outputs": [
    {
     "data": {
      "image/png": "[encoded data removed]",
      "text/plain": [
       "<matplotlib.figure.Figure at 0x1196c78d0>"
      ]
     },
     "metadata": {},
     "output_type": "display_data"
    }
   ],
   "source": [
    "#Generate Feature Importances Graph(Graph Function created by General Assembly)\n",
    "import matplotlib.pyplot as plt\n",
    "all(rf.feature_importances_ == np.mean([tree.feature_importances_ for tree in rf.estimators_], axis=0))\n",
    "\n",
    "importances = rf.feature_importances_\n",
    "# calculate the standard deviation of feature importances by looping over the trees in the random forest\n",
    "# \n",
    "\n",
    "std = np.std([tree.feature_importances_ for tree in rf.estimators_], axis=0)\n",
    "\n",
    "indices = np.argsort(importances)[::-1]\n",
    "feature_names = X.columns\n",
    "\n",
    "# Plot the feature importances of the forest\n",
    "plt.figure(figsize=(10,10))\n",
    "plt.title(\"Feature importances\")\n",
    "plt.bar(range(X.shape[1]), importances[indices],\n",
    "       color=\"r\", yerr=std[indices], align=\"center\")\n",
    "plt.xticks(range(X.shape[1]), feature_names[indices], rotation=90)\n",
    "plt.xlim(0,20)\n",
    "plt.show()"
   ]
  },
  {
   "cell_type": "code",
   "execution_count": 47,
   "metadata": {},
   "outputs": [
    {
     "data": {
      "text/plain": [
       "<matplotlib.axes._subplots.AxesSubplot at 0x1196ef4d0>"
      ]
     },
     "execution_count": 47,
     "metadata": {},
     "output_type": "execute_result"
    },
    {
     "data": {
      "image/png": "[encoded data removed]",
      "text/plain": [
       "<matplotlib.figure.Figure at 0x1196b7b10>"
      ]
     },
     "metadata": {},
     "output_type": "display_data"
    }
   ],
   "source": [
    "#Graph Top 10 Imporant Features\n",
    "sns.barplot(x=importance.index[:10],y=importance['Word Importance'][:10],color='g')"
   ]
  },
  {
   "cell_type": "code",
   "execution_count": 48,
   "metadata": {},
   "outputs": [
    {
     "name": "stdout",
     "output_type": "stream",
     "text": [
      "Random Forest Tree Score:\t0.716 ± 0.034\n"
     ]
    }
   ],
   "source": [
    "#Generate Cross_validation score and run Stratified K fold Cross validation\n",
    "cv = StratifiedKFold(y, n_folds=10, shuffle=True, random_state=35)\n",
    "dt = RandomForestClassifier(class_weight=None)\n",
    "s = cross_val_score(dt, X, y, cv=cv, n_jobs=-1)\n",
    "print \"{} Score:\\t{:0.3} ± {:0.3}\".format(\"Random Forest Tree\", s.mean().round(3), s.std().round(3))"
   ]
  },
  {
   "cell_type": "markdown",
   "metadata": {},
   "source": [
    "The process above running the random forest classifier is repeated below, but below it is finding the words that have the highest indication of a particular race using the top 20 words from above and additional words I was interested in."
   ]
  },
  {
   "cell_type": "markdown",
   "metadata": {},
   "source": [
    "#### Words vs White"
   ]
  },
  {
   "cell_type": "code",
   "execution_count": 49,
   "metadata": {},
   "outputs": [
    {
     "name": "stdout",
     "output_type": "stream",
     "text": [
      "(308, 1500) (308,)\n",
      "(720, 1500) (720,)\n"
     ]
    }
   ],
   "source": [
    "#White\n",
    "X2 = largedf.loc[:,'abc':'younger']  #Feature \n",
    "y2 = largedf['White']  \n",
    "#train/test split\n",
    "X2_train, X2_test, y2_train, y2_test = train_test_split(X2, y2, train_size = 0.3, random_state=3)\n",
    "print X2_train.shape, y2_train.shape\n",
    "print X2_test.shape, y2_test.shape"
   ]
  },
  {
   "cell_type": "code",
   "execution_count": 50,
   "metadata": {},
   "outputs": [
    {
     "data": {
      "text/plain": [
       "RandomForestClassifier(bootstrap=True, class_weight=None, criterion='gini',\n",
       "            max_depth=10, max_features='auto', max_leaf_nodes=None,\n",
       "            min_impurity_split=1e-07, min_samples_leaf=1,\n",
       "            min_samples_split=2, min_weight_fraction_leaf=0.0,\n",
       "            n_estimators=100, n_jobs=1, oob_score=False, random_state=86,\n",
       "            verbose=0, warm_start=False)"
      ]
     },
     "execution_count": 50,
     "metadata": {},
     "output_type": "execute_result"
    }
   ],
   "source": [
    "rf2 = RandomForestClassifier(min_samples_split=2, n_estimators=100, criterion='gini', \n",
    "                            max_depth=10, class_weight=None,random_state=86)\n",
    "rf2.fit(X2, y2)"
   ]
  },
  {
   "cell_type": "code",
   "execution_count": 51,
   "metadata": {},
   "outputs": [
    {
     "data": {
      "text/html": [
       "<div>\n",
       "<style>\n",
       "    .dataframe thead tr:only-child th {\n",
       "        text-align: right;\n",
       "    }\n",
       "\n",
       "    .dataframe thead th {\n",
       "        text-align: left;\n",
       "    }\n",
       "\n",
       "    .dataframe tbody tr th {\n",
       "        vertical-align: top;\n",
       "    }\n",
       "</style>\n",
       "<table border=\"1\" class=\"dataframe\">\n",
       "  <thead>\n",
       "    <tr style=\"text-align: right;\">\n",
       "      <th></th>\n",
       "      <th>Word Importance</th>\n",
       "    </tr>\n",
       "  </thead>\n",
       "  <tbody>\n",
       "    <tr>\n",
       "      <th>dormitory</th>\n",
       "      <td>0.020568</td>\n",
       "    </tr>\n",
       "    <tr>\n",
       "      <th>professor</th>\n",
       "      <td>0.011201</td>\n",
       "    </tr>\n",
       "    <tr>\n",
       "      <th>class</th>\n",
       "      <td>0.010708</td>\n",
       "    </tr>\n",
       "    <tr>\n",
       "      <th>engineering</th>\n",
       "      <td>0.007919</td>\n",
       "    </tr>\n",
       "    <tr>\n",
       "      <th>nbc</th>\n",
       "      <td>0.007784</td>\n",
       "    </tr>\n",
       "    <tr>\n",
       "      <th>injured</th>\n",
       "      <td>0.007678</td>\n",
       "    </tr>\n",
       "    <tr>\n",
       "      <th>student</th>\n",
       "      <td>0.007376</td>\n",
       "    </tr>\n",
       "    <tr>\n",
       "      <th>immigrant</th>\n",
       "      <td>0.007056</td>\n",
       "    </tr>\n",
       "    <tr>\n",
       "      <th>reservation</th>\n",
       "      <td>0.006832</td>\n",
       "    </tr>\n",
       "    <tr>\n",
       "      <th>shut</th>\n",
       "      <td>0.006620</td>\n",
       "    </tr>\n",
       "  </tbody>\n",
       "</table>\n",
       "</div>"
      ],
      "text/plain": [
       "             Word Importance\n",
       "dormitory           0.020568\n",
       "professor           0.011201\n",
       "class               0.010708\n",
       "engineering         0.007919\n",
       "nbc                 0.007784\n",
       "injured             0.007678\n",
       "student             0.007376\n",
       "immigrant           0.007056\n",
       "reservation         0.006832\n",
       "shut                0.006620"
      ]
     },
     "execution_count": 51,
     "metadata": {},
     "output_type": "execute_result"
    }
   ],
   "source": [
    "importance2 = pd.DataFrame(rf2.feature_importances_,\n",
    "                           index=X2.columns,\n",
    "                           columns=['Word Importance']).sort_values('Word Importance',\n",
    "                                                                   ascending=False)\n",
    "importance2.head(10)"
   ]
  },
  {
   "cell_type": "code",
   "execution_count": 52,
   "metadata": {},
   "outputs": [
    {
     "name": "stdout",
     "output_type": "stream",
     "text": [
      "Random Forest Tree Score:\t0.722 ± 0.015\n"
     ]
    }
   ],
   "source": [
    "cv = StratifiedKFold(y2, n_folds=10, shuffle=True, random_state=35)\n",
    "s = cross_val_score(rf2, X2, y2, cv=cv, n_jobs=-1)\n",
    "print \"{} Score:\\t{:0.3} ± {:0.3}\".format(\"Random Forest Tree\", s.mean().round(3), s.std().round(3))"
   ]
  },
  {
   "cell_type": "markdown",
   "metadata": {},
   "source": [
    "#### Words vs African American"
   ]
  },
  {
   "cell_type": "code",
   "execution_count": 53,
   "metadata": {},
   "outputs": [
    {
     "name": "stdout",
     "output_type": "stream",
     "text": [
      "(308, 1500) (308,)\n",
      "(720, 1500) (720,)\n"
     ]
    }
   ],
   "source": [
    "#African American\n",
    "X3 = largedf.loc[:,'abc':'younger']  #Feature \n",
    "y3 = largedf['African American']  \n",
    "#train/test split\n",
    "X3_train, X3_test, y3_train, y3_test = train_test_split(X3, y3, train_size = 0.3, random_state=3)\n",
    "print X3_train.shape, y3_train.shape\n",
    "print X3_test.shape, y3_test.shape"
   ]
  },
  {
   "cell_type": "code",
   "execution_count": 54,
   "metadata": {},
   "outputs": [
    {
     "data": {
      "text/plain": [
       "RandomForestClassifier(bootstrap=True, class_weight=None, criterion='gini',\n",
       "            max_depth=10, max_features='auto', max_leaf_nodes=None,\n",
       "            min_impurity_split=1e-07, min_samples_leaf=1,\n",
       "            min_samples_split=2, min_weight_fraction_leaf=0.0,\n",
       "            n_estimators=100, n_jobs=1, oob_score=False, random_state=86,\n",
       "            verbose=0, warm_start=False)"
      ]
     },
     "execution_count": 54,
     "metadata": {},
     "output_type": "execute_result"
    }
   ],
   "source": [
    "rf3 = RandomForestClassifier(min_samples_split=2, n_estimators=100, criterion='gini', \n",
    "                            max_depth=10, class_weight=None,random_state=86)\n",
    "rf3.fit(X3, y3)"
   ]
  },
  {
   "cell_type": "code",
   "execution_count": 55,
   "metadata": {},
   "outputs": [
    {
     "data": {
      "text/html": [
       "<div>\n",
       "<style>\n",
       "    .dataframe thead tr:only-child th {\n",
       "        text-align: right;\n",
       "    }\n",
       "\n",
       "    .dataframe thead th {\n",
       "        text-align: left;\n",
       "    }\n",
       "\n",
       "    .dataframe tbody tr th {\n",
       "        vertical-align: top;\n",
       "    }\n",
       "</style>\n",
       "<table border=\"1\" class=\"dataframe\">\n",
       "  <thead>\n",
       "    <tr style=\"text-align: right;\">\n",
       "      <th></th>\n",
       "      <th>Word Importance</th>\n",
       "    </tr>\n",
       "  </thead>\n",
       "  <tbody>\n",
       "    <tr>\n",
       "      <th>crime</th>\n",
       "      <td>0.011957</td>\n",
       "    </tr>\n",
       "    <tr>\n",
       "      <th>passenger</th>\n",
       "      <td>0.011542</td>\n",
       "    </tr>\n",
       "    <tr>\n",
       "      <th>hearing</th>\n",
       "      <td>0.009440</td>\n",
       "    </tr>\n",
       "    <tr>\n",
       "      <th>avenue</th>\n",
       "      <td>0.009008</td>\n",
       "    </tr>\n",
       "    <tr>\n",
       "      <th>player</th>\n",
       "      <td>0.008241</td>\n",
       "    </tr>\n",
       "    <tr>\n",
       "      <th>minority</th>\n",
       "      <td>0.007241</td>\n",
       "    </tr>\n",
       "    <tr>\n",
       "      <th>officer</th>\n",
       "      <td>0.007193</td>\n",
       "    </tr>\n",
       "    <tr>\n",
       "      <th>waiting</th>\n",
       "      <td>0.006947</td>\n",
       "    </tr>\n",
       "    <tr>\n",
       "      <th>period</th>\n",
       "      <td>0.006489</td>\n",
       "    </tr>\n",
       "    <tr>\n",
       "      <th>financial</th>\n",
       "      <td>0.005698</td>\n",
       "    </tr>\n",
       "  </tbody>\n",
       "</table>\n",
       "</div>"
      ],
      "text/plain": [
       "           Word Importance\n",
       "crime             0.011957\n",
       "passenger         0.011542\n",
       "hearing           0.009440\n",
       "avenue            0.009008\n",
       "player            0.008241\n",
       "minority          0.007241\n",
       "officer           0.007193\n",
       "waiting           0.006947\n",
       "period            0.006489\n",
       "financial         0.005698"
      ]
     },
     "execution_count": 55,
     "metadata": {},
     "output_type": "execute_result"
    }
   ],
   "source": [
    "importance3 = pd.DataFrame(rf3.feature_importances_,\n",
    "                           index=X3.columns,\n",
    "                           columns=['Word Importance']).sort_values('Word Importance',\n",
    "                                                                   ascending=False)\n",
    "importance3.head(10)"
   ]
  },
  {
   "cell_type": "code",
   "execution_count": 56,
   "metadata": {},
   "outputs": [
    {
     "name": "stdout",
     "output_type": "stream",
     "text": [
      "Random Forest Tree Score:\t0.886 ± 0.004\n"
     ]
    }
   ],
   "source": [
    "cv = StratifiedKFold(y3, n_folds=10, shuffle=True, random_state=35)\n",
    "s = cross_val_score(rf3, X3, y3, cv=cv, n_jobs=-1)\n",
    "print \"{} Score:\\t{:0.3} ± {:0.3}\".format(\"Random Forest Tree\", s.mean().round(3), s.std().round(3))"
   ]
  },
  {
   "cell_type": "markdown",
   "metadata": {},
   "source": [
    "#### Words vs Asian"
   ]
  },
  {
   "cell_type": "code",
   "execution_count": 57,
   "metadata": {},
   "outputs": [
    {
     "name": "stdout",
     "output_type": "stream",
     "text": [
      "(308, 1500) (308,)\n",
      "(720, 1500) (720,)\n"
     ]
    }
   ],
   "source": [
    "#Asian\n",
    "X4 = largedf.loc[:,'abc':'younger']  #Feature \n",
    "y4 = largedf['Asian']  \n",
    "#train/test split\n",
    "X4_train, X4_test, y4_train, y4_test = train_test_split(X4, y4, train_size = 0.3, random_state=3)\n",
    "print X4_train.shape, y4_train.shape\n",
    "print X4_test.shape, y4_test.shape"
   ]
  },
  {
   "cell_type": "code",
   "execution_count": 58,
   "metadata": {},
   "outputs": [
    {
     "data": {
      "text/plain": [
       "RandomForestClassifier(bootstrap=True, class_weight=None, criterion='gini',\n",
       "            max_depth=10, max_features='auto', max_leaf_nodes=None,\n",
       "            min_impurity_split=1e-07, min_samples_leaf=1,\n",
       "            min_samples_split=2, min_weight_fraction_leaf=0.0,\n",
       "            n_estimators=100, n_jobs=1, oob_score=False, random_state=86,\n",
       "            verbose=0, warm_start=False)"
      ]
     },
     "execution_count": 58,
     "metadata": {},
     "output_type": "execute_result"
    }
   ],
   "source": [
    "rf4 = RandomForestClassifier(min_samples_split=2, n_estimators=100, criterion='gini', \n",
    "                            max_depth=10, class_weight=None,random_state=86)\n",
    "rf4.fit(X4, y4)"
   ]
  },
  {
   "cell_type": "code",
   "execution_count": 59,
   "metadata": {},
   "outputs": [
    {
     "data": {
      "text/html": [
       "<div>\n",
       "<style>\n",
       "    .dataframe thead tr:only-child th {\n",
       "        text-align: right;\n",
       "    }\n",
       "\n",
       "    .dataframe thead th {\n",
       "        text-align: left;\n",
       "    }\n",
       "\n",
       "    .dataframe tbody tr th {\n",
       "        vertical-align: top;\n",
       "    }\n",
       "</style>\n",
       "<table border=\"1\" class=\"dataframe\">\n",
       "  <thead>\n",
       "    <tr style=\"text-align: right;\">\n",
       "      <th></th>\n",
       "      <th>Word Importance</th>\n",
       "    </tr>\n",
       "  </thead>\n",
       "  <tbody>\n",
       "    <tr>\n",
       "      <th>dormitory</th>\n",
       "      <td>0.021483</td>\n",
       "    </tr>\n",
       "    <tr>\n",
       "      <th>class</th>\n",
       "      <td>0.017056</td>\n",
       "    </tr>\n",
       "    <tr>\n",
       "      <th>foreign</th>\n",
       "      <td>0.015785</td>\n",
       "    </tr>\n",
       "    <tr>\n",
       "      <th>nbc</th>\n",
       "      <td>0.015689</td>\n",
       "    </tr>\n",
       "    <tr>\n",
       "      <th>fear</th>\n",
       "      <td>0.011027</td>\n",
       "    </tr>\n",
       "    <tr>\n",
       "      <th>islamic</th>\n",
       "      <td>0.010794</td>\n",
       "    </tr>\n",
       "    <tr>\n",
       "      <th>terrorist</th>\n",
       "      <td>0.010530</td>\n",
       "    </tr>\n",
       "    <tr>\n",
       "      <th>professor</th>\n",
       "      <td>0.009436</td>\n",
       "    </tr>\n",
       "    <tr>\n",
       "      <th>mass</th>\n",
       "      <td>0.009203</td>\n",
       "    </tr>\n",
       "    <tr>\n",
       "      <th>terrorism</th>\n",
       "      <td>0.008759</td>\n",
       "    </tr>\n",
       "  </tbody>\n",
       "</table>\n",
       "</div>"
      ],
      "text/plain": [
       "           Word Importance\n",
       "dormitory         0.021483\n",
       "class             0.017056\n",
       "foreign           0.015785\n",
       "nbc               0.015689\n",
       "fear              0.011027\n",
       "islamic           0.010794\n",
       "terrorist         0.010530\n",
       "professor         0.009436\n",
       "mass              0.009203\n",
       "terrorism         0.008759"
      ]
     },
     "execution_count": 59,
     "metadata": {},
     "output_type": "execute_result"
    }
   ],
   "source": [
    "importance4 = pd.DataFrame(zip(rf4.feature_importances_),\n",
    "                           index=X4.columns,\n",
    "                           columns=['Word Importance']).sort_values('Word Importance',\n",
    "                                                                   ascending=False)\n",
    "importance4.head(10)"
   ]
  },
  {
   "cell_type": "code",
   "execution_count": 61,
   "metadata": {},
   "outputs": [
    {
     "name": "stdout",
     "output_type": "stream",
     "text": [
      "Random Forest Tree Score:\t0.861 ± 0.006\n"
     ]
    }
   ],
   "source": [
    "cv = StratifiedKFold(y4, n_folds=10, shuffle=True, random_state=35)\n",
    "s = cross_val_score(rf4, X4, y4, cv=cv, n_jobs=-1)\n",
    "print \"{} Score:\\t{:0.3} ± {:0.3}\".format(\"Random Forest Tree\", s.mean().round(3), s.std().round(3))"
   ]
  },
  {
   "cell_type": "markdown",
   "metadata": {},
   "source": [
    "#### Words vs Native American or Alaska Native"
   ]
  },
  {
   "cell_type": "code",
   "execution_count": 62,
   "metadata": {},
   "outputs": [
    {
     "name": "stdout",
     "output_type": "stream",
     "text": [
      "(308, 1500) (308,)\n",
      "(720, 1500) (720,)\n"
     ]
    }
   ],
   "source": [
    "#Native American\n",
    "X5 = largedf.loc[:,'abc':'younger']  #Feature \n",
    "y5 = largedf['Native American or Alaska Native']  \n",
    "#train/test split\n",
    "X5_train, X5_test, y5_train, y5_test = train_test_split(X5, y5, train_size = 0.3, random_state=3)\n",
    "print X5_train.shape, y5_train.shape\n",
    "print X5_test.shape, y5_test.shape"
   ]
  },
  {
   "cell_type": "code",
   "execution_count": 63,
   "metadata": {},
   "outputs": [
    {
     "data": {
      "text/plain": [
       "RandomForestClassifier(bootstrap=True, class_weight=None, criterion='gini',\n",
       "            max_depth=10, max_features='auto', max_leaf_nodes=None,\n",
       "            min_impurity_split=1e-07, min_samples_leaf=1,\n",
       "            min_samples_split=2, min_weight_fraction_leaf=0.0,\n",
       "            n_estimators=100, n_jobs=1, oob_score=False, random_state=86,\n",
       "            verbose=0, warm_start=False)"
      ]
     },
     "execution_count": 63,
     "metadata": {},
     "output_type": "execute_result"
    }
   ],
   "source": [
    "rf5 = RandomForestClassifier(min_samples_split=2, n_estimators=100, criterion='gini', \n",
    "                            max_depth=10, class_weight=None,random_state=86)\n",
    "rf5.fit(X5, y5)"
   ]
  },
  {
   "cell_type": "code",
   "execution_count": 64,
   "metadata": {},
   "outputs": [
    {
     "data": {
      "text/html": [
       "<div>\n",
       "<style>\n",
       "    .dataframe thead tr:only-child th {\n",
       "        text-align: right;\n",
       "    }\n",
       "\n",
       "    .dataframe thead th {\n",
       "        text-align: left;\n",
       "    }\n",
       "\n",
       "    .dataframe tbody tr th {\n",
       "        vertical-align: top;\n",
       "    }\n",
       "</style>\n",
       "<table border=\"1\" class=\"dataframe\">\n",
       "  <thead>\n",
       "    <tr style=\"text-align: right;\">\n",
       "      <th></th>\n",
       "      <th>Word Importance</th>\n",
       "    </tr>\n",
       "  </thead>\n",
       "  <tbody>\n",
       "    <tr>\n",
       "      <th>reservation</th>\n",
       "      <td>0.045680</td>\n",
       "    </tr>\n",
       "    <tr>\n",
       "      <th>indian</th>\n",
       "      <td>0.023084</td>\n",
       "    </tr>\n",
       "    <tr>\n",
       "      <th>fit_feature</th>\n",
       "      <td>0.016535</td>\n",
       "    </tr>\n",
       "    <tr>\n",
       "      <th>nazi</th>\n",
       "      <td>0.014513</td>\n",
       "    </tr>\n",
       "    <tr>\n",
       "      <th>teacher</th>\n",
       "      <td>0.011771</td>\n",
       "    </tr>\n",
       "    <tr>\n",
       "      <th>grandfather</th>\n",
       "      <td>0.010636</td>\n",
       "    </tr>\n",
       "    <tr>\n",
       "      <th>posted</th>\n",
       "      <td>0.009182</td>\n",
       "    </tr>\n",
       "    <tr>\n",
       "      <th>study</th>\n",
       "      <td>0.009173</td>\n",
       "    </tr>\n",
       "    <tr>\n",
       "      <th>posting</th>\n",
       "      <td>0.009043</td>\n",
       "    </tr>\n",
       "    <tr>\n",
       "      <th>sergeant</th>\n",
       "      <td>0.008866</td>\n",
       "    </tr>\n",
       "  </tbody>\n",
       "</table>\n",
       "</div>"
      ],
      "text/plain": [
       "             Word Importance\n",
       "reservation         0.045680\n",
       "indian              0.023084\n",
       "fit_feature         0.016535\n",
       "nazi                0.014513\n",
       "teacher             0.011771\n",
       "grandfather         0.010636\n",
       "posted              0.009182\n",
       "study               0.009173\n",
       "posting             0.009043\n",
       "sergeant            0.008866"
      ]
     },
     "execution_count": 64,
     "metadata": {},
     "output_type": "execute_result"
    }
   ],
   "source": [
    "importance5 = pd.DataFrame(zip(rf5.feature_importances_),\n",
    "                           index=X5.columns,\n",
    "                           columns=['Word Importance']).sort_values('Word Importance',\n",
    "                                                                   ascending=False)\n",
    "importance5.head(10)"
   ]
  },
  {
   "cell_type": "code",
   "execution_count": 65,
   "metadata": {},
   "outputs": [
    {
     "name": "stdout",
     "output_type": "stream",
     "text": [
      "Random Forest Tree Score:\t0.986 ± 0.005\n"
     ]
    }
   ],
   "source": [
    "cv = StratifiedKFold(y5, n_folds=10, shuffle=True, random_state=35)\n",
    "s = cross_val_score(rf5, X5, y5, cv=cv, n_jobs=-1)\n",
    "print \"{} Score:\\t{:0.3} ± {:0.3}\".format(\"Random Forest Tree\", s.mean().round(3), s.std().round(3))"
   ]
  },
  {
   "cell_type": "markdown",
   "metadata": {},
   "source": [
    "#### Words vs Latin American"
   ]
  },
  {
   "cell_type": "code",
   "execution_count": 66,
   "metadata": {},
   "outputs": [
    {
     "name": "stdout",
     "output_type": "stream",
     "text": [
      "(308, 1500) (308,)\n",
      "(720, 1500) (720,)\n"
     ]
    }
   ],
   "source": [
    "#Latin American\n",
    "X6 = largedf.loc[:,'abc':'younger']  #Feature \n",
    "y6 = largedf['Latin American']  \n",
    "#train/test split\n",
    "X6_train, X6_test, y6_train, y6_test = train_test_split(X6, y6, train_size = 0.3, random_state=3)\n",
    "print X6_train.shape, y6_train.shape\n",
    "print X6_test.shape, y6_test.shape"
   ]
  },
  {
   "cell_type": "code",
   "execution_count": 67,
   "metadata": {},
   "outputs": [
    {
     "data": {
      "text/plain": [
       "RandomForestClassifier(bootstrap=True, class_weight=None, criterion='gini',\n",
       "            max_depth=10, max_features='auto', max_leaf_nodes=None,\n",
       "            min_impurity_split=1e-07, min_samples_leaf=1,\n",
       "            min_samples_split=2, min_weight_fraction_leaf=0.0,\n",
       "            n_estimators=100, n_jobs=1, oob_score=False, random_state=86,\n",
       "            verbose=0, warm_start=False)"
      ]
     },
     "execution_count": 67,
     "metadata": {},
     "output_type": "execute_result"
    }
   ],
   "source": [
    "rf6 = RandomForestClassifier(min_samples_split=2, n_estimators=100, criterion='gini', \n",
    "                            max_depth=10, class_weight=None,random_state=86)\n",
    "rf6.fit(X6, y6)"
   ]
  },
  {
   "cell_type": "code",
   "execution_count": 68,
   "metadata": {},
   "outputs": [
    {
     "data": {
      "text/html": [
       "<div>\n",
       "<style>\n",
       "    .dataframe thead tr:only-child th {\n",
       "        text-align: right;\n",
       "    }\n",
       "\n",
       "    .dataframe thead th {\n",
       "        text-align: left;\n",
       "    }\n",
       "\n",
       "    .dataframe tbody tr th {\n",
       "        vertical-align: top;\n",
       "    }\n",
       "</style>\n",
       "<table border=\"1\" class=\"dataframe\">\n",
       "  <thead>\n",
       "    <tr style=\"text-align: right;\">\n",
       "      <th></th>\n",
       "      <th>Word Importance</th>\n",
       "    </tr>\n",
       "  </thead>\n",
       "  <tbody>\n",
       "    <tr>\n",
       "      <th>specialist</th>\n",
       "      <td>0.016267</td>\n",
       "    </tr>\n",
       "    <tr>\n",
       "      <th>immigrant</th>\n",
       "      <td>0.010351</td>\n",
       "    </tr>\n",
       "    <tr>\n",
       "      <th>gathered</th>\n",
       "      <td>0.008186</td>\n",
       "    </tr>\n",
       "    <tr>\n",
       "      <th>agency</th>\n",
       "      <td>0.007977</td>\n",
       "    </tr>\n",
       "    <tr>\n",
       "      <th>request</th>\n",
       "      <td>0.007958</td>\n",
       "    </tr>\n",
       "    <tr>\n",
       "      <th>military</th>\n",
       "      <td>0.007694</td>\n",
       "    </tr>\n",
       "    <tr>\n",
       "      <th>soldier</th>\n",
       "      <td>0.007529</td>\n",
       "    </tr>\n",
       "    <tr>\n",
       "      <th>people</th>\n",
       "      <td>0.007330</td>\n",
       "    </tr>\n",
       "    <tr>\n",
       "      <th>chief</th>\n",
       "      <td>0.007230</td>\n",
       "    </tr>\n",
       "    <tr>\n",
       "      <th>murderer</th>\n",
       "      <td>0.007051</td>\n",
       "    </tr>\n",
       "  </tbody>\n",
       "</table>\n",
       "</div>"
      ],
      "text/plain": [
       "            Word Importance\n",
       "specialist         0.016267\n",
       "immigrant          0.010351\n",
       "gathered           0.008186\n",
       "agency             0.007977\n",
       "request            0.007958\n",
       "military           0.007694\n",
       "soldier            0.007529\n",
       "people             0.007330\n",
       "chief              0.007230\n",
       "murderer           0.007051"
      ]
     },
     "execution_count": 68,
     "metadata": {},
     "output_type": "execute_result"
    }
   ],
   "source": [
    "importance6 = pd.DataFrame(zip(rf6.feature_importances_),\n",
    "                           index=X6.columns,\n",
    "                           columns=['Word Importance']).sort_values('Word Importance',\n",
    "                                                                   ascending=False)\n",
    "importance6.head(10)"
   ]
  },
  {
   "cell_type": "code",
   "execution_count": 69,
   "metadata": {},
   "outputs": [
    {
     "name": "stdout",
     "output_type": "stream",
     "text": [
      "Random Forest Tree Score:\t0.981 ± 0.006\n"
     ]
    }
   ],
   "source": [
    "cv = StratifiedKFold(y6, n_folds=10, shuffle=True, random_state=35)\n",
    "s = cross_val_score(rf6, X6, y6, cv=cv, n_jobs=-1)\n",
    "print \"{} Score:\\t{:0.3} ± {:0.3}\".format(\"Random Forest Tree\", s.mean().round(3), s.std().round(3))"
   ]
  }
 ],
 "metadata": {
  "kernelspec": {
   "display_name": "Python 2",
   "language": "python",
   "name": "python2"
  },
  "language_info": {
   "codemirror_mode": {
    "name": "ipython",
    "version": 2
   },
   "file_extension": ".py",
   "mimetype": "text/x-python",
   "name": "python",
   "nbconvert_exporter": "python",
   "pygments_lexer": "ipython2",
   "version": "2.7.13"
  }
 },
 "nbformat": 4,
 "nbformat_minor": 2
}
