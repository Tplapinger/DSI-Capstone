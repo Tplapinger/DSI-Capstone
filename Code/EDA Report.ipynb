{
 "cells": [
  {
   "cell_type": "markdown",
   "metadata": {},
   "source": [
    "# EDA REPORT\n",
    "\n",
    "#### Problem Statement\n",
    "Is there racial bias in words used when covering mass shootings in relation to the ethnicity of the shooter. If so, does the content predict racial bias\n",
    "#### Articulate \"Specific aim\"\n",
    "   My aim is to discover if the New York Times on the days of and week following uses different terms to describe a shooter based on their race and once I find out those terms can I predict the race of a  shooter simply based on the words used in an article.\n",
    "#### Outline methods and models\n",
    "   Will be running NLP programs through data to clean out things like stop-words, numbers, etc. as we learned in NLP-1 and NLP-2. \n",
    "    Will likely seperate dataframes by race where in each one 1(or True) will equal the target variable and the rest will equal 0 so it becomes a binary problem. \n",
    "    I will likely use Naive bayes. Possibly will use Random Forest and find word feature_importance and then logistic regression to figure out impact of top x amount of words.\n",
    "#### Define risks and assumptions\n",
    "   Current Risks I am aware of is managing unbalanced classes as a majority of perpetrators are of a particular ethnicity. I am sure I will come across other risks, but as I have just fully gathered my data as of 2 am last night I do have not had a chance of discovering what. \n",
    "   I know I can find specific words that have the greatest indication of what ethnicity someone is, but also finding out if certain words are used more than others to determine racism or bias in the article I am not exactly sure how to do. Would very much like to discuss further.\n",
    "\n",
    "#### Revision of Iniital goals and success criteria\n",
    "   I will no longer be using both the Wall Street Journal and the New York Times for political comparison simply because there is no time to additionally scrap the WSJ. I will run through the project with the NYT data and do the WSJ if I have time, but I doubt that will happen.\n",
    "    \n",
    "\n",
    "#### Describe data clean/munging techniques\n",
    "   Will be using stop-words, a little regex, and other methods to clean up words used. I will also need to create a new dataframe that combines the New York Times data and the Stanford Data the format of that dataframe is something I am still working on. Particularly, becuase there are multiple articles for one incident, but only one row of data on said incident.\n",
    "\n",
    "#### Create a data dictionary\n",
    "   The two primary data sources for this project are the New York Times and the Stanford University Mass Shootings in America Database on shootings between 1970-March 2016. I hope to include some of the shootings from the 1960s(I believe there are only two) later, but since those are scans of newspapers they cannot be scraped and will have to be typed they will be added if time is available.\n",
    "   \n",
    "   The data I have scraped from the New York Times is every article I was able to find within 7 days of each incident. That is the day of the incident and the 6 days following. This selection was made because a usual news cycle is roughly one week after which the tone or subject  of a story tends to shift away from the event and move on to other news. I have specifically grabbed the titles of the articles and the full text of the articles themselves. I have also included in the current articles dataframes that exist by decade (This is becuase if I have time I would like to see how the terms have changed over the years. \n",
    "   \n",
    "   The second data source is the Stanford University Mass Shootings in America Data base that has provided me with the list of all recorded mass shootings in the US in my data sets time period and is known in the gun-control circles as the gold standard of data on the subject. In fact, they set the defintion of a mass shooting that is currently used across the country(i.e. 4 people injured and/or killed).It also provides me with valuable information about each event like Location in the form of a direct location, city, state, as well as longitude and latitude fo the incident.It also provides the place type, whether it was school related, and what the relationship the shooter may have had to the location. It includes total numbers of victim fatalities, injured, as well as total number of victims that is often 1 or two higher than the others as that is where the perpeatrator is included if they died. It also provides date information down to the day of the week. For Shooter information it provides Name, Age, Avg Age(only applicable in multi-shooter scenarios), Gender, and most importantly for this project race. It then provides information on the types and type of guns used. \n",
    "   \n",
    "   Other information included that currenlty I don't anticipate using, but may do so in the future are the classification of the targets, description of motives, whether the person(s) had a military background, and whether there was a history of diagnosed mental illness.\n",
    "\n",
    "#### Perform and summarize EDA\n",
    "Since I have largely been gathering my data I have had very little time to begin any meaningful EDA. For what little I have done please refer to Shootings DB notebook where I started working on Stamford Univeristys Database. "
   ]
  },
  {
   "cell_type": "markdown",
   "metadata": {},
   "source": []
  }
 ],
 "metadata": {
  "kernelspec": {
   "display_name": "Python 2",
   "language": "python",
   "name": "python2"
  },
  "language_info": {
   "codemirror_mode": {
    "name": "ipython",
    "version": 2
   },
   "file_extension": ".py",
   "mimetype": "text/x-python",
   "name": "python",
   "nbconvert_exporter": "python",
   "pygments_lexer": "ipython2",
   "version": "2.7.13"
  }
 },
 "nbformat": 4,
 "nbformat_minor": 2
}
