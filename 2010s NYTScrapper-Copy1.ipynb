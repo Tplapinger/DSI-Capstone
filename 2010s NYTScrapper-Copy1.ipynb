{
 "cells": [
  {
   "cell_type": "code",
   "execution_count": 4,
   "metadata": {
    "collapsed": true,
    "scrolled": true
   },
   "outputs": [],
   "source": [
    "import pandas as pd\n",
    "import newspaper\n",
    "from newspaper import Article"
   ]
  },
  {
   "cell_type": "code",
   "execution_count": 6,
   "metadata": {},
   "outputs": [
    {
     "data": {
      "text/html": [
       "<div>\n",
       "<style>\n",
       "    .dataframe thead tr:only-child th {\n",
       "        text-align: right;\n",
       "    }\n",
       "\n",
       "    .dataframe thead th {\n",
       "        text-align: left;\n",
       "    }\n",
       "\n",
       "    .dataframe tbody tr th {\n",
       "        vertical-align: top;\n",
       "    }\n",
       "</style>\n",
       "<table border=\"1\" class=\"dataframe\">\n",
       "  <thead>\n",
       "    <tr style=\"text-align: right;\">\n",
       "      <th></th>\n",
       "      <th>Title</th>\n",
       "      <th>Article</th>\n",
       "      <th>Incident Name</th>\n",
       "    </tr>\n",
       "  </thead>\n",
       "  <tbody>\n",
       "    <tr>\n",
       "      <th>0</th>\n",
       "      <td>At Least 4 Dead in California Shootings</td>\n",
       "      <td>As the man drove through the parking lot to es...</td>\n",
       "      <td>Ladera Ranch</td>\n",
       "    </tr>\n",
       "  </tbody>\n",
       "</table>\n",
       "</div>"
      ],
      "text/plain": [
       "                                     Title  \\\n",
       "0  At Least 4 Dead in California Shootings   \n",
       "\n",
       "                                             Article Incident Name  \n",
       "0  As the man drove through the parking lot to es...  Ladera Ranch  "
      ]
     },
     "execution_count": 6,
     "metadata": {},
     "output_type": "execute_result"
    }
   ],
   "source": [
    "#Ladera Ranch\n",
    "url1='http://www.nytimes.com/2013/02/20/us/shooting-spree-in-california.html'\n",
    "Nyt_LR =pd.DataFrame()\n",
    "a=Article(url1, language='en')\n",
    "a.download()\n",
    "a.parse()\n",
    "Nyt_LR= Nyt_LR.append([[a.title, a.text]], ignore_index=True)\n",
    "Nyt_LR.columns=['Title','Article']\n",
    "Nyt_LR['Incident Name'] = 'Ladera Ranch'\n",
    "Nyt_LR"
   ]
  },
  {
   "cell_type": "code",
   "execution_count": 7,
   "metadata": {
    "scrolled": false
   },
   "outputs": [
    {
     "data": {
      "text/html": [
       "<div>\n",
       "<style>\n",
       "    .dataframe thead tr:only-child th {\n",
       "        text-align: right;\n",
       "    }\n",
       "\n",
       "    .dataframe thead th {\n",
       "        text-align: left;\n",
       "    }\n",
       "\n",
       "    .dataframe tbody tr th {\n",
       "        vertical-align: top;\n",
       "    }\n",
       "</style>\n",
       "<table border=\"1\" class=\"dataframe\">\n",
       "  <thead>\n",
       "    <tr style=\"text-align: right;\">\n",
       "      <th></th>\n",
       "      <th>Title</th>\n",
       "      <th>Article</th>\n",
       "      <th>Incident Name</th>\n",
       "    </tr>\n",
       "  </thead>\n",
       "  <tbody>\n",
       "    <tr>\n",
       "      <th>0</th>\n",
       "      <td>A Previous Shooting Death at the Hands of Alab...</td>\n",
       "      <td>HUNTSVILLE, Ala.  The neurobiologist accused ...</td>\n",
       "      <td>University of Alabama Huntsville</td>\n",
       "    </tr>\n",
       "    <tr>\n",
       "      <th>1</th>\n",
       "      <td>A Previous Shooting Death at the Hands of Alab...</td>\n",
       "      <td>HUNTSVILLE, Ala.  On Friday, this city of roc...</td>\n",
       "      <td>University of Alabama Huntsville</td>\n",
       "    </tr>\n",
       "    <tr>\n",
       "      <th>2</th>\n",
       "      <td>New Look at Killing of Amy Bishop’s Brother</td>\n",
       "      <td>As the district attorney’s office noted in its...</td>\n",
       "      <td>University of Alabama Huntsville</td>\n",
       "    </tr>\n",
       "  </tbody>\n",
       "</table>\n",
       "</div>"
      ],
      "text/plain": [
       "                                               Title  \\\n",
       "0  A Previous Shooting Death at the Hands of Alab...   \n",
       "1  A Previous Shooting Death at the Hands of Alab...   \n",
       "2        New Look at Killing of Amy Bishop’s Brother   \n",
       "\n",
       "                                             Article  \\\n",
       "0  HUNTSVILLE, Ala.  The neurobiologist accused ...   \n",
       "1  HUNTSVILLE, Ala.  On Friday, this city of roc...   \n",
       "2  As the district attorney’s office noted in its...   \n",
       "\n",
       "                      Incident Name  \n",
       "0  University of Alabama Huntsville  \n",
       "1  University of Alabama Huntsville  \n",
       "2  University of Alabama Huntsville  "
      ]
     },
     "execution_count": 7,
     "metadata": {},
     "output_type": "execute_result"
    }
   ],
   "source": [
    "#University of Alabama Huntsville \n",
    "url2='http://www.nytimes.com/2010/02/14/us/14alabama.html'\n",
    "url3='http://www.nytimes.com/2010/02/15/us/15alabama.html'\n",
    "url4='http://www.nytimes.com/2010/02/17/us/17alabama.html'\n",
    "urls=[url2,url3,url4]\n",
    "Nyt_UAH =pd.DataFrame()\n",
    "for i in urls: \n",
    "    a=Article(i, language='en')\n",
    "    a.download()\n",
    "    a.parse()\n",
    "    Nyt_UAH= Nyt_UAH.append([[a.title, a.text]], ignore_index=True)\n",
    "Nyt_UAH.columns=['Title','Article']\n",
    "Nyt_UAH['Incident Name'] = 'University of Alabama Huntsville'\n",
    "Nyt_UAH"
   ]
  },
  {
   "cell_type": "code",
   "execution_count": 9,
   "metadata": {
    "scrolled": true
   },
   "outputs": [
    {
     "data": {
      "text/html": [
       "<div>\n",
       "<style>\n",
       "    .dataframe thead tr:only-child th {\n",
       "        text-align: right;\n",
       "    }\n",
       "\n",
       "    .dataframe thead th {\n",
       "        text-align: left;\n",
       "    }\n",
       "\n",
       "    .dataframe tbody tr th {\n",
       "        vertical-align: top;\n",
       "    }\n",
       "</style>\n",
       "<table border=\"1\" class=\"dataframe\">\n",
       "  <thead>\n",
       "    <tr style=\"text-align: right;\">\n",
       "      <th></th>\n",
       "      <th>Title</th>\n",
       "      <th>Article</th>\n",
       "      <th>Incident Name</th>\n",
       "    </tr>\n",
       "  </thead>\n",
       "  <tbody>\n",
       "    <tr>\n",
       "      <th>0</th>\n",
       "      <td>9 Reported Dead in Workplace Shooting</td>\n",
       "      <td>The rampage, the latest in a series of America...</td>\n",
       "      <td>Hartford Beer Company</td>\n",
       "    </tr>\n",
       "    <tr>\n",
       "      <th>1</th>\n",
       "      <td>Gunman in Mass Shooting Had Bumpy Life</td>\n",
       "      <td>He was bankrupt by age 24, when, court filings...</td>\n",
       "      <td>Hartford Beer Company</td>\n",
       "    </tr>\n",
       "    <tr>\n",
       "      <th>2</th>\n",
       "      <td>Gunman Came Prepared to Connecticut Workplace ...</td>\n",
       "      <td>When Omar S. Thornton came to the Hartford Dis...</td>\n",
       "      <td>Hartford Beer Company</td>\n",
       "    </tr>\n",
       "    <tr>\n",
       "      <th>3</th>\n",
       "      <td>Remembering the Lives Lost in a Warehouse Rampage</td>\n",
       "      <td>Mr. Pepin, who was 60, had driven beer trucks ...</td>\n",
       "      <td>Hartford Beer Company</td>\n",
       "    </tr>\n",
       "  </tbody>\n",
       "</table>\n",
       "</div>"
      ],
      "text/plain": [
       "                                               Title  \\\n",
       "0              9 Reported Dead in Workplace Shooting   \n",
       "1             Gunman in Mass Shooting Had Bumpy Life   \n",
       "2  Gunman Came Prepared to Connecticut Workplace ...   \n",
       "3  Remembering the Lives Lost in a Warehouse Rampage   \n",
       "\n",
       "                                             Article          Incident Name  \n",
       "0  The rampage, the latest in a series of America...  Hartford Beer Company  \n",
       "1  He was bankrupt by age 24, when, court filings...  Hartford Beer Company  \n",
       "2  When Omar S. Thornton came to the Hartford Dis...  Hartford Beer Company  \n",
       "3  Mr. Pepin, who was 60, had driven beer trucks ...  Hartford Beer Company  "
      ]
     },
     "execution_count": 9,
     "metadata": {},
     "output_type": "execute_result"
    }
   ],
   "source": [
    "# #Hartford Beer Company\n",
    "url5='http://www.nytimes.com/2010/08/04/nyregion/04shooting.html'\n",
    "url6='http://www.nytimes.com/2010/08/04/nyregion/04gunman.html'\n",
    "url7='http://www.nytimes.com/2010/08/05/nyregion/05shooting.html'\n",
    "url8='http://www.nytimes.com/2010/08/05/nyregion/05vics.html'\n",
    "urls=[url5, url6,url7,url8]\n",
    "Nyt_HBC =pd.DataFrame()\n",
    "for i in urls: \n",
    "    a=Article(i, language='en')\n",
    "    a.download()\n",
    "    a.parse()\n",
    "    Nyt_HBC= Nyt_HBC.append([[a.title, a.text]], ignore_index=True)\n",
    "Nyt_HBC.columns=['Title','Article']\n",
    "Nyt_HBC['Incident Name'] = 'Hartford Beer Company'\n",
    "Nyt_HBC"
   ]
  },
  {
   "cell_type": "code",
   "execution_count": null,
   "metadata": {
    "collapsed": true
   },
   "outputs": [],
   "source": [
    "#Gabby Giffords Shooting URLS\n",
    "url9='http://www.nytimes.com/2011/01/09/us/politics/09giffords.html'\n",
    "url10='http://www.nytimes.com/2011/01/09/us/politics/09profileweb.html'\n",
    "url11='http://www.nytimes.com/2011/01/09/us/politics/09capital.html'\n",
    "url12='http://www.nytimes.com/2011/01/09/us/09judge.html'\n",
    "url13='http://www.nytimes.com/2011/01/09/us/politics/09shooter.html'\n",
    "url14='http://www.nytimes.com/2011/01/09/us/politics/09bai.html'\n",
    "url15='http://www.nytimes.com/2011/01/10/us/10giffords.html'\n",
    "url16='https://thecaucus.blogs.nytimes.com/2011/01/09/live-blog-latest-developments-on-arizona-shooting/?_r=0'\n",
    "url17='http://www.nytimes.com/2011/01/10/us/politics/10capital.html'\n",
    "url18='http://www.nytimes.com/2011/01/10/us/10religious.html'\n",
    "url19='http://www.nytimes.com/2011/01/10/us/10arizona.html'\n",
    "url20='http://www.nytimes.com/2011/01/10/opinion/10mon1.html'\n",
    "url21='http://www.nytimes.com/2011/01/10/us/10iht-letter10.html'\n",
    "url22='https://learning.blogs.nytimes.com/2011/01/09/will-the-arizona-shootings-change-our-political-culture/'\n",
    "url23='https://learning.blogs.nytimes.com/2011/01/09/ways-to-teach-about-the-arizona-shootings/'\n",
    "url24='http://www.nytimes.com/2011/01/10/us/politics/10security.html'\n",
    "url25='http://www.nytimes.com/2011/01/10/sports/10shoot.html'\n",
    "url26='http://www.nytimes.com/2011/01/10/us/10judge.html'\n",
    "url27='http://www.nytimes.com/2011/01/10/us/10reconstruct.html'\n",
    "url28='http://www.nytimes.com/2011/01/10/us/politics/10politics.html'\n",
    "url29='http://www.nytimes.com/2011/01/10/us/10staff.html'\n",
    "url30='http://www.nytimes.com/2011/01/10/health/10medical.html'\n",
    "url31='http://www.nytimes.com/2011/01/10/opinion/10collins.html'\n",
    "url32="
   ]
  },
  {
   "cell_type": "code",
   "execution_count": null,
   "metadata": {
    "collapsed": true
   },
   "outputs": [],
   "source": [
    "urls=[url5, url6,url7,url8]\n",
    "Nyt_HBC =pd.DataFrame()\n",
    "for i in urls: \n",
    "    a=Article(i, language='en')\n",
    "    a.download()\n",
    "    a.parse()\n",
    "    Nyt_HBC= Nyt_HBC.append([[a.title, a.text]], ignore_index=True)\n",
    "Nyt_HBC.columns=['Title','Article']\n",
    "Nyt_HBC['Incident Name'] = 'Tucscon, Arizona - Gabby Giffords'\n",
    "Nyt_HBC"
   ]
  },
  {
   "cell_type": "code",
   "execution_count": null,
   "metadata": {
    "collapsed": true
   },
   "outputs": [],
   "source": [
    "url=['No Articles']\n",
    "Nyt_ASL =pd.DataFrame() \n",
    "a=Article(url, language='en')\n",
    "a.download()\n",
    "a.parse()\n",
    "Nyt_ASL= Nyt_ASL.append([[a.title, a.text]], ignore_index=True)\n",
    "Nyt_ASL.columns=['Title','Article']"
   ]
  }
 ],
 "metadata": {
  "kernelspec": {
   "display_name": "Python 2",
   "language": "python",
   "name": "python2"
  },
  "language_info": {
   "codemirror_mode": {
    "name": "ipython",
    "version": 2
   },
   "file_extension": ".py",
   "mimetype": "text/x-python",
   "name": "python",
   "nbconvert_exporter": "python",
   "pygments_lexer": "ipython2",
   "version": "2.7.13"
  }
 },
 "nbformat": 4,
 "nbformat_minor": 2
}
