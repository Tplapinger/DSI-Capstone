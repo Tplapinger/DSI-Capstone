{
 "cells": [
  {
   "cell_type": "code",
   "execution_count": 2,
   "metadata": {
    "collapsed": true
   },
   "outputs": [],
   "source": [
    "from newspaper import Article"
   ]
  },
  {
   "cell_type": "code",
   "execution_count": 7,
   "metadata": {
    "collapsed": true
   },
   "outputs": [],
   "source": [
    "url='http://www.nytimes.com/1999/04/26/us/terror-littleton-gun-debate-renewed-battle-over-weapons-control-both-sides-use.html'\n",
    "article=Article(url)"
   ]
  },
  {
   "cell_type": "code",
   "execution_count": 8,
   "metadata": {
    "collapsed": true
   },
   "outputs": [],
   "source": [
    "article.download()"
   ]
  },
  {
   "cell_type": "code",
   "execution_count": 9,
   "metadata": {},
   "outputs": [
    {
     "data": {
      "text/plain": [
       "u'<!DOCTYPE html>\\n<!--[if (gt IE 9)|!(IE)]> <!--> <html lang=\"en\" class=\"no-js section-us format-long tone-news app-article page-theme-standard has-top-ad type-size-small\" itemid=\"https://www.nytimes.com/1999/04/26/us/terror-littleton-gun-debate-renewed-battle-over-weapons-control-both-sides-use.html\" itemtype=\"http://schema.org/NewsArticle\"  itemscope xmlns:og=\"http://opengraphprotocol.org/schema/\"> <!--<![endif]-->\\n<!--[if IE 9]> <html lang=\"en\" class=\"no-js ie9 lt-ie10 section-us format-long tone-news app-article page-theme-standard has-top-ad type-size-small\" xmlns:og=\"http://opengraphprotocol.org/schema/\"> <![endif]-->\\n<!--[if IE 8]> <html lang=\"en\" class=\"no-js ie8 lt-ie10 lt-ie9 section-us format-long tone-news app-article page-theme-standard has-top-ad type-size-small\" xmlns:og=\"http://opengraphprotocol.org/schema/\"> <![endif]-->\\n<!--[if (lt IE 8)]> <html lang=\"en\" class=\"no-js lt-ie10 lt-ie9 lt-ie8 section-us format-long tone-news app-article page-theme-standard has-top-ad type-size-small\" xmlns:og=\"http://opengraphprotocol.org/schema/\"> <![endif]-->\\n<head>\\n    <title>TERROR IN LITTLETON: THE GUN DEBATE; In Renewed Battle Over Weapons Control, Both Sides Use Attack to Advance Agendas - The New York Times</title>\\n        <meta http-equiv=\"X-UA-Compatible\" content=\"IE=edge,chrome=1\" />\\n    <meta name=\"viewport\" content=\"width=device-width, initial-scale=1, maximum-scale=1\" />\\n<link rel=\"shortcut icon\" href=\"https://static01.nyt.com/favicon.ico\" />\\n<link rel=\"apple-touch-icon-precomposed\" sizes=\"144\\xd7144\" href=\"https://static01.nyt.com/images/icons/ios-ipad-144x144.png\" />\\n<link rel=\"apple-touch-icon-precomposed\" sizes=\"114\\xd7114\" href=\"https://static01.nyt.com/images/icons/ios-iphone-114x144.png\" />\\n<link rel=\"apple-touch-icon-precomposed\" href=\"https://static01.nyt.com/images/icons/ios-default-homescreen-57x57.png\" />\\n<meta name=\"sourceApp\" content=\"nyt-v5\" />\\n<meta id=\"applicationName\" name=\"applicationName\" content=\"article\" />\\n<meta id=\"foundation-build-id\" name=\"foundation-build-id\" content=\"\" />\\n<link rel=\"canonical\" href=\"https://www.nytimes.com/1999/04/26/us/terror-littleton-gun-debate-renewed-battle-over-weapons-control-both-sides-use.html\" />\\n<link rel=\"alternate\" media=\"only screen and (max-width: 640px)\" href=\"http://mobile.nytimes.com/1999/04/26/us/terror-littleton-gun-debate-renewed-battle-over-weapons-control-both-sides-use.html\" />\\n<link rel=\"alternate\" media=\"handheld\" href=\"http://mobile.nytimes.com/1999/04/26/us/terror-littleton-gun-debate-renewed-battle-over-weapons-control-both-sides-use.html\" />\\n<meta property=\"al:android:url\" content=\"nytimes://reader/id/1999042600000404136\" />\\n<meta property=\"al:android:package\" content=\"com.nytimes.android\" />\\n<meta property=\"al:android:app_name\" content=\"NYTimes\" />\\n<meta name=\"twitter:app:name:googleplay\" content=\"NYTimes\" />\\n<meta name=\"twitter:app:id:googleplay\" content=\"com.nytimes.android\" />\\n<meta name=\"twitter:app:url:googleplay\" content=\"nytimes://reader/id/1999042600000404136\" />\\n<link rel=\"alternate\" href=\"android-app://com.nytimes.android/nytimes/reader/id/1999042600000404136\" />\\n<meta property=\"al:iphone:url\" content=\"nytimes://www.nytimes.com/1999/04/26/us/terror-littleton-gun-debate-renewed-battle-over-weapons-control-both-sides-use.html\" />\\n<meta property=\"al:iphone:app_store_id\" content=\"284862083\" />\\n<meta property=\"al:iphone:app_name\" content=\"NYTimes\" />\\n<meta property=\"al:ipad:url\" content=\"nytimes://www.nytimes.com/1999/04/26/us/terror-littleton-gun-debate-renewed-battle-over-weapons-control-both-sides-use.html\" />\\n<meta property=\"al:ipad:app_store_id\" content=\"357066198\" />\\n<meta property=\"al:ipad:app_name\" content=\"NYTimes\" />\\n<meta name=\"robots\" content=\"noarchive\" />\\n<meta itemprop=\"alternativeHeadline\" name=\"hdl_p\" content=\"TERROR IN LITTLETON: THE GUN DEBATE; In Renewed Battle Over Weapons Control, Both Sides Use Attack to Advance Agendas\" />\\n<meta name=\"channels\" content=\"\" />\\n<meta itemprop=\"description\" name=\"description\" content=\"Organizations on both sides of debate over gun control have sought to use shootings at Columbine High School in Littleton, Colo, that took 15 lives to advance legislative agendas or deflect those of opponents; television appearances by Sarah Brady, chairwoman of Handgun Control, and Wayne LaPierre, vice president of National Rifle Assn, noted; at stake are proposals that could limit how guns are sold, or restrict types of weapons for sale--such as assault-style semiautomatic pistol that found its way into hands of two students accused of murders; photo (M)\" />\\n<meta name=\"genre\" itemprop=\"genre\" content=\"News\" />\\n<meta itemprop=\"identifier\" name=\"articleid\" content=\"1999042600000404136\" />\\n<meta itemprop=\"usageTerms\" name=\"usageTerms\" content=\"https://www.nytimes.com/content/help/rights/sale/terms-of-sale.html\" />\\n<meta itemprop=\"inLanguage\" content=\"en-US\" />\\n<meta name=\"hdl\" content=\"TERROR IN LITTLETON: THE GUN DEBATE; In Renewed Battle Over Weapons Control, Both Sides Use Attack to Advance Agendas\" />\\n<meta name=\"col\" content=\"TERROR IN LITTLETON: THE GUN DEBATE\" id=\"column-name\" />\\n<meta name=\"pdate\" content=\"19990426\" />\\n<meta name=\"utime\" content=\"19990426010000\" />\\n<meta name=\"ptime\" content=\"19990426010000\" />\\n<meta name=\"DISPLAYDATE\" content=\"April 26, 1999\" />\\n<meta name=\"dat\" content=\"April 26, 1999\" />\\n<meta name=\"lp\" content=\"Organizations on both sides of debate over gun control have sought to use shootings at Columbine High School in Littleton, Colo, that took 15 lives to advance legislative agendas or deflect those of opponents; television appearances by Sarah Brady, chairwoman of Handgun Control, and Wayne LaPierre, vice president of National Rifle Assn, noted; at stake are proposals that could limit how guns are sold, or restrict types of weapons for sale--such as assault-style semiautomatic pistol that found its way into hands of two students accused of murders; photo (M)\" />\\n<meta name=\"msapplication-starturl\" content=\"http://www.nytimes.com\" />\\n<meta name=\"cre\" content=\"The New York Times\" />\\n<meta name=\"slug\" content=\"26lobb$02\" />\\n<meta property=\"article:collection\" content=\"https://static01.nyt.com/services/json/sectionfronts/us/index.jsonp\" />\\n<meta name=\"sectionfront_jsonp\" content=\"https://static01.nyt.com/services/json/sectionfronts/us/index.jsonp\" />\\n<meta property=\"og:url\" content=\"https://www.nytimes.com/1999/04/26/us/terror-littleton-gun-debate-renewed-battle-over-weapons-control-both-sides-use.html\" />\\n<meta property=\"og:type\" content=\"article\" />\\n<meta property=\"og:title\" content=\"TERROR IN LITTLETON: THE GUN DEBATE; In Renewed Battle Over Weapons Control, Both Sides Use Attack to Advance Agendas\" />\\n<meta property=\"og:description\" content=\"Organizations on both sides of debate over gun control have sought to use shootings at Columbine High School in Littleton, Colo, that took 15 lives to advance legislative agendas or deflect those of opponents; television appearances by Sarah Brady, chairwoman of Handgun Control, and Wayne LaPierre, vice president of National Rifle Assn, noted; at stake are proposals that could limit how guns are sold, or restrict types of weapons for sale--such as assault-style semiautomatic pistol that found its way into hands of two students accused of murders; photo (M)\" />\\n<meta property=\"article:published\" itemprop=\"datePublished\" content=\"1999-04-26T01:00:00-04:00\" />\\n<meta property=\"article:modified\" itemprop=\"dateModified\" content=\"1999-04-26T01:00:00-04:00\" />\\n<meta property=\"article:section\" itemprop=\"articleSection\" content=\"U.S.\" />\\n<meta property=\"article:section-taxonomy-id\" itemprop=\"articleSection\" content=\"23FD6C8B-62D5-4CEA-A331-6C2A9A1223BE\" />\\n<meta property=\"article:section_url\" content=\"https://www.nytimes.com/pages/national/index.html\" />\\n<meta property=\"article:top-level-section\" content=\"us\" />\\n<meta property=\"fb:app_id\" content=\"9869919170\" />\\n<meta name=\"twitter:site\" value=\"@nytimes\" />\\n<meta property=\"twitter:url\" content=\"https://www.nytimes.com/1999/04/26/us/terror-littleton-gun-debate-renewed-battle-over-weapons-control-both-sides-use.html\" />\\n<meta property=\"twitter:title\" content=\"TERROR IN LITTLETON: THE GUN DEBATE; In Renewed Battle Over Weapons Control, Both Sides Use Attack to Advance Agendas\" />\\n<meta property=\"twitter:description\" content=\"Organizations on both sides of debate over gun control have sought to use shootings at Columbine High School in Littleton, Colo, that took 15 lives to advance legislative agendas or deflect those of opponents; television appearances by Sarah Brady, chairwoman of Handgun Control, and Wayne LaPierre, vice president of National Rifle Assn, noted; at stake are proposals that could limit how guns are sold, or restrict types of weapons for sale--such as assault-style semiautomatic pistol that found its way into hands of two students accused of murders; photo (M)\" />\\n<meta name=\"author\" content=\"Barry Meier\" />\\n<meta name=\"tone\" content=\"news\" id=\"article-tone\" />\\n<meta name=\"byl\" content=\"By BARRY MEIER\" />\\n<meta name=\"PT\" content=\"article\" />\\n<meta name=\"CG\" content=\"us\" />\\n<meta name=\"SCG\" content=\"\" />\\n<meta name=\"PST\" content=\"News\" />\\n<meta name=\"tom\" content=\"News\" />\\n<meta name=\"edt\" content=\"Late Edition - Final\" />\\n<meta property=\"og:image\" content=\"https://static01.nyt.com/images/icons/t_logo_291_black.png\" />\\n<meta property=\"twitter:image\" content=\"https://static01.nyt.com/images/icons/t_logo_150_black.png\" />\\n<meta name=\"twitter:card\" value=\"summary\" />\\n<meta property=\"article:author\" content=\"https://www.nytimes.com/by/barry-meier\" />\\n<meta property=\"article:tag\" content=\"LITTLETON (COLO)\" />\\n<meta name=\"geo\" content=\"LITTLETON (COLO)\" />\\n<meta property=\"article:tag\" content=\"HANDGUN CONTROL\" />\\n<meta name=\"org\" content=\"HANDGUN CONTROL\" />\\n<meta property=\"article:tag\" content=\"NATIONAL RIFLE ASSN\" />\\n<meta name=\"org\" content=\"NATIONAL RIFLE ASSN\" />\\n<meta property=\"article:tag\" content=\"BRADY, SARAH\" />\\n<meta name=\"per\" content=\"BRADY, SARAH\" />\\n<meta property=\"article:tag\" content=\"LAPIERRE, WAYNE\" />\\n<meta name=\"per\" content=\"LAPIERRE, WAYNE\" />\\n<meta property=\"article:tag\" content=\"HARRIS, ERIC\" />\\n<meta name=\"per\" content=\"HARRIS, ERIC\" />\\n<meta property=\"article:tag\" content=\"KLEBOLD, DYLAN\" />\\n<meta name=\"per\" content=\"KLEBOLD, DYLAN\" />\\n<meta property=\"article:tag\" content=\"MURDERS AND ATTEMPTED MURDERS\" />\\n<meta name=\"des\" content=\"MURDERS AND ATTEMPTED MURDERS\" />\\n<meta property=\"article:tag\" content=\"EDUCATION AND SCHOOLS\" />\\n<meta name=\"des\" content=\"EDUCATION AND SCHOOLS\" />\\n<meta property=\"article:tag\" content=\"BIOGRAPHICAL INFORMATION\" />\\n<meta name=\"des\" content=\"BIOGRAPHICAL INFORMATION\" />\\n<meta property=\"article:tag\" content=\"GUN CONTROL\" />\\n<meta name=\"des\" content=\"GUN CONTROL\" />\\n<meta property=\"article:tag\" content=\"LAW AND LEGISLATION\" />\\n<meta name=\"des\" content=\"LAW AND LEGISLATION\" />\\n<meta property=\"article:tag\" content=\"FIREARMS\" />\\n<meta name=\"des\" content=\"FIREARMS\" />\\n<meta name=\"keywords\" content=\"LITTLETON (COLO),HANDGUN CONTROL,NATIONAL RIFLE ASSN,BRADY  SARAH,LAPIERRE  WAYNE,HARRIS  ERIC,KLEBOLD  DYLAN,MURDERS AND ATTEMPTED MURDERS,EDUCATION AND SCHOOLS,BIOGRAPHICAL INFORMATION,GUN CONTROL,LAW AND LEGISLATION,FIREARMS\" />\\n<meta name=\"dfp-ad-unit-path\" content=\"us\" />\\n<meta name=\"dfp-amazon-enabled\" content=\"false\" />\\n<link rel=\"alternate\" type=\"application/json+oembed\" href=\"https://www.nytimes.com/svc/oembed/json/?url=https%3A%2F%2Fwww.nytimes.com%2F1999%2F04%2F26%2Fus%2Fterror-littleton-gun-debate-renewed-battle-over-weapons-control-both-sides-use.html\" title=\"TERROR IN LITTLETON: THE GUN DEBATE; In Renewed Battle Over Weapons Control, Both Sides Use Attack to Advance Agendas\" />\\n    \\n            <link id=\"legacy-zam5nzz\" rel=\"stylesheet\" type=\"text/css\" href=\"https://typeface.nyt.com/css/zam5nzz.css\" media=\"all\" />\\n    <!--[if (gt IE 9)|!(IE)]> <!-->\\n        <link rel=\"stylesheet\" type=\"text/css\" media=\"screen\" href=\"https://a1.nyt.com/assets/article/20170816-103801/css/article/story/styles.css\" />\\n    <!--<![endif]-->\\n    <!--[if lte IE 9]>\\n        <link rel=\"stylesheet\" type=\"text/css\" media=\"screen\" href=\"https://a1.nyt.com/assets/article/20170816-103801/css/article/story/styles-ie.css\" />\\n    <![endif]-->\\n<link rel=\"stylesheet\" type=\"text/css\" media=\"print\" href=\"https://a1.nyt.com/assets/article/20170816-103801/css/article/story/styles-print.css\" />\\n                <!--  begin abra  -->\\n<script>\\nvar NYTD=NYTD||{};NYTD.Abra=function(t){\"use strict\";function n(t){var n=i[t];return n&&n[1]||null}function e(t,n){if(t){var e,o,r=n[0],i=n[1],u=0,c=0;if(1!==i.length||4294967296!==i[0])for(e=a(t+\" \"+r)>>>0,u=0,c=0;o=i[u++];)if(e<(c+=o[0]))return o}}function o(n,e,o,a){s+=\"subject=\"+n+\"&test=\"+encodeURIComponent(e)+\"&variant=\"+encodeURIComponent(o||0)+\"&url=\"+encodeURIComponent(t.location.href)+\"&instant=1&skipAugment=true\\\\n\",a&&f.push(a),c||(c=t.setTimeout(r,0))}function r(){var n=new t.XMLHttpRequest,e=f;n.withCredentials=!0,n.open(\"POST\",u),n.onreadystatechange=function(){var t,o;if(4==n.readyState)for(t=200==n.status?null:new Error(n.statusText);o=e.shift();)o(t)},n.send(s),s=\"\",f=[],c=null}function a(t){for(var n,e,o,r,a,i,u,c=0,s=0,f=[],l=[n=1732584193,e=4023233417,~n,~e,3285377520],h=[],p=t.length;s<=p;)h[s>>2]|=(s<p?t.charCodeAt(s):128)<<8*(3-s++%4);for(h[u=p+8>>2|15]=p<<3;c<=u;c+=16){for(n=l,s=0;s<80;n=[0|[(i=((t=n[0])<<5|t>>>27)+n[4]+(f[s]=s<16?~~h[c+s]:i<<1|i>>>31)+1518500249)+((e=n[1])&(o=n[2])|~e&(r=n[3])),a=i+(e^o^r)+341275144,i+(e&o|e&r|o&r)+882459459,a+1535694389][0|s++/20],t,e<<30|e>>>2,o,r])i=f[s-3]^f[s-8]^f[s-14]^f[s-16];for(s=5;s;)l[--s]=l[s]+n[s]|0}return l[0]}var i,u,c,s=\"\",f=[];return n.init=function(n,r){var a,c,s,f,l,h=[],p=(t.document.cookie.match(/(^|;) *nyt-a=([^;]*)/)||[])[2],d=(t.document.cookie.match(/(^|;) *ab7=([^;]*)/)||[])[2],m=new RegExp(\"[?&]abra(=([^&#]*))\"),g=m.exec(t.location.search);if(g&&g[2]&&(d=d?g[2]+\"&\"+d:g[2]),i)throw new Error(\"can\\'t init twice\");if(u=r,i={},d)for(d=decodeURIComponent(d).split(\"&\"),a=0;a<d.length;a++)l=d[a].split(\"=\"),l[0]in i||(i[l[0]]=[,l[1],1],o(\"ab-alloc\",l[0],l[1]),l[1]&&h.push(l[0]+\"=\"+l[1]));for(a=0;a<n.length;a++)s=n[a],(c=s[0])in i||(f=e(p,s)||[],i[c]=f,f[1]&&h.push(c.replace(/[^\\\\w-]/g)+\"=\"+(\"\"+f[1]).replace(/[^\\\\w-]/g)),f[2]&&o(\"ab-alloc\",c,f[1]));h.length&&t.document.documentElement.setAttribute(\"data-nyt-ab\",h.join(\" \"))},n.reportExposure=function(n,e){var r=i[n];r&&r[2]?o(\"ab-expose\",n,r[1],e):e&&t.setTimeout(function(){e(null)},0)},n}(this);\\n</script>\\n<script>NYTD.Abra.init([[\"www-story-reader-satisfaction\",[[21474837,\"Control\",1],[21474836,\"VariantA\",1],[4252017623,null,0]]],[\"www-signup-favor-test\",[[2147483648,\"0\",1],[2147483648,\"1\",1]]],[\"www-fixed-nav-subscribe-test\",[[4294967296,\"1\",1]]],[\"www-ad-diagnostic\",[[21474837,\"1\",0],[4273492459,null,0]]],[\"www-fabrik-off\",[[4294967296,\"1\",1]]],[\"www-auto-newsletter\",[[4294967296,\"1\",1]]],[\"www-STORY_3bundlePayflow-v3\",[[2147483648,\"control\",1],[2147483648,\"1\",1]]],[\"Liftoff\",[[19520627,\"0\",1],[19520626,\"1\",1],[19520627,\"2\",1],[19520626,\"3\",1],[19520626,\"4\",1],[19520627,\"5\",1],[14839112,\"0\",1],[14839112,\"1\",1],[14839112,\"2\",1],[14839112,\"3\",1],[14839112,\"4\",1],[14839112,\"5\",1],[34359738,\"8\",1],[34359738,\"9\",1],[34359739,\"12\",1],[34359738,\"13\",1],[34359739,\"16\",1],[34359738,\"17\",1],[3882650435,null,0]]],[\"www-STRIK-nl-regi\",[[1434519077,\"control\",1],[1430224110,\"1\",1],[1430224109,\"2\",1],[0,null,0]]],[\"www-indexAsHeaderBidder\",[[4294967296,\"2\",1]]],[\"EC_SampleTest\",[[2147483648,\"variantA\",0],[2147483648,\"variantB\",0]]],[\"EC_DigiAbandonmentTest\",[[4294967296,\"sendAbandonmentEmail\",1]]],[\"EC_HdAbandonmentTest\",[[4294967296,\"sendAbandonmentEmail\",1]]],[\"EC_CrosswordsUpsellTest\",[[2147483648,\"control\",1],[2147483648,\"upsell\",1]]],[\"EC_NewSubOnboardingTest\",[[2147483648,\"control\",1],[2147483648,\"sov1\",1]]],[\"PaywallAU\",[[429496730,\"0\",1],[3865470566,\"1\",1]]]], \\'//et.nytimes.com/\\')</script>\\n<!--  end abra  -->\\n\\n                <script id=\"page-config-data\" type=\"text/json\">\\n{\"pageconfig\":{\"ledeMediaSize\":\"none\",\"keywords\":[\"TERROR IN LITTLETON: THE GUN DEBATE\",\"article-long\"],\"collections\":[]}}</script>\\n<script id=\"display_overrides\">\\n            []    </script>\\n\\n\\t\\t\\t    <script type=\"text/javascript\">\\n        (function() {\\n            var s = document.getElementsByTagName(\"script\")[0];\\n            var mediaDotNet = \\'https://contextual.media.net/bidexchange.js?cid=8CU2553YN&amp;https=1\\';\\n            var indexBid = \\'https://js-sec.indexww.com/ht/p/183760-203795517182556.js\\';\\n            var timeout = 300;\\n\\n            function loadScript(tagSrc) {\\n                if (tagSrc.substr(0, 4) !== \\'http\\') {\\n                    var isSSL = \\'https:\\' == document.location.protocol;\\n                    tagSrc = (isSSL ? \\'https:\\' : \\'\\') + tagSrc;\\n                }\\n                var scriptTag = document.createElement(\\'script\\'),\\n                    placeTag = document.getElementsByTagName(\"script\")[0];\\n                scriptTag.type = \\'text/javascript\\';\\n                scriptTag.async = true;\\n                scriptTag.src = tagSrc;\\n                s.parentNode.insertBefore(scriptTag, s);\\n            }\\n\\n            function loadGPT() {\\n                if (!window.advBidxc.isAdServerLoaded) {\\n                    loadScript(\\'//www.googletagservices.com/tag/js/gpt.js\\');\\n                    window.advBidxc.isAdServerLoaded = true;\\n                }\\n            }\\n\\n            window.advBidxc = window.advBidxc || {};\\n            window.advBidxc.renderAd = function () {};\\n            window.advBidxc.startTime = new Date().getTime();\\n            window.advBidxc.customerId = \"8CU2553YN\"; //Media.net Customer ID\\n            window.advBidxc.timeout = 300;\\n            window.advBidxc.loadGPT = setTimeout(loadGPT, window.advBidxc.timeout);\\n\\n            // append index\\n            var a = document.createElement(\"script\");\\n            a.type = \"text/javascript\";\\n            a.async = true;\\n            a.src = indexBid;\\n            s.parentNode.insertBefore(a, s);\\n\\n            // append media.net\\n            var b = document.createElement(\"script\");\\n            b.type = \"text/javascript\";\\n            b.async = true;\\n            b.src = mediaDotNet;\\n            s.parentNode.insertBefore(b, s);\\n        })();\\n    </script>\\n\\n    <!-- A9 Initialization Script -->\\n    <script type=\"text/javascript\">\\n        var amznads = amznads || {};\\n        amznads.asyncParams = {\\n            \\'id\\': \\'3030\\',\\n            \\'callbackFn\\': function() {\\n                try {\\n                    amznads.setTargetingForGPTAsync(\\'amznslots\\');\\n                } catch (e) { }\\n            },\\n            \\'timeout\\': 1000\\n        };\\n\\n        (function() {\\n            var a, s = document.getElementsByTagName(\"script\")[0];\\n            a = document.createElement(\"script\");\\n            a.type = \"text/javascript\";\\n            a.async = true;\\n            a.src = \"https://c.amazon-adsystem.com/aax2/amzn_ads.js\";\\n            s.parentNode.insertBefore(a, s);\\n        })();\\n    </script>\\n\\t<script type=\"text/json\" id=\"trending-link-json\">\\n\\t</script>\\n\\n<!--esi\\n<script id=\"user-info-data\" type=\"application/json\">\\n<esi:include src=\"/svc/web-products/userinfo-v3.json\" />\\n</script>\\n-->\\n<script id=\"magnum-feature-flags\" type=\"application/json\">[\"limitFabrikSave\",\"moreFollowSuggestions\",\"unfollowComments\",\"scoopTool\",\"videoVHSCover\",\"videoVHSShareTools\",\"videoVHSLive\",\"videoVHSNewControls\",\"videoVHSEmbeddedOnly\",\"allTheEmphases\",\"freeTrial\",\"dedupeWhatsNext\",\"trendingPageLinks\",\"sprinklePaidPost\",\"headerBidder\",\"standardizeWhatsNextCollection\",\"onlyLayoutA\",\"simple\",\"simpleExtendedByline\",\"collectionsWhatsNext\",\"mobileMediaViewer\",\"podcastInLede\",\"MovieTickets\",\"MoreInSubsectionFix\",\"seriesIssueMarginalia\",\"serverSideCollectionUrls\",\"multipleBylines\",\"fabrikWebsocketsOnly\",\"translationLinks\",\"papihttps\",\"verticalFullBleed\",\"updateRestaurantReservations\",\"mapDining\",\"newsletterInlineModule\",\"PersonalizationApiUpdate\",\"a9HeaderEnabled\",\"removeInternationalEdition\",\"headlineBalancer\",\"clientSideABRA\",\"newsletterTitleTracking\",\"surveyInterstitial\",\"removeFBMessengerPromo\",\"removeMarginaliaAbTest\",\"paidpostSprinklingFix\",\"abraOverrideVersion\",\"headlineBalancerEverywhere\",\"signupFavor\",\"lazyloadOakImages\",\"mapleFreeTrial\",\"adQuerySupportForMultipleUserAddedKeywords\",\"removeSectionDependentAdLogicForJanuary\",\"oakUpdateAdStride\",\"autoPlaceNewsletter\",\"piiBlockDFP\",\"adExclusiveIERibbonCheck\",\"FlexAdDoubleHeightTracking\",\"didScroll\",\"supportedByAdFullBleed\",\"anchorsHttps\",\"oakBylineMargin\",\"TopFlexAdSiteWide\",\"loadArticleOptimizely\",\"oakStyleTouchups\",\"oakBasicHeader\",\"serveOakOnVI\",\"opinionHeadline\",\"indexAsHeaderBidder\",\"newsletterRegiTest\",\"bookReviewBuyButton\",\"caslOpt\"]</script>\\n<script id=\"mpulse\">\\n(function(){\\n    if (window.BOOMR && window.BOOMR.version) { return; }\\n    var dom,doc,where,iframe = document.createElement(\"iframe\"),win = window;\\n\\n    function boomerangSaveLoadTime(e) {\\n        win.BOOMR_onload=(e && e.timeStamp) || new Date().getTime();\\n    }\\n    if (win.addEventListener) {\\n        win.addEventListener(\"load\", boomerangSaveLoadTime, false);\\n    } else if (win.attachEvent) {\\n        win.attachEvent(\"onload\", boomerangSaveLoadTime);\\n    }\\n\\n    iframe.src = \"javascript:void(0)\";\\n    iframe.title = \"\"; iframe.role = \"presentation\";\\n    (iframe.frameElement || iframe).style.cssText = \"width:0;height:0;border:0;display:none;\";\\n    where = document.getElementsByTagName(\"script\")[0];\\n    where.parentNode.insertBefore(iframe, where);\\n\\n    try {\\n        doc = iframe.contentWindow.document;\\n    } catch(e) {\\n        dom = document.domain;\\n        iframe.src=\"javascript:var d=document.open();d.domain=\\'\"+dom+\"\\';void(0);\";\\n        doc = iframe.contentWindow.document;\\n    }\\n    doc.open()._l = function() {\\n        var js = this.createElement(\"script\");\\n        if (dom) { this.domain = dom; }\\n        js.id = \"boomr-if-as\";\\n        js.src = \"//c.go-mpulse.net/boomerang/\" +\\n        \"ATH8A-MAMN8-XPXCH-N5KAX-8D239\";\\n        BOOMR_lstart=new Date().getTime();\\n        this.body.appendChild(js);\\n    };\\n    doc.write(\\'<body onload=\"document._l();\">\\');\\n    doc.close();\\n})();\\n</script>\\n<script>\\nvar require = {\\n    baseUrl: \\'https://a1.nyt.com/assets/\\',\\n    waitSeconds: 20,\\n    paths: {\\n        \\'foundation\\': \\'article/20170816-103801/js/foundation\\',\\n        \\'shared\\': \\'article/20170816-103801/js/shared\\',\\n        \\'article\\': \\'article/20170816-103801/js/article\\',\\n        \\'application\\': \\'article/20170816-103801/js/article/story\\',\\n        \\'videoFactory\\': \\'https://static01.nyt.com/js2/build/video/2.0/videofactoryrequire\\',\\n        \\'videoPlaylist\\': \\'https://static01.nyt.com/js2/build/video/players/extended/2.0/appRequire\\',\\n        \\'auth/mtr\\': \\'https://static01.nyt.com/js/mtr\\',\\n        \\'auth/growl\\': \\'https://static01.nyt.com/js/auth/growl/default\\',\\n        \\'vhs\\': \\'https://static01.nyt.com/video/vhs/build/vhs-2.x.min\\',\\n        \\'vhs3\\': \\'https://static01.nyt.com/video-static/vhs3/vhs.min\\'\\n    },\\n    map: {\\n        \\'*\\': {\\n            \\'story/main\\': \\'article/story/main\\'\\n        }\\n    }\\n};\\n</script>\\n<!--[if (gte IE 9)|!(IE)]> <!-->\\n<script data-main=\"foundation/main\" src=\"https://a1.nyt.com/assets/article/20170816-103801/js/foundation/lib/framework.js\"></script>\\n<!--<![endif]-->\\n<!--[if lt IE 9]>\\n<script>\\n    require.map[\\'*\\'][\\'foundation/main\\'] = \\'foundation/legacy_main\\';\\n</script>\\n<script data-main=\"foundation/legacy_main\" src=\"https://a1.nyt.com/assets/article/20170816-103801/js/foundation/lib/framework.js\"></script>\\n<![endif]-->\\n    <script>\\n    require([\\'foundation/main\\'], function () {\\n        require([\\'auth/mtr\\', \\'auth/growl\\']);\\n    });\\n    </script>\\n</head>\\n\\n<body>\\n    \\n    <style>\\n    .lt-ie10 .messenger.suggestions {\\n        display: block !important;\\n        height: 50px;\\n    }\\n\\n    .lt-ie10 .messenger.suggestions .message-bed {\\n        background-color: #f8e9d2;\\n        border-bottom: 1px solid #ccc;\\n    }\\n\\n    .lt-ie10 .messenger.suggestions .message-container {\\n        padding: 11px 18px 11px 30px;\\n    }\\n\\n    .lt-ie10 .messenger.suggestions .action-link {\\n        font-family: \"nyt-franklin\", arial, helvetica, sans-serif;\\n        font-size: 10px;\\n        font-weight: bold;\\n        color: #a81817;\\n        text-transform: uppercase;\\n    }\\n\\n    .lt-ie10 .messenger.suggestions .alert-icon {\\n        background: url(\\'https://static01.nyt.com/images/icons/icon-alert-12x12-a81817.png\\') no-repeat;\\n        width: 12px;\\n        height: 12px;\\n        display: inline-block;\\n        margin-top: -2px;\\n        float: none;\\n    }\\n\\n    .lt-ie10 .masthead,\\n    .lt-ie10 .navigation,\\n    .lt-ie10 .comments-panel {\\n        margin-top: 50px !important;\\n    }\\n\\n    .lt-ie10 .ribbon {\\n        margin-top: 97px !important;\\n    }\\n</style>\\n<div id=\"suggestions\" class=\"suggestions messenger nocontent robots-nocontent\" style=\"display:none;\">\\n    <div class=\"message-bed\">\\n        <div class=\"message-container last-message-container\">\\n            <div class=\"message\">\\n                <span class=\"message-content\">\\n                    <i class=\"icon alert-icon\"></i><span class=\"message-title\">NYTimes.com no longer supports Internet Explorer 9 or earlier. Please upgrade your browser.</span>\\n                    <a href=\"http://www.nytimes.com/content/help/site/ie9-support.html\" class=\"action-link\">LEARN MORE \\xbb</a>\\n                </span>\\n            </div>\\n        </div>\\n    </div>\\n</div>\\n\\n    <div id=\"shell\" class=\"shell\">\\n    <header id=\"masthead\" class=\"masthead masthead-theme-standard\" role=\"banner\">\\n    <div class=\"container\">\\n        <div class=\"quick-navigation button-group\">\\n            <button class=\"button sections-button\"><i class=\"icon sprite-icon\"></i><span class=\"button-text\">Sections</span></button>\\n            <button class=\"button home-button\" data-href=\"https://www.nytimes.com/\" title=\"Go to the home page to see the latest top stories.\"><i class=\"icon sprite-icon\"></i>\\n                <span class=\"button-text\">Home</span>\\n            </button>\\n            <button class=\"button search-button\"><i class=\"icon sprite-icon\"></i><span class=\"button-text\">Search</span></button>\\n            <a class=\"button skip-button skip-to-content visually-hidden focusable\" href=\"#story-header\">Skip to content</a>\\n                        <a class=\"button skip-button skip-to-navigation visually-hidden focusable\" href=\"#site-index-navigation\">Skip to navigation</a>\\n                                    <a class=\"button skip-button skip-to-mobile visually-hidden focusable\" href=\"http://mobile.nytimes.com/1999/04/26/us/terror-littleton-gun-debate-renewed-battle-over-weapons-control-both-sides-use.html\">View mobile version</a>\\n                    </div><!-- close button-group -->\\n        <div class=\"branding\">\\n            <h2 class=\"branding-heading\">\\n                <a id=\"branding-heading-link\" href=\"https://www.nytimes.com/\">\\n                    <span class=\"visually-hidden\">The New York Times</span>\\n                </a>\\n            </h2>\\n            <script>window.magnum.writeLogo(\\'small\\', \\'https://a1.nyt.com/assets/article/20170816-103801/images/foundation/logos/\\', \\'us\\', \\'masthead-theme-standard\\', \\'standard\\', \\'branding-heading-link\\', \\'article\\');</script>\\n        </div><!-- close branding -->\\n                <div class=\"story-meta\">\\n            <h6 class=\"kicker\"><span class=\"kicker-label\"><a href=\"https://www.nytimes.com/pages/national/index.html\">U.S.</a></span><span class=\"pipe\">|</span>TERROR IN LITTLETON: THE GUN DEBATE; In Renewed Battle Over Weapons Control, Both Sides Use Attack to Advance Agendas</h6>\\n        </div><!-- close story-meta -->\\n        <div class=\"user-tools\">\\n            <div id=\"Bar1\" class=\"ad bar1-ad nocontent robots-nocontent\"></div>\\n            <div id=\"sharetools-masthead\" aria-label=\"tools\" role=\"group\" class=\"sharetools theme-classic  sharetools-masthead  \"\\ndata-shares=\"facebook,twitter,email,show-all,save\"\\ndata-url=\"https://www.nytimes.com/1999/04/26/us/terror-littleton-gun-debate-renewed-battle-over-weapons-control-both-sides-use.html\"\\ndata-title=\"TERROR IN LITTLETON: THE GUN DEBATE; In Renewed Battle Over Weapons Control, Both Sides Use Attack to Advance Agendas\"\\ndata-author=\"By BARRY MEIER\"\\ndata-media=\"\"\\ndata-description=\"Organizations on both sides of debate over gun control have sought to use shootings at Columbine High School in Littleton, Colo, that took 15 lives to advance legislative agendas or deflect those of opponents; television appearances by Sarah Brady, chairwoman of Handgun Control, and Wayne LaPierre, vice president of National Rifle Assn, noted; at stake are proposals that could limit how guns are sold, or restrict types of weapons for sale--such as assault-style semiautomatic pistol that found its way into hands of two students accused of murders; photo (M)\"\\n\\tdata-publish-date=\"April 26, 1999\"\\n>\\n<div class=\"ad sharetools-inline-article-ad hidden nocontent robots-nocontent\">\\n</div>\\n</div><!-- close shareTools -->\\n            <button class=\"button search-button\"><i class=\"icon sprite-icon\"></i><span class=\"button-text\">Search</span></button>\\n            <div class=\"user-tools-button-group button-group\">\\n                <button class=\"button subscribe-button hidden\" data-href=\"https://www.nytimes.com/subscriptions/Multiproduct/lp3004.html?campaignId=4XUYF\">Subscribe Now</button>\\n                <button class=\"button login-button login-modal-trigger hidden\">Log In</button>\\n                                                <button class=\"button notifications-button hidden\"><i class=\"icon sprite-icon\"></i><span class=\"button-text\">0</span></button>\\n                <button class=\"button user-settings-button\"><i class=\"icon sprite-icon\"></i><span class=\"button-text\">Settings</span></button>\\n            </div><!-- close user-tools-button-group -->\\n        </div><!-- close user-tools -->\\n    </div><!-- close container -->\\n    <div class=\"search-flyout-panel flyout-panel\">\\n    <button class=\"button close-button\" type=\"button\"><i class=\"icon\"></i><span class=\"visually-hidden\">Close search</span></button>\\n    <nav class=\"search-form-control form-control layout-horizontal\">\\n    <h2 class=\"visually-hidden\">Site Search Navigation</h2>\\n    <form class=\"search-form\" role=\"search\">\\n        <div class=\"control\">\\n            <div class=\"label-container visually-hidden\">\\n                                <label for=\"search-input\">Search NYTimes.com</label>\\n                            </div>\\n            <div class=\"field-container\">\\n                                <input id=\"search-input\" name=\"search-input\" type=\"text\" class=\"search-input text\" autocomplete=\"off\" placeholder=\"Search NYTimes.com\" />\\n                \\n                <button type=\"button\" class=\"button clear-button\" tabindex=\"-1\" aria-describedby=\"clear-search-input\"><i class=\"icon\"></i><span id=\"clear-search-input\" class=\"visually-hidden\">Clear this text input</span></button>\\n                <div class=\"auto-suggest\" style=\"display: none;\">\\n                    <ol></ol>\\n                </div>\\n                <button class=\"button submit-button\" type=\"submit\">Go</button>\\n            </div>\\n        </div><!-- close control -->\\n    </form>\\n</nav>\\n\\n\\n</div><!-- close flyout-panel -->\\n    <div id=\"notification-modals\" class=\"notification-modals\"></div>\\n</header>\\n            <nav id=\"ribbon\" class=\"ribbon ribbon-start nocontent robots-nocontent\" aria-hidden=\"true\">\\n    <div class=\"nocontent robots-nocontent\">\\n        <ol class=\"ribbon-menu\">\\n            <li class=\"collection ribbon-loader\">\\n                <div class=\"loader loader-t-logo-32x32-ecedeb-ffffff\"><span class=\"visually-hidden\">Loading...</span></div>\\n            </li>\\n        </ol>\\n        <div class=\"ribbon-navigation-container\">\\n            <nav class=\"ribbon-navigation next\">\\n                <span class=\"visually-hidden\">See next articles</span>\\n                <div class=\"arrow arrow-right\">\\n                    <div class=\"arrow-conceal\"></div>\\n                </div>\\n            </nav>\\n            <nav class=\"ribbon-navigation previous\">\\n                <span class=\"visually-hidden\">See previous articles</span>\\n                <div class=\"arrow arrow-left\">\\n                    <div class=\"arrow-conceal\"></div>\\n                </div>\\n            </nav>\\n        </div>\\n    </div><!-- close nocontent -->\\n</nav>\\n\\n<script type=\"text/javascript\">\\n(function () {\\n    var ribbon;\\n    if (window.magnum.getFlags().indexOf(\\'adAggro\\') !== -1 &&\\n        (window.NYTD.Abra(\\'www-story-pro-agro\\') !== \\'control\\' &&\\n        window.NYTD.Abra(\\'www-story-pro-agro\\') !== null &&\\n        window.NYTD.Abra(\\'www-story-pro-agro\\') !== \\'null\\' &&\\n        window.NYTD.Abra(\\'www-story-pro-agro\\') !== \\'\\')) {\\n        ribbon = document.querySelector(\\'#ribbon\\');\\n        if (ribbon && ribbon.parentNode) {\\n            ribbon.parentNode.removeChild(ribbon);\\n        }\\n    }\\n})();\\n</script>\\n        <nav id=\"navigation\" class=\"navigation\">\\n    <h2 class=\"visually-hidden\">Site Navigation</h2>\\n</nav><!-- close navigation -->\\n\\n<nav id=\"mobile-navigation\" class=\"mobile-navigation hidden\">\\n    <h2 class=\"visually-hidden\">Site Mobile Navigation</h2>\\n</nav><!-- close mobile-navigation -->\\n\\n    <div id=\"navigation-edge\" class=\"navigation-edge\"></div>\\n    <div id=\"page\" class=\"page\">\\n        <div id=\"TopAd\" class=\"ad top-ad nocontent robots-nocontent\">\\n    <div class=\"accessibility-ad-header visually-hidden\">\\n    <p>Advertisement</p>\\n</div>\\n</div>\\n\\n        <main id=\"main\" class=\"main\" role=\"main\">\\n        <article id=\"story\" class=\"story theme-main   \">\\n\\n    <div id=\\'TragedyAd\\' class=\\'ad tragedy-ad nocontent robots-nocontent\\'></div>\\n\\n                        \\n    <header id=\"story-header\" class=\"story-header\">\\n                                <div id=\"story-meta\" class=\"story-meta \">\\n                            <div class=\"supported-by hidden nocontent robots-nocontent\">\\n                    <span class=\"ad-label\">Supported by</span>\\n                    <div id=\"supported-by-ad\" class=\"supported-by-ad ad\"></div>\\n                </div>\\n                                        <h3 id=\"kicker\" class=\"kicker\" role=\"kicker\">\\n                                                                                            <span class=\"kicker-label\"><a href=\"https://www.nytimes.com/pages/national/index.html\">U.S.</a></span>\\n                                                                            <span class=\"pipe\">|</span>                            <span class=\"article-kicker\">TERROR IN LITTLETON: THE GUN DEBATE</span><span data-kicker=\"TERROR IN LITTLETON: THE GUN DEBATE\" class=\"primer-test\"></span>                                                            </h3>\\n                        \\t\\t\\t<h1 itemprop=\"headline\" id=\"headline\" class=\"headline\">TERROR IN LITTLETON: THE GUN DEBATE; In Renewed Battle Over Weapons Control, Both Sides Use Attack to Advance Agendas</h1>\\n\\t                                                <div id=\"story-meta-footer\" class=\"story-meta-footer\">\\n                                                                                                    \\n\\n<p class=\"byline-dateline\"><span class=\"byline\" itemprop=\"author creator\" itemscope itemtype=\"http://schema.org/Person\"  itemid=\"https://www.nytimes.com/by/barry-meier\">By <a href=\"https://www.nytimes.com/by/barry-meier\" title=\"More Articles by BARRY MEIER\"><span class=\"byline-author\" data-byline-name=\"BARRY MEIER\" itemprop=\"name\">BARRY MEIER</span></a></span><time class=\"dateline\" datetime=\"1999-04-26T01:00:00-04:00\" itemprop=\"dateModified\" content=\"1999-04-26T01:00:00-04:00\">APRIL 26, 1999</time>\\n</p>\\n\\n                                    <div class=\"story-meta-footer-sharetools\">\\n                        <div id=\"sharetools-story-meta-footer\" aria-label=\"tools\" role=\"group\" class=\"sharetools theme-classic  sharetools-story-meta-footer  \"\\ndata-shares=\"facebook,twitter,email,show-all,save\"\\ndata-url=\"https://www.nytimes.com/1999/04/26/us/terror-littleton-gun-debate-renewed-battle-over-weapons-control-both-sides-use.html\"\\ndata-title=\"TERROR IN LITTLETON: THE GUN DEBATE; In Renewed Battle Over Weapons Control, Both Sides Use Attack to Advance Agendas\"\\ndata-author=\"By BARRY MEIER\"\\ndata-media=\"\"\\ndata-description=\"Organizations on both sides of debate over gun control have sought to use shootings at Columbine High School in Littleton, Colo, that took 15 lives to advance legislative agendas or deflect those of opponents; television appearances by Sarah Brady, chairwoman of Handgun Control, and Wayne LaPierre, vice president of National Rifle Assn, noted; at stake are proposals that could limit how guns are sold, or restrict types of weapons for sale--such as assault-style semiautomatic pistol that found its way into hands of two students accused of murders; photo (M)\"\\n\\tdata-publish-date=\"April 26, 1999\"\\n>\\n<a class=\"visually-hidden skip-to-text-link\" href=\"#story-continues-1\">Continue reading the main story</a>\\n<span class=\"sharetools-label visually-hidden\">Share This Page</span>\\n<div class=\"ad sharetools-inline-article-ad hidden nocontent robots-nocontent\">\\n<a class=\"visually-hidden skip-to-text-link\" href=\"#story-continues-1\">Continue reading the main story</a>\\n</div>\\n</div><!-- close shareTools -->\\n                                                                                                </div>\\n                            </div><!-- close story-meta-footer -->\\n        </div><!-- close story-meta -->\\n    </header>\\n\\n    <script type=\"text/javascript\">\\n        if (\\n            window.magnum\\n            && window.magnum.getFlags().indexOf(\\'headlineBalancer\\') > 0\\n            && window.magnum.headlineBalancer\\n            && window.magnum.headlineBalancer.initialize\\n            && window.magnum.headlineBalancer.shouldRun()\\n        ) {\\n            window.magnum.headlineBalancer.initialize();\\n        }\\n    </script>\\n\\n        \\n    <div class=\"story-body-supplemental\">\\n    <div class=\"story-body story-body-1\">\\n        <p class=\"story-body-text story-content\" data-para-count=\"217\" data-total-count=\"217\">Just hours after the gunfire had stopped on Tuesday in Littleton, Colo., another battle erupted as lobbying groups and others on warring sides of the nation\\'s gun debate moved to turn the shootings to their advantage.</p><p class=\"story-body-text story-content\" data-para-count=\"379\" data-total-count=\"596\">Appearing that evening on CNN, Sarah Brady, the chairwoman of Handgun Control, blamed the easy access to weapons for the killings. A day later, Wayne LaPierre, the executive vice president of the National Rifle Association and its chief political strategist, went on the MSNBC program \\'\\'Equal Time\\'\\' to say Hollywood\\'s obsession with violence, rather than firearms, was at fault.</p><p class=\"story-body-text story-content\" data-para-count=\"213\" data-total-count=\"809\">In the wake of the shootings at Columbine High School, organizations on both sides of the debate over gun control have sought to use the killings to advance their legislative agendas or deflect those of opponents.</p><p class=\"story-body-text story-content\" data-para-count=\"206\" data-total-count=\"1015\">At stake are proposals that could limit how guns are sold, or restrict the types of weapons for sale, like the assault-style semiautomatic pistol that found its way into the hands of teen-agers in Colorado.</p><div id=\"story-ad-1\" class=\"story-ad ad ad-placeholder nocontent robots-nocontent \">\\n    <div class=\"accessibility-ad-header visually-hidden\">\\n    <p>Advertisement</p>\\n</div>\\n<a class=\"visually-hidden skip-to-text-link\" href=\"#story-continues-1\">Continue reading the main story</a>\\n</div>\\n<p class=\"story-body-text story-content\" data-para-count=\"133\" data-total-count=\"1148\" id=\"story-continues-1\">The battle to influence the public could also affect the outcome of a growing number of lawsuits against gun makers and distributors.</p>        <a class=\"visually-hidden skip-to-text-link\" href=\"#story-continues-2\">Continue reading the main story</a>\\n    </div><!-- close story-body -->\\n    <div class=\"supplemental first\" id=\"supplemental-1\">\\n    </div><!-- close supplemental -->\\n</div><!-- close story-body-supplemental -->\\n<div class=\"story-interrupter\" id=\"story-continues-2\">\\n    <div id=\"FlexAd\" class=\"ad flex-ad nocontent robots-nocontent\">\\n    <div class=\"accessibility-ad-header visually-hidden\">\\n    <p>Advertisement</p>\\n</div>\\n<a class=\"visually-hidden skip-to-text-link\" href=\"#story-continues-3\">Continue reading the main story</a>\\n    <div class=\"flex-ad-creative\"></div>\\n</div>\\n</div>\\n<div class=\"story-body-supplemental\">\\n    <div class=\"story-body story-body-2\">\\n        <p class=\"story-body-text story-content\" data-para-count=\"270\" data-total-count=\"1418\" id=\"story-continues-3\">In the days after the shootings, many groups recycled familiar themes, fine-tuning them as more facts emerged. But perhaps the best indication that the stakes are mounting may lie in how quickly the rifle association moved to get out its message and what forum it chose.</p><p class=\"story-body-text story-content\" data-para-count=\"341\" data-total-count=\"1759\">In the past, the N.R.A. has typically withdrawn from the gun debate right after a large public shooting, experts sympathetic to the group said. And Bill Powers, the group\\'s director of public affairs, said on Thursday that Mr. LaPierre\\'s television appearance had gone forward only because it had been arranged before the Colorado shootings.</p><p class=\"story-body-text story-content\" data-para-count=\"159\" data-total-count=\"1918\">\\'\\'This is not the time nor the place to debate public policy,\\'\\' Mr. Powers said. \\'\\'Anything other than prayers and thoughts for the community is not fitting.\\'\\'</p><p class=\"story-body-text story-content\" data-para-count=\"414\" data-total-count=\"2332\">But Cory Shields, an MSNBC spokesman, said that producers for \\'\\'Equal Time,\\'\\' which has a debate format, contacted Mr. LaPierre on Tuesday, a few hours after the shootings, and that Mr. LaPierre agreed to appear on the Wednesday program. The co-host of \\'\\'Equal Time,\\'\\' which is the only television show on which Mr. LaPierre appeared last week, is Oliver L. North, who is a member of the N.R.A. board of directors.</p><p class=\"story-body-text story-content\" data-para-count=\"78\" data-total-count=\"2410\">Asked to respond to MSNBC\\'s version of events, Mr. Powers declined to comment.</p><p class=\"story-body-text story-content\" data-para-count=\"252\" data-total-count=\"2662\">It was on Tuesday, soon after the initial fragmentary news reports about the Littleton shootings, that news organizations began calling groups involved in the gun debate, like Handgun Control in Washington and the N.R.A., which is based in Fairfax, Va.</p><p class=\"story-body-text story-content\" data-para-count=\"411\" data-total-count=\"3073\">Naomi Paiss, the communications director for Handgun Control, said that one of the group\\'s first steps was to call Suzanne Wilson, a woman in Jonesboro, Ark., whose daughter was killed when two boys opened fire on schoolchildren there last year and who has aligned herself with the group. Ms. Paiss said she and her colleagues did not want Ms. Wilson to  hear about the Littleton shootings first from reporters.</p><p class=\"story-body-text story-content\" data-para-count=\"164\" data-total-count=\"3237\">Within hours, Ms. Wilson flew to Washington and began a round of news interviews that made her both a visible face and a touchstone in the debate that would follow.</p><div id=\"story-ad-2\" class=\"story-ad ad ad-placeholder nocontent robots-nocontent \">\\n    <div class=\"accessibility-ad-header visually-hidden\">\\n    <p>Advertisement</p>\\n</div>\\n<a class=\"visually-hidden skip-to-text-link\" href=\"#story-continues-4\">Continue reading the main story</a>\\n</div>\\n<p class=\"story-body-text story-content\" data-para-count=\"424\" data-total-count=\"3661\" id=\"story-continues-4\">For strategists like Ms. Paiss who were trying to develop a response to the Littleton shootings, the immediate problem was what to say. For hours, few details were known. By late Tuesday afternoon, the group decided to have Mrs. Brady, who is the wife of James Brady, the former White House press spokesman who was seriously wounded by gunfire in the assassination attempt on President Reagan, appear on \\'\\'Larry King Live.\\'\\'</p><p class=\"story-body-text story-content\" data-para-count=\"281\" data-total-count=\"3942\">\\'\\'The story of the shooting last year was child access to guns,\\'\\' said Ms. Paiss, referring to Jonesboro. \\'\\'It seemed like this was going to be a major issue in the Colorado shooting, but we knew Mrs. Brady could speak generally about the significance of guns and access to guns.\\'\\'</p><p class=\"story-body-text story-content\" data-para-count=\"548\" data-total-count=\"4490\">Although the news of the shooting itself was dominant on Tuesday, by Wednesday, old adversaries in the gun control battle had begun squaring off against each other and familiar battle lines were being drawn. Larry Pratt, the executive director of Gun Owners of America, said he and his colleagues in various interviews after the Littleton killings had sent out the same message they had used after similar incidents: that gun control laws cannot prevent random acts of violence like the Colorado shootings because those involved are willing to die.</p><p class=\"story-body-text story-content\" data-para-count=\"453\" data-total-count=\"4943\">Still, those favoring looser gun laws were thrown on the defensive, and, as a result, John Lott, a University of Chicago law professor, was also quickly drawn into the fray. In his writings, Mr. Lott has asserted that allowing citizens to carry concealed weapons can reduce the death toll in public shooting sprees because an armed citizen can kill or disarm an attacker. In contrast, he believes, gun control laws can inadvertently endanger the public.</p><p class=\"story-body-text story-content\" data-para-count=\"284\" data-total-count=\"5227\">\\'\\'My bottom line is that these laws were passed with the best of intentions to create safety zones for our children,\\'\\' Mr. Lott said in an interview. \\'\\'But my concern is that the people who obey these laws are the good people and what these laws do is make safe zones for criminals.\\'\\'</p><p class=\"story-body-text story-content\" data-para-count=\"243\" data-total-count=\"5470\">On Monday, the day before the Colorado shootings, Mr. Lott, whose work has been attacked by gun control advocates as having a flawed methodology, was in Colorado working with legislators supporting a concealed weapons bill backed by the N.R.A.</p><p class=\"story-body-text story-content\" data-para-count=\"155\" data-total-count=\"5625\">On Wednesday morning, he said, he got an urgent call from Doug Dean, the majority House leader in Colorado, asking whether he could refer reporters to him.</p><div class=\"newsletter-signup hidden auto-newsletter variant-1-hidden \" id=\"newsletter-promo\" data-newsletter-productCode=\"\" data-newsletter-productTitle=\"\" aria-labeledby=\"newsletter-promo-heading\">\\n    <h2 class=\"visually-hidden\" id=\"newsletter-promo-heading\">Newsletter Sign Up</h2>\\n    <a class=\"visually-hidden skip-to-text-link\" href=\"#continues-post-newsletter\">Continue reading the main story</a>\\n        <script type=\"application/json\" id=\"auto-newsletter-rules\">[{\"headline\":\"California Today\",\"summary\":\"The news and stories that matter to Californians (and anyone else interested in the state), delivered weekday mornings.\",\"product-code\":\"CA\",\"product-title\":\"California Today\",\"sample-url\":\"http:\\\\/\\\\/www.nytimes.com\\\\/newsletters\\\\/sample\\\\/california-today?pgtype=subscriptionspage&version=new&contentId=CA&eventName=sample&module=newsletter-sign-up\"},{\"headline\":\"Race\\\\/Related Newsletter\",\"summary\":\"Join a deep and provocative exploration of race with New York Times journalists.\",\"product-code\":\"RR\",\"product-title\":\"Race Related\",\"sample-url\":\"http:\\\\/\\\\/www.nytimes.com\\\\/newsletters\\\\/sample\\\\/race-related?pgtype=subscriptionspage&version=new&contentId=RR&eventName=sample&module=newsletter-sign-up\"},{\"headline\":\"The Interpreter Newsletter\",\"summary\":\"Understand the world with sharp insight and commentary on the major news stories of the week.\",\"product-code\":\"INT\",\"product-title\":\"The Interpreter\",\"sample-url\":\"http:\\\\/\\\\/www.nytimes.com\\\\/newsletters\\\\/sample\\\\/the-interpreter?pgtype=subscriptionspage&version=new&contentId=INT&eventName=sample&module=newsletter-sign-up\"}]</script>\\n        <h3 class=\"headline\"></h3>    <p class=\"summary\"></p>    <form name=\"regilite\" class=\"newsletter-form\" method=\"post\" autocomplete=\"off\">\\n        <div class=\"control input-control\">\\n            <div class=\"form-errors\">\\n                <p class=\"error captcha-error hidden\">Please verify you\\'re not a robot by clicking the box.</p>\\n                <p class=\"error invalid-email-error hidden\">Invalid email address. Please re-enter.</p>\\n                <p class=\"error buffet-error hidden\">You must select a newsletter to subscribe to.</p>\\n            </div>\\n            <div class=\"field-container\">\\n                <input id=\"email\" name=\"email\" class=\"email-input\" type=\"email\" aria-required=\"true\" placeholder=\"Enter your email address\" value=\"\">\\n                <button id=\"submit-button\" type=\"submit\" class=\"button submit-button\">Sign Up</button>\\n            </div>\\n        </div><!-- close control -->\\n        <div class=\"control checkbox-control\">\\n            <div class=\"field-container\">\\n                <input id=\"special-offers\" class=\"checkbox\" type=\"checkbox\" name=\"special-offers\" value=\"MM\">\\n            </div>\\n            <div class=\"label-container\">\\n                <label class=\"checkbox-label\" for=\"special-offers\">You agree to receive occasional updates and special offers for The New York Times\\'s products and services.</label>\\n            </div>\\n        </div><!-- close control -->\\n        <div class=\"g-recaptcha\" id=\"captcha-container\" data-sitekey=\"6LeN0R4TAAAAACwPa5WX2QYE0npOf2-2veTOm2Tp\"></div>\\n    </form>\\n    <div class=\"messages\">\\n        <h3 class=\"success-message hidden\">Thank you for subscribing.</h3>\\n        <h3 class=\"error submit-error hidden\">An error has occurred. Please try again later.</h3>\\n        <h3 class=\"subscriber hidden\">You are already subscribed to this email.</h3>\\n        <p class=\"view-all-link hidden\"><a href=\"/newsletters\" target=\"_blank\">View all New York Times newsletters.</a></p>\\n    </div><!-- close messages -->\\n    <ul class=\"footer\">\\n                <li id=\"sample-newsletter-link\" class=\"sample\"><a href=\"\" target=\"_blank\">See Sample</a></li>\\n                <li class=\"manage-email\"><a href=\"/mem/email.html\" target=\"_blank\">Manage Email Preferences</a></li>\\n        <li class=\"logout hidden\"><a href=\"/logout\" target=\"_blank\">Not you?</a></li>\\n        <li class=\"privacy\"><a href=\"/privacy\" target=\"_blank\">Privacy Policy</a></li>\\n        <li class=\"contact\">Opt out or <a href=\"/help/index.html\" target=\"_blank\">contact us</a> anytime</li>\\n    </ul><!-- close footer -->\\n    <script src=\"https://www.google.com/recaptcha/api.js\" async=\"async\" defer=\"defer\"></script>\\n</div>\\n<div id=\"#continues-post-newsletter\"></div>\\n<p class=\"story-body-text story-content\" data-para-count=\"127\" data-total-count=\"5752\">Later that day, Mr. Dean pulled the bill, and other state legislatures also dropped consideration of N.R.A.-backed initiatives.</p><p class=\"story-body-text story-content\" data-para-count=\"215\" data-total-count=\"5967\">Both the gun lobbying group and the firearms industry faced other problems on Wednesday, like what to do about the N.R.A.\\'s planned convention in Denver and what message to promote in the aftermath of the shootings.</p><div id=\"story-ad-3\" class=\"story-ad ad ad-placeholder nocontent robots-nocontent \">\\n    <div class=\"accessibility-ad-header visually-hidden\">\\n    <p>Advertisement</p>\\n</div>\\n<a class=\"visually-hidden skip-to-text-link\" href=\"#story-continues-5\">Continue reading the main story</a>\\n</div>\\n<p class=\"story-body-text story-content\" data-para-count=\"403\" data-total-count=\"6370\" id=\"story-continues-5\">The rifle association -- which had been told by the Mayor of Denver and some state lawmakers that it was no longer welcome -- drastically scaled back the convention. In a letter to members signed by its president, Charlton Heston, it stated that the group had taken the action \\'\\'to show our profound sympathy and respect for the families and communities in the Denver area in their time of great loss.\\'\\'</p><p class=\"story-body-text story-content\" data-para-count=\"296\" data-total-count=\"6666\">Mr. Heston also spoke in Los Angeles on Wednesday. The group champions the work of Mr. Lott, and Mr. Heston said the shootings in Colorado might have been prevented by having even one armed guard at the school. As it turned out, there was an armed guard on duty at Columbine High School that day.</p><p class=\"story-body-text story-content\" data-para-count=\"423\" data-total-count=\"7089\">The N.R.A. typically draws back from the gun debate for a time after a major violent crime to avoid becoming associated with the incident, said Gary Kleck, a professor of criminology at Florida State University whose studies have also been cited by the rifle association. And on Wednesday, a group representing the nation\\'s leading firearms and ammunition makers was advising its staff and members to take just that course.</p><p class=\"story-body-text story-content\" data-para-count=\"470\" data-total-count=\"7559\">\\'\\'At this time I do not feel that a statement for widespread distribution to the media is appropriate because it has not been suggested and, barring irresponsible exploitation by anti-gun groups, I do not believe that it will be suggested that firearms, or the promotion of the recreational use of firearms, are in any way responsible for this tragedy,\\'\\' said a memorandum signed by Bob Delfay, the president of the National Sporting Sports Foundation, in Newtown, Conn.</p><p class=\"story-body-text story-content\" data-para-count=\"299\" data-total-count=\"7858\">Mr. Delfay said in an interview on Friday that he believed that groups on both sides of the gun debate should avoid commenting for a time about Littleton or point to factors like firearms, violence-filled video games, lack of parental supervision or poor school security as reasons for the incident.</p><p class=\"story-body-text story-content\" data-para-count=\"380\" data-total-count=\"8238\">But by Wednesday, both Handgun Control and the rifle association had staked out familiar turf and identified their suspects. Handgun Control officials said firearms were the reason for the high death toll at the school and began pushing its legislative agenda, which calls for penalties for parents who do not lock up guns, added safety devices on weapons and limits on gun sales.</p><p class=\"story-body-text story-content\" data-para-count=\"181\" data-total-count=\"8419\">That night, on \\'\\'Equal Time,\\'\\' Mr. LaPierre blamed a moral breakdown in society for events like Littleton, specifically pointing to an entertainment industry obsessed with violence.</p><p class=\"story-body-text story-content\" data-para-count=\"240\" data-total-count=\"8659\">\\'\\'We\\'re increasingly looking away at behavior that our parents would never have tolerated,\\'\\' Mr. LaPierre said. \\'\\'We\\'re looking the other way at evil behavior and we need to really focus on what would turn students into homicidal maniacs.\\'\\'</p><div id=\"story-ad-4\" class=\"story-ad ad ad-placeholder nocontent robots-nocontent \">\\n    <div class=\"accessibility-ad-header visually-hidden\">\\n    <p>Advertisement</p>\\n</div>\\n<a class=\"visually-hidden skip-to-text-link\" href=\"#story-continues-6\">Continue reading the main story</a>\\n</div>\\n<p class=\"story-body-text story-content\" data-para-count=\"260\" data-total-count=\"8919\" id=\"story-continues-6\">About a week after the shootings last year in Jonesboro, Mr. LaPierre  made similar comments. He also said then, as he did on Wednesday, that his group believed that Federal officials, rather than passing new laws, should more vigorously enforce existing ones.</p><p class=\"story-body-text story-content\" data-para-count=\"539\" data-total-count=\"9458\">On Thursday, Ms. Paiss said a news report had tentatively identified one of the weapons used in the Littleton shooting as a Tech DC 9, an assault-style semiautomatic pistol  whose manufacture had been banned since 1994. (Officials later confirmed that that had been one of the weapons used.) Bob Walker, the president of Handgun Control, said his group would use that information to push harder for tougher rules on the sale of such weapons or to close loopholes allowing the sale of magazines that can hold large quantities of ammunition.</p><p class=\"story-body-text story-content\" data-para-count=\"101\" data-total-count=\"9559\">Groups like the N.R.A. and the Gun Owners of America have dismissed such initiatives as \\'\\'cosmetic.\\'\\'</p><p class=\"story-body-text story-content\" data-para-count=\"220\" data-total-count=\"9779\">Mr. Kleck, the Florida State University professor whose work has been cited by both groups, said that he was not enamored of the strategies employed by gun advocates in response to incidents like the Littleton shootings.</p><p class=\"story-body-text story-content\" data-para-count=\"247\" data-total-count=\"10026\">\\'\\'My position is that the current laws have probably accomplished all we can expect out of gun control,\\'\\' Mr. Kleck said, adding that the N.R.A.\\'s alternative, calling for tougher enforcement and penalties in existing laws also leaves him unmoved.</p><p class=\"story-body-text story-content\" data-para-count=\"167\" data-total-count=\"10193\">\\'\\'What gun control and these N.R.A. initiatives have in common is that they put more faith in the criminal justice system than the evidence warrants,\\'\\' Mr. Kleck said.</p><p class=\"story-body-text story-content\" data-para-count=\"99\" data-total-count=\"10292\">All he has heard since the Colorado shootings, he says, are replays of old arguments by both sides.</p>        <a class=\"visually-hidden skip-to-text-link\" href=\"#whats-next\">Continue reading the main story</a>\\n    </div><!-- close story-body -->\\n    <div class=\"supplemental \" id=\"supplemental-2\">\\n    </div><!-- close supplemental -->\\n</div><!-- close story-body-supplemental -->\\n\\n    \\n    <div class=\"reader-satisfaction-survey prompt feedback-prompt story-content hidden\">\\n<a class=\"feedback-link\" href=\"https://docs.google.com/forms/d/e/1FAIpQLSfLW30xgZodF1qRAg80oWEGuDpW-1HHaL0g42G3SmvB2f4lCw/viewform?entry.8537735=https://www.nytimes.com/1999/04/26/us/terror-littleton-gun-debate-renewed-battle-over-weapons-control-both-sides-use.html\" target=\"_blank\">\\n    <p class=\"feedback-message\">We&#8217;re interested in your feedback on this page. <strong>Tell us what you think.</strong></p>\\n</a>\\n</div>\\n\\n    <div id=\"storage-drawer\" class=\"hidden\">\\n        <div class=\"supplemental-sub-item\" data-attribute-position=\"0\" data-attribute-name=\"PaidPost\" data-attribute-type=\"PaidPost\" data-attribute-subtype=\"\">\\n    <aside id=\\'middle-right-paid-post-container\\' class=\\'ad middle-right-ad paid-post-ad marginalia-item hidden nocontent robots-nocontent\\'>\\n    <h2 class=\\'marginalia-heading\\'></h2>\\n    <ul class=\\'story-menu\\'>\\n        <li id=\\'MiddleRightPaidPost1\\' class=\\'story-menu-item ad\\'></li>\\n        <li id=\\'MiddleRightPaidPost2\\' class=\\'story-menu-item ad\\'></li>\\n        <li id=\\'MiddleRightPaidPost3\\' class=\\'story-menu-item ad\\'></li>\\n        <li id=\\'MiddleRightPaidPost4\\' class=\\'story-menu-item ad\\'></li>\\n    </ul>\\n</aside>\\n</div>\\n    </div>\\n\\n</article>\\n\\n\\n<aside class=\"module trending-module hidden nocontent robots-nocontent\" data-truncate-enabled=\"true\"></aside><section id=\"whats-next\" class=\"whats-next nocontent robots-nocontent\">\\n    <h2 class=\"visually-hidden\">What\\'s Next</h2>\\n    <div class=\"nocontent robots-nocontent\">\\n        <div class=\"loader-container\">\\n            <div class=\"loader loader-t-logo-32x32-ecedeb-ffffff\"><span class=\"visually-hidden\">Loading...</span></div>\\n        </div>\\n    </div><!-- close nocontent -->\\n</section>\\n<div id=\"TopAd1\" class=\"text-ad bottom-left-ad nocontent robots-nocontent\"></div>\\n<div id=\"Top5\" class=\"ad top5-ad hidden nocontent robots-nocontent\"></div>\\n                    <div class=\"search-overlay\"></div>\\n            </main><!-- close main -->\\n            <section id=\"site-index\" class=\"site-index\">\\n    <header class=\"section-header\">\\n        <p class=\"user-action\"><a href=\"https://www.nytimes.com/\">Go to Home Page &raquo;</a></p>\\n        <h2 class=\"section-heading\">\\n            <span class=\"visually-hidden\">Site Index</span>\\n            <a id=\"site-index-branding-link\" href=\"https://www.nytimes.com/\">\\n                <span class=\"visually-hidden\">The New York Times</span>\\n            </a>\\n        </h2>\\n        <script>window.magnum.writeLogo(\\'small\\', \\'https://a1.nyt.com/assets/article/20170816-103801/images/foundation/logos/\\', \\'\\', \\'\\', \\'standard\\', \\'site-index-branding-link\\', \\'\\');</script>\\n    </header>\\n\\n    <nav id=\"site-index-navigation\" class=\"site-index-navigation\" role=\"navigation\">\\n        <h2 class=\"visually-hidden\">Site Index Navigation</h2>\\n        <div class=\"split-6-layout layout\">\\n\\n                                                                                    \\n                    <div class=\"column\">\\n                        <h3 class=\"menu-heading\">News</h3>\\n                        <ul class=\"menu\">\\n\\n                                                                                                                                                                                                                                                \\n                                    <li>\\n                                        <a href=\"https://www.nytimes.com/pages/world/index.html\">World</a>\\n                                    </li>\\n\\n                                                                                            \\n                                    <li>\\n                                        <a href=\"https://www.nytimes.com/pages/national/index.html\">U.S.</a>\\n                                    </li>\\n\\n                                                                                            \\n                                    <li>\\n                                        <a href=\"https://www.nytimes.com/pages/politics/index.html\">Politics</a>\\n                                    </li>\\n\\n                                                                                            \\n                                    <li>\\n                                        <a href=\"https://www.nytimes.com/pages/nyregion/index.html\">N.Y.</a>\\n                                    </li>\\n\\n                                                                                            \\n                                    <li>\\n                                        <a href=\"https://www.nytimes.com/pages/business/index.html\">Business</a>\\n                                    </li>\\n\\n                                                                                            \\n                                    <li>\\n                                        <a href=\"https://www.nytimes.com/pages/technology/index.html\">Tech</a>\\n                                    </li>\\n\\n                                                                                            \\n                                    <li>\\n                                        <a href=\"https://www.nytimes.com/section/science\">Science</a>\\n                                    </li>\\n\\n                                                                                            \\n                                    <li>\\n                                        <a href=\"https://www.nytimes.com/pages/health/index.html\">Health</a>\\n                                    </li>\\n\\n                                                                                            \\n                                    <li>\\n                                        <a href=\"https://www.nytimes.com/pages/sports/index.html\">Sports</a>\\n                                    </li>\\n\\n                                                                                            \\n                                    <li>\\n                                        <a href=\"https://www.nytimes.com/pages/education/index.html\">Education</a>\\n                                    </li>\\n\\n                                                                                            \\n                                    <li>\\n                                        <a href=\"https://www.nytimes.com/pages/obituaries/index.html\">Obituaries</a>\\n                                    </li>\\n\\n                                                                                            \\n                                    <li>\\n                                        <a href=\"https://www.nytimes.com/pages/todayspaper/index.html\">Today\\'s Paper</a>\\n                                    </li>\\n\\n                                                                                            \\n                                    <li>\\n                                        <a href=\"https://www.nytimes.com/pages/corrections/index.html\">Corrections</a>\\n                                    </li>\\n\\n                                                            \\n                        </ul>\\n                    </div><!-- close column -->\\n\\n                                            \\n                    <div class=\"column\">\\n                        <h3 class=\"menu-heading\">Opinion</h3>\\n                        <ul class=\"menu\">\\n\\n                                                            \\n                                    <li>\\n                                        <a href=\"https://www.nytimes.com/pages/opinion/index.html\">Today\\'s Opinion</a>\\n                                    </li>\\n\\n                                                                                            \\n                                    <li>\\n                                        <a href=\"https://www.nytimes.com/pages/opinion/index.html#columnists\">Op-Ed Columnists</a>\\n                                    </li>\\n\\n                                                                                            \\n                                    <li>\\n                                        <a href=\"https://www.nytimes.com/pages/opinion/index.html#editorials\">Editorials</a>\\n                                    </li>\\n\\n                                                                                            \\n                                    <li>\\n                                        <a href=\"https://www.nytimes.com/pages/opinion/index.html#contributing\">Contributing Writers</a>\\n                                    </li>\\n\\n                                                                                            \\n                                    <li>\\n                                        <a href=\"https://www.nytimes.com/pages/opinion/index.html#op-ed\">Op-Ed Contributors</a>\\n                                    </li>\\n\\n                                                                                            \\n                                    <li>\\n                                        <a href=\"https://www.nytimes.com/pages/opinion/index.html#opinionator\">Opinionator</a>\\n                                    </li>\\n\\n                                                                                            \\n                                    <li>\\n                                        <a href=\"https://www.nytimes.com/pages/opinion/index.html#letters\">Letters</a>\\n                                    </li>\\n\\n                                                                                            \\n                                    <li>\\n                                        <a href=\"https://www.nytimes.com/pages/opinion/index.html#sundayreview\">Sunday Review</a>\\n                                    </li>\\n\\n                                                                                            \\n                                    <li>\\n                                        <a href=\"https://www.nytimes.com/pages/opinion/index.html#takingNote\">Taking Note</a>\\n                                    </li>\\n\\n                                                                                            \\n                                    <li>\\n                                        <a href=\"https://www.nytimes.com/roomfordebate\">Room for Debate</a>\\n                                    </li>\\n\\n                                                                                            \\n                                    <li>\\n                                        <a href=\"https://www.nytimes.com/video/opinion\">Video: Opinion</a>\\n                                    </li>\\n\\n                                                            \\n                        </ul>\\n                    </div><!-- close column -->\\n\\n                                            \\n                    <div class=\"column\">\\n                        <h3 class=\"menu-heading\">Arts</h3>\\n                        <ul class=\"menu\">\\n\\n                                                            \\n                                    <li>\\n                                        <a href=\"https://www.nytimes.com/pages/arts/index.html\">Today\\'s Arts</a>\\n                                    </li>\\n\\n                                                                                            \\n                                    <li>\\n                                        <a href=\"https://www.nytimes.com/pages/arts/design/index.html\">Art & Design</a>\\n                                    </li>\\n\\n                                                                                            \\n                                    <li>\\n                                        <a href=\"https://www.nytimes.com/pages/books/index.html\">Books</a>\\n                                    </li>\\n\\n                                                                                            \\n                                    <li>\\n                                        <a href=\"https://www.nytimes.com/pages/arts/dance/index.html\">Dance</a>\\n                                    </li>\\n\\n                                                                                            \\n                                    <li>\\n                                        <a href=\"https://www.nytimes.com/pages/movies/index.html\">Movies</a>\\n                                    </li>\\n\\n                                                                                            \\n                                    <li>\\n                                        <a href=\"https://www.nytimes.com/pages/arts/music/index.html\">Music</a>\\n                                    </li>\\n\\n                                                                                            \\n                                    <li>\\n                                        <a href=\"https://www.nytimes.com/events/\">N.Y.C. Events Guide</a>\\n                                    </li>\\n\\n                                                                                            \\n                                    <li>\\n                                        <a href=\"https://www.nytimes.com/pages/arts/television/index.html\">Television</a>\\n                                    </li>\\n\\n                                                                                            \\n                                    <li>\\n                                        <a href=\"https://www.nytimes.com/pages/theater/index.html\">Theater</a>\\n                                    </li>\\n\\n                                                                                            \\n                                    <li>\\n                                        <a href=\"https://www.nytimes.com/video/arts\">Video: Arts</a>\\n                                    </li>\\n\\n                                                            \\n                        </ul>\\n                    </div><!-- close column -->\\n\\n                                            \\n                    <div class=\"column\">\\n                        <h3 class=\"menu-heading\">Living</h3>\\n                        <ul class=\"menu\">\\n\\n                                                            \\n                                    <li>\\n                                        <a href=\"https://www.nytimes.com/pages/automobiles/index.html\">Automobiles</a>\\n                                    </li>\\n\\n                                                                                            \\n                                    <li>\\n                                        <a href=\"https://www.nytimes.com/crosswords/\">Crossword</a>\\n                                    </li>\\n\\n                                                                                            \\n                                    <li>\\n                                        <a href=\"https://www.nytimes.com/pages/dining/index.html\">Food</a>\\n                                    </li>\\n\\n                                                                                            \\n                                    <li>\\n                                        <a href=\"https://www.nytimes.com/pages/education/index.html\">Education</a>\\n                                    </li>\\n\\n                                                                                            \\n                                    <li>\\n                                        <a href=\"https://www.nytimes.com/pages/fashion/index.html\">Fashion & Style</a>\\n                                    </li>\\n\\n                                                                                            \\n                                    <li>\\n                                        <a href=\"https://www.nytimes.com/pages/health/index.html\">Health</a>\\n                                    </li>\\n\\n                                                                                            \\n                                    <li>\\n                                        <a href=\"https://www.nytimes.com/section/jobs\">Jobs</a>\\n                                    </li>\\n\\n                                                                                            \\n                                    <li>\\n                                        <a href=\"https://www.nytimes.com/pages/magazine/index.html\">Magazine</a>\\n                                    </li>\\n\\n                                                                                            \\n                                    <li>\\n                                        <a href=\"https://www.nytimes.com/events/\">N.Y.C. Events Guide</a>\\n                                    </li>\\n\\n                                                                                            \\n                                    <li>\\n                                        <a href=\"https://www.nytimes.com/section/realestate\">Real Estate</a>\\n                                    </li>\\n\\n                                                                                            \\n                                    <li>\\n                                        <a href=\"https://www.nytimes.com/section/t-magazine\">T Magazine</a>\\n                                    </li>\\n\\n                                                                                            \\n                                    <li>\\n                                        <a href=\"https://www.nytimes.com/section/travel\">Travel</a>\\n                                    </li>\\n\\n                                                                                            \\n                                    <li>\\n                                        <a href=\"https://www.nytimes.com/pages/fashion/weddings/index.html\">Weddings & Celebrations</a>\\n                                    </li>\\n\\n                                                            \\n                        </ul>\\n                    </div><!-- close column -->\\n\\n                                            \\n                    <div class=\"column\">\\n                        <h3 class=\"menu-heading\">Listings & More</h3>\\n                        <ul class=\"menu\">\\n\\n                                                            \\n                                    <li>\\n                                        <a href=\"https://www.nytimes.com/section/reader-center\">Reader Center</a>\\n                                    </li>\\n\\n                                                                                            \\n                                    <li>\\n                                        <a href=\"https://www.nytimes.com/ref/classifieds/\">Classifieds</a>\\n                                    </li>\\n\\n                                                                                            \\n                                    <li>\\n                                        <a href=\"https://www.nytimes.com/marketing/tools-and-services/\">Tools & Services</a>\\n                                    </li>\\n\\n                                                                                            \\n                                    <li>\\n                                        <a href=\"https://www.nytimes.com/pages/topics/\">Times Topics</a>\\n                                    </li>\\n\\n                                                                                            \\n                                    <li>\\n                                        <a href=\"https://www.nytimes.com/events/\">N.Y.C. Events Guide</a>\\n                                    </li>\\n\\n                                                                                            \\n                                    <li>\\n                                        <a href=\"https://www.nytimes.com/interactive/blogs/directory.html\">Blogs</a>\\n                                    </li>\\n\\n                                                                                            \\n                                    <li>\\n                                        <a href=\"https://www.nytimes.com/pages/multimedia/index.html\">Multimedia</a>\\n                                    </li>\\n\\n                                                                                            \\n                                    <li>\\n                                        <a href=\"https://lens.blogs.nytimes.com/\">Photography</a>\\n                                    </li>\\n\\n                                                                                            \\n                                    <li>\\n                                        <a href=\"https://www.nytimes.com/video\">Video</a>\\n                                    </li>\\n\\n                                                                                            \\n                                    <li>\\n                                        <a href=\"https://www.nytimes.com/store/?&t=qry542&utm_source=nytimes&utm_medium=HPB&utm_content=hp_browsetree&utm_campaign=NYT-HP&module=SectionsNav&action=click&region=TopBar&version=BrowseTree&contentCollection=NYT%20Store&contentPlacement=2&pgtype=Homepage\">NYT Store</a>\\n                                    </li>\\n\\n                                                                                            \\n                                    <li>\\n                                        <a href=\"https://www.nytimes.com/times-journeys/?utm_source=nytimes&utm_medium=HPLink&utm_content=hp_browsetree&utm_campaign=NYT-HP\">Times Journeys</a>\\n                                    </li>\\n\\n                                                                                            \\n                                    <li>\\n                                        <a href=\"https://www.nytimes.com/seeallnav\">Subscribe</a>\\n                                    </li>\\n\\n                                                                                            \\n                                    <li>\\n                                        <a href=\"https://www.nytimes.com/membercenter\">Manage My Account</a>\\n                                    </li>\\n\\n                                                                                            \\n                                    <li>\\n                                        <a href=\"http://www.nytco.com\">NYTCo</a>\\n                                    </li>\\n\\n                                                            \\n                        </ul>\\n                    </div><!-- close column -->\\n\\n                            \\n            <div class=\"column last-column\">\\n                \\n<h3 class=\"menu-heading\">Subscribe</h3>\\n\\n<ul class=\"menu primary-menu\">\\n    <li class=\"menu-label\">Subscribe</li>\\n    <li class=\"home-delivery\">\\n        <i class=\"icon sprite-icon\"></i>\\n                    <a class=\"nyt-home-delivery\" href=\"https://www.nytimes.com/hdleftnav\">Home Delivery</a>\\n            </li>\\n    <li class=\"digital-subscriptions\">\\n        <i class=\"icon sprite-icon\"></i>\\n                    <a class=\"digital-subscription\" href=\"https://www.nytimes.com/digitalleftnav\">Digital Subscriptions</a>\\n            </li>\\n    <li class=\"nyt-crossword last-item\">\\n        <i class=\"icon sprite-icon\"></i>\\n        <a id=\"nyt-crossword\" href=\"https://www.nytimes.com/crosswords/index.html\">Crossword</a>\\n    </li>\\n</ul>\\n\\n<ul class=\"menu secondary-menu\">\\n\\n    <li class=\"email-newsletters\">\\n        <a href=\"https://www.nytimes.com/marketing/newsletters\">Email Newsletters</a>\\n    </li>\\n    <li>\\n        <a href=\"https://myaccount.nytimes.com/mem/tnt.html\">Alerts</a>\\n    </li>\\n    <li class=\"gift-subscription\">\\n                    <a href=\"https://www.nytimes.com/giftleftnav\">Gift Subscriptions</a>\\n            </li>\\n    <li>\\n                    <a href=\"https://www.nytimes.com/corporateleftnav\">Corporate Subscriptions</a>\\n            </li>\\n    <li>\\n                    <a href=\"https://www.nytimes.com/educationleftnav\">Education Rate</a>\\n            </li>\\n\\n</ul>\\n<ul class=\"menu secondary-menu\">\\n    <li>\\n        <a href=\"https://www.nytimes.com/services/mobile/index.html\">Mobile Applications</a>\\n    </li>\\n    <li>\\n                    <a href=\"http://eedition.nytimes.com/cgi-bin/signup.cgi?cc=37FYY\">Replica Edition</a>\\n            </li>\\n    \\n</ul>\\n\\n            </div><!-- close column -->\\n\\n        </div><!-- close split-6-layout -->\\n\\n    </nav><!-- close nav -->\\n\\n</section><!-- close site-index -->\\n\\n            <footer id=\"page-footer\" class=\"page-footer\" role=\"contentinfo\">\\n    <nav>\\n        <h2 class=\"visually-hidden\">Site Information Navigation</h2>\\n         <ul>\\n             <li>\\n                <a href=\"https://www.nytimes.com/content/help/rights/copyright/copyright-notice.html\" itemprop=\"copyrightNotice\">\\n                    &copy; <span itemprop=\"copyrightYear\">2017</span><span itemprop=\"copyrightHolder provider sourceOrganization\" itemscope itemtype=\"http://schema.org/Organization\" itemid=\"http://www.nytimes.com\"><span itemprop=\"name\"> The New York Times Company</span><meta itemprop=\"tickerSymbol\" content=\"NYSE NYT\"/></span>\\n                </a>\\n            </li>\\n            <li class=\"visually-hidden\"><a href=\"https://www.nytimes.com\">Home</a></li>\\n            <li class=\"visually-hidden\"><a href=\"http://query.nytimes.com/search/sitesearch/#/\">Search</a></li>\\n            <li class=\"visually-hidden\">Accessibility concerns? Email us at <a href=\"mailto:accessibility@nytimes.com\">accessibility@nytimes.com</a>. We would love to hear from you.</li>\\n            <li class=\"wide-viewport-item\"><a href=\"https://www.nytimes.com/ref/membercenter/help/infoservdirectory.html\">Contact Us</a></li>\\n            <li class=\"wide-viewport-item\"><a href=\"http://www.nytco.com/careers\">Work With Us</a></li>\\n            <li class=\"wide-viewport-item\"><a href=\"http://nytmediakit.com/\">Advertise</a></li>\\n            <li class=\"wide-viewport-item\"><a href=\"https://www.nytimes.com/content/help/rights/privacy/policy/privacy-policy.html#pp\">Your Ad Choices</a></li>\\n            <li><a href=\"https://www.nytimes.com/privacy\">Privacy</a></li>\\n            <li><a href=\"https://www.nytimes.com/ref/membercenter/help/agree.html\" itemprop=\"usageTerms\">Terms of Service</a></li>\\n            <li class=\"wide-viewport-item last-item\"><a href=\"https://www.nytimes.com/content/help/rights/sale/terms-of-sale.html\">Terms of Sale</a></li>\\n         </ul>\\n    </nav>\\n    <nav class=\"last-nav\">\\n        <h2 class=\"visually-hidden\">Site Information Navigation</h2>\\n        <ul>\\n            <li><a href=\"http://spiderbites.nytimes.com\">Site Map</a></li>\\n            <li><a href=\"https://www.nytimes.com/membercenter/sitehelp.html\">Help</a></li>\\n            <li><a href=\"https://myaccount.nytimes.com/membercenter/feedback.html\">Site Feedback</a></li>\\n            <li class=\"wide-viewport-item last-item\"><a href=\"https://www.nytimes.com/subscriptions/Multiproduct/lp5558.html?campaignId=37WXW\">Subscriptions</a></li>\\n        </ul>\\n    </nav>\\n</footer>\\n        </div><!-- close page -->\\n    </div><!-- close shell -->\\n                <script src=\"https://cdn.optimizely.com/public/3013110282/s/article_prod.js\" type=\"text/javascript\" async></script>\\n    <script>\\nrequire([\\'foundation/main\\'], function () {\\n    require([\\'story/main\\']);\\n    require([\\'jquery/nyt\\', \\'foundation/views/page-manager\\'], function ($, pageManager) {\\n        if (window.location.search.indexOf(\\'disable_tagx\\') > 0) {\\n            return;\\n        }\\n        $(document).ready(function () {\\n            require([\\'https://a1.nyt.com/analytics/tagx-simple.min.js\\'], function () {\\n                pageManager.trackingFireEventQueue();\\n            });\\n        });\\n    });\\n});\\n</script>\\n<!--esi                                                                                                                    \\n<esi:include src=\"/appconfig/https/show-modal.js\" />                                                                       \\n-->\\n\\n    <div id=\"Inv1\" class=\"ad inv1-ad hidden\"></div>\\n<div id=\"Inv2\" class=\"ad inv2-ad hidden\"></div>\\n<div id=\"Inv3\" class=\"ad inv3-ad hidden\"></div>\\n<div id=\"ab1\" class=\"ad ab1-ad hidden\"></div>\\n<div id=\"ab2\" class=\"ad ab2-ad hidden\"></div>\\n<div id=\"ab3\" class=\"ad ab3-ad hidden\"></div>\\n<div id=\"prop1\" class=\"ad prop1-ad hidden\"></div>\\n<div id=\"prop2\" class=\"ad prop2-ad hidden\"></div>\\n<div id=\"Anchor\" class=\"ad anchor-ad hidden\"></div>\\n<div id=\"ADX_CLIENTSIDE\" class=\"ad adx-clientside-ad hidden\"></div>\\n</body>\\n</html>\\n'"
      ]
     },
     "execution_count": 9,
     "metadata": {},
     "output_type": "execute_result"
    }
   ],
   "source": [
    "article.html"
   ]
  },
  {
   "cell_type": "code",
   "execution_count": 10,
   "metadata": {},
   "outputs": [
    {
     "data": {
      "text/plain": [
       "[]"
      ]
     },
     "execution_count": 10,
     "metadata": {},
     "output_type": "execute_result"
    }
   ],
   "source": [
    "article.keywords"
   ]
  },
  {
   "cell_type": "code",
   "execution_count": 11,
   "metadata": {
    "collapsed": true
   },
   "outputs": [],
   "source": [
    "#Columbine URLs\n",
    "url1='http://www.nytimes.com/1999/04/21/us/terror-littleton-trench-coat-mafia-students-fringe-found-way-stand.html'\n",
    "url2='http://www.nytimes.com/1999/04/21/opinion/gun-spree-at-columbine-high.html'\n",
    "url3='http://www.nytimes.com/1999/04/21/us/terror-in-littleton-the-scene-in-a-violent-instant-routine-gives-way-to-panic.html'\n",
    "url4='http://www.nytimes.com/1999/04/21/us/terror-littleton-television-critic-s-notebook-with-abundance-confusion-few-facts.html'\n",
    "url5='https://learning.blogs.nytimes.com/1999/04/21/taking-aim-at-violence-in-schools/?_r=0'\n",
    "url6='http://www.nytimes.com/1999/04/21/us/terror-littleton-overview-2-students-colorado-school-said-gun-down-many-23-kill.html'\n",
    "url7='http://www.nytimes.com/1999/04/22/us/terror-in-littleton-the-dead-father-of-victim-says-son-had-dispute-with-suspect.html'\n",
    "url8='http://www.nytimes.com/1999/04/22/us/terror-in-littleton-the-suspects-portrait-of-outcasts-seeking-to-stand-out.html'\n",
    "url9='http://www.nytimes.com/1999/04/22/us/terror-in-littleton-the-reasons-violence-by-youths-looking-for-answers.html'\n",
    "url10='http://www.nytimes.com/1999/04/22/us/terror-in-littleton-the-school-good-grades-good-teams-and-some-bad-feelings.html'\n",
    "url11='http://www.nytimes.com/1999/04/22/us/terror-in-littleton-the-overview-15-bodies-are-removed-from-school-in-colorado.html'\n",
    "url12='http://www.nytimes.com/1999/04/23/opinion/l-what-was-behind-colorado-shooting-361518.html'\n",
    "url13='http://www.nytimes.com/1999/04/23/nyregion/news-summary-360880.html'\n",
    "url14='http://www.nytimes.com/1999/04/23/us/terror-littleton-students-fears-though-far-colorado-one-high-school-feeling.html'\n",
    "url15='http://www.nytimes.com/1999/04/23/us/terror-littleton-gun-debate-shootings-firm-up-gun-control-cause-least-for.html'\n",
    "url16='http://www.nytimes.com/1999/04/23/opinion/l-what-was-behind-colorado-shooting-361470.html'\n",
    "url17='http://www.nytimes.com/1999/04/23/us/terror-in-littleton-the-suspects-sketch-of-killers-contradictions-and-confusion.html'\n",
    "url18='http://www.nytimes.com/1999/04/23/opinion/l-what-was-behind-colorado-shooting-361437.html'\n",
    "url19='http://www.nytimes.com/1999/04/23/opinion/l-what-was-behind-colorado-shooting-361429.html'\n",
    "url20='http://www.nytimes.com/1999/04/24/us/terror-in-littleton-excerpts-from-tape-of-2-emergency-calls-at-columbine-high.html'\n",
    "url21='http://www.nytimes.com/1999/04/24/us/terror-in-littleton-the-overview-sounds-from-a-massacre-oh-god-kids-stay-down.html'\n",
    "url22='http://www.nytimes.com/1999/04/24/us/terror-in-littleton-the-seniors-in-horrific-circumstance-sense-of-lost-pomp.html'\n",
    "url23='http://www.nytimes.com/1999/04/24/us/religion-journal-to-the-clerics-of-littleton-words-of-experience.html'\n",
    "url24='http://www.nytimes.com/1999/04/25/weekinreview/the-nation-after-the-madness-violence-even-before-the-internet.html'\n",
    "url25='http://www.nytimes.com/1999/04/25/opinion/the-scourge-of-school-violence.html'\n",
    "url26='http://www.nytimes.com/1999/04/25/opinion/l-access-to-guns-sets-us-apart-we-re-paying-attention-395234.html'\n",
    "url27='http://www.nytimes.com/1999/04/25/us/terror-in-littleton-the-details-attack-at-school-planned-a-year-authorities-say.html'\n",
    "url28='http://www.nytimes.com/1999/04/25/weekinreview/the-nation-the-trouble-with-looking-for-signs-of-trouble.html'\n",
    "url29='http://www.nytimes.com/1999/04/25/us/terror-in-littleton-the-group-society-of-outcasts-began-with-a-99-black-coat.html'\n",
    "url30='http://www.nytimes.com/1999/04/26/us/terror-littleton-gun-debate-renewed-battle-over-weapons-control-both-sides-use.html'\n",
    "url31='http://www.nytimes.com/1999/04/26/us/terror-in-littleton-the-principal-sharing-anguish-guilt-and-hope.html'\n",
    "url32='http://www.nytimes.com/1999/04/26/us/terror-in-littleton-the-gunmen-a-portrait-of-two-killers-at-war-with-themselves.html'\n",
    "url33='http://www.nytimes.com/1999/04/26/us/terror-in-littleton-the-gunmen-a-portrait-of-two-killers-at-war-with-themselves.html'\n",
    "url34='http://www.nytimes.com/1999/04/26/us/terror-in-littleton-the-service-70000-mourn-in-quiet-tears-song-and-rain.html'"
   ]
  },
  {
   "cell_type": "code",
   "execution_count": 12,
   "metadata": {},
   "outputs": [
    {
     "ename": "NameError",
     "evalue": "name 'newspaper' is not defined",
     "output_type": "error",
     "traceback": [
      "\u001b[0;31m---------------------------------------------------------------------------\u001b[0m",
      "\u001b[0;31mNameError\u001b[0m                                 Traceback (most recent call last)",
      "\u001b[0;32m<ipython-input-12-b172020857f6>\u001b[0m in \u001b[0;36m<module>\u001b[0;34m()\u001b[0m\n\u001b[0;32m----> 1\u001b[0;31m \u001b[0mnyt_paper\u001b[0m\u001b[0;34m=\u001b[0m\u001b[0mnewspaper\u001b[0m\u001b[0;34m.\u001b[0m\u001b[0mbuild\u001b[0m\u001b[0;34m(\u001b[0m\u001b[0;34m'https://www.nytimes.com/?mcubz=0'\u001b[0m\u001b[0;34m)\u001b[0m\u001b[0;34m\u001b[0m\u001b[0m\n\u001b[0m\u001b[1;32m      2\u001b[0m \u001b[0;32mfor\u001b[0m \u001b[0marticle\u001b[0m \u001b[0;32min\u001b[0m \u001b[0mnyt_paper\u001b[0m\u001b[0;34m.\u001b[0m\u001b[0marticles\u001b[0m\u001b[0;34m:\u001b[0m\u001b[0;34m\u001b[0m\u001b[0m\n\u001b[1;32m      3\u001b[0m     \u001b[0;32mprint\u001b[0m \u001b[0marticle\u001b[0m\u001b[0;34m.\u001b[0m\u001b[0murl\u001b[0m\u001b[0;34m\u001b[0m\u001b[0m\n",
      "\u001b[0;31mNameError\u001b[0m: name 'newspaper' is not defined"
     ]
    }
   ],
   "source": [
    "nyt_paper=newspaper.build('https://www.nytimes.com/?mcubz=0')\n",
    "for article in nyt_paper.articles:\n",
    "    print article.url"
   ]
  },
  {
   "cell_type": "code",
   "execution_count": 13,
   "metadata": {},
   "outputs": [
    {
     "ename": "TypeError",
     "evalue": "unbound method download() must be called with Article instance as first argument (got nothing instead)",
     "output_type": "error",
     "traceback": [
      "\u001b[0;31m---------------------------------------------------------------------------\u001b[0m",
      "\u001b[0;31mTypeError\u001b[0m                                 Traceback (most recent call last)",
      "\u001b[0;32m<ipython-input-13-7ea98438f0b2>\u001b[0m in \u001b[0;36m<module>\u001b[0;34m()\u001b[0m\n\u001b[0;32m----> 1\u001b[0;31m \u001b[0mArticle\u001b[0m\u001b[0;34m.\u001b[0m\u001b[0mdownload\u001b[0m\u001b[0;34m(\u001b[0m\u001b[0;34m)\u001b[0m\u001b[0;34m\u001b[0m\u001b[0m\n\u001b[0m",
      "\u001b[0;31mTypeError\u001b[0m: unbound method download() must be called with Article instance as first argument (got nothing instead)"
     ]
    }
   ],
   "source": [
    "Article.download()"
   ]
  },
  {
   "cell_type": "code",
   "execution_count": 14,
   "metadata": {
    "collapsed": true
   },
   "outputs": [],
   "source": [
    "import pandas as pd"
   ]
  },
  {
   "cell_type": "code",
   "execution_count": 15,
   "metadata": {
    "collapsed": true,
    "scrolled": false
   },
   "outputs": [],
   "source": [
    "urls = [url1,url2,url3,url4,url5,url6,url7,url8,url9,url10,url11,url12,url13,url14,url15,url16,url17,url18,url19,url20,url21,url22,url23,\n",
    "       url24,url25,url26,url27,url28,url29,url30,url31,url32,url33,url34]\n",
    "import newspaper\n",
    "# \"for i in urls:\n",
    "#     print i\"\n",
    "# Nyt_Columbine = []\n",
    "Nyt_Columbine =pd.DataFrame()\n",
    "for i in urls: \n",
    "    a=Article(i, language='en')\n",
    "    a.download()\n",
    "    a.parse()\n",
    "    Nyt_Columbine= Nyt_Columbine.append([[a.title, a.text]], ignore_index=True)\n",
    "Nyt_Columbine.columns=['Title','Article']\n",
    "#     Nyt_Columbine.append(a.title)\n",
    "#     Nyt_Columbine.append(a.text)\n",
    "    \n",
    "    \n",
    "    \n",
    "    "
   ]
  },
  {
   "cell_type": "code",
   "execution_count": 16,
   "metadata": {
    "scrolled": true
   },
   "outputs": [
    {
     "data": {
      "text/html": [
       "<div>\n",
       "<style>\n",
       "    .dataframe thead tr:only-child th {\n",
       "        text-align: right;\n",
       "    }\n",
       "\n",
       "    .dataframe thead th {\n",
       "        text-align: left;\n",
       "    }\n",
       "\n",
       "    .dataframe tbody tr th {\n",
       "        vertical-align: top;\n",
       "    }\n",
       "</style>\n",
       "<table border=\"1\" class=\"dataframe\">\n",
       "  <thead>\n",
       "    <tr style=\"text-align: right;\">\n",
       "      <th></th>\n",
       "      <th>Title</th>\n",
       "      <th>Article</th>\n",
       "    </tr>\n",
       "  </thead>\n",
       "  <tbody>\n",
       "    <tr>\n",
       "      <th>0</th>\n",
       "      <td>TERROR IN LITTLETON: THE TRENCH COAT MAFIA; St...</td>\n",
       "      <td>A police officer answered the telephone late l...</td>\n",
       "    </tr>\n",
       "    <tr>\n",
       "      <th>1</th>\n",
       "      <td>Gun Spree at Columbine High</td>\n",
       "      <td>Once again a routine school day was interrupte...</td>\n",
       "    </tr>\n",
       "    <tr>\n",
       "      <th>2</th>\n",
       "      <td>TERROR IN LITTLETON: THE SCENE; In a Violent I...</td>\n",
       "      <td>Bullets zipped through the walls of a science ...</td>\n",
       "    </tr>\n",
       "    <tr>\n",
       "      <th>3</th>\n",
       "      <td>TERROR IN LITTLETON: TELEVISION -- CRITIC'S NO...</td>\n",
       "      <td>Network news came on in time to report that th...</td>\n",
       "    </tr>\n",
       "    <tr>\n",
       "      <th>4</th>\n",
       "      <td>Taking Aim at Violence in Schools</td>\n",
       "      <td>Note: This lesson was originally published on ...</td>\n",
       "    </tr>\n",
       "    <tr>\n",
       "      <th>5</th>\n",
       "      <td>TERROR IN LITTLETON: THE OVERVIEW; 2 STUDENTS ...</td>\n",
       "      <td>Kaleb Newberry, 16, said: ''I was in class and...</td>\n",
       "    </tr>\n",
       "    <tr>\n",
       "      <th>6</th>\n",
       "      <td>TERROR IN LITTLETON: THE DEAD; Father of Victi...</td>\n",
       "      <td>''The kids that got away explained it to us,''...</td>\n",
       "    </tr>\n",
       "    <tr>\n",
       "      <th>7</th>\n",
       "      <td>TERROR IN LITTLETON: THE SUSPECTS; Portrait of...</td>\n",
       "      <td>Late Tuesday night, after the mass shooting at...</td>\n",
       "    </tr>\n",
       "    <tr>\n",
       "      <th>8</th>\n",
       "      <td>TERROR IN LITTLETON: THE REASONS; Violence by ...</td>\n",
       "      <td>''Our children are telling us things and we ar...</td>\n",
       "    </tr>\n",
       "    <tr>\n",
       "      <th>9</th>\n",
       "      <td>TERROR IN LITTLETON: THE SCHOOL; Good Grades, ...</td>\n",
       "      <td>''There are cliques all over the place,'' said...</td>\n",
       "    </tr>\n",
       "    <tr>\n",
       "      <th>10</th>\n",
       "      <td>TERROR IN LITTLETON: THE OVERVIEW; 15 Bodies A...</td>\n",
       "      <td>Sheriff John P. Stone said a computer had been...</td>\n",
       "    </tr>\n",
       "    <tr>\n",
       "      <th>11</th>\n",
       "      <td>What Was Behind Colorado Shooting?</td>\n",
       "      <td>To the Editor:\\n\\nThe Littleton, Colo., shooti...</td>\n",
       "    </tr>\n",
       "    <tr>\n",
       "      <th>12</th>\n",
       "      <td>The New York Times</td>\n",
       "      <td>Kosovo Update A10\\n\\nFuture of Smallpox Cells\\...</td>\n",
       "    </tr>\n",
       "    <tr>\n",
       "      <th>13</th>\n",
       "      <td>TERROR IN LITTLETON: STUDENTS' FEARS; Though F...</td>\n",
       "      <td>Like Columbine and, indeed, most high schools,...</td>\n",
       "    </tr>\n",
       "    <tr>\n",
       "      <th>14</th>\n",
       "      <td>TERROR IN LITTLETON: THE GUN DEBATE; Shootings...</td>\n",
       "      <td>With pro-gun legislation also in trouble in Te...</td>\n",
       "    </tr>\n",
       "    <tr>\n",
       "      <th>15</th>\n",
       "      <td>What Was Behind Colorado Shooting?</td>\n",
       "      <td>To the Editor:\\n\\nWe could avoid being shocked...</td>\n",
       "    </tr>\n",
       "    <tr>\n",
       "      <th>16</th>\n",
       "      <td>TERROR IN LITTLETON: THE SUSPECTS; Sketch of K...</td>\n",
       "      <td>In Littleton, their only scrape with the law w...</td>\n",
       "    </tr>\n",
       "    <tr>\n",
       "      <th>17</th>\n",
       "      <td>What Was Behind Colorado Shooting?</td>\n",
       "      <td>To the Editor:\\n\\nYour April 21 editorial on t...</td>\n",
       "    </tr>\n",
       "    <tr>\n",
       "      <th>18</th>\n",
       "      <td>What Was Behind Colorado Shooting?</td>\n",
       "      <td>To the Editor:\\n\\nSchool violence, like the Co...</td>\n",
       "    </tr>\n",
       "    <tr>\n",
       "      <th>19</th>\n",
       "      <td>TERROR IN LITTLETON; Excerpts From Tape of 2 E...</td>\n",
       "      <td>DISPATCHER -- O.K., we got help on the way, ma...</td>\n",
       "    </tr>\n",
       "    <tr>\n",
       "      <th>20</th>\n",
       "      <td>TERROR IN LITTLETON: THE OVERVIEW; Sounds From...</td>\n",
       "      <td>Investigators also said today that they believ...</td>\n",
       "    </tr>\n",
       "    <tr>\n",
       "      <th>21</th>\n",
       "      <td>TERROR IN LITTLETON: THE SENIORS; In Horrific ...</td>\n",
       "      <td>They had selected their class flower (tiger li...</td>\n",
       "    </tr>\n",
       "    <tr>\n",
       "      <th>22</th>\n",
       "      <td>Religion Journal; To the Clerics of Littleton,...</td>\n",
       "      <td>Reporters, parked outside the hospital, came o...</td>\n",
       "    </tr>\n",
       "    <tr>\n",
       "      <th>23</th>\n",
       "      <td>The Nation: After the Madness; Violence, Even ...</td>\n",
       "      <td>Correction Appended\\n\\nLONG before two teen-ag...</td>\n",
       "    </tr>\n",
       "    <tr>\n",
       "      <th>24</th>\n",
       "      <td>The Scourge of School Violence</td>\n",
       "      <td>There is of course no certain antidote to the ...</td>\n",
       "    </tr>\n",
       "    <tr>\n",
       "      <th>25</th>\n",
       "      <td>Access to Guns Sets U.S. Apart; We're Paying A...</td>\n",
       "      <td>To the Editor:\\n\\nI disagree with Bob Herbert'...</td>\n",
       "    </tr>\n",
       "    <tr>\n",
       "      <th>26</th>\n",
       "      <td>TERROR IN LITTLETON: THE DETAILS; ATTACK AT SC...</td>\n",
       "      <td>''The bottom line of this thing is that they w...</td>\n",
       "    </tr>\n",
       "    <tr>\n",
       "      <th>27</th>\n",
       "      <td>The Nation; The Trouble With Looking for Signs...</td>\n",
       "      <td>The profile could fit most teen-agers on a bad...</td>\n",
       "    </tr>\n",
       "    <tr>\n",
       "      <th>28</th>\n",
       "      <td>TERROR IN LITTLETON: THE GROUP; Society of Out...</td>\n",
       "      <td>It felt good. That spring, the girls bought a ...</td>\n",
       "    </tr>\n",
       "    <tr>\n",
       "      <th>29</th>\n",
       "      <td>TERROR IN LITTLETON: THE GUN DEBATE; In Renewe...</td>\n",
       "      <td>In the days after the shootings, many groups r...</td>\n",
       "    </tr>\n",
       "    <tr>\n",
       "      <th>30</th>\n",
       "      <td>TERROR IN LITTLETON: THE PRINCIPAL; Sharing An...</td>\n",
       "      <td>Mr. DeAngelis was talking by telephone from hi...</td>\n",
       "    </tr>\n",
       "    <tr>\n",
       "      <th>31</th>\n",
       "      <td>TERROR IN LITTLETON: THE GUNMEN; A Portrait Of...</td>\n",
       "      <td>Many students in the school have described the...</td>\n",
       "    </tr>\n",
       "    <tr>\n",
       "      <th>32</th>\n",
       "      <td>TERROR IN LITTLETON: THE GUNMEN; A Portrait Of...</td>\n",
       "      <td>Many students in the school have described the...</td>\n",
       "    </tr>\n",
       "    <tr>\n",
       "      <th>33</th>\n",
       "      <td>TERROR IN LITTLETON: THE SERVICE; 70,000 Mourn...</td>\n",
       "      <td>On a Sunday when religious leaders across the ...</td>\n",
       "    </tr>\n",
       "  </tbody>\n",
       "</table>\n",
       "</div>"
      ],
      "text/plain": [
       "                                                Title  \\\n",
       "0   TERROR IN LITTLETON: THE TRENCH COAT MAFIA; St...   \n",
       "1                         Gun Spree at Columbine High   \n",
       "2   TERROR IN LITTLETON: THE SCENE; In a Violent I...   \n",
       "3   TERROR IN LITTLETON: TELEVISION -- CRITIC'S NO...   \n",
       "4                   Taking Aim at Violence in Schools   \n",
       "5   TERROR IN LITTLETON: THE OVERVIEW; 2 STUDENTS ...   \n",
       "6   TERROR IN LITTLETON: THE DEAD; Father of Victi...   \n",
       "7   TERROR IN LITTLETON: THE SUSPECTS; Portrait of...   \n",
       "8   TERROR IN LITTLETON: THE REASONS; Violence by ...   \n",
       "9   TERROR IN LITTLETON: THE SCHOOL; Good Grades, ...   \n",
       "10  TERROR IN LITTLETON: THE OVERVIEW; 15 Bodies A...   \n",
       "11                 What Was Behind Colorado Shooting?   \n",
       "12                                 The New York Times   \n",
       "13  TERROR IN LITTLETON: STUDENTS' FEARS; Though F...   \n",
       "14  TERROR IN LITTLETON: THE GUN DEBATE; Shootings...   \n",
       "15                 What Was Behind Colorado Shooting?   \n",
       "16  TERROR IN LITTLETON: THE SUSPECTS; Sketch of K...   \n",
       "17                 What Was Behind Colorado Shooting?   \n",
       "18                 What Was Behind Colorado Shooting?   \n",
       "19  TERROR IN LITTLETON; Excerpts From Tape of 2 E...   \n",
       "20  TERROR IN LITTLETON: THE OVERVIEW; Sounds From...   \n",
       "21  TERROR IN LITTLETON: THE SENIORS; In Horrific ...   \n",
       "22  Religion Journal; To the Clerics of Littleton,...   \n",
       "23  The Nation: After the Madness; Violence, Even ...   \n",
       "24                     The Scourge of School Violence   \n",
       "25  Access to Guns Sets U.S. Apart; We're Paying A...   \n",
       "26  TERROR IN LITTLETON: THE DETAILS; ATTACK AT SC...   \n",
       "27  The Nation; The Trouble With Looking for Signs...   \n",
       "28  TERROR IN LITTLETON: THE GROUP; Society of Out...   \n",
       "29  TERROR IN LITTLETON: THE GUN DEBATE; In Renewe...   \n",
       "30  TERROR IN LITTLETON: THE PRINCIPAL; Sharing An...   \n",
       "31  TERROR IN LITTLETON: THE GUNMEN; A Portrait Of...   \n",
       "32  TERROR IN LITTLETON: THE GUNMEN; A Portrait Of...   \n",
       "33  TERROR IN LITTLETON: THE SERVICE; 70,000 Mourn...   \n",
       "\n",
       "                                              Article  \n",
       "0   A police officer answered the telephone late l...  \n",
       "1   Once again a routine school day was interrupte...  \n",
       "2   Bullets zipped through the walls of a science ...  \n",
       "3   Network news came on in time to report that th...  \n",
       "4   Note: This lesson was originally published on ...  \n",
       "5   Kaleb Newberry, 16, said: ''I was in class and...  \n",
       "6   ''The kids that got away explained it to us,''...  \n",
       "7   Late Tuesday night, after the mass shooting at...  \n",
       "8   ''Our children are telling us things and we ar...  \n",
       "9   ''There are cliques all over the place,'' said...  \n",
       "10  Sheriff John P. Stone said a computer had been...  \n",
       "11  To the Editor:\\n\\nThe Littleton, Colo., shooti...  \n",
       "12  Kosovo Update A10\\n\\nFuture of Smallpox Cells\\...  \n",
       "13  Like Columbine and, indeed, most high schools,...  \n",
       "14  With pro-gun legislation also in trouble in Te...  \n",
       "15  To the Editor:\\n\\nWe could avoid being shocked...  \n",
       "16  In Littleton, their only scrape with the law w...  \n",
       "17  To the Editor:\\n\\nYour April 21 editorial on t...  \n",
       "18  To the Editor:\\n\\nSchool violence, like the Co...  \n",
       "19  DISPATCHER -- O.K., we got help on the way, ma...  \n",
       "20  Investigators also said today that they believ...  \n",
       "21  They had selected their class flower (tiger li...  \n",
       "22  Reporters, parked outside the hospital, came o...  \n",
       "23  Correction Appended\\n\\nLONG before two teen-ag...  \n",
       "24  There is of course no certain antidote to the ...  \n",
       "25  To the Editor:\\n\\nI disagree with Bob Herbert'...  \n",
       "26  ''The bottom line of this thing is that they w...  \n",
       "27  The profile could fit most teen-agers on a bad...  \n",
       "28  It felt good. That spring, the girls bought a ...  \n",
       "29  In the days after the shootings, many groups r...  \n",
       "30  Mr. DeAngelis was talking by telephone from hi...  \n",
       "31  Many students in the school have described the...  \n",
       "32  Many students in the school have described the...  \n",
       "33  On a Sunday when religious leaders across the ...  "
      ]
     },
     "execution_count": 16,
     "metadata": {},
     "output_type": "execute_result"
    }
   ],
   "source": [
    "Nyt_Columbine"
   ]
  },
  {
   "cell_type": "code",
   "execution_count": null,
   "metadata": {
    "collapsed": true
   },
   "outputs": [],
   "source": [
    "df[new_col]='String'"
   ]
  },
  {
   "cell_type": "code",
   "execution_count": null,
   "metadata": {
    "collapsed": true
   },
   "outputs": [],
   "source": [
    "Nyt_Columbine.add()"
   ]
  },
  {
   "cell_type": "code",
   "execution_count": 258,
   "metadata": {},
   "outputs": [
    {
     "data": {
      "text/plain": [
       "64"
      ]
     },
     "execution_count": 258,
     "metadata": {},
     "output_type": "execute_result"
    }
   ],
   "source": [
    "len(Nyt_Columbine)"
   ]
  },
  {
   "cell_type": "code",
   "execution_count": 173,
   "metadata": {
    "collapsed": true
   },
   "outputs": [],
   "source": [
    "a=Article(Url2, language='en')\n",
    "a.download()\n",
    "a.parse()\n",
    "Nyt_Columbine.append(a.text)"
   ]
  },
  {
   "cell_type": "code",
   "execution_count": null,
   "metadata": {
    "collapsed": true
   },
   "outputs": [],
   "source": []
  },
  {
   "cell_type": "code",
   "execution_count": null,
   "metadata": {
    "collapsed": true
   },
   "outputs": [],
   "source": [
    "for i in list_of_comments:\n",
    "    i.replace('N.R.A.','NRA')\n",
    "    "
   ]
  },
  {
   "cell_type": "code",
   "execution_count": 83,
   "metadata": {
    "collapsed": true
   },
   "outputs": [],
   "source": [
    "# article.download()\n",
    "# article.html"
   ]
  },
  {
   "cell_type": "code",
   "execution_count": null,
   "metadata": {
    "collapsed": true
   },
   "outputs": [],
   "source": [
    "# article.parse()\n",
    "# article.text"
   ]
  },
  {
   "cell_type": "code",
   "execution_count": 31,
   "metadata": {
    "collapsed": true
   },
   "outputs": [],
   "source": [
    "import numpy as np\n",
    "import requests\n",
    "import bs4\n",
    "from bs4 import BeautifulSoup\n",
    "import urllib\n",
    "from time import sleep"
   ]
  },
  {
   "cell_type": "code",
   "execution_count": 64,
   "metadata": {},
   "outputs": [
    {
     "ename": "IndentationError",
     "evalue": "unexpected unindent (<ipython-input-64-d6d99dcd12dd>, line 18)",
     "output_type": "error",
     "traceback": [
      "\u001b[0;36m  File \u001b[0;32m\"<ipython-input-64-d6d99dcd12dd>\"\u001b[0;36m, line \u001b[0;32m18\u001b[0m\n\u001b[0;31m    Nyt.append(columbine)\u001b[0m\n\u001b[0m    ^\u001b[0m\n\u001b[0;31mIndentationError\u001b[0m\u001b[0;31m:\u001b[0m unexpected unindent\n"
     ]
    }
   ],
   "source": [
    "url = 'https://query.nytimes.com/search/sitesearch/#/columbine+shooting/from19990420to19990427/allresults/1/allauthors/newest/'\n",
    "max_results_per_search = 1\n",
    "columns=['Title',\"Article\"]\n",
    "Nyt=[]\n",
    "for start in range(0,max_results_per_search, 10):\n",
    "    html=requests.get(url)\n",
    "    sleep(0.5)\n",
    "    soup=BeautifulSoup(html.text,\"html.parser\", from_encoding='utf-8')\n",
    "    for div in soup.find_all(name='div', attrs={'class':'element2'}):\n",
    "        columbine=[]\n",
    "#         #Grab Article Title\n",
    "#         try:\n",
    "#             columbine.append(div.find('h3',class_='a')).text\n",
    "#         except:\n",
    "#             columbine.append('None')\n",
    "        #Grab article\n",
    "        try: columbine.append(div.find('p', class_='summary')).text\n",
    "    Nyt.append(columbine)\n",
    "    pass\n",
    "Nyt90\n"
   ]
  },
  {
   "cell_type": "code",
   "execution_count": 40,
   "metadata": {
    "collapsed": true
   },
   "outputs": [],
   "source": [
    "# from nytimesarticle import articleAPI\n",
    "# api = articleAPI('07ca77c37cbf475cb6933042e951367b')"
   ]
  },
  {
   "cell_type": "code",
   "execution_count": 41,
   "metadata": {
    "collapsed": true
   },
   "outputs": [],
   "source": [
    "# articles = api.search( q = 'Columbine Shooting', \n",
    "#      fq = {'headline':'Columbine', 'source':['Reuters','AP', 'The New York Times']}, \n",
    "#      begin_date = 19990420)"
   ]
  },
  {
   "cell_type": "code",
   "execution_count": 67,
   "metadata": {
    "collapsed": true
   },
   "outputs": [],
   "source": [
    "# def parse_articles(articles):\n",
    "#     '''\n",
    "#     This function takes in a response to the NYT api and parses\n",
    "#     the articles into a list of dictionaries\n",
    "#     '''\n",
    "#     news = []\n",
    "#     for i in articles['response']['docs']:\n",
    "#         dic = {}\n",
    "#         dic['id'] = i['_id']\n",
    "#         if i['abstract'] is not None:\n",
    "#             dic['abstract'] = i['abstract'].encode(\"utf8\")\n",
    "#         dic['headline'] = i['headline']['main'].encode(\"utf8\")\n",
    "# #         dic['desk'] = i['news_desk']\n",
    "#         dic['date'] = i['pub_date'][0:10] # cutting time of day.\n",
    "#         dic['section'] = i['section_name']\n",
    "#         if i['snippet'] is not None:\n",
    "#             dic['snippet'] = i['snippet'].encode(\"utf8\")\n",
    "#         dic['source'] = i['source']\n",
    "#         dic['type'] = i['type_of_material']\n",
    "#         dic['url'] = i['web_url']\n",
    "#         dic['word_count'] = i['word_count']\n",
    "#         # locations\n",
    "#         locations = []\n",
    "#         for x in range(0,len(i['keywords'])):\n",
    "#             if 'glocations' in i['keywords'][x]['name']:\n",
    "#                 locations.append(i['keywords'][x]['value'])\n",
    "#         dic['locations'] = locations\n",
    "#         # subject\n",
    "#         subjects = []\n",
    "#         for x in range(0,len(i['keywords'])):\n",
    "#             if 'subject' in i['keywords'][x]['name']:\n",
    "#                 subjects.append(i['keywords'][x]['value'])\n",
    "#         dic['subjects'] = subjects   \n",
    "#         news.append(dic)\n",
    "#     return(news) "
   ]
  },
  {
   "cell_type": "code",
   "execution_count": 75,
   "metadata": {
    "collapsed": true
   },
   "outputs": [],
   "source": [
    "# def get_articles(date,query):\n",
    "#     '''\n",
    "#     This function accepts a year in string format (e.g.'1980')\n",
    "#     and a query (e.g.'Amnesty International') and it will \n",
    "#     return a list of parsed articles (in dictionaries)\n",
    "#     for that year.\n",
    "#     '''\n",
    "#     all_articles = []\n",
    "#     for i in range(0,35): #NYT limits pager to first 100 pages. But rarely will you find over 100 pages of results anyway.\n",
    "#         articles = api.search(q = query,\n",
    "#                fq = {'source':['Reuters','AP', 'The New York Times']},\n",
    "#                begin_date = \"19990420\",\n",
    "#                end_date = '19990427',\n",
    "#                sort='oldest',\n",
    "#                page = str(i))\n",
    "#         articles = parse_articles(articles)\n",
    "#     return(articles)"
   ]
  },
  {
   "cell_type": "code",
   "execution_count": 84,
   "metadata": {
    "collapsed": true
   },
   "outputs": [],
   "source": [
    "# get_articles('19990420', 'Columbine Shooting')"
   ]
  },
  {
   "cell_type": "code",
   "execution_count": 85,
   "metadata": {
    "collapsed": true,
    "scrolled": true
   },
   "outputs": [],
   "source": [
    "# Nyt_Columbine = []\n",
    "# for i in range(1999,2000):\n",
    "#     print 'Processing' + str(i) + '...'\n",
    "#     ColumbineNyt =  get_articles(str(i),'Columbine Shooting')\n",
    "#     Nyt_Columbine.append(ColumbineNyt)"
   ]
  },
  {
   "cell_type": "code",
   "execution_count": 86,
   "metadata": {
    "collapsed": true
   },
   "outputs": [],
   "source": [
    "# print Nyt_Columbine"
   ]
  },
  {
   "cell_type": "code",
   "execution_count": 58,
   "metadata": {
    "collapsed": true
   },
   "outputs": [],
   "source": [
    "# import numpy as np\n",
    "# import requests\n",
    "# import bs4\n",
    "# from bs4 import BeautifulSoup\n",
    "# import urllib"
   ]
  },
  {
   "cell_type": "code",
   "execution_count": 231,
   "metadata": {
    "collapsed": true
   },
   "outputs": [],
   "source": [
    "url='https://query.nytimes.com/search/sitesearch/#/columbine%2520shooting/from19990420to19990427/allresults/1/allauthors/oldest/'\n",
    "#grab html of the page\n",
    "html=requests.get(url)"
   ]
  },
  {
   "cell_type": "code",
   "execution_count": 232,
   "metadata": {
    "scrolled": true
   },
   "outputs": [
    {
     "data": {
      "text/plain": [
       "200"
      ]
     },
     "execution_count": 232,
     "metadata": {},
     "output_type": "execute_result"
    }
   ],
   "source": [
    "html.status_code"
   ]
  },
  {
   "cell_type": "code",
   "execution_count": 235,
   "metadata": {},
   "outputs": [
    {
     "ename": "AttributeError",
     "evalue": "'Response' object has no attribute 'dtype'",
     "output_type": "error",
     "traceback": [
      "\u001b[0;31m---------------------------------------------------------------------------\u001b[0m",
      "\u001b[0;31mAttributeError\u001b[0m                            Traceback (most recent call last)",
      "\u001b[0;32m<ipython-input-235-083a5959d1c6>\u001b[0m in \u001b[0;36m<module>\u001b[0;34m()\u001b[0m\n\u001b[0;32m----> 1\u001b[0;31m \u001b[0mhtml\u001b[0m\u001b[0;34m.\u001b[0m\u001b[0mdtype\u001b[0m\u001b[0;34m\u001b[0m\u001b[0m\n\u001b[0m",
      "\u001b[0;31mAttributeError\u001b[0m: 'Response' object has no attribute 'dtype'"
     ]
    }
   ],
   "source": []
  },
  {
   "cell_type": "code",
   "execution_count": 107,
   "metadata": {
    "scrolled": true
   },
   "outputs": [
    {
     "name": "stdout",
     "output_type": "stream",
     "text": [
      "<!DOCTYPE html>\n",
      "<html lang=\"en\">\n",
      " <head>\n",
      "  <title>\n",
      "   NYTimes.com Search\n",
      "  </title>\n",
      "  <meta content=\"text/html; charset=utf-8\" http-equiv=\"Content-Type\">\n",
      "   <meta content=\"noarchive\" name=\"robots\">\n",
      "    <meta content=\"Search\" name=\"CG\">\n",
      "     <meta content=\"cse\" name=\"SCG\">\n",
      "      <meta content=\"Search\" name=\"PT\">\n",
      "       <meta content=\"Search Results\" name=\"PST\">\n",
      "        <meta content=\"\" name=\"PSST\">\n",
      "         <meta content=\"\" name=\"PS\">\n",
      "          <meta content=\"\" name=\"ttl\">\n",
      "           <meta content=\"nyt-search\" name=\"sourceApp\"/>\n",
      "           <link href=\"https://static01.nyt.com/favicon.ico\" rel=\"shortcut icon\"/>\n",
      "           <link href=\"https://s1.nyt.com/search/add/assets/16d75d84e70334b79c5187ff81f62a625eadde41/css/min.css\" rel=\"stylesheet\" type=\"text/css\">\n",
      "            <!--[if IE]>\n",
      "      <style type=\"text/css\">\n",
      "      @import url(https://graphics8.nytimes.com/css/0.1/screen/common/ie.css);\n",
      "      </style>\n",
      "    <![endif]-->\n",
      "            <!--[if IE 6]>\n",
      "      <style type=\"text/css\">\n",
      "      @import url(https://graphics8.nytimes.com/css/0.1/screen/common/ie6.css);\n",
      "      </style>\n",
      "    <![endif]-->\n",
      "            <!--[if lt IE 9]>\n",
      "      <script src=\"https://graphics8.nytimes.com/js/html5shiv.js\"></script>\n",
      "    <![endif]-->\n",
      "            <script charset=\"utf-8\" type=\"text/javascript\">\n",
      "             (function(G,o,O,g,L,e){G[g]=G[g]||function()\n",
      "       {(G[g]['q']=G[g]['q']||[]).push( arguments)}\n",
      "                           ,G[g]['t']=1*new Date;L=o.createElement(O),e=o.getElementsByTagName(\n",
      "                             O)[0];L.async=1;L.src='https://www.google.com/adsense/search/async-ads.js';\n",
      "       e.parentNode.insertBefore(L,e)})(window,document,'script','_googCsa');\n",
      "            </script>\n",
      "           </link>\n",
      "          </meta>\n",
      "         </meta>\n",
      "        </meta>\n",
      "       </meta>\n",
      "      </meta>\n",
      "     </meta>\n",
      "    </meta>\n",
      "   </meta>\n",
      "  </meta>\n",
      " </head>\n",
      " <body>\n",
      "  <script charset=\"utf-8\" type=\"text/javascript\">\n",
      "   window.onhashchange = function() {\n",
      "       var user_query = document.getElementById('newSearchQueryTop').value;\n",
      "       var pageOptions = { \n",
      "         'pubId': 'pub-9542126426993714', \n",
      "         'query': user_query,\n",
      "         'hl': 'en', \n",
      "         'adPage': 1 \n",
      "       };\n",
      "       var adblock1 = { \n",
      "         'container': 'adcontainer1', \n",
      "         'width': '600px',\n",
      "         'colorBackground': '#e7eff9'\n",
      "       };\n",
      "       _googCsa('ads', pageOptions, adblock1);\n",
      "     }\n",
      "  </script>\n",
      "  <a name=\"top\">\n",
      "  </a>\n",
      "  <div id=\"shell\">\n",
      "   <div class=\"tabContent active\" id=\"page\">\n",
      "    <div class=\"clearfix\" id=\"masthead\">\n",
      "     <div id=\"branding\">\n",
      "      <a href=\"https://www.nytimes.com\">\n",
      "       <img alt=\"New York Times\" id=\"NYTLogo\" src=\"https://graphics8.nytimes.com/images/misc/nytlogo152x23.gif\"/>\n",
      "      </a>\n",
      "     </div>\n",
      "     <h2>\n",
      "      <a href=\"/\">\n",
      "       Search\n",
      "      </a>\n",
      "     </h2>\n",
      "     <div class=\"mostPopularSearches\" id=\"mostPopularSearches\">\n",
      "      <div class=\"tabDropDown\">\n",
      "       <div class=\"tabDropDownHeader\">\n",
      "        <div class=\"inset\">\n",
      "         <h5 class=\"tabDropDownHeading\">\n",
      "          <a class=\"toggleControl\">\n",
      "           Most Popular Searches\n",
      "          </a>\n",
      "         </h5>\n",
      "        </div>\n",
      "       </div>\n",
      "       <!-- close tabDropDownHeader -->\n",
      "       <div class=\"tabDropDownContent\">\n",
      "        <div class=\"subColumns noBackground\">\n",
      "         <div class=\"column firstColumn\">\n",
      "          <div class=\"inset\">\n",
      "           <ol class=\"flush\">\n",
      "           </ol>\n",
      "          </div>\n",
      "          <!-- close inset -->\n",
      "         </div>\n",
      "         <!-- close column -->\n",
      "         <div class=\"column lastColumn\">\n",
      "          <div class=\"inset\">\n",
      "           <ol class=\"flush\" start=\"6\">\n",
      "           </ol>\n",
      "          </div>\n",
      "          <!-- close .inset -->\n",
      "         </div>\n",
      "         <!-- close .column -->\n",
      "        </div>\n",
      "        <!-- close .subColumns -->\n",
      "       </div>\n",
      "       <!-- close .tabDropDownContent -->\n",
      "      </div>\n",
      "      <!-- close .tabDropDown -->\n",
      "     </div>\n",
      "     <!-- close .mostPopularSearches -->\n",
      "    </div>\n",
      "    <!-- close #masthead -->\n",
      "    <div class=\"searchHeader\" id=\"searchHeader\">\n",
      "     <div class=\"insetPadded opposingFloatControl wrap\">\n",
      "      <div class=\"searchInputForm inlineSearchControl element1\" id=\"inlineSearchControl\">\n",
      "       <form>\n",
      "        <div class=\"control horizontalControl lastControl\">\n",
      "         <div class=\"labelContainer\">\n",
      "          <label for=\"newSearchQueryTop\">\n",
      "           Your Search\n",
      "          </label>\n",
      "         </div>\n",
      "         <div class=\"fieldContainer containingBlock\" id=\"yourSearch\">\n",
      "          <input autocomplete=\"off\" class=\"newSearchQuery autoSuggestQuery\" id=\"newSearchQueryTop\" type=\"text\" value=\"\">\n",
      "           <ol class=\"autoSuggestQueryResults\">\n",
      "           </ol>\n",
      "           <button class=\"button\" type=\"submit\">\n",
      "            Go\n",
      "           </button>\n",
      "          </input>\n",
      "         </div>\n",
      "        </div>\n",
      "       </form>\n",
      "      </div>\n",
      "      <!-- .inlineSearchControl -->\n",
      "      <ul class=\"breadCrumbFilterList element1\">\n",
      "      </ul>\n",
      "      <div class=\"resetFilters element2\">\n",
      "       <a class=\"searchFilter\" data-refineby=\"resetFilters\">\n",
      "        Clear All Filters\n",
      "       </a>\n",
      "      </div>\n",
      "     </div>\n",
      "     <!-- .inset -->\n",
      "    </div>\n",
      "    <!-- .searchHeader -->\n",
      "    <div id=\"main\">\n",
      "     <div class=\"spanAB wrap\">\n",
      "      <div class=\"search \">\n",
      "       <div class=\"abColumn\">\n",
      "        <!-- open abColumn -->\n",
      "        <div class=\"aColumn\">\n",
      "         <!-- open aColumn -->\n",
      "         <!--cur: prev:-->\n",
      "         <div class=\"columnGroup first\">\n",
      "          <div class=\"columnGroup firstColumn dateFilters\">\n",
      "           <h2 class=\"sectionHeader\">\n",
      "            Date Range\n",
      "           </h2>\n",
      "           <ul class=\"filterList flush\">\n",
      "            <li class=\"firstItem\">\n",
      "             <a class=\"searchFilter\" data-refineby=\"since1851\">\n",
      "              All Since 1851\n",
      "             </a>\n",
      "            </li>\n",
      "            <li>\n",
      "             <a class=\"searchFilter\" data-refineby=\"24hoursago\">\n",
      "              Past 24 Hours\n",
      "             </a>\n",
      "            </li>\n",
      "            <li>\n",
      "             <a class=\"searchFilter\" data-refineby=\"7daysago\">\n",
      "              Past 7 Days\n",
      "             </a>\n",
      "            </li>\n",
      "            <li>\n",
      "             <a class=\"searchFilter\" data-refineby=\"30daysago\">\n",
      "              Past 30 Days\n",
      "             </a>\n",
      "            </li>\n",
      "            <li>\n",
      "             <a class=\"searchFilter\" data-refineby=\"365daysago\">\n",
      "              Past 12 Months\n",
      "             </a>\n",
      "            </li>\n",
      "            <li>\n",
      "             <a class=\"toggleControl flushToggleControl navToggleControl\" data-refineby=\"customDateRange\">\n",
      "              Specific Dates\n",
      "             </a>\n",
      "             <div class=\"navTabDropDown customDateFilter\">\n",
      "              <form>\n",
      "               <div>\n",
      "                <span class=\"dateLabel\">\n",
      "                 From:\n",
      "                </span>\n",
      "                <input class=\"month\" id=\"fromMonth\" maxlength=\"2\" name=\"fromMonth\" type=\"text\" value=\"MM\"/>\n",
      "                /\n",
      "                <input class=\"day\" id=\"fromDay\" maxlength=\"2\" name=\"fromDay\" type=\"text\" value=\"DD\"/>\n",
      "                /\n",
      "                <input class=\"year\" id=\"fromYear\" maxlength=\"4\" name=\"fromYear\" type=\"text\" value=\"YYYY\"/>\n",
      "               </div>\n",
      "               <div>\n",
      "                <span class=\"dateLabel\">\n",
      "                 To:\n",
      "                </span>\n",
      "                <input class=\"month\" id=\"toMonth\" maxlength=\"2\" name=\"toMonth\" type=\"text\" value=\"MM\"/>\n",
      "                /\n",
      "                <input class=\"day\" id=\"toDay\" maxlength=\"2\" name=\"toDay\" type=\"text\" value=\"DD\"/>\n",
      "                /\n",
      "                <input class=\"year\" id=\"toYear\" maxlength=\"4\" name=\"toYear\" type=\"text\" value=\"YYYY\"/>\n",
      "               </div>\n",
      "               <div class=\"customFilterFooter\">\n",
      "                <a class=\"applyCustomFilter\">\n",
      "                 Refine Search\n",
      "                </a>\n",
      "               </div>\n",
      "              </form>\n",
      "             </div>\n",
      "            </li>\n",
      "           </ul>\n",
      "          </div>\n",
      "          <!-- .dateFilters -->\n",
      "          <div class=\"columnGroup pubTypeFilters\">\n",
      "           <h2 class=\"sectionHeader\">\n",
      "            Result Type\n",
      "           </h2>\n",
      "           <ul class=\"filterList flush\">\n",
      "           </ul>\n",
      "          </div>\n",
      "          <!-- .pubTypeFilters -->\n",
      "          <div class=\"columnGroup bylineFilters\">\n",
      "           <h2 class=\"sectionHeader\">\n",
      "            Author\n",
      "           </h2>\n",
      "           <ul class=\"filterList flush\">\n",
      "            <li class=\"firstItem\">\n",
      "             <a class=\"searchFilter\" data-refineby=\"all\">\n",
      "              All Authors\n",
      "             </a>\n",
      "            </li>\n",
      "            <li>\n",
      "             <a class=\"navToggleControl\">\n",
      "              Specific Author\n",
      "             </a>\n",
      "             <div class=\"navTabDropDown customBylineFilter\">\n",
      "              <form>\n",
      "               <input class=\"autoSuggestQuery\" type=\"text\">\n",
      "                <ol class=\"autoSuggestQueryResults\">\n",
      "                </ol>\n",
      "                <div class=\"customFilterFooter\">\n",
      "                 <a class=\"applyCustomFilter\">\n",
      "                  Refine Search\n",
      "                 </a>\n",
      "                </div>\n",
      "               </input>\n",
      "              </form>\n",
      "             </div>\n",
      "            </li>\n",
      "           </ul>\n",
      "          </div>\n",
      "          <div class=\"columnGroup sectionFilters\">\n",
      "           <h2 class=\"sectionHeader\">\n",
      "            Section\n",
      "           </h2>\n",
      "           <ul class=\"filterList flush\">\n",
      "           </ul>\n",
      "           <div class=\"toggleContainer navViewToggleContainer\">\n",
      "           </div>\n",
      "          </div>\n",
      "         </div>\n",
      "        </div>\n",
      "        <!-- close aColumn -->\n",
      "        <div class=\"bColumn\">\n",
      "         <!-- open bColumn -->\n",
      "         <div class=\"columnGroup first\">\n",
      "          <div class=\"sortContainer opposingFloatControl wrap\">\n",
      "           <div class=\"sortResults element1\" id=\"sortResults\">\n",
      "            <h3 class=\"horizontalMenuLabel\">\n",
      "             Sort by:\n",
      "            </h3>\n",
      "            <ul class=\"horizontalMenu piped\">\n",
      "             <li>\n",
      "              <a data-sortby=\"d\">\n",
      "               Newest\n",
      "              </a>\n",
      "             </li>\n",
      "             <li>\n",
      "              <a data-sortby=\"a\">\n",
      "               Oldest\n",
      "              </a>\n",
      "             </li>\n",
      "             <li>\n",
      "              <a class=\"selectedSort\" data-sortby=\"r\">\n",
      "               Relevance\n",
      "              </a>\n",
      "             </li>\n",
      "            </ul>\n",
      "           </div>\n",
      "           <div class=\"totalResultsCount element2\" id=\"totalResultsCount\">\n",
      "            <p>\n",
      "            </p>\n",
      "           </div>\n",
      "          </div>\n",
      "          <div class=\"searchResults\" id=\"searchResults\">\n",
      "           <ol class=\"searchResultsList flush\">\n",
      "           </ol>\n",
      "          </div>\n",
      "          <div class=\"relatedSearchesModule wrap\">\n",
      "          </div>\n",
      "          <div class=\"googleFooter wrap\">\n",
      "           <div>\n",
      "           </div>\n",
      "          </div>\n",
      "          <div class=\"feedBackFooter\">\n",
      "           <a href=\"mailto:search_feedback@nytimes.com?subject=NYTimes%20Search%20Feedback\">\n",
      "            Search Feedback\n",
      "           </a>\n",
      "          </div>\n",
      "          <div class=\"searchPagination wrap\" id=\"searchPagination\">\n",
      "          </div>\n",
      "         </div>\n",
      "        </div>\n",
      "        <!-- close bColumn -->\n",
      "       </div>\n",
      "       <!-- close abColumn -->\n",
      "       <div class=\"cColumn\">\n",
      "        <!--cur: prev:-->\n",
      "       </div>\n",
      "      </div>\n",
      "     </div>\n",
      "    </div>\n",
      "    <!-- close wideA -->\n",
      "   </div>\n",
      "   <!-- close spanAB -->\n",
      "  </div>\n",
      "  <!-- close main -->\n",
      "  <footer class=\"pageFooter\">\n",
      "   <div class=\"inset\">\n",
      "    <nav class=\"pageFooterNav\">\n",
      "     <ul class=\"pageFooterNavList wrap\">\n",
      "      <li class=\"firstItem\">\n",
      "       <a href=\"https://www.nytco.com/\">\n",
      "        © 2015 The New York Times Company\n",
      "       </a>\n",
      "      </li>\n",
      "      <li>\n",
      "       <a href=\"https://spiderbites.nytimes.com/\">\n",
      "        Site Map\n",
      "       </a>\n",
      "      </li>\n",
      "      <li>\n",
      "       <a href=\"https://www.nytimes.com/privacy\">\n",
      "        Privacy\n",
      "       </a>\n",
      "      </li>\n",
      "      <li>\n",
      "       <a href=\"https://www.nytimes.com/ref/membercenter/help/privacy.html#pp\">\n",
      "        Your Ad Choices\n",
      "       </a>\n",
      "      </li>\n",
      "      <li>\n",
      "       <a href=\"https://www.nytimes.whsites.net/mediakit/\">\n",
      "        Advertise\n",
      "       </a>\n",
      "      </li>\n",
      "      <li>\n",
      "       <a href=\"https://www.nytimes.com/content/help/rights/sale/terms-of-sale.html \">\n",
      "        Terms of Sale\n",
      "       </a>\n",
      "      </li>\n",
      "      <li>\n",
      "       <a href=\"https://www.nytimes.com/ref/membercenter/help/agree.html\">\n",
      "        Terms of Service\n",
      "       </a>\n",
      "      </li>\n",
      "      <li>\n",
      "       <a href=\"https://www.nytco.com/careers\">\n",
      "        Work With Us\n",
      "       </a>\n",
      "      </li>\n",
      "      <li>\n",
      "       <a href=\"https://www.nytimes.com/rss\">\n",
      "        RSS\n",
      "       </a>\n",
      "      </li>\n",
      "      <li>\n",
      "       <a href=\"https://www.nytimes.com/membercenter/sitehelp.html\">\n",
      "        Help\n",
      "       </a>\n",
      "      </li>\n",
      "      <li>\n",
      "       <a href=\"https://www.nytimes.com/ref/membercenter/help/infoservdirectory.html\">\n",
      "        Contact Us\n",
      "       </a>\n",
      "      </li>\n",
      "      <li class=\"lastItem\">\n",
      "       <a href=\"https://myaccount.nytimes.com/membercenter/feedback.html\">\n",
      "        Site Feedback\n",
      "       </a>\n",
      "      </li>\n",
      "     </ul>\n",
      "    </nav>\n",
      "   </div>\n",
      "   <!-- close inset -->\n",
      "  </footer>\n",
      "  <!-- close pageFooter -->\n",
      " </body>\n",
      "</html>\n",
      "<!-- close page -->\n",
      "<!-- close shell -->\n",
      "<script type=\"text/javascript\">\n",
      " var dcsvid = \"64504788\";\n",
      "     var regstatus = \"registered\";\n",
      "</script>\n",
      "<script type=\"text/javascript\">\n",
      " if (!Object.keys) {\n",
      "       Object.keys = function(obj) {\n",
      "\t var keys = [];\n",
      "\t for (var i in obj) {\n",
      "\t   if (obj.hasOwnProperty(i)) {\n",
      "\t     keys.push(i);\n",
      "\t   }\n",
      "\t }\n",
      "\t return keys;\n",
      "       };\n",
      "     }\n",
      "</script>\n",
      "<script type=\"text/javascript\">\n",
      " var NYTD = NYTD || {}; \n",
      "     NYTD.env = \"production\";\n",
      "     if (location.hostname.indexOf(\"dev\") !== -1 || location.hostname.indexOf(\"stg\") !== -1 ) {\n",
      "       NYTD.env = \"staging\";\n",
      "     }\n",
      "</script>\n",
      "<script type=\"text/javascript\">\n",
      " var req = new XMLHttpRequest();\n",
      "     req.open('HEAD', document.location, false);\n",
      "     req.send(null);\n",
      "     \n",
      "     var bandits = {};\n",
      "     var session = {};\n",
      "     var header = req.getResponseHeader('X-Bandits') || \"\";\n",
      "     var storage = sessionStorage.getItem('nyt-mab') || \"\";\n",
      "     header.replace(/([^=&]+)=([^&]*)/g, function(s, a, b) { bandits[a] = b; });\n",
      "     storage.replace(/([^=&]+)=([^&]*)/g, function(s, a, b) { session[a] = b; });\n",
      "     \n",
      "     for (arm in bandits) {\n",
      "       if (session.hasOwnProperty(arm) === false) {\n",
      "\t session[arm] = bandits[arm];\n",
      "       }\n",
      "     }\n",
      "     \n",
      "     if (Object.keys(bandits).length > 0) {\n",
      "       storage = Object.keys(session).map(function(k) { return encodeURIComponent(k) + \"=\" + encodeURIComponent(session[k]);}).join('&');\n",
      "       sessionStorage.setItem('nyt-mab', storage);\n",
      "       NYTD.AnalyticsOverrides = {url: document.location.href + '?' + storage};\n",
      "     }\n",
      "</script>\n",
      "<script src=\"https://graphics8.nytimes.com/js/app/analytics/trackingTags_v1.1.js\" type=\"text/javascript\">\n",
      "</script>\n",
      "<noscript>\n",
      " <div>\n",
      "  <img alt=\"DCSIMG\" height=\"1\" id=\"DCSIMG\" src=\"https://wt.o.nytimes.com/dcsym57yw10000s1s8g0boozt_9t1x/njs.gif?dcsuri=/nojavascript&amp;WT.js=No&amp;WT.tv=1.0.7\" width=\"1\"/>\n",
      " </div>\n",
      "</noscript>\n",
      "<img border=\"0\" height=\"1\" src=\"https://up.nytimes.com/?d=0//&amp;t=&amp;s=0&amp;ui=64504788&amp;r=&amp;u=query.nytimes.com%2Fsearch%2Fsitesearch%2F\" width=\"3\">\n",
      " <script language=\"JavaScript\" type=\"text/javascript\">\n",
      "  var forEveryone=true;\n",
      " </script>\n",
      " <script language=\"JavaScript\" src=\"js/common.js\" type=\"text/javascript\">\n",
      " </script>\n",
      " <script language=\"JavaScript\" src=\"https://s1.nyt.com/search/add/assets/16d75d84e70334b79c5187ff81f62a625eadde41/js/min.js\" type=\"text/javascript\">\n",
      " </script>\n",
      " <script charset=\"utf-8\" type=\"text/javascript\">\n",
      "  var user_query = document.getElementById('newSearchQueryTop').value;\n",
      "\n",
      "     var pageOptions = { \n",
      "       'pubId': 'pub-9542126426993714', \n",
      "       'query': user_query,\n",
      "       'hl': 'en', \n",
      "       'adPage': 1 \n",
      "     };\n",
      "\n",
      "     var adblock1 = { \n",
      "       'container': 'adcontainer1', \n",
      "       'width': '600px',\n",
      "       'colorBackground': '#e7eff9',\n",
      "       'number': 1\n",
      "     };\n",
      "\n",
      "     _googCsa('ads', pageOptions, adblock1);\n",
      "\n",
      "     // Optimizely\n",
      "     var optimizely = document.createElement('script');\n",
      "     optimizely.type = \"text/javascript\";\n",
      "     if (window.location.host.includes(\"dev\") || window.location.host.includes(\"stg\") || window.location.host.includes(\"192.\")) {\n",
      "       optimizely.src = \"https://cdn.optimizely.com/public/3013110282/s/search.js\";\n",
      "     } else {\n",
      "       optimizely.src = \"https://cdn.optimizely.com/public/3013110282/s/search_prod.js\";\n",
      "     }\n",
      "     document.getElementsByTagName(\"head\")[0].appendChild(optimizely);\n",
      " </script>\n",
      "</img>\n",
      "\n"
     ]
    }
   ],
   "source": [
    "url='https://query.nytimes.com/search/sitesearch/#/columbine%2520shooting/from19990420to19990427/allresults/1/allauthors/oldest/'\n",
    "#grab html of the page\n",
    "html=requests.get(url)\n",
    "#convert into soup object\n",
    "soup=BeautifulSoup(html.text,'html.parser')\n",
    "print soup.prettify()"
   ]
  },
  {
   "cell_type": "code",
   "execution_count": 241,
   "metadata": {},
   "outputs": [
    {
     "ename": "IndentationError",
     "evalue": "unindent does not match any outer indentation level (<ipython-input-241-41433b09cda5>, line 4)",
     "output_type": "error",
     "traceback": [
      "\u001b[0;36m  File \u001b[0;32m\"<ipython-input-241-41433b09cda5>\"\u001b[0;36m, line \u001b[0;32m4\u001b[0m\n\u001b[0;31m    for x in soup.find_all(name='div', attrs={'class':'element2'}):\u001b[0m\n\u001b[0m                                                                   ^\u001b[0m\n\u001b[0;31mIndentationError\u001b[0m\u001b[0;31m:\u001b[0m unindent does not match any outer indentation level\n"
     ]
    }
   ],
   "source": [
    "# Article Title\n",
    "def article_title(soup):\n",
    "    title=[]\n",
    "    for x in soup.find_all(name='div', attrs={'class':'element2'}):\n",
    "        try:\n",
    "            title.append(div.find('a').text)    \n",
    "            pass\n",
    "#         title=[]\n",
    "#     for x in soup.find_all(name='div', attrs={'class':'element2'}):\n",
    "#         title.append(x.text)\n",
    "#     return title\n",
    "    # article_title(soup)#\n",
    "title"
   ]
  },
  {
   "cell_type": "code",
   "execution_count": 145,
   "metadata": {
    "collapsed": true
   },
   "outputs": [],
   "source": [
    "article_title(soup)"
   ]
  },
  {
   "cell_type": "code",
   "execution_count": 126,
   "metadata": {
    "collapsed": true
   },
   "outputs": [],
   "source": [
    "def article(soup):\n",
    "    article=[]\n",
    "    for x in soup.find_all(name='div', attrs={'class':'element2'}):\n",
    "        try article.a(name='p', attrs={'class':'summary'}):\n",
    "            article.append(x.text)\n",
    "        return article\n",
    "article(soup)"
   ]
  },
  {
   "cell_type": "code",
   "execution_count": 167,
   "metadata": {
    "collapsed": true
   },
   "outputs": [],
   "source": [
    "#Same list but cleaner\n",
    "def title(result):\n",
    "    for title in  soup.find_all('p',{'class':'summary'}):\n",
    "        print title.text"
   ]
  },
  {
   "cell_type": "code",
   "execution_count": 168,
   "metadata": {
    "collapsed": true
   },
   "outputs": [],
   "source": [
    "title(soup)"
   ]
  },
  {
   "cell_type": "code",
   "execution_count": null,
   "metadata": {
    "collapsed": true
   },
   "outputs": [],
   "source": []
  }
 ],
 "metadata": {
  "kernelspec": {
   "display_name": "Python 2",
   "language": "python",
   "name": "python2"
  },
  "language_info": {
   "codemirror_mode": {
    "name": "ipython",
    "version": 2
   },
   "file_extension": ".py",
   "mimetype": "text/x-python",
   "name": "python",
   "nbconvert_exporter": "python",
   "pygments_lexer": "ipython2",
   "version": "2.7.13"
  }
 },
 "nbformat": 4,
 "nbformat_minor": 2
}
