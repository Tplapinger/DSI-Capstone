{
 "cells": [
  {
   "cell_type": "markdown",
   "metadata": {},
   "source": [
    "# News and Gun Violence:  Bias in the Writing?"
   ]
  },
  {
   "cell_type": "markdown",
   "metadata": {},
   "source": [
    "### Executive Summary"
   ]
  },
  {
   "attachments": {},
   "cell_type": "markdown",
   "metadata": {},
   "source": [
    "The problem statement I entered this project looking for an answer to was, Is there racial bias in the words used by newspapers, in this case the New York Times, when covering mass shootings in relation to the ethnicity of the shooter. If so, does the content predict racial bias. \n",
    "\n",
    "#### The Data\n",
    "The data was initially gathered from two main sources the Stanford University Mass Shooting Database and the New York Times. I chose the Stanford database because they are among the leading data collectors when it comes to mass shootings in the US. In fact, they are the ones who created the current definition of what constitutes a mass shooting. That is if four or more people are wounded or killed. Their database consists of every incident between 1966 and March 2016. However, due to the format of the New York Times files I was unable to get articles from the 1960s and thus only used articles from 1970 to March 2016. The New York Times was selected because it is one of a few papers who cover national news that has readily available archived articles. The data chosen from the New York Times was every article and article title related to each incident from the day of the incident and the six days following. This time period was selected because it is the typical length of one news cycle.\n",
    "\n",
    "The final data features that would be used for the model would be the Incident Name and Shooter Race features from the Stanford Database and each articles content and its title. After reviewing the ethnicities in the database I discovered that Latin Americans were largely classified as \"other\" and as such I researched each individual to confirm their ethnicity and changed it in the data frame. The races included were (in order of Number of Shooters) White, Asian, African American, Two or more races, Latin American, Native American or Alaska Native, Other, or Unknown.\n",
    "\n",
    "#### Preparing the Data\n",
    "In order to prepare the data for Natural Language processing certain steps had to occur to assure smooth processing and least amount of unnecessary words. This was done by using a function that removed non-letters, made every letter lower case, and removed the standard English dictionary words as well as my custom list of stopwords which included the location of the shooting, the shooters name, month, and the name of the incident. In addition, in using, Tokenizer, Lemmatizer, and Stemming I was able to cut down on the repeating of words that are basically the same like run, runs, running, and ran. \n",
    "\n",
    "The other major challenge here with the data was to manage the unbalanced classes before doing a train-test split or countvectorizing. The numbers of occurrences were massively imbalanced because as expected there ethnicities were not evenly spread. The spread, in percent, is as follows:\n",
    "    White = 68.66%\n",
    "    Asian = 14.43%\n",
    "    African American = 14.43%\n",
    "    Latin American = 2.09%\n",
    "    Native American or Alaska Native = 1.33%\n",
    "These numbers are actually quite interesting when you compare them to the demographic make up of the entire US populationm, which is as follows:\n",
    "    White = 72.4%\n",
    "    Asian = 4.8%\n",
    "    African American = 12.6%\n",
    "    Latin American = 16.3%\n",
    "    Naive American or Alaska Native = 0.9%\n",
    "To adjust for the unbalanced classes I resampled the data so all ethnicites had the same amoutn of observations as teh majority class, White. This of course generates many duplicates and is generating new random data from the original data.\n",
    "\n",
    "To adjust for the unbalanced classes I resampled the data so all ethnicities had the same amount of observations as the majority class, White. This of course generates many duplicates and is generating new random data from the original data.\n",
    "\n",
    "### Model Selection\n",
    "The current model I am working with is a Random Forest Classifier as I am attempting to see if certain words lead to a shooter being classified as a certain ethnicity and how accurate that decision is based on the decision made by the Random Forest.\n",
    "\n",
    "### Statisitcal Analysis, Recommendations, and Next Steps\n",
    "The Random Forest generated an accuracy score of .8557. The model is extremely precise at predicting Unknown(100%),Native American or Alaska Native(99%),Other(98%), Latin American(92%). The next cluster of precision scores are African Americans(82%) and those of Two or More Races (82%). Interestingly, the two populations that have the greatest number of perpetrators have the lowest precision scores, Asian (61%) and White (72%). \n",
    "\n",
    "While the model appears to be quite accurate once the feature importance’s are printed out it is clear that there are no certain words that appear in an article by the New York Times that would specifically indicate the individual race of the shooter. While this does allow me to reject my hypothesis (good news for the New York Times) moving forward I would like to look at more national newspapers and see how they differ by location, region, political leaning. I would also like to see how the local papers covered events to see if their focuses are primarily on the crime, the shooter, and event that occurred or upon helping the families affected by the horrible events."
   ]
  },
  {
   "cell_type": "markdown",
   "metadata": {},
   "source": [
    "##### Loading Packages"
   ]
  },
  {
   "cell_type": "code",
   "execution_count": 1,
   "metadata": {},
   "outputs": [
    {
     "name": "stderr",
     "output_type": "stream",
     "text": [
      "/Users/ThomasPLapinger/anaconda/lib/python2.7/site-packages/sklearn/cross_validation.py:44: DeprecationWarning: This module was deprecated in version 0.18 in favor of the model_selection module into which all the refactored classes and functions are moved. Also note that the interface of the new CV iterators are different from that of this module. This module will be removed in 0.20.\n",
      "  \"This module will be removed in 0.20.\", DeprecationWarning)\n",
      "/Users/ThomasPLapinger/anaconda/lib/python2.7/site-packages/sklearn/grid_search.py:43: DeprecationWarning: This module was deprecated in version 0.18 in favor of the model_selection module into which all the refactored classes and functions are moved. This module will be removed in 0.20.\n",
      "  DeprecationWarning)\n",
      "/Users/ThomasPLapinger/anaconda/lib/python2.7/site-packages/sklearn/learning_curve.py:23: DeprecationWarning: This module was deprecated in version 0.18 in favor of the model_selection module into which all the functions are moved. This module will be removed in 0.20\n",
      "  DeprecationWarning)\n"
     ]
    }
   ],
   "source": [
    "import nltk\n",
    "from nltk.corpus import stopwords\n",
    "import itertools\n",
    "from itertools import chain\n",
    "import pandas as pd\n",
    "import matplotlib\n",
    "import matplotlib.pyplot as plt\n",
    "import seaborn as sns\n",
    "import re\n",
    "import numpy as np\n",
    "from sklearn.feature_extraction.text import CountVectorizer, TfidfTransformer, TfidfVectorizer\n",
    "from nltk.stem import WordNetLemmatizer\n",
    "from nltk.tokenize import RegexpTokenizer\n",
    "from sklearn.model_selection import train_test_split, cross_val_score, ShuffleSplit\n",
    "from sklearn.metrics import accuracy_score, precision_score, recall_score, confusion_matrix, classification_report\n",
    "from sklearn.ensemble import RandomForestClassifier\n",
    "from sklearn.grid_search import GridSearchCV\n",
    "from sklearn.cross_validation import cross_val_score, StratifiedKFold\n",
    "from sklearn.linear_model import LogisticRegression\n",
    "from sklearn.learning_curve import learning_curve\n",
    "from sklearn.naive_bayes import MultinomialNB, BernoulliNB, GaussianNB\n",
    "from sklearn.pipeline import Pipeline\n",
    "%matplotlib inline\n",
    "import random\n",
    "import string\n",
    "from nltk import word_tokenize\n",
    "from nltk.corpus import stopwords\n",
    "from nltk.stem.porter import PorterStemmer\n",
    "from tqdm import tqdm\n",
    "tqdm.pandas(desc='progress-bar')\n",
    "from sklearn.feature_selection import SelectKBest, chi2\n",
    "from sklearn.svm import LinearSVC\n",
    "from sklearn.naive_bayes import GaussianNB\n",
    "from sklearn.utils import resample\n",
    "%matplotlib inline"
   ]
  },
  {
   "cell_type": "markdown",
   "metadata": {},
   "source": [
    "## Exploratory Data Analysis and Database Cleaning"
   ]
  },
  {
   "cell_type": "code",
   "execution_count": 6,
   "metadata": {
    "collapsed": true
   },
   "outputs": [],
   "source": [
    "NYT1970s=pd.read_csv('./Assets/NYT 1970s Shootings-2.csv')\n",
    "NYT1980s=pd.read_csv('./Assets/NYT 1980s Shootings-3.csv')\n",
    "NYT1990s=pd.read_csv('./Assets/NYT 1990s Shootings-3.csv')\n",
    "NYT2000s=pd.read_csv('./Assets/NYT 2000s Shootings-2.csv')\n",
    "NYT2010s=pd.read_csv('./Assets/NYT 2010s-4 Shootings.csv')\n",
    "shootingdb= pd.read_excel('./Assets/MSA/Stanford_MSA_Database_for_release_06142016.xlsx')"
   ]
  },
  {
   "cell_type": "code",
   "execution_count": 7,
   "metadata": {
    "collapsed": true
   },
   "outputs": [],
   "source": [
    "NYT1970s=NYT1970s[['Incident Name','Title','Article','Shooter Race']]\n",
    "NYT1980s=NYT1980s[['Incident Name','Title','Article','Shooter Race']]\n",
    "NYT1990s=NYT1990s[['Incident Name','Title','Article','Shooter Race']]\n",
    "NYT2000s=NYT2000s[['Incident Name','Title','Article','Shooter Race']]\n",
    "NYT2010s=NYT2010s[['Incident Name','Title','Article','Shooter Race']]"
   ]
  },
  {
   "cell_type": "code",
   "execution_count": 8,
   "metadata": {},
   "outputs": [
    {
     "data": {
      "text/html": [
       "<div>\n",
       "<style>\n",
       "    .dataframe thead tr:only-child th {\n",
       "        text-align: right;\n",
       "    }\n",
       "\n",
       "    .dataframe thead th {\n",
       "        text-align: left;\n",
       "    }\n",
       "\n",
       "    .dataframe tbody tr th {\n",
       "        vertical-align: top;\n",
       "    }\n",
       "</style>\n",
       "<table border=\"1\" class=\"dataframe\">\n",
       "  <thead>\n",
       "    <tr style=\"text-align: right;\">\n",
       "      <th></th>\n",
       "      <th>Incident Name</th>\n",
       "      <th>Title</th>\n",
       "      <th>Article</th>\n",
       "      <th>Shooter Race</th>\n",
       "    </tr>\n",
       "  </thead>\n",
       "  <tbody>\n",
       "    <tr>\n",
       "      <th>0</th>\n",
       "      <td>NOLA PD</td>\n",
       "      <td>NaN</td>\n",
       "      <td>NaN</td>\n",
       "      <td>NaN</td>\n",
       "    </tr>\n",
       "    <tr>\n",
       "      <th>1</th>\n",
       "      <td>Clara Barton Elementary</td>\n",
       "      <td>NaN</td>\n",
       "      <td>NaN</td>\n",
       "      <td>NaN</td>\n",
       "    </tr>\n",
       "    <tr>\n",
       "      <th>2</th>\n",
       "      <td>Olean High School</td>\n",
       "      <td>Sniper's Classmate Says Guns Were ‘Whole Life’</td>\n",
       "      <td>The attack at the school has stunned this comm...</td>\n",
       "      <td>White</td>\n",
       "    </tr>\n",
       "    <tr>\n",
       "      <th>3</th>\n",
       "      <td>Olean High School</td>\n",
       "      <td>3 Killed and 9 Wounded By an Upstate Sniper, 18</td>\n",
       "      <td>The youth was charged with three counts of mur...</td>\n",
       "      <td>White</td>\n",
       "    </tr>\n",
       "    <tr>\n",
       "      <th>4</th>\n",
       "      <td>LA Computer Learning Center</td>\n",
       "      <td>NaN</td>\n",
       "      <td>NaN</td>\n",
       "      <td>NaN</td>\n",
       "    </tr>\n",
       "    <tr>\n",
       "      <th>5</th>\n",
       "      <td>Cal State Fullerton</td>\n",
       "      <td>NaN</td>\n",
       "      <td>NaN</td>\n",
       "      <td>NaN</td>\n",
       "    </tr>\n",
       "    <tr>\n",
       "      <th>6</th>\n",
       "      <td>Grover Cleveland Elementary School</td>\n",
       "      <td>San Diego Girl Slays 2 With Rifle And Wounds 9...</td>\n",
       "      <td>Special weapons and tactics officers from the ...</td>\n",
       "      <td>White</td>\n",
       "    </tr>\n",
       "    <tr>\n",
       "      <th>7</th>\n",
       "      <td>Grover Cleveland Elementary School</td>\n",
       "      <td>Tomboy and Gun Enthusiast</td>\n",
       "      <td>SAN DIEGO, Jan. 29 (AP) — Brenda Spencer's cla...</td>\n",
       "      <td>White</td>\n",
       "    </tr>\n",
       "    <tr>\n",
       "      <th>8</th>\n",
       "      <td>Grover Cleveland Elementary School</td>\n",
       "      <td>Coast Sniper Vowed She Would ‘Do Something Big’</td>\n",
       "      <td>SAN DIEGO, Jan. 30 — Wally Spencer's eyes were...</td>\n",
       "      <td>White</td>\n",
       "    </tr>\n",
       "    <tr>\n",
       "      <th>9</th>\n",
       "      <td>Univeristy of South Carolina</td>\n",
       "      <td>The New York Times</td>\n",
       "      <td>Radioactive Tritium Seizure Brings Bankruptcy ...</td>\n",
       "      <td>African American</td>\n",
       "    </tr>\n",
       "    <tr>\n",
       "      <th>10</th>\n",
       "      <td>St.Aloysius Church</td>\n",
       "      <td>Father Blames LSD for Shooting Outburst by Son</td>\n",
       "      <td>E. Glenn Harmon, the young man's father, said ...</td>\n",
       "      <td>White</td>\n",
       "    </tr>\n",
       "    <tr>\n",
       "      <th>11</th>\n",
       "      <td>Valley High School</td>\n",
       "      <td>Cheerleader, 16, Is Found Slain</td>\n",
       "      <td>WALLKILL, N.Y.— The body of a 16-year-old high...</td>\n",
       "      <td>White</td>\n",
       "    </tr>\n",
       "    <tr>\n",
       "      <th>12</th>\n",
       "      <td>Valley High School</td>\n",
       "      <td>STUDENT A SUSPECT IN TEACHER SLAYING</td>\n",
       "      <td>LAS VEGAS, Nev., March 19— A 55-year-old teach...</td>\n",
       "      <td>White</td>\n",
       "    </tr>\n",
       "    <tr>\n",
       "      <th>13</th>\n",
       "      <td>Miami Welding Shop</td>\n",
       "      <td>GUNMAN IN MIAMI KILLS 8 IN RAMPAGE</td>\n",
       "      <td>MIAMI, Aug. 20— A man described by neighbors a...</td>\n",
       "      <td>White</td>\n",
       "    </tr>\n",
       "    <tr>\n",
       "      <th>14</th>\n",
       "      <td>Miami Welding Shop</td>\n",
       "      <td>Police Say Killer of 8 Had Just Purchased Gun</td>\n",
       "      <td>MIAMI, Aug. 21— Carl R. Brown, the 51-year-old...</td>\n",
       "      <td>White</td>\n",
       "    </tr>\n",
       "    <tr>\n",
       "      <th>15</th>\n",
       "      <td>Miami Welding Shop</td>\n",
       "      <td>NO CHARGES PLANNED AGAINST MIAMI MAN WHO SHOT ...</td>\n",
       "      <td>MIAMI, Aug. 23— Prosecutors said today they wo...</td>\n",
       "      <td>White</td>\n",
       "    </tr>\n",
       "    <tr>\n",
       "      <th>16</th>\n",
       "      <td>Wah Mee Gambling Club</td>\n",
       "      <td>MONDAY, FEBRUARY 21, 1983</td>\n",
       "      <td>International Hindu tribesmen killed 600 peopl...</td>\n",
       "      <td>Asian</td>\n",
       "    </tr>\n",
       "    <tr>\n",
       "      <th>17</th>\n",
       "      <td>Wah Mee Gambling Club</td>\n",
       "      <td>CLUB WHERE 13 WERE SLAIN IS LIKE MANY IN COAST...</td>\n",
       "      <td>SEATTLE, Feb. 20— The Wah Mee gambling club, w...</td>\n",
       "      <td>Asian</td>\n",
       "    </tr>\n",
       "    <tr>\n",
       "      <th>18</th>\n",
       "      <td>Wah Mee Gambling Club</td>\n",
       "      <td>13 SLAIN AT CLUB IN SEATTLE'S CHINATOWN</td>\n",
       "      <td>SEATTLE, Feb. 19— Twelve men and a woman were ...</td>\n",
       "      <td>Asian</td>\n",
       "    </tr>\n",
       "    <tr>\n",
       "      <th>19</th>\n",
       "      <td>Johnston, SC Post Office</td>\n",
       "      <td>NaN</td>\n",
       "      <td>NaN</td>\n",
       "      <td>NaN</td>\n",
       "    </tr>\n",
       "    <tr>\n",
       "      <th>20</th>\n",
       "      <td>Johnston, SC Post Office</td>\n",
       "      <td>NaN</td>\n",
       "      <td>NaN</td>\n",
       "      <td>NaN</td>\n",
       "    </tr>\n",
       "    <tr>\n",
       "      <th>21</th>\n",
       "      <td>Johnston, SC Post Office</td>\n",
       "      <td>NaN</td>\n",
       "      <td>NaN</td>\n",
       "      <td>NaN</td>\n",
       "    </tr>\n",
       "    <tr>\n",
       "      <th>22</th>\n",
       "      <td>49th Street Elementary</td>\n",
       "      <td>GIRL KILLED, 11 SHOT AT SCHOOL ON COAST</td>\n",
       "      <td>LOS ANGELES, Feb. 24— A sniper fired repeatedl...</td>\n",
       "      <td>African American</td>\n",
       "    </tr>\n",
       "    <tr>\n",
       "      <th>23</th>\n",
       "      <td>49th Street Elementary</td>\n",
       "      <td>CULT AND DRUGS SEEN AS CLUES</td>\n",
       "      <td>LOS ANGELES, Feb. 25— Police officials said to...</td>\n",
       "      <td>African American</td>\n",
       "    </tr>\n",
       "    <tr>\n",
       "      <th>24</th>\n",
       "      <td>Iannis Club in Dallas</td>\n",
       "      <td>6 DIE IN DALLAS CLUB AS ENRAGED MAN FIRES WILDLY</td>\n",
       "      <td>DALLAS, June 29— An unemployed waiter who was ...</td>\n",
       "      <td>White</td>\n",
       "    </tr>\n",
       "    <tr>\n",
       "      <th>25</th>\n",
       "      <td>Iannis Club in Dallas</td>\n",
       "      <td>Guilty Verdict In Dallas Club Shootings</td>\n",
       "      <td>DALLAS, Nov. 15— Abdelk rim Belachheb was foun...</td>\n",
       "      <td>White</td>\n",
       "    </tr>\n",
       "    <tr>\n",
       "      <th>26</th>\n",
       "      <td>San Ysidro McDonalds</td>\n",
       "      <td>GUNMAN IN MIAMI KILLS 8 IN RAMPAGE</td>\n",
       "      <td>MIAMI, Aug. 20— A man described by neighbors a...</td>\n",
       "      <td>White</td>\n",
       "    </tr>\n",
       "    <tr>\n",
       "      <th>27</th>\n",
       "      <td>San Ysidro McDonalds</td>\n",
       "      <td>SAN DIEGO TO REVIEW ITS SWAT TEAM PROCEDURES</td>\n",
       "      <td>SAN DIEGO, July 20— Police authorization to sh...</td>\n",
       "      <td>White</td>\n",
       "    </tr>\n",
       "    <tr>\n",
       "      <th>28</th>\n",
       "      <td>San Ysidro McDonalds</td>\n",
       "      <td>DAY OF KILLING IN CALIFORNIA</td>\n",
       "      <td>One afternoon last week, in the California bor...</td>\n",
       "      <td>White</td>\n",
       "    </tr>\n",
       "    <tr>\n",
       "      <th>29</th>\n",
       "      <td>San Ysidro McDonalds</td>\n",
       "      <td>COAST MAN KILLS 20 IN RAMPAGE AT A RESTAURANT</td>\n",
       "      <td>Editor's Note Appended\\n\\nSAN YSIDRO, Calif., ...</td>\n",
       "      <td>White</td>\n",
       "    </tr>\n",
       "    <tr>\n",
       "      <th>...</th>\n",
       "      <td>...</td>\n",
       "      <td>...</td>\n",
       "      <td>...</td>\n",
       "      <td>...</td>\n",
       "    </tr>\n",
       "    <tr>\n",
       "      <th>1164</th>\n",
       "      <td>Missouri Highway shooting</td>\n",
       "      <td>NaN</td>\n",
       "      <td>NaN</td>\n",
       "      <td>NaN</td>\n",
       "    </tr>\n",
       "    <tr>\n",
       "      <th>1165</th>\n",
       "      <td>Houston Drive-by</td>\n",
       "      <td>NaN</td>\n",
       "      <td>NaN</td>\n",
       "      <td>NaN</td>\n",
       "    </tr>\n",
       "    <tr>\n",
       "      <th>1166</th>\n",
       "      <td>Arizona Family Murder</td>\n",
       "      <td>NaN</td>\n",
       "      <td>NaN</td>\n",
       "      <td>NaN</td>\n",
       "    </tr>\n",
       "    <tr>\n",
       "      <th>1167</th>\n",
       "      <td>Detroit Strip Club Shootout</td>\n",
       "      <td>NaN</td>\n",
       "      <td>NaN</td>\n",
       "      <td>NaN</td>\n",
       "    </tr>\n",
       "    <tr>\n",
       "      <th>1168</th>\n",
       "      <td>Riverside restaurant shooting</td>\n",
       "      <td>NaN</td>\n",
       "      <td>NaN</td>\n",
       "      <td>NaN</td>\n",
       "    </tr>\n",
       "    <tr>\n",
       "      <th>1169</th>\n",
       "      <td>Wichita Nightclub shooting</td>\n",
       "      <td>NaN</td>\n",
       "      <td>NaN</td>\n",
       "      <td>NaN</td>\n",
       "    </tr>\n",
       "    <tr>\n",
       "      <th>1170</th>\n",
       "      <td>Chelsea, MA empty apartment party shooting</td>\n",
       "      <td>NaN</td>\n",
       "      <td>NaN</td>\n",
       "      <td>NaN</td>\n",
       "    </tr>\n",
       "    <tr>\n",
       "      <th>1171</th>\n",
       "      <td>Roswell, GA Hookah shootout</td>\n",
       "      <td>NaN</td>\n",
       "      <td>NaN</td>\n",
       "      <td>NaN</td>\n",
       "    </tr>\n",
       "    <tr>\n",
       "      <th>1172</th>\n",
       "      <td>Lafayette, LA drive by</td>\n",
       "      <td>NaN</td>\n",
       "      <td>NaN</td>\n",
       "      <td>NaN</td>\n",
       "    </tr>\n",
       "    <tr>\n",
       "      <th>1173</th>\n",
       "      <td>Trenton, NJ sidewalk shooting</td>\n",
       "      <td>NaN</td>\n",
       "      <td>NaN</td>\n",
       "      <td>NaN</td>\n",
       "    </tr>\n",
       "    <tr>\n",
       "      <th>1174</th>\n",
       "      <td>Detroit Drive-by</td>\n",
       "      <td>NaN</td>\n",
       "      <td>NaN</td>\n",
       "      <td>NaN</td>\n",
       "    </tr>\n",
       "    <tr>\n",
       "      <th>1175</th>\n",
       "      <td>Elberton, Georgia murder-suicide</td>\n",
       "      <td>NaN</td>\n",
       "      <td>NaN</td>\n",
       "      <td>NaN</td>\n",
       "    </tr>\n",
       "    <tr>\n",
       "      <th>1176</th>\n",
       "      <td>Florida Family celebration ends in shooting</td>\n",
       "      <td>NaN</td>\n",
       "      <td>NaN</td>\n",
       "      <td>NaN</td>\n",
       "    </tr>\n",
       "    <tr>\n",
       "      <th>1177</th>\n",
       "      <td>Ferguson, MO Drive by</td>\n",
       "      <td>NaN</td>\n",
       "      <td>NaN</td>\n",
       "      <td>NaN</td>\n",
       "    </tr>\n",
       "    <tr>\n",
       "      <th>1178</th>\n",
       "      <td>Forestville, Maryland Drive-by</td>\n",
       "      <td>NaN</td>\n",
       "      <td>NaN</td>\n",
       "      <td>NaN</td>\n",
       "    </tr>\n",
       "    <tr>\n",
       "      <th>1179</th>\n",
       "      <td>Halifax County, VA</td>\n",
       "      <td>NaN</td>\n",
       "      <td>NaN</td>\n",
       "      <td>NaN</td>\n",
       "    </tr>\n",
       "    <tr>\n",
       "      <th>1180</th>\n",
       "      <td>Tire-Slashing revenge escalation</td>\n",
       "      <td>NaN</td>\n",
       "      <td>NaN</td>\n",
       "      <td>NaN</td>\n",
       "    </tr>\n",
       "    <tr>\n",
       "      <th>1181</th>\n",
       "      <td>Alabama highway random shooting</td>\n",
       "      <td>NaN</td>\n",
       "      <td>NaN</td>\n",
       "      <td>NaN</td>\n",
       "    </tr>\n",
       "    <tr>\n",
       "      <th>1182</th>\n",
       "      <td>Texas family murder-suicide</td>\n",
       "      <td>NaN</td>\n",
       "      <td>NaN</td>\n",
       "      <td>NaN</td>\n",
       "    </tr>\n",
       "    <tr>\n",
       "      <th>1183</th>\n",
       "      <td>Chicago Rap video Shootout</td>\n",
       "      <td>NaN</td>\n",
       "      <td>NaN</td>\n",
       "      <td>NaN</td>\n",
       "    </tr>\n",
       "    <tr>\n",
       "      <th>1184</th>\n",
       "      <td>Long Beach Street murder</td>\n",
       "      <td>NaN</td>\n",
       "      <td>NaN</td>\n",
       "      <td>NaN</td>\n",
       "    </tr>\n",
       "    <tr>\n",
       "      <th>1185</th>\n",
       "      <td>Atlanta Nightclub shooting</td>\n",
       "      <td>NaN</td>\n",
       "      <td>NaN</td>\n",
       "      <td>NaN</td>\n",
       "    </tr>\n",
       "    <tr>\n",
       "      <th>1186</th>\n",
       "      <td>Wetumpka Drive-by</td>\n",
       "      <td>NaN</td>\n",
       "      <td>NaN</td>\n",
       "      <td>NaN</td>\n",
       "    </tr>\n",
       "    <tr>\n",
       "      <th>1187</th>\n",
       "      <td>Spring Break Party shooting</td>\n",
       "      <td>NaN</td>\n",
       "      <td>NaN</td>\n",
       "      <td>NaN</td>\n",
       "    </tr>\n",
       "    <tr>\n",
       "      <th>1188</th>\n",
       "      <td>Louisville, KY Family Murder-Suicide</td>\n",
       "      <td>NaN</td>\n",
       "      <td>NaN</td>\n",
       "      <td>NaN</td>\n",
       "    </tr>\n",
       "    <tr>\n",
       "      <th>1189</th>\n",
       "      <td>Greenhill, AL Family murder-suicide</td>\n",
       "      <td>NaN</td>\n",
       "      <td>NaN</td>\n",
       "      <td>NaN</td>\n",
       "    </tr>\n",
       "    <tr>\n",
       "      <th>1190</th>\n",
       "      <td>Albuquerque, NM Family restaurant shooting</td>\n",
       "      <td>NaN</td>\n",
       "      <td>NaN</td>\n",
       "      <td>NaN</td>\n",
       "    </tr>\n",
       "    <tr>\n",
       "      <th>1191</th>\n",
       "      <td>Chicago Birthday Party Bus Shooting</td>\n",
       "      <td>NaN</td>\n",
       "      <td>NaN</td>\n",
       "      <td>NaN</td>\n",
       "    </tr>\n",
       "    <tr>\n",
       "      <th>1192</th>\n",
       "      <td>Albuquerque, NM House party shooting</td>\n",
       "      <td>NaN</td>\n",
       "      <td>NaN</td>\n",
       "      <td>NaN</td>\n",
       "    </tr>\n",
       "    <tr>\n",
       "      <th>1193</th>\n",
       "      <td>Memphis, TN gas station shooting</td>\n",
       "      <td>NaN</td>\n",
       "      <td>NaN</td>\n",
       "      <td>NaN</td>\n",
       "    </tr>\n",
       "  </tbody>\n",
       "</table>\n",
       "<p>1194 rows × 4 columns</p>\n",
       "</div>"
      ],
      "text/plain": [
       "                                    Incident Name  \\\n",
       "0                                         NOLA PD   \n",
       "1                         Clara Barton Elementary   \n",
       "2                               Olean High School   \n",
       "3                               Olean High School   \n",
       "4                     LA Computer Learning Center   \n",
       "5                             Cal State Fullerton   \n",
       "6              Grover Cleveland Elementary School   \n",
       "7              Grover Cleveland Elementary School   \n",
       "8              Grover Cleveland Elementary School   \n",
       "9                    Univeristy of South Carolina   \n",
       "10                             St.Aloysius Church   \n",
       "11                             Valley High School   \n",
       "12                             Valley High School   \n",
       "13                             Miami Welding Shop   \n",
       "14                             Miami Welding Shop   \n",
       "15                             Miami Welding Shop   \n",
       "16                          Wah Mee Gambling Club   \n",
       "17                          Wah Mee Gambling Club   \n",
       "18                          Wah Mee Gambling Club   \n",
       "19                       Johnston, SC Post Office   \n",
       "20                       Johnston, SC Post Office   \n",
       "21                       Johnston, SC Post Office   \n",
       "22                         49th Street Elementary   \n",
       "23                         49th Street Elementary   \n",
       "24                          Iannis Club in Dallas   \n",
       "25                          Iannis Club in Dallas   \n",
       "26                           San Ysidro McDonalds   \n",
       "27                           San Ysidro McDonalds   \n",
       "28                           San Ysidro McDonalds   \n",
       "29                           San Ysidro McDonalds   \n",
       "...                                           ...   \n",
       "1164                    Missouri Highway shooting   \n",
       "1165                             Houston Drive-by   \n",
       "1166                        Arizona Family Murder   \n",
       "1167                  Detroit Strip Club Shootout   \n",
       "1168                Riverside restaurant shooting   \n",
       "1169                   Wichita Nightclub shooting   \n",
       "1170   Chelsea, MA empty apartment party shooting   \n",
       "1171                  Roswell, GA Hookah shootout   \n",
       "1172                       Lafayette, LA drive by   \n",
       "1173                Trenton, NJ sidewalk shooting   \n",
       "1174                             Detroit Drive-by   \n",
       "1175             Elberton, Georgia murder-suicide   \n",
       "1176  Florida Family celebration ends in shooting   \n",
       "1177                        Ferguson, MO Drive by   \n",
       "1178               Forestville, Maryland Drive-by   \n",
       "1179                           Halifax County, VA   \n",
       "1180             Tire-Slashing revenge escalation   \n",
       "1181              Alabama highway random shooting   \n",
       "1182                  Texas family murder-suicide   \n",
       "1183                   Chicago Rap video Shootout   \n",
       "1184                     Long Beach Street murder   \n",
       "1185                   Atlanta Nightclub shooting   \n",
       "1186                            Wetumpka Drive-by   \n",
       "1187                  Spring Break Party shooting   \n",
       "1188         Louisville, KY Family Murder-Suicide   \n",
       "1189          Greenhill, AL Family murder-suicide   \n",
       "1190   Albuquerque, NM Family restaurant shooting   \n",
       "1191          Chicago Birthday Party Bus Shooting   \n",
       "1192         Albuquerque, NM House party shooting   \n",
       "1193             Memphis, TN gas station shooting   \n",
       "\n",
       "                                                  Title  \\\n",
       "0                                                   NaN   \n",
       "1                                                   NaN   \n",
       "2        Sniper's Classmate Says Guns Were ‘Whole Life’   \n",
       "3       3 Killed and 9 Wounded By an Upstate Sniper, 18   \n",
       "4                                                   NaN   \n",
       "5                                                   NaN   \n",
       "6     San Diego Girl Slays 2 With Rifle And Wounds 9...   \n",
       "7                             Tomboy and Gun Enthusiast   \n",
       "8       Coast Sniper Vowed She Would ‘Do Something Big’   \n",
       "9                                    The New York Times   \n",
       "10       Father Blames LSD for Shooting Outburst by Son   \n",
       "11                      Cheerleader, 16, Is Found Slain   \n",
       "12                 STUDENT A SUSPECT IN TEACHER SLAYING   \n",
       "13                   GUNMAN IN MIAMI KILLS 8 IN RAMPAGE   \n",
       "14        Police Say Killer of 8 Had Just Purchased Gun   \n",
       "15    NO CHARGES PLANNED AGAINST MIAMI MAN WHO SHOT ...   \n",
       "16                            MONDAY, FEBRUARY 21, 1983   \n",
       "17    CLUB WHERE 13 WERE SLAIN IS LIKE MANY IN COAST...   \n",
       "18              13 SLAIN AT CLUB IN SEATTLE'S CHINATOWN   \n",
       "19                                                  NaN   \n",
       "20                                                  NaN   \n",
       "21                                                  NaN   \n",
       "22              GIRL KILLED, 11 SHOT AT SCHOOL ON COAST   \n",
       "23                         CULT AND DRUGS SEEN AS CLUES   \n",
       "24     6 DIE IN DALLAS CLUB AS ENRAGED MAN FIRES WILDLY   \n",
       "25              Guilty Verdict In Dallas Club Shootings   \n",
       "26                   GUNMAN IN MIAMI KILLS 8 IN RAMPAGE   \n",
       "27         SAN DIEGO TO REVIEW ITS SWAT TEAM PROCEDURES   \n",
       "28                         DAY OF KILLING IN CALIFORNIA   \n",
       "29        COAST MAN KILLS 20 IN RAMPAGE AT A RESTAURANT   \n",
       "...                                                 ...   \n",
       "1164                                                NaN   \n",
       "1165                                                NaN   \n",
       "1166                                                NaN   \n",
       "1167                                                NaN   \n",
       "1168                                                NaN   \n",
       "1169                                                NaN   \n",
       "1170                                                NaN   \n",
       "1171                                                NaN   \n",
       "1172                                                NaN   \n",
       "1173                                                NaN   \n",
       "1174                                                NaN   \n",
       "1175                                                NaN   \n",
       "1176                                                NaN   \n",
       "1177                                                NaN   \n",
       "1178                                                NaN   \n",
       "1179                                                NaN   \n",
       "1180                                                NaN   \n",
       "1181                                                NaN   \n",
       "1182                                                NaN   \n",
       "1183                                                NaN   \n",
       "1184                                                NaN   \n",
       "1185                                                NaN   \n",
       "1186                                                NaN   \n",
       "1187                                                NaN   \n",
       "1188                                                NaN   \n",
       "1189                                                NaN   \n",
       "1190                                                NaN   \n",
       "1191                                                NaN   \n",
       "1192                                                NaN   \n",
       "1193                                                NaN   \n",
       "\n",
       "                                                Article      Shooter Race  \n",
       "0                                                   NaN               NaN  \n",
       "1                                                   NaN               NaN  \n",
       "2     The attack at the school has stunned this comm...             White  \n",
       "3     The youth was charged with three counts of mur...             White  \n",
       "4                                                   NaN               NaN  \n",
       "5                                                   NaN               NaN  \n",
       "6     Special weapons and tactics officers from the ...             White  \n",
       "7     SAN DIEGO, Jan. 29 (AP) — Brenda Spencer's cla...             White  \n",
       "8     SAN DIEGO, Jan. 30 — Wally Spencer's eyes were...             White  \n",
       "9     Radioactive Tritium Seizure Brings Bankruptcy ...  African American  \n",
       "10    E. Glenn Harmon, the young man's father, said ...             White  \n",
       "11    WALLKILL, N.Y.— The body of a 16-year-old high...             White  \n",
       "12    LAS VEGAS, Nev., March 19— A 55-year-old teach...             White  \n",
       "13    MIAMI, Aug. 20— A man described by neighbors a...             White  \n",
       "14    MIAMI, Aug. 21— Carl R. Brown, the 51-year-old...             White  \n",
       "15    MIAMI, Aug. 23— Prosecutors said today they wo...             White  \n",
       "16    International Hindu tribesmen killed 600 peopl...             Asian  \n",
       "17    SEATTLE, Feb. 20— The Wah Mee gambling club, w...             Asian  \n",
       "18    SEATTLE, Feb. 19— Twelve men and a woman were ...             Asian  \n",
       "19                                                  NaN               NaN  \n",
       "20                                                  NaN               NaN  \n",
       "21                                                  NaN               NaN  \n",
       "22    LOS ANGELES, Feb. 24— A sniper fired repeatedl...  African American  \n",
       "23    LOS ANGELES, Feb. 25— Police officials said to...  African American  \n",
       "24    DALLAS, June 29— An unemployed waiter who was ...             White  \n",
       "25    DALLAS, Nov. 15— Abdelk rim Belachheb was foun...             White  \n",
       "26    MIAMI, Aug. 20— A man described by neighbors a...             White  \n",
       "27    SAN DIEGO, July 20— Police authorization to sh...             White  \n",
       "28    One afternoon last week, in the California bor...             White  \n",
       "29    Editor's Note Appended\\n\\nSAN YSIDRO, Calif., ...             White  \n",
       "...                                                 ...               ...  \n",
       "1164                                                NaN               NaN  \n",
       "1165                                                NaN               NaN  \n",
       "1166                                                NaN               NaN  \n",
       "1167                                                NaN               NaN  \n",
       "1168                                                NaN               NaN  \n",
       "1169                                                NaN               NaN  \n",
       "1170                                                NaN               NaN  \n",
       "1171                                                NaN               NaN  \n",
       "1172                                                NaN               NaN  \n",
       "1173                                                NaN               NaN  \n",
       "1174                                                NaN               NaN  \n",
       "1175                                                NaN               NaN  \n",
       "1176                                                NaN               NaN  \n",
       "1177                                                NaN               NaN  \n",
       "1178                                                NaN               NaN  \n",
       "1179                                                NaN               NaN  \n",
       "1180                                                NaN               NaN  \n",
       "1181                                                NaN               NaN  \n",
       "1182                                                NaN               NaN  \n",
       "1183                                                NaN               NaN  \n",
       "1184                                                NaN               NaN  \n",
       "1185                                                NaN               NaN  \n",
       "1186                                                NaN               NaN  \n",
       "1187                                                NaN               NaN  \n",
       "1188                                                NaN               NaN  \n",
       "1189                                                NaN               NaN  \n",
       "1190                                                NaN               NaN  \n",
       "1191                                                NaN               NaN  \n",
       "1192                                                NaN               NaN  \n",
       "1193                                                NaN               NaN  \n",
       "\n",
       "[1194 rows x 4 columns]"
      ]
     },
     "execution_count": 8,
     "metadata": {},
     "output_type": "execute_result"
    }
   ],
   "source": [
    "NYT = pd.concat([NYT1970s,NYT1980s, NYT1990s, NYT2000s,NYT2010s])\n",
    "NYT.reset_index(drop=True)"
   ]
  },
  {
   "cell_type": "code",
   "execution_count": 9,
   "metadata": {
    "collapsed": true
   },
   "outputs": [],
   "source": [
    "#Ritika EDA\n",
    "def eda(dataframe):\n",
    "    print \"Missing Values \\n \\n\", dataframe.isnull().sum(),\"\\n\" #find missing values\n",
    "    print \"Duplicate Rows \\n\", dataframe.duplicated().sum(),\"\\n\" #find duplicated values\n",
    "    print \"Dataframe Types \\n \\n\", dataframe.dtypes,\"\\n\" #datatypes of each column\n",
    "    print \"Dataframe Shape \\n\", dataframe.shape,\"\\n\" #number of rows and columns\n",
    "    print \"Dataframe Describe \\n \\n\", dataframe.describe(include='all'),\"\\n\" #Describe all columns\n",
    "    for feature in dataframe: # Prints unique values for each column \n",
    "        print feature\n",
    "        print dataframe[feature].nunique()"
   ]
  },
  {
   "cell_type": "code",
   "execution_count": 10,
   "metadata": {
    "scrolled": true
   },
   "outputs": [
    {
     "name": "stdout",
     "output_type": "stream",
     "text": [
      "Missing Values \n",
      " \n",
      "Incident Name      0\n",
      "Title            133\n",
      "Article          133\n",
      "Shooter Race     133\n",
      "dtype: int64 \n",
      "\n",
      "Duplicate Rows \n",
      "11 \n",
      "\n",
      "Dataframe Types \n",
      " \n",
      "Incident Name    object\n",
      "Title            object\n",
      "Article          object\n",
      "Shooter Race     object\n",
      "dtype: object \n",
      "\n",
      "Dataframe Shape \n",
      "(1194, 4) \n",
      "\n",
      "Dataframe Describe \n",
      " \n",
      "                            Incident Name               Title  \\\n",
      "count                                1194                1061   \n",
      "unique                                291                1021   \n",
      "top     Tucscon, Arizona - Gabby Giffords  The New York Times   \n",
      "freq                                   83                   7   \n",
      "\n",
      "                                                  Article Shooter Race  \n",
      "count                                                1061         1061  \n",
      "unique                                               1032            8  \n",
      "top     The Lede is a blog that remixes national and i...        White  \n",
      "freq                                                    9          730   \n",
      "\n",
      "Incident Name\n",
      "291\n",
      "Title\n",
      "1021\n",
      "Article\n",
      "1032\n",
      "Shooter Race\n",
      "8\n"
     ]
    }
   ],
   "source": [
    "eda(NYT)"
   ]
  },
  {
   "cell_type": "code",
   "execution_count": 11,
   "metadata": {
    "collapsed": true
   },
   "outputs": [],
   "source": [
    "NYT.dropna(inplace=True)\n",
    "NYT.drop_duplicates(inplace=True)"
   ]
  },
  {
   "cell_type": "code",
   "execution_count": 12,
   "metadata": {
    "scrolled": true
   },
   "outputs": [
    {
     "name": "stdout",
     "output_type": "stream",
     "text": [
      "Missing Values \n",
      " \n",
      "Incident Name    0\n",
      "Title            0\n",
      "Article          0\n",
      "Shooter Race     0\n",
      "dtype: int64 \n",
      "\n",
      "Duplicate Rows \n",
      "0 \n",
      "\n",
      "Dataframe Types \n",
      " \n",
      "Incident Name    object\n",
      "Title            object\n",
      "Article          object\n",
      "Shooter Race     object\n",
      "dtype: object \n",
      "\n",
      "Dataframe Shape \n",
      "(1053, 4) \n",
      "\n",
      "Dataframe Describe \n",
      " \n",
      "                            Incident Name               Title  \\\n",
      "count                                1053                1053   \n",
      "unique                                161                1021   \n",
      "top     Tucscon, Arizona - Gabby Giffords  The New York Times   \n",
      "freq                                   83                   7   \n",
      "\n",
      "                                                  Article Shooter Race  \n",
      "count                                                1053         1053  \n",
      "unique                                               1032            8  \n",
      "top     The Lede is a blog that remixes national and i...        White  \n",
      "freq                                                    9          723   \n",
      "\n",
      "Incident Name\n",
      "161\n",
      "Title\n",
      "1021\n",
      "Article\n",
      "1032\n",
      "Shooter Race\n",
      "8\n"
     ]
    }
   ],
   "source": [
    "eda(NYT)"
   ]
  },
  {
   "cell_type": "code",
   "execution_count": 13,
   "metadata": {
    "collapsed": true
   },
   "outputs": [],
   "source": [
    "NYT.replace(\"N.R.A\",\"NRA\",inplace=True)"
   ]
  },
  {
   "cell_type": "markdown",
   "metadata": {},
   "source": [
    "### Generating Stop Words"
   ]
  },
  {
   "cell_type": "code",
   "execution_count": null,
   "metadata": {
    "collapsed": true
   },
   "outputs": [],
   "source": [
    "names=shootingdb['Shooter Name'].tolist()\n",
    "incidents=NYT['Incident Name'].tolist()\n",
    "location=shootingdb['Location'].tolist()\n",
    "city=shootingdb['City'].tolist()\n",
    "state=shootingdb['State'].tolist()\n",
    "title=shootingdb['Title'].tolist()\n",
    "month =['jan','feb', 'mar', 'apr','june','july','aug', 'sep','oct','nov','dec']\n",
    "dbstops= [names + incidents + location + city + state + title + month]"
   ]
  },
  {
   "cell_type": "code",
   "execution_count": null,
   "metadata": {
    "collapsed": true
   },
   "outputs": [],
   "source": [
    "dbstop=list(itertools.chain(*dbstops))\n",
    "dbstop = [i.split(\" \") for i in dbstop]\n",
    "dbstop = [item for sublist in dbstop for item in sublist]\n",
    "dbstop = [i.lower() for i in dbstop]\n",
    "stop=stopwords.words('english')\n",
    "stop += dbstop"
   ]
  },
  {
   "cell_type": "markdown",
   "metadata": {},
   "source": [
    "### Cleaning Dataframe"
   ]
  },
  {
   "cell_type": "code",
   "execution_count": null,
   "metadata": {
    "collapsed": true
   },
   "outputs": [],
   "source": [
    "def remove(NYT):\n",
    "    # Remove non-letters        \n",
    "    letters_only = re.sub(\"[^a-zA-Z]\", \" \", NYT) \n",
    "    # Convert to lower case, split into individual words\n",
    "    words = letters_only.lower().split()                                              \n",
    "    #Remove stop words\n",
    "    meaningful_words = [i for i in words if not i in stop]   \n",
    "    # Join the words back into one string separated by space, \n",
    "    # and return the result.\n",
    "    return( \" \".join( meaningful_words ))"
   ]
  },
  {
   "cell_type": "code",
   "execution_count": null,
   "metadata": {
    "collapsed": true
   },
   "outputs": [],
   "source": [
    "NYT['Title']=NYT['Title'].apply(remove)"
   ]
  },
  {
   "cell_type": "code",
   "execution_count": null,
   "metadata": {
    "collapsed": true
   },
   "outputs": [],
   "source": [
    "NYT['Article']=NYT['Article'].apply(remove)"
   ]
  },
  {
   "cell_type": "code",
   "execution_count": null,
   "metadata": {
    "collapsed": true
   },
   "outputs": [],
   "source": [
    "NYT.reset_index(drop=True, inplace=True)"
   ]
  },
  {
   "cell_type": "code",
   "execution_count": null,
   "metadata": {
    "collapsed": true
   },
   "outputs": [],
   "source": [
    "#Evann G Smiths Function (https://github.com/evanngsmith/GA)\n",
    "lemma = WordNetLemmatizer()\n",
    "stemmer = PorterStemmer()\n",
    "re_punct = re.compile('[' + ''.join(string.punctuation) + ']')\n",
    "\n",
    "def preprocess(text):\n",
    "    try:\n",
    "        tokens = word_tokenize(text)\n",
    "        tokens = [t for t in tokens if len(t) > 2]\n",
    "        tokens = [stemmer.stem(t) for t in tokens]\n",
    "        tokens = [lemma.lemmatize(t) for t in tokens]\n",
    "        if len(tokens) == 0:\n",
    "            return None\n",
    "        else:\n",
    "            return ' '.join(tokens)\n",
    "    except:\n",
    "        return None"
   ]
  },
  {
   "cell_type": "code",
   "execution_count": null,
   "metadata": {
    "collapsed": true
   },
   "outputs": [],
   "source": [
    "NYT['Title']=NYT['Title'].progress_map(preprocess)"
   ]
  },
  {
   "cell_type": "code",
   "execution_count": null,
   "metadata": {
    "collapsed": true
   },
   "outputs": [],
   "source": [
    "NYT['Article']=NYT['Article'].progress_map(preprocess)"
   ]
  },
  {
   "cell_type": "code",
   "execution_count": null,
   "metadata": {
    "collapsed": true
   },
   "outputs": [],
   "source": [
    "NYT.head()"
   ]
  },
  {
   "cell_type": "markdown",
   "metadata": {},
   "source": [
    "##### Base Accuracy & Resampling"
   ]
  },
  {
   "cell_type": "code",
   "execution_count": null,
   "metadata": {
    "collapsed": true
   },
   "outputs": [],
   "source": [
    "NYT['Shooter Race'].value_counts()"
   ]
  },
  {
   "cell_type": "code",
   "execution_count": null,
   "metadata": {
    "collapsed": true
   },
   "outputs": [],
   "source": [
    "White Base Accuracy = 68.66\n",
    "Asian Base Accuracy = 14.43\n",
    "African American Base Accuracy = 11.11\n",
    "Latin American Base Accuracy = 2.09\n",
    "Native American or Alaska Native =1.33"
   ]
  },
  {
   "cell_type": "code",
   "execution_count": null,
   "metadata": {
    "collapsed": true
   },
   "outputs": [],
   "source": [
    "majority = NYT[NYT['Shooter Race'] == \"White\"]\n",
    "minority1 = NYT[NYT['Shooter Race'] == \"Asian\"]\n",
    "\n",
    "# Upsample minority class\n",
    "minority_upsampled1 = resample(minority1,\n",
    "                                 replace=True,     # sample with replacement\n",
    "                                 n_samples=723,    # to match majority class\n",
    "                                 random_state=66) # reproducible results"
   ]
  },
  {
   "cell_type": "code",
   "execution_count": null,
   "metadata": {
    "collapsed": true
   },
   "outputs": [],
   "source": [
    "majority = NYT[NYT['Shooter Race'] == \"White\"]\n",
    "minority2 = NYT[NYT['Shooter Race'] == \"African American\"]\n",
    "\n",
    "# Upsample minority class\n",
    "minority_upsampled2 = resample(minority2,\n",
    "                                 replace=True,     # sample with replacement\n",
    "                                 n_samples=723,    # to match majority class\n",
    "                                 random_state=66) # reproducible results"
   ]
  },
  {
   "cell_type": "code",
   "execution_count": null,
   "metadata": {
    "collapsed": true
   },
   "outputs": [],
   "source": [
    "majority = NYT[NYT['Shooter Race'] == \"White\"]\n",
    "minority3 = NYT[NYT['Shooter Race'] == \"Two or more races\"]\n",
    "\n",
    "# Upsample minority class\n",
    "minority_upsampled3 = resample(minority3,\n",
    "                                 replace=True,     # sample with replacement\n",
    "                                 n_samples=723,    # to match majority class\n",
    "                                 random_state=66) # reproducible results"
   ]
  },
  {
   "cell_type": "code",
   "execution_count": null,
   "metadata": {
    "collapsed": true
   },
   "outputs": [],
   "source": [
    "majority = NYT[NYT['Shooter Race'] == \"White\"]\n",
    "minority4 = NYT[NYT['Shooter Race'] == \"Latin American\"]\n",
    "\n",
    "# Upsample minority class\n",
    "minority_upsampled4 = resample(minority4,\n",
    "                                 replace=True,     # sample with replacement\n",
    "                                 n_samples=723,    # to match majority class\n",
    "                                 random_state=66) # reproducible resultsbb"
   ]
  },
  {
   "cell_type": "code",
   "execution_count": null,
   "metadata": {
    "collapsed": true
   },
   "outputs": [],
   "source": [
    "majority = NYT[NYT['Shooter Race'] == \"White\"]\n",
    "minority5 = NYT[NYT['Shooter Race'] == \"Native American or Alaska Native\"]\n",
    "\n",
    "# Upsample minority class\n",
    "minority_upsampled5 = resample(minority5,\n",
    "                                 replace=True,     # sample with replacement\n",
    "                                 n_samples=723,    # to match majority class\n",
    "                                 random_state=66) # reproducible results"
   ]
  },
  {
   "cell_type": "code",
   "execution_count": null,
   "metadata": {
    "collapsed": true
   },
   "outputs": [],
   "source": [
    "majority = NYT[NYT['Shooter Race'] == \"White\"]\n",
    "minority6 = NYT[NYT['Shooter Race'] == \"Other\"]\n",
    "\n",
    "# Upsample minority class\n",
    "minority_upsampled6 = resample(minority6,\n",
    "                                 replace=True,     # sample with replacement\n",
    "                                 n_samples=723,    # to match majority class\n",
    "                                 random_state=66) # reproducible results"
   ]
  },
  {
   "cell_type": "code",
   "execution_count": null,
   "metadata": {
    "collapsed": true
   },
   "outputs": [],
   "source": [
    "majority = NYT[NYT['Shooter Race'] == \"White\"]\n",
    "minority7 = NYT[NYT['Shooter Race'] == \"Unknown\"]\n",
    "\n",
    "# Upsample minority class\n",
    "minority_upsampled7 = resample(minority7,\n",
    "                                 replace=True,     # sample with replacement\n",
    "                                 n_samples=723,    # to match majority class\n",
    "                                 random_state=66) # reproducible resultsb"
   ]
  },
  {
   "cell_type": "code",
   "execution_count": null,
   "metadata": {
    "collapsed": true
   },
   "outputs": [],
   "source": [
    "NYT = pd.concat([majority, minority_upsampled1,minority_upsampled2,minority_upsampled3\n",
    "                         ,minority_upsampled4,minority_upsampled5, minority_upsampled6,minority_upsampled7])\n",
    "NYT.shape\n",
    "NYT.head()"
   ]
  },
  {
   "cell_type": "markdown",
   "metadata": {},
   "source": [
    "### CountVectorizer"
   ]
  },
  {
   "cell_type": "code",
   "execution_count": null,
   "metadata": {
    "collapsed": true
   },
   "outputs": [],
   "source": [
    "vectorizer = CountVectorizer(analyzer = \"word\", \n",
    "                             tokenizer = None,    \n",
    "                             preprocessor = None,\n",
    "                             stop_words=stop,\n",
    "                             max_features=1500,\n",
    "                             min_df=1) \n",
    "\n",
    "data_features = vectorizer.fit_transform(NYT['Article'])\n",
    "data_features = data_features.toarray()\n",
    "print vectorizer"
   ]
  },
  {
   "cell_type": "code",
   "execution_count": null,
   "metadata": {
    "collapsed": true
   },
   "outputs": [],
   "source": [
    "data_features.shape\n",
    "print data_features"
   ]
  },
  {
   "cell_type": "code",
   "execution_count": null,
   "metadata": {
    "collapsed": true
   },
   "outputs": [],
   "source": [
    "vocab=vectorizer.get_feature_names()\n",
    "print vocab"
   ]
  },
  {
   "cell_type": "code",
   "execution_count": null,
   "metadata": {
    "collapsed": true
   },
   "outputs": [],
   "source": [
    "vocab2=pd.DataFrame(data_features, columns=vocab)\n",
    "vocab2.head()"
   ]
  },
  {
   "cell_type": "code",
   "execution_count": null,
   "metadata": {
    "collapsed": true
   },
   "outputs": [],
   "source": [
    "largedf=NYT.merge(vocab2, left_index=True  ,right_index=True, how='inner')\n",
    "largedf = largedf.rename(columns = {'fit': 'fit_feature'})\n",
    "largedf.head()"
   ]
  },
  {
   "cell_type": "markdown",
   "metadata": {},
   "source": [
    "### Model - Random Forest"
   ]
  },
  {
   "cell_type": "code",
   "execution_count": null,
   "metadata": {
    "collapsed": true
   },
   "outputs": [],
   "source": [
    "X = largedf.loc[:,'abandon':'zappala'] \n",
    "y = largedf['Shooter Race']  \n",
    "#train/test split\n",
    "X_train, X_test, y_train, y_test = train_test_split(X, y, train_size = 0.3)\n",
    "print X_train.shape, y_train.shape\n",
    "print X_test.shape, y_test.shape"
   ]
  },
  {
   "cell_type": "code",
   "execution_count": null,
   "metadata": {
    "collapsed": true
   },
   "outputs": [],
   "source": [
    "from sklearn.metrics import accuracy_score, precision_score, recall_score, confusion_matrix, classification_report\n",
    "def evaluate_model(model):\n",
    "    model.fit(X_train, y_train)\n",
    "    y_pred = model.predict(X_test)\n",
    "    \n",
    "    a = accuracy_score(y_test, y_pred)\n",
    "    \n",
    "    cm = confusion_matrix(y_test, y_pred)\n",
    "    cr = classification_report(y_test, y_pred)\n",
    "    \n",
    "    print cm\n",
    "    print cr\n",
    "    return a"
   ]
  },
  {
   "cell_type": "code",
   "execution_count": null,
   "metadata": {
    "collapsed": true
   },
   "outputs": [],
   "source": [
    "rf = RandomForestClassifier(min_samples_split=2, n_estimators=100, criterion='gini', \n",
    "                            max_depth=10, class_weight=None,random_state=86)\n",
    "evaluate_model(rf)"
   ]
  },
  {
   "cell_type": "code",
   "execution_count": null,
   "metadata": {
    "collapsed": true
   },
   "outputs": [],
   "source": [
    "from sklearn.grid_search import GridSearchCV\n",
    "\n",
    "params = {'n_estimators':[1, 10, 100, 1000],\n",
    "          'criterion': ['gini', 'entropy'],\n",
    "          'max_depth': [1, 3, 5,7,10],\n",
    "          'min_samples_split': [2,5],\n",
    "          'class_weight':[None, 'balanced']}\n",
    "\n",
    "gsrf = GridSearchCV(rf, params, n_jobs=-1, cv=10)\n",
    "gsrf.fit(X, y)\n",
    "print gsrf.best_params_\n",
    "print gsrf.best_score_\n",
    "\n",
    "print gsrf.best_estimator_,\n",
    "evaluate_model(gsrf.best_estimator_)"
   ]
  },
  {
   "cell_type": "code",
   "execution_count": null,
   "metadata": {
    "collapsed": true
   },
   "outputs": [],
   "source": [
    "importance = pd.DataFrame(zip(rf.feature_importances_,),\n",
    "                           index=X.columns,\n",
    "                           columns=['Word Importance']).sort_values('Word Importance',\n",
    "                                                                   ascending=False)\n",
    "importance.head(10)"
   ]
  },
  {
   "cell_type": "code",
   "execution_count": null,
   "metadata": {
    "collapsed": true
   },
   "outputs": [],
   "source": [
    "import matplotlib.pyplot as plt\n",
    "all(rf.feature_importances_ == np.mean([tree.feature_importances_ for tree in rf.estimators_], axis=0))\n",
    "\n",
    "importances = rf.feature_importances_\n",
    "# calculate the standard deviation of feature importances by looping over the trees in the random forest\n",
    "# \n",
    "\n",
    "std = np.std([tree.feature_importances_ for tree in rf.estimators_], axis=0)\n",
    "\n",
    "indices = np.argsort(importances)[::-1]\n",
    "feature_names = X.columns\n",
    "\n",
    "# Plot the feature importances of the forest\n",
    "plt.figure(figsize=(10,10))\n",
    "plt.title(\"Feature importances\")\n",
    "plt.bar(range(X.shape[1]), importances[indices],\n",
    "       color=\"r\", yerr=std[indices], align=\"center\")\n",
    "plt.xticks(range(X.shape[1]), feature_names[indices], rotation=90)\n",
    "plt.xlim(0,20)\n",
    "plt.show()"
   ]
  },
  {
   "cell_type": "code",
   "execution_count": null,
   "metadata": {
    "collapsed": true
   },
   "outputs": [],
   "source": []
  }
 ],
 "metadata": {
  "kernelspec": {
   "display_name": "Python 2",
   "language": "python",
   "name": "python2"
  },
  "language_info": {
   "codemirror_mode": {
    "name": "ipython",
    "version": 2
   },
   "file_extension": ".py",
   "mimetype": "text/x-python",
   "name": "python",
   "nbconvert_exporter": "python",
   "pygments_lexer": "ipython2",
   "version": "2.7.13"
  }
 },
 "nbformat": 4,
 "nbformat_minor": 2
}
