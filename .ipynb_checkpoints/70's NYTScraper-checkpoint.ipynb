{
 "cells": [
  {
   "cell_type": "code",
   "execution_count": 3,
   "metadata": {
    "collapsed": true
   },
   "outputs": [],
   "source": [
    "import pandas as pd\n",
    "import newspaper\n",
    "from newspaper import Article"
   ]
  },
  {
   "cell_type": "code",
   "execution_count": 4,
   "metadata": {
    "scrolled": true
   },
   "outputs": [
    {
     "name": "stderr",
     "output_type": "stream",
     "text": [
      "Traceback (most recent call last):\n",
      "  File \"/Users/ThomasPLapinger/anaconda/lib/python2.7/site-packages/newspaper/parsers.py\", line 54, in fromstring\n",
      "    cls.doc = lxml.html.fromstring(html)\n",
      "  File \"/Users/ThomasPLapinger/anaconda/lib/python2.7/site-packages/lxml/html/__init__.py\", line 706, in fromstring\n",
      "    doc = document_fromstring(html, parser=parser, base_url=base_url, **kw)\n",
      "  File \"/Users/ThomasPLapinger/anaconda/lib/python2.7/site-packages/lxml/html/__init__.py\", line 600, in document_fromstring\n",
      "    value = etree.fromstring(html, parser, **kw)\n",
      "  File \"lxml.etree.pyx\", line 3032, in lxml.etree.fromstring (src/lxml/lxml.etree.c:68121)\n",
      "  File \"parser.pxi\", line 1786, in lxml.etree._parseMemoryDocument (src/lxml/lxml.etree.c:102470)\n",
      "  File \"parser.pxi\", line 1667, in lxml.etree._parseDoc (src/lxml/lxml.etree.c:101229)\n",
      "  File \"parser.pxi\", line 1035, in lxml.etree._BaseParser._parseUnicodeDoc (src/lxml/lxml.etree.c:96139)\n",
      "  File \"parser.pxi\", line 582, in lxml.etree._ParserContext._handleParseResultDoc (src/lxml/lxml.etree.c:91290)\n",
      "  File \"parser.pxi\", line 683, in lxml.etree._handleParseResult (src/lxml/lxml.etree.c:92476)\n",
      "  File \"parser.pxi\", line 633, in lxml.etree._raiseParseError (src/lxml/lxml.etree.c:91939)\n",
      "XMLSyntaxError: None\n"
     ]
    }
   ],
   "source": [
    "urls = ['No Article']\n",
    "# \"for i in urls:\n",
    "#     print i\"\n",
    "# Nyt_Columbine = []\n",
    "Nyt_NolaPD =pd.DataFrame()\n",
    "for i in urls: \n",
    "    a=Article(i, language='en')\n",
    "    a.download()\n",
    "    a.parse()\n",
    "    Nyt_NolaPD= Nyt_NolaPD.append([[a.title, a.text]], ignore_index=True)\n",
    "Nyt_NolaPD.columns=['Title','Article']"
   ]
  },
  {
   "cell_type": "code",
   "execution_count": 5,
   "metadata": {
    "collapsed": true
   },
   "outputs": [],
   "source": [
    "Nyt_NolaPD['Title'] = 'NaN'\n",
    "Nyt_NolaPD['Article'] = 'NaN'\n",
    "Nyt_NolaPD['Incident Name'] = 'NOLA PD'"
   ]
  },
  {
   "cell_type": "code",
   "execution_count": 6,
   "metadata": {},
   "outputs": [
    {
     "data": {
      "text/html": [
       "<div>\n",
       "<style>\n",
       "    .dataframe thead tr:only-child th {\n",
       "        text-align: right;\n",
       "    }\n",
       "\n",
       "    .dataframe thead th {\n",
       "        text-align: left;\n",
       "    }\n",
       "\n",
       "    .dataframe tbody tr th {\n",
       "        vertical-align: top;\n",
       "    }\n",
       "</style>\n",
       "<table border=\"1\" class=\"dataframe\">\n",
       "  <thead>\n",
       "    <tr style=\"text-align: right;\">\n",
       "      <th></th>\n",
       "      <th>Title</th>\n",
       "      <th>Article</th>\n",
       "      <th>Incident Name</th>\n",
       "    </tr>\n",
       "  </thead>\n",
       "  <tbody>\n",
       "    <tr>\n",
       "      <th>0</th>\n",
       "      <td>NaN</td>\n",
       "      <td>NaN</td>\n",
       "      <td>NOLA PD</td>\n",
       "    </tr>\n",
       "  </tbody>\n",
       "</table>\n",
       "</div>"
      ],
      "text/plain": [
       "  Title Article Incident Name\n",
       "0   NaN     NaN       NOLA PD"
      ]
     },
     "execution_count": 6,
     "metadata": {},
     "output_type": "execute_result"
    }
   ],
   "source": [
    "Nyt_NolaPD"
   ]
  },
  {
   "cell_type": "code",
   "execution_count": 7,
   "metadata": {},
   "outputs": [
    {
     "name": "stderr",
     "output_type": "stream",
     "text": [
      "Traceback (most recent call last):\n",
      "  File \"/Users/ThomasPLapinger/anaconda/lib/python2.7/site-packages/newspaper/parsers.py\", line 54, in fromstring\n",
      "    cls.doc = lxml.html.fromstring(html)\n",
      "  File \"/Users/ThomasPLapinger/anaconda/lib/python2.7/site-packages/lxml/html/__init__.py\", line 706, in fromstring\n",
      "    doc = document_fromstring(html, parser=parser, base_url=base_url, **kw)\n",
      "  File \"/Users/ThomasPLapinger/anaconda/lib/python2.7/site-packages/lxml/html/__init__.py\", line 600, in document_fromstring\n",
      "    value = etree.fromstring(html, parser, **kw)\n",
      "  File \"lxml.etree.pyx\", line 3032, in lxml.etree.fromstring (src/lxml/lxml.etree.c:68121)\n",
      "  File \"parser.pxi\", line 1786, in lxml.etree._parseMemoryDocument (src/lxml/lxml.etree.c:102470)\n",
      "  File \"parser.pxi\", line 1667, in lxml.etree._parseDoc (src/lxml/lxml.etree.c:101229)\n",
      "  File \"parser.pxi\", line 1035, in lxml.etree._BaseParser._parseUnicodeDoc (src/lxml/lxml.etree.c:96139)\n",
      "  File \"parser.pxi\", line 582, in lxml.etree._ParserContext._handleParseResultDoc (src/lxml/lxml.etree.c:91290)\n",
      "  File \"parser.pxi\", line 683, in lxml.etree._handleParseResult (src/lxml/lxml.etree.c:92476)\n",
      "  File \"parser.pxi\", line 633, in lxml.etree._raiseParseError (src/lxml/lxml.etree.c:91939)\n",
      "XMLSyntaxError: None\n"
     ]
    }
   ],
   "source": [
    "url=['No Articles']\n",
    "Nyt_ClaraBarton =pd.DataFrame()\n",
    "for i in url: \n",
    "    a=Article(i, language='en')\n",
    "    a.download()\n",
    "    a.parse()\n",
    "    Nyt_ClaraBarton= Nyt_ClaraBarton.append([[a.title, a.text]], ignore_index=True)\n",
    "Nyt_ClaraBarton.columns=['Title','Article']"
   ]
  },
  {
   "cell_type": "code",
   "execution_count": 8,
   "metadata": {
    "collapsed": true,
    "scrolled": true
   },
   "outputs": [],
   "source": [
    "Nyt_ClaraBarton['Title'] = 'NaN'\n",
    "Nyt_ClaraBarton['Article'] = 'NaN'\n",
    "Nyt_ClaraBarton['Incident Name'] = 'Clara Barton Elementary'"
   ]
  },
  {
   "cell_type": "code",
   "execution_count": 9,
   "metadata": {
    "collapsed": true
   },
   "outputs": [],
   "source": [
    "url1='http://www.nytimes.com/1975/01/01/archives/snipers-classmate-says-guns-were-whole-life-a-classmate-of-upstate.html'\n",
    "url2='http://www.nytimes.com/1974/12/31/archives/3-killed-and-9-wounded-by-an-upstate-sniper-18-3-killed-and-9.html'\n",
    "urls=[url1,url2]\n",
    "Nyt_Olean =pd.DataFrame()\n",
    "for i in urls: \n",
    "    a=Article(i, language='en')\n",
    "    a.download()\n",
    "    a.parse()\n",
    "    Nyt_Olean= Nyt_Olean.append([[a.title, a.text]], ignore_index=True)\n",
    "Nyt_Olean.columns=['Title','Article']"
   ]
  },
  {
   "cell_type": "code",
   "execution_count": 10,
   "metadata": {},
   "outputs": [
    {
     "data": {
      "text/html": [
       "<div>\n",
       "<style>\n",
       "    .dataframe thead tr:only-child th {\n",
       "        text-align: right;\n",
       "    }\n",
       "\n",
       "    .dataframe thead th {\n",
       "        text-align: left;\n",
       "    }\n",
       "\n",
       "    .dataframe tbody tr th {\n",
       "        vertical-align: top;\n",
       "    }\n",
       "</style>\n",
       "<table border=\"1\" class=\"dataframe\">\n",
       "  <thead>\n",
       "    <tr style=\"text-align: right;\">\n",
       "      <th></th>\n",
       "      <th>Title</th>\n",
       "      <th>Article</th>\n",
       "    </tr>\n",
       "  </thead>\n",
       "  <tbody>\n",
       "    <tr>\n",
       "      <th>0</th>\n",
       "      <td>Sniper's Classmate Says Guns Were ‘Whole Life’</td>\n",
       "      <td>The attack at the school has stunned this comm...</td>\n",
       "    </tr>\n",
       "    <tr>\n",
       "      <th>1</th>\n",
       "      <td>3 Killed and 9 Wounded By an Upstate Sniper, 18</td>\n",
       "      <td>The youth was charged with three counts of mur...</td>\n",
       "    </tr>\n",
       "  </tbody>\n",
       "</table>\n",
       "</div>"
      ],
      "text/plain": [
       "                                             Title  \\\n",
       "0   Sniper's Classmate Says Guns Were ‘Whole Life’   \n",
       "1  3 Killed and 9 Wounded By an Upstate Sniper, 18   \n",
       "\n",
       "                                             Article  \n",
       "0  The attack at the school has stunned this comm...  \n",
       "1  The youth was charged with three counts of mur...  "
      ]
     },
     "execution_count": 10,
     "metadata": {},
     "output_type": "execute_result"
    }
   ],
   "source": [
    "Nyt_Olean.head()"
   ]
  },
  {
   "cell_type": "code",
   "execution_count": 11,
   "metadata": {},
   "outputs": [
    {
     "data": {
      "text/html": [
       "<div>\n",
       "<style>\n",
       "    .dataframe thead tr:only-child th {\n",
       "        text-align: right;\n",
       "    }\n",
       "\n",
       "    .dataframe thead th {\n",
       "        text-align: left;\n",
       "    }\n",
       "\n",
       "    .dataframe tbody tr th {\n",
       "        vertical-align: top;\n",
       "    }\n",
       "</style>\n",
       "<table border=\"1\" class=\"dataframe\">\n",
       "  <thead>\n",
       "    <tr style=\"text-align: right;\">\n",
       "      <th></th>\n",
       "      <th>Title</th>\n",
       "      <th>Article</th>\n",
       "      <th>Incident Name</th>\n",
       "      <th>Shooter Race</th>\n",
       "    </tr>\n",
       "  </thead>\n",
       "  <tbody>\n",
       "    <tr>\n",
       "      <th>0</th>\n",
       "      <td>Sniper's Classmate Says Guns Were ‘Whole Life’</td>\n",
       "      <td>The attack at the school has stunned this comm...</td>\n",
       "      <td>Olean High School</td>\n",
       "      <td>White</td>\n",
       "    </tr>\n",
       "    <tr>\n",
       "      <th>1</th>\n",
       "      <td>3 Killed and 9 Wounded By an Upstate Sniper, 18</td>\n",
       "      <td>The youth was charged with three counts of mur...</td>\n",
       "      <td>Olean High School</td>\n",
       "      <td>White</td>\n",
       "    </tr>\n",
       "  </tbody>\n",
       "</table>\n",
       "</div>"
      ],
      "text/plain": [
       "                                             Title  \\\n",
       "0   Sniper's Classmate Says Guns Were ‘Whole Life’   \n",
       "1  3 Killed and 9 Wounded By an Upstate Sniper, 18   \n",
       "\n",
       "                                             Article      Incident Name  \\\n",
       "0  The attack at the school has stunned this comm...  Olean High School   \n",
       "1  The youth was charged with three counts of mur...  Olean High School   \n",
       "\n",
       "  Shooter Race  \n",
       "0        White  \n",
       "1        White  "
      ]
     },
     "execution_count": 11,
     "metadata": {},
     "output_type": "execute_result"
    }
   ],
   "source": [
    "Nyt_Olean['Incident Name'] = 'Olean High School'\n",
    "Nyt_Olean['Shooter Race']='White'\n",
    "Nyt_Olean"
   ]
  },
  {
   "cell_type": "code",
   "execution_count": null,
   "metadata": {
    "collapsed": true
   },
   "outputs": [],
   "source": []
  },
  {
   "cell_type": "code",
   "execution_count": 12,
   "metadata": {},
   "outputs": [
    {
     "name": "stderr",
     "output_type": "stream",
     "text": [
      "Traceback (most recent call last):\n",
      "  File \"/Users/ThomasPLapinger/anaconda/lib/python2.7/site-packages/newspaper/parsers.py\", line 54, in fromstring\n",
      "    cls.doc = lxml.html.fromstring(html)\n",
      "  File \"/Users/ThomasPLapinger/anaconda/lib/python2.7/site-packages/lxml/html/__init__.py\", line 706, in fromstring\n",
      "    doc = document_fromstring(html, parser=parser, base_url=base_url, **kw)\n",
      "  File \"/Users/ThomasPLapinger/anaconda/lib/python2.7/site-packages/lxml/html/__init__.py\", line 600, in document_fromstring\n",
      "    value = etree.fromstring(html, parser, **kw)\n",
      "  File \"lxml.etree.pyx\", line 3032, in lxml.etree.fromstring (src/lxml/lxml.etree.c:68121)\n",
      "  File \"parser.pxi\", line 1786, in lxml.etree._parseMemoryDocument (src/lxml/lxml.etree.c:102470)\n",
      "  File \"parser.pxi\", line 1667, in lxml.etree._parseDoc (src/lxml/lxml.etree.c:101229)\n",
      "  File \"parser.pxi\", line 1035, in lxml.etree._BaseParser._parseUnicodeDoc (src/lxml/lxml.etree.c:96139)\n",
      "  File \"parser.pxi\", line 582, in lxml.etree._ParserContext._handleParseResultDoc (src/lxml/lxml.etree.c:91290)\n",
      "  File \"parser.pxi\", line 683, in lxml.etree._handleParseResult (src/lxml/lxml.etree.c:92476)\n",
      "  File \"parser.pxi\", line 631, in lxml.etree._raiseParseError (src/lxml/lxml.etree.c:91904)\n",
      "XMLSyntaxError: line 1031: Tag nav invalid\n"
     ]
    }
   ],
   "source": [
    "url=['No Articles'] # Los Angeles Computer Learning Center\n",
    "Nyt_LACLC =pd.DataFrame()\n",
    "for i in url: \n",
    "    a=Article(i, language='en')\n",
    "    a.download()\n",
    "    a.parse()\n",
    "    Nyt_LACLC= Nyt_LACLC.append([[a.title, a.text]], ignore_index=True)\n",
    "Nyt_LACLC.columns=['Title','Article']"
   ]
  },
  {
   "cell_type": "code",
   "execution_count": 13,
   "metadata": {
    "collapsed": true
   },
   "outputs": [],
   "source": [
    "Nyt_LACLC['title'] = 'NaN'\n",
    "Nyt_LACLC['article'] = 'NaN'\n",
    "Nyt_LACLC['Incident Name'] = 'LA Computer Learning Center'"
   ]
  },
  {
   "cell_type": "code",
   "execution_count": 14,
   "metadata": {
    "collapsed": true,
    "scrolled": false
   },
   "outputs": [],
   "source": [
    "Nyt_LACLC.drop(['Title','Article'], axis=1, inplace=True)"
   ]
  },
  {
   "cell_type": "code",
   "execution_count": 15,
   "metadata": {
    "collapsed": true
   },
   "outputs": [],
   "source": [
    "Nyt_LACLC.rename(index=str, columns={'title':'Title','article':'Article'}, inplace=True)"
   ]
  },
  {
   "cell_type": "code",
   "execution_count": 16,
   "metadata": {},
   "outputs": [
    {
     "name": "stderr",
     "output_type": "stream",
     "text": [
      "Traceback (most recent call last):\n",
      "  File \"/Users/ThomasPLapinger/anaconda/lib/python2.7/site-packages/newspaper/parsers.py\", line 54, in fromstring\n",
      "    cls.doc = lxml.html.fromstring(html)\n",
      "  File \"/Users/ThomasPLapinger/anaconda/lib/python2.7/site-packages/lxml/html/__init__.py\", line 706, in fromstring\n",
      "    doc = document_fromstring(html, parser=parser, base_url=base_url, **kw)\n",
      "  File \"/Users/ThomasPLapinger/anaconda/lib/python2.7/site-packages/lxml/html/__init__.py\", line 600, in document_fromstring\n",
      "    value = etree.fromstring(html, parser, **kw)\n",
      "  File \"lxml.etree.pyx\", line 3032, in lxml.etree.fromstring (src/lxml/lxml.etree.c:68121)\n",
      "  File \"parser.pxi\", line 1786, in lxml.etree._parseMemoryDocument (src/lxml/lxml.etree.c:102470)\n",
      "  File \"parser.pxi\", line 1667, in lxml.etree._parseDoc (src/lxml/lxml.etree.c:101229)\n",
      "  File \"parser.pxi\", line 1035, in lxml.etree._BaseParser._parseUnicodeDoc (src/lxml/lxml.etree.c:96139)\n",
      "  File \"parser.pxi\", line 582, in lxml.etree._ParserContext._handleParseResultDoc (src/lxml/lxml.etree.c:91290)\n",
      "  File \"parser.pxi\", line 683, in lxml.etree._handleParseResult (src/lxml/lxml.etree.c:92476)\n",
      "  File \"parser.pxi\", line 631, in lxml.etree._raiseParseError (src/lxml/lxml.etree.c:91904)\n",
      "XMLSyntaxError: line 1031: Tag nav invalid\n"
     ]
    }
   ],
   "source": [
    "url=['No Articles'] #Cal State Fullerton\n",
    "Nyt_CSF =pd.DataFrame()\n",
    "for i in url: \n",
    "    a=Article(i, language='en')\n",
    "    a.download()\n",
    "    a.parse()\n",
    "    Nyt_CSF= Nyt_CSF.append([[a.title, a.text]], ignore_index=True)\n",
    "Nyt_CSF.columns=['Title','Article']\n",
    "Nyt_CSF['title'] = 'NaN'\n",
    "Nyt_CSF['article'] = 'NaN'\n",
    "Nyt_CSF['Incident Name'] = 'Cal State Fullerton'"
   ]
  },
  {
   "cell_type": "code",
   "execution_count": 17,
   "metadata": {
    "collapsed": true,
    "scrolled": true
   },
   "outputs": [],
   "source": [
    "Nyt_CSF.drop(['Title','Article'], axis=1, inplace=True)"
   ]
  },
  {
   "cell_type": "code",
   "execution_count": 18,
   "metadata": {},
   "outputs": [
    {
     "data": {
      "text/html": [
       "<div>\n",
       "<style>\n",
       "    .dataframe thead tr:only-child th {\n",
       "        text-align: right;\n",
       "    }\n",
       "\n",
       "    .dataframe thead th {\n",
       "        text-align: left;\n",
       "    }\n",
       "\n",
       "    .dataframe tbody tr th {\n",
       "        vertical-align: top;\n",
       "    }\n",
       "</style>\n",
       "<table border=\"1\" class=\"dataframe\">\n",
       "  <thead>\n",
       "    <tr style=\"text-align: right;\">\n",
       "      <th></th>\n",
       "      <th>Title</th>\n",
       "      <th>Article</th>\n",
       "      <th>Incident Name</th>\n",
       "    </tr>\n",
       "  </thead>\n",
       "  <tbody>\n",
       "    <tr>\n",
       "      <th>0</th>\n",
       "      <td>NaN</td>\n",
       "      <td>NaN</td>\n",
       "      <td>Cal State Fullerton</td>\n",
       "    </tr>\n",
       "  </tbody>\n",
       "</table>\n",
       "</div>"
      ],
      "text/plain": [
       "  Title Article        Incident Name\n",
       "0   NaN     NaN  Cal State Fullerton"
      ]
     },
     "execution_count": 18,
     "metadata": {},
     "output_type": "execute_result"
    }
   ],
   "source": [
    "Nyt_CSF.rename(index=str, columns={'title':'Title','article':'Article'}, inplace=True)\n",
    "Nyt_CSF"
   ]
  },
  {
   "cell_type": "code",
   "execution_count": 19,
   "metadata": {
    "collapsed": true
   },
   "outputs": [],
   "source": [
    "url3='http://www.nytimes.com/1979/01/30/archives/san-diego-girl-slays-2-with-rifle-and-wounds-9-on-school-grounds.html'\n",
    "url4='http://www.nytimes.com/1979/01/30/archives/tomboy-and-gun-enthusiast-ammunition-for-small-army.html'\n",
    "url5='http://www.nytimes.com/1979/01/31/archives/coast-sniper-vowed-she-would-do-something-big-planned-something-big.html'\n",
    "urls2= [url3,url4, url5]\n",
    "#Grover Cleveland Elementary\n",
    "Nyt_GCE =pd.DataFrame()\n",
    "for i in urls2: \n",
    "    a=Article(i, language='en')\n",
    "    a.download()\n",
    "    a.parse()\n",
    "    Nyt_GCE= Nyt_GCE.append([[a.title, a.text]], ignore_index=True)\n",
    "Nyt_GCE.columns=['Title','Article']"
   ]
  },
  {
   "cell_type": "code",
   "execution_count": 20,
   "metadata": {},
   "outputs": [
    {
     "data": {
      "text/html": [
       "<div>\n",
       "<style>\n",
       "    .dataframe thead tr:only-child th {\n",
       "        text-align: right;\n",
       "    }\n",
       "\n",
       "    .dataframe thead th {\n",
       "        text-align: left;\n",
       "    }\n",
       "\n",
       "    .dataframe tbody tr th {\n",
       "        vertical-align: top;\n",
       "    }\n",
       "</style>\n",
       "<table border=\"1\" class=\"dataframe\">\n",
       "  <thead>\n",
       "    <tr style=\"text-align: right;\">\n",
       "      <th></th>\n",
       "      <th>Title</th>\n",
       "      <th>Article</th>\n",
       "      <th>Incident Name</th>\n",
       "      <th>Shooter Race</th>\n",
       "    </tr>\n",
       "  </thead>\n",
       "  <tbody>\n",
       "    <tr>\n",
       "      <th>0</th>\n",
       "      <td>San Diego Girl Slays 2 With Rifle And Wounds 9...</td>\n",
       "      <td>Special weapons and tactics officers from the ...</td>\n",
       "      <td>Grover Cleveland Elementary School</td>\n",
       "      <td>White</td>\n",
       "    </tr>\n",
       "    <tr>\n",
       "      <th>1</th>\n",
       "      <td>Tomboy and Gun Enthusiast</td>\n",
       "      <td>SAN DIEGO, Jan. 29 (AP) — Brenda Spencer's cla...</td>\n",
       "      <td>Grover Cleveland Elementary School</td>\n",
       "      <td>White</td>\n",
       "    </tr>\n",
       "    <tr>\n",
       "      <th>2</th>\n",
       "      <td>Coast Sniper Vowed She Would ‘Do Something Big’</td>\n",
       "      <td>SAN DIEGO, Jan. 30 — Wally Spencer's eyes were...</td>\n",
       "      <td>Grover Cleveland Elementary School</td>\n",
       "      <td>White</td>\n",
       "    </tr>\n",
       "  </tbody>\n",
       "</table>\n",
       "</div>"
      ],
      "text/plain": [
       "                                               Title  \\\n",
       "0  San Diego Girl Slays 2 With Rifle And Wounds 9...   \n",
       "1                          Tomboy and Gun Enthusiast   \n",
       "2    Coast Sniper Vowed She Would ‘Do Something Big’   \n",
       "\n",
       "                                             Article  \\\n",
       "0  Special weapons and tactics officers from the ...   \n",
       "1  SAN DIEGO, Jan. 29 (AP) — Brenda Spencer's cla...   \n",
       "2  SAN DIEGO, Jan. 30 — Wally Spencer's eyes were...   \n",
       "\n",
       "                        Incident Name Shooter Race  \n",
       "0  Grover Cleveland Elementary School        White  \n",
       "1  Grover Cleveland Elementary School        White  \n",
       "2  Grover Cleveland Elementary School        White  "
      ]
     },
     "execution_count": 20,
     "metadata": {},
     "output_type": "execute_result"
    }
   ],
   "source": [
    "Nyt_GCE['Incident Name'] = 'Grover Cleveland Elementary School'\n",
    "Nyt_GCE['Shooter Race']='White'\n",
    "Nyt_GCE"
   ]
  },
  {
   "cell_type": "code",
   "execution_count": 21,
   "metadata": {
    "collapsed": true
   },
   "outputs": [],
   "source": [
    "#Uof S Carolina\n",
    "url6='http://www.nytimes.com/1979/10/07/archives/around-the-nation-2-south-carolina-students-slain-at-fraternity.html'\n",
    "Nyt_UofSC =pd.DataFrame()\n",
    "a=Article(url6, language='en')\n",
    "a.download()\n",
    "a.parse()\n",
    "Nyt_UofSC= Nyt_UofSC.append([[a.title, a.text]], ignore_index=True)\n",
    "Nyt_UofSC.columns=['Title','Article']\n"
   ]
  },
  {
   "cell_type": "code",
   "execution_count": 22,
   "metadata": {
    "scrolled": true
   },
   "outputs": [
    {
     "ename": "ValueError",
     "evalue": "Shape of passed values is (1, 2), indices imply (2, 2)",
     "output_type": "error",
     "traceback": [
      "\u001b[0;31m---------------------------------------------------------------------------\u001b[0m",
      "\u001b[0;31mValueError\u001b[0m                                Traceback (most recent call last)",
      "\u001b[0;32m<ipython-input-22-0a2475be07f9>\u001b[0m in \u001b[0;36m<module>\u001b[0;34m()\u001b[0m\n\u001b[1;32m      1\u001b[0m \u001b[0mdata\u001b[0m\u001b[0;34m=\u001b[0m\u001b[0;34m[\u001b[0m\u001b[0;34m'Around the Nation'\u001b[0m\u001b[0;34m,\u001b[0m \u001b[0;34m'COLUMBIA, S.C., Oct. 6 (UPI) ‐Two students were killed today and five others were wounded by a gunman who drew pistol and fired repeatedly into a Kappa Alpha Psi fraternity homecoming party at the University of South Carolina. 2 South Carolina Students Slain at Fraternity Party The police said that the suspect, identified as Mark A. Houston, a 19‐year‐old sophmore from Columbia, had been followed to a dormitory at Allen University, another school near the main South Carolina campus, where he had been arrested and charged with murder. The dead victims were identified as Terrell G. Johnson, 21 years old, of St. Matthews, and Patrick McGinty, 18, of Wilmington, Del. Both were students at South Carolina, the authorities said. Judy Cotchett, a spokesman at the Richland Memorial Hospital said that John Leroy Aiken, 20, an Allen University student from Sumter, was in critical condition. William Terry Langston, 22, South Carolina student, was treated for minor injuries and was released, she said. Three other South Carolina students were in stable condition at the Baptist Hospital. They were identified as Randy McCray, 18, Columbia; Michael Lawyer, 18, Moncks Corner, and David L. Simmons, 17, Charleston.'\u001b[0m\u001b[0;34m]\u001b[0m\u001b[0;34m\u001b[0m\u001b[0m\n\u001b[1;32m      2\u001b[0m \u001b[0mcolumns\u001b[0m\u001b[0;34m=\u001b[0m\u001b[0;34m[\u001b[0m\u001b[0;34m'Title'\u001b[0m\u001b[0;34m,\u001b[0m\u001b[0;34m'Article'\u001b[0m\u001b[0;34m]\u001b[0m\u001b[0;34m\u001b[0m\u001b[0m\n\u001b[0;32m----> 3\u001b[0;31m \u001b[0mNyt_UofSC\u001b[0m \u001b[0;34m=\u001b[0m\u001b[0mpd\u001b[0m\u001b[0;34m.\u001b[0m\u001b[0mDataFrame\u001b[0m\u001b[0;34m(\u001b[0m\u001b[0mdata\u001b[0m\u001b[0;34m=\u001b[0m\u001b[0mdata\u001b[0m\u001b[0;34m,\u001b[0m \u001b[0mcolumns\u001b[0m\u001b[0;34m=\u001b[0m\u001b[0mcolumns\u001b[0m\u001b[0;34m)\u001b[0m\u001b[0;34m\u001b[0m\u001b[0m\n\u001b[0m",
      "\u001b[0;32m/Users/ThomasPLapinger/anaconda/lib/python2.7/site-packages/pandas/core/frame.pyc\u001b[0m in \u001b[0;36m__init__\u001b[0;34m(self, data, index, columns, dtype, copy)\u001b[0m\n\u001b[1;32m    328\u001b[0m                 \u001b[0;32melse\u001b[0m\u001b[0;34m:\u001b[0m\u001b[0;34m\u001b[0m\u001b[0m\n\u001b[1;32m    329\u001b[0m                     mgr = self._init_ndarray(data, index, columns, dtype=dtype,\n\u001b[0;32m--> 330\u001b[0;31m                                              copy=copy)\n\u001b[0m\u001b[1;32m    331\u001b[0m             \u001b[0;32melse\u001b[0m\u001b[0;34m:\u001b[0m\u001b[0;34m\u001b[0m\u001b[0m\n\u001b[1;32m    332\u001b[0m                 \u001b[0mmgr\u001b[0m \u001b[0;34m=\u001b[0m \u001b[0mself\u001b[0m\u001b[0;34m.\u001b[0m\u001b[0m_init_dict\u001b[0m\u001b[0;34m(\u001b[0m\u001b[0;34m{\u001b[0m\u001b[0;34m}\u001b[0m\u001b[0;34m,\u001b[0m \u001b[0mindex\u001b[0m\u001b[0;34m,\u001b[0m \u001b[0mcolumns\u001b[0m\u001b[0;34m,\u001b[0m \u001b[0mdtype\u001b[0m\u001b[0;34m=\u001b[0m\u001b[0mdtype\u001b[0m\u001b[0;34m)\u001b[0m\u001b[0;34m\u001b[0m\u001b[0m\n",
      "\u001b[0;32m/Users/ThomasPLapinger/anaconda/lib/python2.7/site-packages/pandas/core/frame.pyc\u001b[0m in \u001b[0;36m_init_ndarray\u001b[0;34m(self, values, index, columns, dtype, copy)\u001b[0m\n\u001b[1;32m    481\u001b[0m             \u001b[0mvalues\u001b[0m \u001b[0;34m=\u001b[0m \u001b[0mmaybe_infer_to_datetimelike\u001b[0m\u001b[0;34m(\u001b[0m\u001b[0mvalues\u001b[0m\u001b[0;34m)\u001b[0m\u001b[0;34m\u001b[0m\u001b[0m\n\u001b[1;32m    482\u001b[0m \u001b[0;34m\u001b[0m\u001b[0m\n\u001b[0;32m--> 483\u001b[0;31m         \u001b[0;32mreturn\u001b[0m \u001b[0mcreate_block_manager_from_blocks\u001b[0m\u001b[0;34m(\u001b[0m\u001b[0;34m[\u001b[0m\u001b[0mvalues\u001b[0m\u001b[0;34m]\u001b[0m\u001b[0;34m,\u001b[0m \u001b[0;34m[\u001b[0m\u001b[0mcolumns\u001b[0m\u001b[0;34m,\u001b[0m \u001b[0mindex\u001b[0m\u001b[0;34m]\u001b[0m\u001b[0;34m)\u001b[0m\u001b[0;34m\u001b[0m\u001b[0m\n\u001b[0m\u001b[1;32m    484\u001b[0m \u001b[0;34m\u001b[0m\u001b[0m\n\u001b[1;32m    485\u001b[0m     \u001b[0;34m@\u001b[0m\u001b[0mproperty\u001b[0m\u001b[0;34m\u001b[0m\u001b[0m\n",
      "\u001b[0;32m/Users/ThomasPLapinger/anaconda/lib/python2.7/site-packages/pandas/core/internals.pyc\u001b[0m in \u001b[0;36mcreate_block_manager_from_blocks\u001b[0;34m(blocks, axes)\u001b[0m\n\u001b[1;32m   4301\u001b[0m         \u001b[0mblocks\u001b[0m \u001b[0;34m=\u001b[0m \u001b[0;34m[\u001b[0m\u001b[0mgetattr\u001b[0m\u001b[0;34m(\u001b[0m\u001b[0mb\u001b[0m\u001b[0;34m,\u001b[0m \u001b[0;34m'values'\u001b[0m\u001b[0;34m,\u001b[0m \u001b[0mb\u001b[0m\u001b[0;34m)\u001b[0m \u001b[0;32mfor\u001b[0m \u001b[0mb\u001b[0m \u001b[0;32min\u001b[0m \u001b[0mblocks\u001b[0m\u001b[0;34m]\u001b[0m\u001b[0;34m\u001b[0m\u001b[0m\n\u001b[1;32m   4302\u001b[0m         \u001b[0mtot_items\u001b[0m \u001b[0;34m=\u001b[0m \u001b[0msum\u001b[0m\u001b[0;34m(\u001b[0m\u001b[0mb\u001b[0m\u001b[0;34m.\u001b[0m\u001b[0mshape\u001b[0m\u001b[0;34m[\u001b[0m\u001b[0;36m0\u001b[0m\u001b[0;34m]\u001b[0m \u001b[0;32mfor\u001b[0m \u001b[0mb\u001b[0m \u001b[0;32min\u001b[0m \u001b[0mblocks\u001b[0m\u001b[0;34m)\u001b[0m\u001b[0;34m\u001b[0m\u001b[0m\n\u001b[0;32m-> 4303\u001b[0;31m         \u001b[0mconstruction_error\u001b[0m\u001b[0;34m(\u001b[0m\u001b[0mtot_items\u001b[0m\u001b[0;34m,\u001b[0m \u001b[0mblocks\u001b[0m\u001b[0;34m[\u001b[0m\u001b[0;36m0\u001b[0m\u001b[0;34m]\u001b[0m\u001b[0;34m.\u001b[0m\u001b[0mshape\u001b[0m\u001b[0;34m[\u001b[0m\u001b[0;36m1\u001b[0m\u001b[0;34m:\u001b[0m\u001b[0;34m]\u001b[0m\u001b[0;34m,\u001b[0m \u001b[0maxes\u001b[0m\u001b[0;34m,\u001b[0m \u001b[0me\u001b[0m\u001b[0;34m)\u001b[0m\u001b[0;34m\u001b[0m\u001b[0m\n\u001b[0m\u001b[1;32m   4304\u001b[0m \u001b[0;34m\u001b[0m\u001b[0m\n\u001b[1;32m   4305\u001b[0m \u001b[0;34m\u001b[0m\u001b[0m\n",
      "\u001b[0;32m/Users/ThomasPLapinger/anaconda/lib/python2.7/site-packages/pandas/core/internals.pyc\u001b[0m in \u001b[0;36mconstruction_error\u001b[0;34m(tot_items, block_shape, axes, e)\u001b[0m\n\u001b[1;32m   4278\u001b[0m         \u001b[0;32mraise\u001b[0m \u001b[0mValueError\u001b[0m\u001b[0;34m(\u001b[0m\u001b[0;34m\"Empty data passed with indices specified.\"\u001b[0m\u001b[0;34m)\u001b[0m\u001b[0;34m\u001b[0m\u001b[0m\n\u001b[1;32m   4279\u001b[0m     raise ValueError(\"Shape of passed values is {0}, indices imply {1}\".format(\n\u001b[0;32m-> 4280\u001b[0;31m         passed, implied))\n\u001b[0m\u001b[1;32m   4281\u001b[0m \u001b[0;34m\u001b[0m\u001b[0m\n\u001b[1;32m   4282\u001b[0m \u001b[0;34m\u001b[0m\u001b[0m\n",
      "\u001b[0;31mValueError\u001b[0m: Shape of passed values is (1, 2), indices imply (2, 2)"
     ]
    }
   ],
   "source": [
    "data=['Around the Nation', 'COLUMBIA, S.C., Oct. 6 (UPI) ‐Two students were killed today and five others were wounded by a gunman who drew pistol and fired repeatedly into a Kappa Alpha Psi fraternity homecoming party at the University of South Carolina. 2 South Carolina Students Slain at Fraternity Party The police said that the suspect, identified as Mark A. Houston, a 19‐year‐old sophmore from Columbia, had been followed to a dormitory at Allen University, another school near the main South Carolina campus, where he had been arrested and charged with murder. The dead victims were identified as Terrell G. Johnson, 21 years old, of St. Matthews, and Patrick McGinty, 18, of Wilmington, Del. Both were students at South Carolina, the authorities said. Judy Cotchett, a spokesman at the Richland Memorial Hospital said that John Leroy Aiken, 20, an Allen University student from Sumter, was in critical condition. William Terry Langston, 22, South Carolina student, was treated for minor injuries and was released, she said. Three other South Carolina students were in stable condition at the Baptist Hospital. They were identified as Randy McCray, 18, Columbia; Michael Lawyer, 18, Moncks Corner, and David L. Simmons, 17, Charleston.']\n",
    "columns=['Title','Article']\n",
    "Nyt_UofSC =pd.DataFrame(data=data, columns=columns)"
   ]
  },
  {
   "cell_type": "code",
   "execution_count": 23,
   "metadata": {
    "collapsed": true
   },
   "outputs": [],
   "source": [
    "Nyt_UofSC['Incident Name'] = 'Univeristy of South Carolina'\n",
    "Nyt_UofSC['Shooter Race']='African American'"
   ]
  },
  {
   "cell_type": "code",
   "execution_count": 24,
   "metadata": {
    "collapsed": true
   },
   "outputs": [],
   "source": [
    "#St.Aloysius Church Spokane Washington\n",
    "url7='http://www.nytimes.com/1971/11/14/archives/father-blames-lsd-for-shooting-outburst-by-son.html'\n",
    "urls3=[url7]\n",
    "Nyt_StAs =pd.DataFrame()\n",
    "for i in urls3: \n",
    "    a=Article(i, language='en')\n",
    "    a.download()\n",
    "    a.parse()\n",
    "    Nyt_StAs= Nyt_StAs.append([[a.title, a.text]], ignore_index=True)\n",
    "Nyt_StAs.columns=['Title','Article']"
   ]
  },
  {
   "cell_type": "code",
   "execution_count": 25,
   "metadata": {},
   "outputs": [
    {
     "data": {
      "text/html": [
       "<div>\n",
       "<style>\n",
       "    .dataframe thead tr:only-child th {\n",
       "        text-align: right;\n",
       "    }\n",
       "\n",
       "    .dataframe thead th {\n",
       "        text-align: left;\n",
       "    }\n",
       "\n",
       "    .dataframe tbody tr th {\n",
       "        vertical-align: top;\n",
       "    }\n",
       "</style>\n",
       "<table border=\"1\" class=\"dataframe\">\n",
       "  <thead>\n",
       "    <tr style=\"text-align: right;\">\n",
       "      <th></th>\n",
       "      <th>Title</th>\n",
       "      <th>Article</th>\n",
       "      <th>Incident Name</th>\n",
       "      <th>Shooter Race</th>\n",
       "    </tr>\n",
       "  </thead>\n",
       "  <tbody>\n",
       "    <tr>\n",
       "      <th>0</th>\n",
       "      <td>Father Blames LSD for Shooting Outburst by Son</td>\n",
       "      <td>E. Glenn Harmon, the young man's father, said ...</td>\n",
       "      <td>St.Aloysius Church</td>\n",
       "      <td>White</td>\n",
       "    </tr>\n",
       "  </tbody>\n",
       "</table>\n",
       "</div>"
      ],
      "text/plain": [
       "                                            Title  \\\n",
       "0  Father Blames LSD for Shooting Outburst by Son   \n",
       "\n",
       "                                             Article       Incident Name  \\\n",
       "0  E. Glenn Harmon, the young man's father, said ...  St.Aloysius Church   \n",
       "\n",
       "  Shooter Race  \n",
       "0        White  "
      ]
     },
     "execution_count": 25,
     "metadata": {},
     "output_type": "execute_result"
    }
   ],
   "source": [
    "Nyt_StAs['Incident Name'] = 'St.Aloysius Church'\n",
    "Nyt_StAs['Shooter Race']='White'\n",
    "Nyt_StAs"
   ]
  },
  {
   "cell_type": "code",
   "execution_count": 26,
   "metadata": {},
   "outputs": [
    {
     "data": {
      "text/html": [
       "<div>\n",
       "<style>\n",
       "    .dataframe thead tr:only-child th {\n",
       "        text-align: right;\n",
       "    }\n",
       "\n",
       "    .dataframe thead th {\n",
       "        text-align: left;\n",
       "    }\n",
       "\n",
       "    .dataframe tbody tr th {\n",
       "        vertical-align: top;\n",
       "    }\n",
       "</style>\n",
       "<table border=\"1\" class=\"dataframe\">\n",
       "  <thead>\n",
       "    <tr style=\"text-align: right;\">\n",
       "      <th></th>\n",
       "      <th>Article</th>\n",
       "      <th>Incident Name</th>\n",
       "      <th>Shooter Race</th>\n",
       "      <th>Title</th>\n",
       "    </tr>\n",
       "  </thead>\n",
       "  <tbody>\n",
       "    <tr>\n",
       "      <th>0</th>\n",
       "      <td>NaN</td>\n",
       "      <td>NOLA PD</td>\n",
       "      <td>NaN</td>\n",
       "      <td>NaN</td>\n",
       "    </tr>\n",
       "    <tr>\n",
       "      <th>1</th>\n",
       "      <td>NaN</td>\n",
       "      <td>Clara Barton Elementary</td>\n",
       "      <td>NaN</td>\n",
       "      <td>NaN</td>\n",
       "    </tr>\n",
       "    <tr>\n",
       "      <th>2</th>\n",
       "      <td>The attack at the school has stunned this comm...</td>\n",
       "      <td>Olean High School</td>\n",
       "      <td>White</td>\n",
       "      <td>Sniper's Classmate Says Guns Were ‘Whole Life’</td>\n",
       "    </tr>\n",
       "    <tr>\n",
       "      <th>3</th>\n",
       "      <td>The youth was charged with three counts of mur...</td>\n",
       "      <td>Olean High School</td>\n",
       "      <td>White</td>\n",
       "      <td>3 Killed and 9 Wounded By an Upstate Sniper, 18</td>\n",
       "    </tr>\n",
       "    <tr>\n",
       "      <th>4</th>\n",
       "      <td>NaN</td>\n",
       "      <td>LA Computer Learning Center</td>\n",
       "      <td>NaN</td>\n",
       "      <td>NaN</td>\n",
       "    </tr>\n",
       "    <tr>\n",
       "      <th>5</th>\n",
       "      <td>NaN</td>\n",
       "      <td>Cal State Fullerton</td>\n",
       "      <td>NaN</td>\n",
       "      <td>NaN</td>\n",
       "    </tr>\n",
       "    <tr>\n",
       "      <th>6</th>\n",
       "      <td>Special weapons and tactics officers from the ...</td>\n",
       "      <td>Grover Cleveland Elementary School</td>\n",
       "      <td>White</td>\n",
       "      <td>San Diego Girl Slays 2 With Rifle And Wounds 9...</td>\n",
       "    </tr>\n",
       "    <tr>\n",
       "      <th>7</th>\n",
       "      <td>SAN DIEGO, Jan. 29 (AP) — Brenda Spencer's cla...</td>\n",
       "      <td>Grover Cleveland Elementary School</td>\n",
       "      <td>White</td>\n",
       "      <td>Tomboy and Gun Enthusiast</td>\n",
       "    </tr>\n",
       "    <tr>\n",
       "      <th>8</th>\n",
       "      <td>SAN DIEGO, Jan. 30 — Wally Spencer's eyes were...</td>\n",
       "      <td>Grover Cleveland Elementary School</td>\n",
       "      <td>White</td>\n",
       "      <td>Coast Sniper Vowed She Would ‘Do Something Big’</td>\n",
       "    </tr>\n",
       "    <tr>\n",
       "      <th>9</th>\n",
       "      <td>Radioactive Tritium Seizure Brings Bankruptcy ...</td>\n",
       "      <td>Univeristy of South Carolina</td>\n",
       "      <td>African American</td>\n",
       "      <td>The New York Times</td>\n",
       "    </tr>\n",
       "    <tr>\n",
       "      <th>10</th>\n",
       "      <td>E. Glenn Harmon, the young man's father, said ...</td>\n",
       "      <td>St.Aloysius Church</td>\n",
       "      <td>White</td>\n",
       "      <td>Father Blames LSD for Shooting Outburst by Son</td>\n",
       "    </tr>\n",
       "  </tbody>\n",
       "</table>\n",
       "</div>"
      ],
      "text/plain": [
       "                                              Article  \\\n",
       "0                                                 NaN   \n",
       "1                                                 NaN   \n",
       "2   The attack at the school has stunned this comm...   \n",
       "3   The youth was charged with three counts of mur...   \n",
       "4                                                 NaN   \n",
       "5                                                 NaN   \n",
       "6   Special weapons and tactics officers from the ...   \n",
       "7   SAN DIEGO, Jan. 29 (AP) — Brenda Spencer's cla...   \n",
       "8   SAN DIEGO, Jan. 30 — Wally Spencer's eyes were...   \n",
       "9   Radioactive Tritium Seizure Brings Bankruptcy ...   \n",
       "10  E. Glenn Harmon, the young man's father, said ...   \n",
       "\n",
       "                         Incident Name      Shooter Race  \\\n",
       "0                              NOLA PD               NaN   \n",
       "1              Clara Barton Elementary               NaN   \n",
       "2                    Olean High School             White   \n",
       "3                    Olean High School             White   \n",
       "4          LA Computer Learning Center               NaN   \n",
       "5                  Cal State Fullerton               NaN   \n",
       "6   Grover Cleveland Elementary School             White   \n",
       "7   Grover Cleveland Elementary School             White   \n",
       "8   Grover Cleveland Elementary School             White   \n",
       "9         Univeristy of South Carolina  African American   \n",
       "10                  St.Aloysius Church             White   \n",
       "\n",
       "                                                Title  \n",
       "0                                                 NaN  \n",
       "1                                                 NaN  \n",
       "2      Sniper's Classmate Says Guns Were ‘Whole Life’  \n",
       "3     3 Killed and 9 Wounded By an Upstate Sniper, 18  \n",
       "4                                                 NaN  \n",
       "5                                                 NaN  \n",
       "6   San Diego Girl Slays 2 With Rifle And Wounds 9...  \n",
       "7                           Tomboy and Gun Enthusiast  \n",
       "8     Coast Sniper Vowed She Would ‘Do Something Big’  \n",
       "9                                  The New York Times  \n",
       "10     Father Blames LSD for Shooting Outburst by Son  "
      ]
     },
     "execution_count": 26,
     "metadata": {},
     "output_type": "execute_result"
    }
   ],
   "source": [
    "NYT_1970s=pd.concat([Nyt_NolaPD, Nyt_ClaraBarton, Nyt_Olean, Nyt_LACLC, Nyt_CSF, Nyt_GCE, Nyt_UofSC, Nyt_StAs]).reset_index()\n",
    "NYT_1970s.drop(['index'],axis=1, inplace=True)\n",
    "NYT_1970s"
   ]
  },
  {
   "cell_type": "code",
   "execution_count": 27,
   "metadata": {
    "collapsed": true
   },
   "outputs": [],
   "source": [
    "for i in NYT_1970s:\n",
    "    i.replace('N.R.A.','NRA')"
   ]
  },
  {
   "cell_type": "code",
   "execution_count": 28,
   "metadata": {
    "collapsed": true,
    "scrolled": true
   },
   "outputs": [],
   "source": [
    "NYT_1970s.to_csv('NYT 1970s Shootings-2.csv',index=False, encoding='utf-8')"
   ]
  },
  {
   "cell_type": "code",
   "execution_count": null,
   "metadata": {
    "collapsed": true
   },
   "outputs": [],
   "source": []
  }
 ],
 "metadata": {
  "kernelspec": {
   "display_name": "Python 2",
   "language": "python",
   "name": "python2"
  },
  "language_info": {
   "codemirror_mode": {
    "name": "ipython",
    "version": 2
   },
   "file_extension": ".py",
   "mimetype": "text/x-python",
   "name": "python",
   "nbconvert_exporter": "python",
   "pygments_lexer": "ipython2",
   "version": "2.7.13"
  }
 },
 "nbformat": 4,
 "nbformat_minor": 2
}
